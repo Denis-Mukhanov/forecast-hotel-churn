{
 "cells": [
  {
   "cell_type": "markdown",
   "metadata": {},
   "source": [
    "[![mmi-cover-image-1080x540-1.png](https://i.postimg.cc/0QpsY0dd/mmi-cover-image-1080x540-1.png)](https://postimg.cc/5YNT1vr6)"
   ]
  },
  {
   "cell_type": "markdown",
   "metadata": {},
   "source": [
    "<div style=\"padding:20px 30px 30px; \n",
    "            color:#004346;\n",
    "            font-size:50px;\n",
    "            display:fill;\n",
    "            text-align:center;\n",
    "            border-radius:20px;\n",
    "            border: 5px double;\n",
    "            border-color:#201E20;\n",
    "            background-color: #E8F1F2;\n",
    "            overflow:hidden;\n",
    "            font-weight:400\"> \n",
    "<p style=\"font-weight: bold; text-align: center;\">Прогнозирование оттока клиентов</p>\n",
    "\n",
    "\n",
    "</div>"
   ]
  },
  {
   "cell_type": "markdown",
   "metadata": {},
   "source": [
    "<div style=\"padding:0px 40px 30px; \n",
    "            color:#004346;\n",
    "            font-size:110%;\n",
    "            display:fill;\n",
    "            border-radius:20px;\n",
    "            border: 5px double;\n",
    "            border-color:#201E20;\n",
    "            background-color: #E8F1F2;\n",
    "            overflow:hidden;\n",
    "            font-weight:450;\"> \n",
    "    \n",
    "__Заказчик:__ сеть отелей «Как в гостях».\n",
    "    \n",
    "__Постановка проблемы:__ С целью привлечения клиентов, данная гостиничная сеть внедрила на своем веб-сайте опцию бронирования номера без предварительной оплаты. Однако, в случае отмены бронирования со стороны клиента, компания несет финансовые потери. Например, сотрудники отеля могли закупить продукты для приготовления гостевого приема, или не успеть забронировать номер для другого клиента.\n",
    "    \n",
    "__Цель:__ разработать систему, которая предсказывает отказ от брони.\n",
    "\n",
    "__Оценка результата:__ Внедрение модели должно окупиться за тестовый период.\n",
    "    \n",
    "__Бизнес-метрика и другие данные:__\n",
    "    \n",
    "Основная бизнес-метрика для любой сети отелей — её прибыль. Прибыль отеля — это разница между стоимостью номера за все ночи и затраты на обслуживание: как при подготовке номера, так и при проживании постояльца. \n",
    "    \n",
    "В отеле есть несколько типов номеров. В зависимости от типа номера назначается стоимость за одну ночь. Есть также затраты на уборку. Если клиент снял номер надолго, то убираются каждые два дня. \n",
    "    \n",
    "Стоимость номеров отеля:\n",
    "- категория A: за ночь — 1 000, разовое обслуживание — 400;\n",
    "- категория B: за ночь — 800, разовое обслуживание — 350;\n",
    "- категория C: за ночь — 600, разовое обслуживание — 350;\n",
    "- категория D: за ночь — 550, разовое обслуживание — 150;\n",
    "- категория E: за ночь — 500, разовое обслуживание — 150;\n",
    "- категория F: за ночь — 450, разовое обслуживание — 150;\n",
    "- категория G: за ночь — 350, разовое обслуживание — 150.    \n",
    "    \n",
    "В ценовой политике отеля используются сезонные коэффициенты: весной и осенью цены повышаются на 20%, летом — на 40%.\n",
    "\n",
    "Убытки отеля в случае отмены брони номера — это стоимость одной уборки и одной ночи с учётом сезонного коэффициента.\n",
    "\n",
    "На разработку системы прогнозирования заложен бюджет — 400 000. Затраты на разработку должны быть меньше той выручки, которую система принесёт компании.    \n",
    "\n",
    "__Описание данных:__\n",
    "    \n",
    "В таблицах __hotel_train__ и __hotel_test__ содержатся одинаковые столбцы:\n",
    "- `id` — номер записи;\n",
    "- `adults` — количество взрослых постояльцев;\n",
    "- `arrival_date_year` — год заезда;\n",
    "- `arrival_date_month` — месяц заезда;\n",
    "- `arrival_date_week_number` — неделя заезда;\n",
    "- `arrival_date_day_of_month` — день заезда;\n",
    "- `babies` — количество младенцев;\n",
    "- `booking_changes` — количество изменений параметров заказа;\n",
    "- `children` — количество детей от 3 до 14 лет;\n",
    "- `country` — гражданство постояльца;\n",
    "- `customer_type` — тип заказчика:\n",
    "    - Contract — договор с юридическим лицом;\n",
    "    - Group — групповой заезд;\n",
    "    - Transient — не связано с договором или групповым заездом;\n",
    "    - Transient-party — не связано с договором или групповым заездом, но связано с бронированием типа Transient.\n",
    "- `days_in_waiting_list` — сколько дней заказ ожидал подтверждения;\n",
    "- `distribution_channel` — канал дистрибуции заказа;\n",
    "- `is_canceled` — отмена заказа;\n",
    "- `is_repeated_guest` — признак того, что гость бронирует номер второй раз;\n",
    "- `lead_time` — количество дней между датой бронирования и датой прибытия;\n",
    "- `meal` — опции заказа:\n",
    "    - SC — нет дополнительных опций;\n",
    "    - BB — включён завтрак;\n",
    "    - HB — включён завтрак и обед;\n",
    "    - FB — включён завтрак, обед и ужин.\n",
    "- `previous_bookings_not_canceled` — количество подтверждённых заказов у клиента;\n",
    "- `previous_cancellations` — количество отменённых заказов у клиента;\n",
    "- `required_car_parking_spaces` — необходимость места для автомобиля;\n",
    "- `reserved_room_type` — тип забронированной комнаты;\n",
    "- `stays_in_weekend_nights` — количество ночей в выходные дни;\n",
    "- `stays_in_week_nights` — количество ночей в будние дни;\n",
    "- `total_nights` — общее количество ночей;\n",
    "- `total_of_special_requests` — количество специальных отметок.\n",
    "____________________\n",
    "\n",
    "__Целевой признак:__ `is_canceled`\n",
    "\n",
    "</div>    "
   ]
  },
  {
   "cell_type": "markdown",
   "metadata": {},
   "source": [
    "<div style=\"padding:0px 20px 10px; \n",
    "            color:#004346;\n",
    "            font-size:15px;\n",
    "            display:fill;\n",
    "            text-align:center;\n",
    "            border-radius:20px;\n",
    "            border: 5px double;\n",
    "            border-color:#201E20;\n",
    "            background-color: #E8F1F2;\n",
    "            overflow:hidden;\n",
    "            font-weight:400\"> \n",
    "\n",
    "# Используемые библиотеки\n",
    "\n",
    "</div>"
   ]
  },
  {
   "cell_type": "code",
   "execution_count": 87,
   "metadata": {},
   "outputs": [],
   "source": [
    "import pandas as pd\n",
    "import numpy as np\n",
    "import phik\n",
    "import warnings\n",
    "import seaborn as sns\n",
    "import matplotlib.pyplot as plt\n",
    "from scipy import stats as st\n",
    "\n",
    "from sklearn.preprocessing import StandardScaler\n",
    "from sklearn.preprocessing import OrdinalEncoder\n",
    "from sklearn.preprocessing import OneHotEncoder\n",
    "from sklearn.linear_model import LogisticRegression\n",
    "from sklearn.ensemble import RandomForestClassifier\n",
    "from sklearn.model_selection import KFold\n",
    "from sklearn.pipeline import make_pipeline\n",
    "from sklearn.pipeline import Pipeline\n",
    "from sklearn.model_selection import RandomizedSearchCV\n",
    "from sklearn.metrics import roc_curve, roc_auc_score, auc\n",
    "from sklearn.model_selection import cross_val_score, GridSearchCV\n",
    "\n",
    "from catboost import CatBoostClassifier\n",
    "from catboost import Pool\n",
    "from catboost import cv\n",
    "from sklearn.model_selection import RandomizedSearchCV\n",
    "from sklearn.metrics import roc_curve, roc_auc_score, auc\n",
    "from sklearn.model_selection import cross_val_score, GridSearchCV\n",
    "\n",
    "# константы\n",
    "RANDOM_SEED = 42\n",
    "\n",
    "# настройки блокнота\n",
    "pd.options.display.max_rows = 99\n",
    "warnings.filterwarnings('ignore')\n",
    "pd.options.display.float_format = '{:.4f}'.format"
   ]
  },
  {
   "cell_type": "markdown",
   "metadata": {},
   "source": [
    "<div style=\"padding:0px 20px 10px; \n",
    "            color:#004346;\n",
    "            font-size:15px;\n",
    "            display:fill;\n",
    "            text-align:center;\n",
    "            border-radius:20px;\n",
    "            border: 5px double;\n",
    "            border-color:#201E20;\n",
    "            background-color: #E8F1F2;\n",
    "            overflow:hidden;\n",
    "            font-weight:400\"> \n",
    "\n",
    "# Загрузка данных\n",
    "\n",
    "</div>"
   ]
  },
  {
   "cell_type": "code",
   "execution_count": 88,
   "metadata": {},
   "outputs": [
    {
     "name": "stdout",
     "output_type": "stream",
     "text": [
      "Данные для обучения:\n"
     ]
    },
    {
     "data": {
      "text/html": [
       "<div>\n",
       "<style scoped>\n",
       "    .dataframe tbody tr th:only-of-type {\n",
       "        vertical-align: middle;\n",
       "    }\n",
       "\n",
       "    .dataframe tbody tr th {\n",
       "        vertical-align: top;\n",
       "    }\n",
       "\n",
       "    .dataframe thead th {\n",
       "        text-align: right;\n",
       "    }\n",
       "</style>\n",
       "<table border=\"1\" class=\"dataframe\">\n",
       "  <thead>\n",
       "    <tr style=\"text-align: right;\">\n",
       "      <th></th>\n",
       "      <th>id</th>\n",
       "      <th>is_canceled</th>\n",
       "      <th>lead_time</th>\n",
       "      <th>arrival_date_year</th>\n",
       "      <th>arrival_date_month</th>\n",
       "      <th>arrival_date_week_number</th>\n",
       "      <th>arrival_date_day_of_month</th>\n",
       "      <th>stays_in_weekend_nights</th>\n",
       "      <th>stays_in_week_nights</th>\n",
       "      <th>adults</th>\n",
       "      <th>...</th>\n",
       "      <th>is_repeated_guest</th>\n",
       "      <th>previous_cancellations</th>\n",
       "      <th>previous_bookings_not_canceled</th>\n",
       "      <th>reserved_room_type</th>\n",
       "      <th>booking_changes</th>\n",
       "      <th>days_in_waiting_list</th>\n",
       "      <th>customer_type</th>\n",
       "      <th>required_car_parking_spaces</th>\n",
       "      <th>total_of_special_requests</th>\n",
       "      <th>total_nights</th>\n",
       "    </tr>\n",
       "  </thead>\n",
       "  <tbody>\n",
       "    <tr>\n",
       "      <th>0</th>\n",
       "      <td>0</td>\n",
       "      <td>0</td>\n",
       "      <td>7.0000</td>\n",
       "      <td>2015</td>\n",
       "      <td>July</td>\n",
       "      <td>27</td>\n",
       "      <td>1</td>\n",
       "      <td>0</td>\n",
       "      <td>1</td>\n",
       "      <td>1.0000</td>\n",
       "      <td>...</td>\n",
       "      <td>0</td>\n",
       "      <td>0</td>\n",
       "      <td>0</td>\n",
       "      <td>A</td>\n",
       "      <td>0</td>\n",
       "      <td>0</td>\n",
       "      <td>Transient</td>\n",
       "      <td>0</td>\n",
       "      <td>0</td>\n",
       "      <td>1</td>\n",
       "    </tr>\n",
       "    <tr>\n",
       "      <th>1</th>\n",
       "      <td>1</td>\n",
       "      <td>0</td>\n",
       "      <td>14.0000</td>\n",
       "      <td>2015</td>\n",
       "      <td>July</td>\n",
       "      <td>27</td>\n",
       "      <td>1</td>\n",
       "      <td>0</td>\n",
       "      <td>2</td>\n",
       "      <td>2.0000</td>\n",
       "      <td>...</td>\n",
       "      <td>0</td>\n",
       "      <td>0</td>\n",
       "      <td>0</td>\n",
       "      <td>A</td>\n",
       "      <td>0</td>\n",
       "      <td>0</td>\n",
       "      <td>Transient</td>\n",
       "      <td>0</td>\n",
       "      <td>1</td>\n",
       "      <td>2</td>\n",
       "    </tr>\n",
       "  </tbody>\n",
       "</table>\n",
       "<p>2 rows × 25 columns</p>\n",
       "</div>"
      ],
      "text/plain": [
       "   id  is_canceled  lead_time  arrival_date_year arrival_date_month  \\\n",
       "0   0            0     7.0000               2015               July   \n",
       "1   1            0    14.0000               2015               July   \n",
       "\n",
       "   arrival_date_week_number  arrival_date_day_of_month  \\\n",
       "0                        27                          1   \n",
       "1                        27                          1   \n",
       "\n",
       "   stays_in_weekend_nights  stays_in_week_nights  adults  ...  \\\n",
       "0                        0                     1  1.0000  ...   \n",
       "1                        0                     2  2.0000  ...   \n",
       "\n",
       "   is_repeated_guest  previous_cancellations previous_bookings_not_canceled  \\\n",
       "0                  0                       0                              0   \n",
       "1                  0                       0                              0   \n",
       "\n",
       "  reserved_room_type booking_changes  days_in_waiting_list  customer_type  \\\n",
       "0   A                              0                     0      Transient   \n",
       "1   A                              0                     0      Transient   \n",
       "\n",
       "   required_car_parking_spaces total_of_special_requests  total_nights  \n",
       "0                            0                         0             1  \n",
       "1                            0                         1             2  \n",
       "\n",
       "[2 rows x 25 columns]"
      ]
     },
     "metadata": {},
     "output_type": "display_data"
    },
    {
     "name": "stdout",
     "output_type": "stream",
     "text": [
      "\n",
      "Данные для тестирования:\n"
     ]
    },
    {
     "data": {
      "text/html": [
       "<div>\n",
       "<style scoped>\n",
       "    .dataframe tbody tr th:only-of-type {\n",
       "        vertical-align: middle;\n",
       "    }\n",
       "\n",
       "    .dataframe tbody tr th {\n",
       "        vertical-align: top;\n",
       "    }\n",
       "\n",
       "    .dataframe thead th {\n",
       "        text-align: right;\n",
       "    }\n",
       "</style>\n",
       "<table border=\"1\" class=\"dataframe\">\n",
       "  <thead>\n",
       "    <tr style=\"text-align: right;\">\n",
       "      <th></th>\n",
       "      <th>id</th>\n",
       "      <th>is_canceled</th>\n",
       "      <th>lead_time</th>\n",
       "      <th>arrival_date_year</th>\n",
       "      <th>arrival_date_month</th>\n",
       "      <th>arrival_date_week_number</th>\n",
       "      <th>arrival_date_day_of_month</th>\n",
       "      <th>stays_in_weekend_nights</th>\n",
       "      <th>stays_in_week_nights</th>\n",
       "      <th>adults</th>\n",
       "      <th>...</th>\n",
       "      <th>is_repeated_guest</th>\n",
       "      <th>previous_cancellations</th>\n",
       "      <th>previous_bookings_not_canceled</th>\n",
       "      <th>reserved_room_type</th>\n",
       "      <th>booking_changes</th>\n",
       "      <th>days_in_waiting_list</th>\n",
       "      <th>customer_type</th>\n",
       "      <th>required_car_parking_spaces</th>\n",
       "      <th>total_of_special_requests</th>\n",
       "      <th>total_nights</th>\n",
       "    </tr>\n",
       "  </thead>\n",
       "  <tbody>\n",
       "    <tr>\n",
       "      <th>0</th>\n",
       "      <td>6086</td>\n",
       "      <td>1</td>\n",
       "      <td>74.0000</td>\n",
       "      <td>2017</td>\n",
       "      <td>January</td>\n",
       "      <td>1</td>\n",
       "      <td>1</td>\n",
       "      <td>1</td>\n",
       "      <td>0</td>\n",
       "      <td>2.0000</td>\n",
       "      <td>...</td>\n",
       "      <td>0</td>\n",
       "      <td>0</td>\n",
       "      <td>0</td>\n",
       "      <td>A</td>\n",
       "      <td>0</td>\n",
       "      <td>0</td>\n",
       "      <td>Transient</td>\n",
       "      <td>0</td>\n",
       "      <td>0</td>\n",
       "      <td>1</td>\n",
       "    </tr>\n",
       "    <tr>\n",
       "      <th>1</th>\n",
       "      <td>6087</td>\n",
       "      <td>1</td>\n",
       "      <td>62.0000</td>\n",
       "      <td>2017</td>\n",
       "      <td>January</td>\n",
       "      <td>1</td>\n",
       "      <td>1</td>\n",
       "      <td>2</td>\n",
       "      <td>2</td>\n",
       "      <td>2.0000</td>\n",
       "      <td>...</td>\n",
       "      <td>0</td>\n",
       "      <td>0</td>\n",
       "      <td>0</td>\n",
       "      <td>A</td>\n",
       "      <td>0</td>\n",
       "      <td>0</td>\n",
       "      <td>Transient</td>\n",
       "      <td>0</td>\n",
       "      <td>1</td>\n",
       "      <td>4</td>\n",
       "    </tr>\n",
       "  </tbody>\n",
       "</table>\n",
       "<p>2 rows × 25 columns</p>\n",
       "</div>"
      ],
      "text/plain": [
       "     id  is_canceled  lead_time  arrival_date_year arrival_date_month  \\\n",
       "0  6086            1    74.0000               2017            January   \n",
       "1  6087            1    62.0000               2017            January   \n",
       "\n",
       "   arrival_date_week_number  arrival_date_day_of_month  \\\n",
       "0                         1                          1   \n",
       "1                         1                          1   \n",
       "\n",
       "   stays_in_weekend_nights  stays_in_week_nights  adults  ...  \\\n",
       "0                        1                     0  2.0000  ...   \n",
       "1                        2                     2  2.0000  ...   \n",
       "\n",
       "   is_repeated_guest  previous_cancellations previous_bookings_not_canceled  \\\n",
       "0                  0                       0                              0   \n",
       "1                  0                       0                              0   \n",
       "\n",
       "  reserved_room_type booking_changes  days_in_waiting_list  customer_type  \\\n",
       "0   A                              0                     0      Transient   \n",
       "1   A                              0                     0      Transient   \n",
       "\n",
       "   required_car_parking_spaces total_of_special_requests  total_nights  \n",
       "0                            0                         0             1  \n",
       "1                            0                         1             4  \n",
       "\n",
       "[2 rows x 25 columns]"
      ]
     },
     "metadata": {},
     "output_type": "display_data"
    }
   ],
   "source": [
    "# загрузка данных для обучения:\n",
    "try:\n",
    "    df = pd.read_csv('data/hotel_train.csv')\n",
    "    print('Данные для обучения:')\n",
    "    display(df.head(2))\n",
    "except:\n",
    "    display('Данные для обучения не доступны')\n",
    "# загрузка даннх для тестирования:\n",
    "try:\n",
    "    df_test = pd.read_csv('data/hotel_test.csv')\n",
    "    print('''\n",
    "Данные для тестирования:''')\n",
    "    display(df_test.head(2))\n",
    "except:\n",
    "    display('Данные для тестирования не доступны')"
   ]
  },
  {
   "cell_type": "markdown",
   "metadata": {},
   "source": [
    "<div style=\"padding:0px 20px 10px; \n",
    "            color:#004346;\n",
    "            font-size:15px;\n",
    "            display:fill;\n",
    "            text-align:center;\n",
    "            border-radius:20px;\n",
    "            border: 5px double;\n",
    "            border-color:#201E20;\n",
    "            background-color: #E8F1F2;\n",
    "            overflow:hidden;\n",
    "            font-weight:400\"> \n",
    "\n",
    "# Предобработка и исследовательский анализ данных\n",
    "\n",
    "## Общая информация\n",
    "\n",
    "</div>"
   ]
  },
  {
   "cell_type": "code",
   "execution_count": 89,
   "metadata": {
    "scrolled": false
   },
   "outputs": [
    {
     "name": "stdout",
     "output_type": "stream",
     "text": [
      "<class 'pandas.core.frame.DataFrame'>\n",
      "RangeIndex: 65229 entries, 0 to 65228\n",
      "Data columns (total 25 columns):\n",
      " #   Column                          Non-Null Count  Dtype  \n",
      "---  ------                          --------------  -----  \n",
      " 0   id                              65229 non-null  int64  \n",
      " 1   is_canceled                     65229 non-null  int64  \n",
      " 2   lead_time                       65229 non-null  float64\n",
      " 3   arrival_date_year               65229 non-null  int64  \n",
      " 4   arrival_date_month              65229 non-null  object \n",
      " 5   arrival_date_week_number        65229 non-null  int64  \n",
      " 6   arrival_date_day_of_month       65229 non-null  int64  \n",
      " 7   stays_in_weekend_nights         65229 non-null  int64  \n",
      " 8   stays_in_week_nights            65229 non-null  int64  \n",
      " 9   adults                          65229 non-null  float64\n",
      " 10  children                        65229 non-null  float64\n",
      " 11  babies                          65229 non-null  float64\n",
      " 12  meal                            65229 non-null  object \n",
      " 13  country                         65229 non-null  object \n",
      " 14  distribution_channel            65229 non-null  object \n",
      " 15  is_repeated_guest               65229 non-null  int64  \n",
      " 16  previous_cancellations          65229 non-null  int64  \n",
      " 17  previous_bookings_not_canceled  65229 non-null  int64  \n",
      " 18  reserved_room_type              65229 non-null  object \n",
      " 19  booking_changes                 65229 non-null  int64  \n",
      " 20  days_in_waiting_list            65229 non-null  int64  \n",
      " 21  customer_type                   65229 non-null  object \n",
      " 22  required_car_parking_spaces     65229 non-null  int64  \n",
      " 23  total_of_special_requests       65229 non-null  int64  \n",
      " 24  total_nights                    65229 non-null  int64  \n",
      "dtypes: float64(4), int64(15), object(6)\n",
      "memory usage: 12.4+ MB\n"
     ]
    },
    {
     "data": {
      "text/plain": [
       "None"
      ]
     },
     "metadata": {},
     "output_type": "display_data"
    }
   ],
   "source": [
    "display(df.info())"
   ]
  },
  {
   "cell_type": "markdown",
   "metadata": {},
   "source": [
    "__Проверим признаки: `lead_time`, `adults`, `children`, `babies`, содержат ли они, дробные значения:__"
   ]
  },
  {
   "cell_type": "code",
   "execution_count": 90,
   "metadata": {},
   "outputs": [
    {
     "name": "stdout",
     "output_type": "stream",
     "text": [
      "df: В интересующих столбцах присутствуют только ценые числа\n",
      "df_test: В интересующих столбцах присутствуют только ценые числа\n"
     ]
    }
   ],
   "source": [
    "check_columns = ['lead_time', 'adults', 'children', 'babies']\n",
    "\n",
    "def check_int(df):\n",
    "    if df[check_columns].sum()[1]==int(df[check_columns].sum()[1]):\n",
    "        return 'В интересующих столбцах присутствуют только ценые числа'\n",
    "    return 'В интересующих столбцах присутствуют дробные числа'\n",
    "    \n",
    "print(f'df: {check_int(df)}')\n",
    "print(f'df_test: {check_int(df_test)}')"
   ]
  },
  {
   "cell_type": "markdown",
   "metadata": {},
   "source": [
    "__Проверим пропуски в данных:__"
   ]
  },
  {
   "cell_type": "code",
   "execution_count": 91,
   "metadata": {},
   "outputs": [
    {
     "name": "stdout",
     "output_type": "stream",
     "text": [
      "Общее количество пропусков в данных для обучения: 0\n",
      "Общее количество пропусков в данных для тестирования: 0\n"
     ]
    }
   ],
   "source": [
    "def sum_passes(df):\n",
    "    return sum(col_pas for col_pas in df.isna().sum())\n",
    "\n",
    "print(f'Общее количество пропусков в данных для обучения: {sum_passes(df)}')\n",
    "print(f'Общее количество пропусков в данных для тестирования: {sum_passes(df_test)}')"
   ]
  },
  {
   "cell_type": "markdown",
   "metadata": {},
   "source": [
    "__Промерим признак `id`, содержит ли он уникальные значения:__"
   ]
  },
  {
   "cell_type": "code",
   "execution_count": 92,
   "metadata": {},
   "outputs": [
    {
     "name": "stdout",
     "output_type": "stream",
     "text": [
      "Уникальных значений в данных для обучения:100%\n",
      "Уникальных значений в данных для тестирования: 100%\n"
     ]
    }
   ],
   "source": [
    "def unique_values_percent(df, column):\n",
    "    return len(df[column].unique())/len(df)\n",
    "\n",
    "print(f'Уникальных значений в данных для обучения:{unique_values_percent(df, \"id\"):.0%}')\n",
    "print(f'Уникальных значений в данных для тестирования: {unique_values_percent(df_test, \"id\"):.0%}')"
   ]
  },
  {
   "cell_type": "markdown",
   "metadata": {},
   "source": [
    "<div style=\"padding: 30px 25px; border: 2px #6495ed solid\">\n",
    "\n",
    "__Вывод:__\n",
    "\n",
    "- Данные загружены корректно\n",
    "- Регист названий стобцов соблюден\n",
    "- Пропуски отсутствуют\n",
    "    \n",
    "__Недостатки:__\n",
    "- некоректный тип данных в столбцах:\n",
    "    - `lead_time`: 'float64', следует заменить нам 'int64'\n",
    "    - `adults`: 'float64',  следует заменить нам 'int64'\n",
    "    - `children`: 'float64', следует заменить нам 'int64'\n",
    "    - `babies`: 'float64', следует заменить нам 'int64'\n",
    "\n",
    "    Что может помочь избежать ошибок при работе с этими данными, таких как округление или потеря точности. Приведение к целочисленному типу также может уменьшить объем занимаемой памяти.\n",
    "- Данный датафрейм имеет столбец `id`, который является уникальным идентификатором для каждого наблюдения. В связи с тем, что этот признак не предоставляет никакой полезной информации для обучения модели, рекомендуется удалить его из датафрейма.\n",
    "    \n",
    "</div>"
   ]
  },
  {
   "cell_type": "markdown",
   "metadata": {},
   "source": [
    "\n",
    "### Изменение типов данных\n"
   ]
  },
  {
   "cell_type": "code",
   "execution_count": 93,
   "metadata": {},
   "outputs": [],
   "source": [
    "df[check_columns ] = df[check_columns ].astype('int')\n",
    "df_test[check_columns ] = df_test[check_columns ].astype('int')"
   ]
  },
  {
   "cell_type": "markdown",
   "metadata": {},
   "source": [
    "\n",
    "### Удаление признаков с уникальными значениями\n",
    "    "
   ]
  },
  {
   "cell_type": "code",
   "execution_count": null,
   "metadata": {},
   "outputs": [],
   "source": [
    "df = df.drop('id', axis=1).copy()\n",
    "df_test = df_test.drop('id', axis=1).copy()"
   ]
  },
  {
   "cell_type": "markdown",
   "metadata": {},
   "source": [
    "<div style=\"padding:0px 20px 10px; \n",
    "            color:#004346;\n",
    "            font-size:15px;\n",
    "            display:fill;\n",
    "            text-align:center;\n",
    "            border-radius:20px;\n",
    "            border: 5px double;\n",
    "            border-color:#201E20;\n",
    "            background-color: #E8F1F2;\n",
    "            overflow:hidden;\n",
    "            font-weight:400\"> \n",
    "\n",
    "## Дубликаты\n",
    "    \n",
    "</div>"
   ]
  },
  {
   "cell_type": "markdown",
   "metadata": {},
   "source": [
    "__Проверим количество полных дубликатов в данных:__"
   ]
  },
  {
   "cell_type": "code",
   "execution_count": null,
   "metadata": {},
   "outputs": [],
   "source": [
    "def duplicat_data(df):\n",
    "    return df.duplicated().sum()\n",
    "\n",
    "print(f'Количество дубликатов в данных для обучения:{duplicat_data(df)}')\n",
    "print(f'Количество дубликатов в данных для тестирования: {duplicat_data(df_test)}')"
   ]
  },
  {
   "cell_type": "markdown",
   "metadata": {},
   "source": [
    "- Наличие дублирующихся наблюдений может привести к переобучению модели, когда она начинает настраиваться на шумовые данные, вместо того, чтобы находить общие закономерности в данных.\n",
    "- Если дублирующиеся наблюдения содержат ошибки или неточности, удаление их может привести к улучшению качества модели.\n",
    "- Но так как мы не можем определить природу возникновения дубликатов, удалить их следует только в тренировочном наборе данных\n",
    "\n",
    "__Удалим дубликаты в данных:__\n"
   ]
  },
  {
   "cell_type": "code",
   "execution_count": null,
   "metadata": {},
   "outputs": [],
   "source": [
    "df = df.drop_duplicates()"
   ]
  },
  {
   "cell_type": "markdown",
   "metadata": {},
   "source": [
    "<div style=\"padding:0px 20px 10px; \n",
    "            color:#004346;\n",
    "            font-size:15px;\n",
    "            display:fill;\n",
    "            text-align:center;\n",
    "            border-radius:20px;\n",
    "            border: 5px double;\n",
    "            border-color:#201E20;\n",
    "            background-color: #E8F1F2;\n",
    "            overflow:hidden;\n",
    "            font-weight:400\"> \n",
    "\n",
    "## Анализ категориальные признаков\n",
    "    \n",
    "</div>"
   ]
  },
  {
   "cell_type": "code",
   "execution_count": null,
   "metadata": {},
   "outputs": [],
   "source": [
    "# общая информация \n",
    "display(df.describe(include=[object]))\n",
    "display(df_test.describe(include=[object]))"
   ]
  },
  {
   "cell_type": "markdown",
   "metadata": {},
   "source": [
    "__Посмотрим уникальные значения в категориальных признаках:__"
   ]
  },
  {
   "cell_type": "code",
   "execution_count": null,
   "metadata": {},
   "outputs": [],
   "source": [
    "def unique_values(column):\n",
    "    print(f'Уникальные значения признака {column} в данных для обучения:\\n{df[column].unique()}')\n",
    "    print(f'\\nУникальные значения признака {column} в данных для тестирования:\\n{df[column].unique()}')"
   ]
  },
  {
   "cell_type": "code",
   "execution_count": null,
   "metadata": {},
   "outputs": [],
   "source": [
    "unique_values('arrival_date_month')"
   ]
  },
  {
   "cell_type": "code",
   "execution_count": null,
   "metadata": {},
   "outputs": [],
   "source": [
    "unique_values('meal')"
   ]
  },
  {
   "cell_type": "code",
   "execution_count": null,
   "metadata": {},
   "outputs": [],
   "source": [
    "unique_values('country')"
   ]
  },
  {
   "cell_type": "code",
   "execution_count": null,
   "metadata": {},
   "outputs": [],
   "source": [
    "unique_values('distribution_channel')"
   ]
  },
  {
   "cell_type": "code",
   "execution_count": null,
   "metadata": {},
   "outputs": [],
   "source": [
    "unique_values('reserved_room_type')"
   ]
  },
  {
   "cell_type": "code",
   "execution_count": null,
   "metadata": {},
   "outputs": [],
   "source": [
    "unique_values('customer_type')"
   ]
  },
  {
   "cell_type": "markdown",
   "metadata": {},
   "source": [
    "<div style=\"padding: 30px 25px; border: 2px #6495ed solid\">\n",
    "    \n",
    "__Недостатки и особенности:__\n",
    "- В столбце arrival_date_month — месяц заезда:\n",
    "    - следует обратить внимание на то, что в наборе данных за тестовый период предоставлены данные только за 8 месяцев, это следует учесть при ценки прибыли, которую принесёт модель за год.\n",
    "- В столбцах meal — опции заказа и reserved_room_type  — тип забронированной комнаты:\n",
    "    - присутствуют пробелы, их следует удалить\n",
    "- В столбце country — гражданство постояльца:\n",
    "    - слишким большое количество категорий, что приведет к низкому количеству записей по каждой категории, что снизит качество моделей, это следует обработать\n",
    "</div>"
   ]
  },
  {
   "cell_type": "markdown",
   "metadata": {},
   "source": [
    "<div style=\"padding:0px 20px 10px; \n",
    "            color:#004346;\n",
    "            font-size:15px;\n",
    "            display:fill;\n",
    "            text-align:center;\n",
    "            border-radius:20px;\n",
    "            border: 5px double;\n",
    "            border-color:#201E20;\n",
    "            background-color: #E8F1F2;\n",
    "            overflow:hidden;\n",
    "            font-weight:400\"> \n",
    "\n",
    "### Обработка категориальные признаков\n",
    "    \n",
    "</div>"
   ]
  },
  {
   "cell_type": "markdown",
   "metadata": {},
   "source": [
    "__Удалим пробелы в начале и конце заначений столбцов `meal` и `reserved_room_type`__"
   ]
  },
  {
   "cell_type": "code",
   "execution_count": null,
   "metadata": {},
   "outputs": [],
   "source": [
    "for d in [df, df_test]:\n",
    "    for _ in ['meal', 'reserved_room_type']:\n",
    "        d[_] = d[_].str.strip()\n",
    "\n",
    "unique_values('meal')\n",
    "unique_values('reserved_room_type')"
   ]
  },
  {
   "cell_type": "markdown",
   "metadata": {},
   "source": [
    "__Обработка столбца `country`__\n",
    "\n",
    "В столбце с гражданством постояльцев много уникальных значений(155 в обучающей и 143 в тестовой выборках)\n",
    "\n",
    "Посмотрим на количество записей, в уникальных категориях"
   ]
  },
  {
   "cell_type": "code",
   "execution_count": null,
   "metadata": {},
   "outputs": [],
   "source": [
    "plt.figure(figsize=(8,3))\n",
    "plt.hist(df.groupby('country')['is_canceled'].count(), bins=40, color='teal')\n",
    "plt.grid(True)\n",
    "plt.title('Количество записей относительно гражданства')\n",
    "plt.xlabel('Количество записей', fontsize=12)\n",
    "plt.ylabel('Гражданство постояльцев', fontsize=12)\n",
    "plt.ylim([0, 60])\n",
    "\n",
    "plt.show()"
   ]
  },
  {
   "cell_type": "markdown",
   "metadata": {},
   "source": [
    "Большинство категорий содержит крайне мало записей, их использование в алгоритмах машинного обучения повлечет к снижению точности:\n",
    "- рассчитаем количество записей, который можно считать репризинтативным, на обучающей выборки\n",
    "- все категории, меньше данного порога объединим в одну категорию ('rest')\n",
    "- для тестовой выборки так же объединим категории, не входящие в список категорий, обучающей выборки\n",
    "\n",
    "Для расчета исполюзуем [калькулятор](https://www.questionstar.ru/statiy/calculator-razmera-viborki) со следующими параметрами:\n",
    "- Допустимая погрешность: 5%\n",
    "- Уровень надежности: 95%\n",
    "- Размер генеральной совокупности: 65229 (len(df))\n",
    "- Доля признака в генеральной совокупности: [37%](#Баланс-целевого-признака)\n",
    "\n",
    "Резутьтат:\n",
    "- Необходимый минимальный размер выборки: 357\n",
    "\n",
    "357 записей - минимальное количество записей для категории, которую мы оставим."
   ]
  },
  {
   "cell_type": "code",
   "execution_count": null,
   "metadata": {},
   "outputs": [],
   "source": [
    "# перечень значений, с репризинтативным количеством записей \n",
    "idx = df.groupby('country')['is_canceled'].count().loc[lambda x: x>=357].index"
   ]
  },
  {
   "cell_type": "code",
   "execution_count": null,
   "metadata": {},
   "outputs": [],
   "source": [
    "# функция замены нерепризинтативных записей\n",
    "def reprising_quantity(entry):\n",
    "    return entry if entry in idx else 'rest'"
   ]
  },
  {
   "cell_type": "code",
   "execution_count": null,
   "metadata": {},
   "outputs": [],
   "source": [
    "df['country'] = df['country'].apply(reprising_quantity)\n",
    "df_test['country'] = df_test['country'].apply(reprising_quantity)"
   ]
  },
  {
   "cell_type": "code",
   "execution_count": null,
   "metadata": {},
   "outputs": [],
   "source": [
    "# визуализация изменений\n",
    "plt.figure(figsize=(8,3))\n",
    "plt.hist(df.groupby('country')['is_canceled'].count(), bins=20, color='teal')\n",
    "plt.grid(True)\n",
    "plt.title('Количество записей относительно гражданства')\n",
    "plt.xlabel('Количество записей', fontsize=12)\n",
    "plt.ylabel('Гражданство постояльцев', fontsize=12)\n",
    "\n",
    "plt.show()"
   ]
  },
  {
   "cell_type": "markdown",
   "metadata": {},
   "source": [
    "<div style=\"padding: 30px 25px; border: 2px #6495ed solid\">\n",
    "\n",
    "__Вывод:__\n",
    "\n",
    "- Столбцы `meal`, `reserved_room_type`, `country` обработаны;\n",
    "- Остальные категориальные характеристики не требуют дополнительной обработки.   \n",
    "    \n",
    "</div>"
   ]
  },
  {
   "cell_type": "markdown",
   "metadata": {},
   "source": [
    "<div style=\"padding:0px 20px 10px; \n",
    "            color:#004346;\n",
    "            font-size:15px;\n",
    "            display:fill;\n",
    "            text-align:center;\n",
    "            border-radius:20px;\n",
    "            border: 5px double;\n",
    "            border-color:#201E20;\n",
    "            background-color: #E8F1F2;\n",
    "            overflow:hidden;\n",
    "            font-weight:400\"> \n",
    "\n",
    "## Анализ числовых признаков\n",
    "    \n",
    "</div>"
   ]
  },
  {
   "cell_type": "code",
   "execution_count": null,
   "metadata": {},
   "outputs": [],
   "source": [
    "# общая информация\n",
    "df.describe().T[['mean', '50%', 'min', 'max']]"
   ]
  },
  {
   "cell_type": "markdown",
   "metadata": {},
   "source": [
    "<div style=\"padding: 30px 25px; border: 2px #6495ed solid\">\n",
    "    \n",
    "__Недостатки и особенности:__\n",
    "- В следующих столбцах присутствуют аномально большие значения:\n",
    "    - `lead_time` — количество дней между датой бронирования и датой прибытия \n",
    "    - `babies` — количество младенцев\n",
    "    - `previous_cancellations` — количество отменённых заказов у клиента\n",
    "    - `previous_bookings_not_canceled` — количество подтверждённых заказов у клиента\n",
    "    - `booking_changes` — количество изменений параметров заказа\n",
    "    - `days_in_waiting_list` — сколько дней заказ ожидал подтверждения\n",
    "    \n",
    "Следует более тчательно посмотреть информацию в данных столбцах, в случае наличая аномально больших значений, их следует удалить, по причине того, что большинство моделей машинного обучения чувствительны к выбросам.    \n",
    "\n",
    "</div>"
   ]
  },
  {
   "cell_type": "markdown",
   "metadata": {},
   "source": [
    "<div style=\"padding:0px 20px 10px; \n",
    "            color:#004346;\n",
    "            font-size:15px;\n",
    "            display:fill;\n",
    "            text-align:center;\n",
    "            border-radius:20px;\n",
    "            border: 5px double;\n",
    "            border-color:#201E20;\n",
    "            background-color: #E8F1F2;\n",
    "            overflow:hidden;\n",
    "            font-weight:400\"> \n",
    "\n",
    "### Обработка числовых признаков\n",
    "    \n",
    "</div>"
   ]
  },
  {
   "cell_type": "markdown",
   "metadata": {},
   "source": [
    "#### __`lead_time`__"
   ]
  },
  {
   "cell_type": "code",
   "execution_count": null,
   "metadata": {},
   "outputs": [],
   "source": [
    "plt.figure(figsize=(10, 2))\n",
    "sns.boxplot(x=df['lead_time'], orient='h', color='skyblue', whis=1.5)\n",
    "plt.title('Дней между бронированием и прибытием')\n",
    "plt.yticks([])\n",
    "plt.grid(True)\n",
    "plt.show()"
   ]
  },
  {
   "cell_type": "markdown",
   "metadata": {},
   "source": [
    "__Удалим аномалии__\n",
    "$$\n",
    "Аномалии = Наблюдения > Q3 + 1,5*IQR\n",
    "$$\n",
    "где:\n",
    "- Q3: 75-й процентиль\n",
    "- IQR: Межквартильный размах (разница между 75-м процентилем (q3) и 25-м процентилем (q1) в наборе данных)"
   ]
  },
  {
   "cell_type": "code",
   "execution_count": null,
   "metadata": {},
   "outputs": [],
   "source": [
    "q1 = df['lead_time'].quantile(0.25)\n",
    "q3 = df['lead_time'].quantile(0.75)\n",
    "print(f'Порог аномальных значений: {int(q3+1.5*(q3-q1))} дней')"
   ]
  },
  {
   "cell_type": "code",
   "execution_count": null,
   "metadata": {},
   "outputs": [],
   "source": [
    "df = df[df['lead_time']<(q3+1.5*(q3-q1))]"
   ]
  },
  {
   "cell_type": "code",
   "execution_count": null,
   "metadata": {},
   "outputs": [],
   "source": [
    "# блочная диаграмма после обработки аномалий\n",
    "plt.figure(figsize=(10, 2))\n",
    "sns.boxplot(x=df['lead_time'], orient='h', color='skyblue', whis=1.5)\n",
    "plt.title('Дней между бронированием и прибытием')\n",
    "plt.yticks([])\n",
    "plt.grid(True)\n",
    "plt.show()"
   ]
  },
  {
   "cell_type": "markdown",
   "metadata": {},
   "source": [
    "\n",
    "#### __`babies`__"
   ]
  },
  {
   "cell_type": "code",
   "execution_count": null,
   "metadata": {},
   "outputs": [],
   "source": [
    "# визуализация количества младенцев\n",
    "plt.figure(figsize=(8,3))\n",
    "plt.hist(df['babies'], bins=20, color='teal')\n",
    "plt.grid(True)\n",
    "plt.title('Количество записей относительно количеству младенцев')\n",
    "plt.xlabel('Количество младенцев', fontsize=12)\n",
    "plt.ylabel('количество записей', fontsize=12)\n",
    "plt.ylim([0, 10000])\n",
    "plt.show()"
   ]
  },
  {
   "cell_type": "markdown",
   "metadata": {},
   "source": [
    "Нам не подойдет удаление аномалий через межквартильный размах, так как большинство данных сосредоточено в значении 0, обработаем вручную и  посмотрим записи где младенцев было больше 1-го"
   ]
  },
  {
   "cell_type": "code",
   "execution_count": null,
   "metadata": {},
   "outputs": [],
   "source": [
    "# функция принимает на вход целевой признак и порог\n",
    "# возвращает долю среза данных по заданному порогу\n",
    "def cut_fraction(feature, threshold):\n",
    "    print(f\"{len(df[df[feature]>threshold])/len(df) :.4%}:\\\n",
    " доля записей признака {feature} со значением большим {threshold} в наборе данных для тестирования\")\n",
    "\n",
    "    print(f\"{len(df_test[df_test[feature]>threshold])/len(df_test) :.4%}:\\\n",
    " доля записей признака {feature} со значением большим {threshold} в наборе данных для тестирования\")\n"
   ]
  },
  {
   "cell_type": "code",
   "execution_count": null,
   "metadata": {},
   "outputs": [],
   "source": [
    "cut_fraction('babies', 1)"
   ]
  },
  {
   "cell_type": "markdown",
   "metadata": {},
   "source": [
    "Из обзора данных можно заметить, что количество бронирований с двумя или более младенцами является недостаточным для проведения точного прогнозирования. Поэтому, чтобы правильно обработать такие строки, рекомендуется изменить признак на бинарный, где значение 1 будет означать наличие младенцев, а значение 0 - их отсутствие. Таким образом, признак может быть переименован в `has_babies`, чтобы отразить его новую бинарную природу."
   ]
  },
  {
   "cell_type": "code",
   "execution_count": null,
   "metadata": {},
   "outputs": [],
   "source": [
    "# создание бинарного признака наличия детей:\n",
    "df['has_babies'] = (df['babies']>0)*1\n",
    "df_test['has_babies'] = (df_test['babies']>0)*1\n",
    "# удаление вспомогательного признака\n",
    "df = df.drop('babies', axis=1).copy()\n",
    "df_test = df_test.drop('babies', axis=1).copy()"
   ]
  },
  {
   "cell_type": "markdown",
   "metadata": {},
   "source": [
    "#### __`previous_cancellations`__"
   ]
  },
  {
   "cell_type": "code",
   "execution_count": null,
   "metadata": {},
   "outputs": [],
   "source": [
    "# визуализация количества младенцев\n",
    "plt.figure(figsize=(8,3))\n",
    "plt.hist(df['previous_cancellations'], bins=20, color='teal')\n",
    "plt.grid(True)\n",
    "plt.title('Количество записей относительно количеству отменённых заказов')\n",
    "plt.xlabel('Количество отмен', fontsize=12)\n",
    "plt.ylabel('количество записей', fontsize=12)\n",
    "plt.ylim([0, 1000])\n",
    "plt.show()"
   ]
  },
  {
   "cell_type": "code",
   "execution_count": null,
   "metadata": {},
   "outputs": [],
   "source": [
    "cut_fraction('previous_cancellations', 0)"
   ]
  },
  {
   "cell_type": "markdown",
   "metadata": {},
   "source": [
    "Анализ данных показывает, что количество записей с отмененными заказами слишком мало для точного прогнозирования. Для того чтобы правильно обработать такие записи, рекомендуется изменить признак на бинарный. В этом случае, значение 1 будет означать наличие отмены заказа, а значение 0 - отсутствие отмены заказа. Таким образом, признак может быть переименован в `has_cancellations`, чтобы отразить бинарную природу этого признака."
   ]
  },
  {
   "cell_type": "code",
   "execution_count": null,
   "metadata": {},
   "outputs": [],
   "source": [
    "# создание бинарного признака наличия детей:\n",
    "df['has_cancellations'] = (df['previous_cancellations']>0)*1\n",
    "df_test['has_cancellations'] = (df_test['previous_cancellations']>0)*1\n",
    "# удаление вспомогательного признака\n",
    "df = df.drop('previous_cancellations', axis=1).copy()\n",
    "df_test = df_test.drop('previous_cancellations', axis=1).copy()"
   ]
  },
  {
   "cell_type": "markdown",
   "metadata": {},
   "source": [
    "#### __`previous_bookings_not_canceled`__"
   ]
  },
  {
   "cell_type": "code",
   "execution_count": null,
   "metadata": {},
   "outputs": [],
   "source": [
    "# визуализация количества подтверждённых заказов\n",
    "plt.figure(figsize=(8,3))\n",
    "plt.hist(df['previous_bookings_not_canceled'], bins=20, color='teal')\n",
    "plt.grid(True)\n",
    "plt.title('Количество записей относительно количеству подтверждённых заказов')\n",
    "plt.xlabel('Количество бронирований', fontsize=12)\n",
    "plt.ylabel('количество записей', fontsize=12)\n",
    "plt.ylim([0, 1000])\n",
    "plt.show()"
   ]
  },
  {
   "cell_type": "code",
   "execution_count": null,
   "metadata": {},
   "outputs": [],
   "source": [
    "cut_fraction('previous_bookings_not_canceled', 25)"
   ]
  },
  {
   "cell_type": "markdown",
   "metadata": {},
   "source": [
    "Более 30 подтверждённых заказов у клиента единичны, для улучшения качества обучения модели удаляем их."
   ]
  },
  {
   "cell_type": "code",
   "execution_count": null,
   "metadata": {},
   "outputs": [],
   "source": [
    "df = df[df['previous_bookings_not_canceled']<=25]"
   ]
  },
  {
   "cell_type": "markdown",
   "metadata": {},
   "source": [
    "#### __`booking_changes` — количество изменений параметров заказа__"
   ]
  },
  {
   "cell_type": "code",
   "execution_count": null,
   "metadata": {},
   "outputs": [],
   "source": [
    "# визуализация количества изменений параметров заказа\n",
    "plt.figure(figsize=(8,3))\n",
    "plt.hist(df['booking_changes'], bins=15, color='teal')\n",
    "plt.grid(True)\n",
    "plt.title('Количество записей относительно количеству изменений в заказе')\n",
    "plt.xlabel('Количество изменений в заказе', fontsize=12)\n",
    "plt.ylabel('Количество записей', fontsize=12)\n",
    "plt.ylim([0, 10000])\n",
    "plt.show()"
   ]
  },
  {
   "cell_type": "code",
   "execution_count": null,
   "metadata": {},
   "outputs": [],
   "source": [
    "cut_fraction('booking_changes', 5)"
   ]
  },
  {
   "cell_type": "markdown",
   "metadata": {},
   "source": [
    "Более 5 изменений параметров заказа у клиента крайне редки, для улучшения качества обучения модели удаляем их."
   ]
  },
  {
   "cell_type": "code",
   "execution_count": null,
   "metadata": {},
   "outputs": [],
   "source": [
    "df = df[df['booking_changes']<=5]"
   ]
  },
  {
   "cell_type": "markdown",
   "metadata": {},
   "source": [
    "#### __`days_in_waiting_list ` — сколько дней заказ ожидал подтверждения__"
   ]
  },
  {
   "cell_type": "code",
   "execution_count": null,
   "metadata": {},
   "outputs": [],
   "source": [
    "# визуализация количества дней до подтверждения\n",
    "plt.figure(figsize=(8,3))\n",
    "plt.hist(df['days_in_waiting_list'], bins=25, color='teal')\n",
    "plt.grid(True)\n",
    "plt.title('Количество записей относительно количеству дней до подтверждения')\n",
    "plt.xlabel('Количество дней до подтверждения', fontsize=12)\n",
    "plt.ylabel('Количество записей', fontsize=12)\n",
    "plt.ylim([0, 1000])\n",
    "plt.show()"
   ]
  },
  {
   "cell_type": "code",
   "execution_count": null,
   "metadata": {},
   "outputs": [],
   "source": [
    "cut_fraction('days_in_waiting_list', 100)"
   ]
  },
  {
   "cell_type": "markdown",
   "metadata": {},
   "source": [
    "Действительно, количество дней которые заказ ожидал подтверждения большее 100 редки, удалим их"
   ]
  },
  {
   "cell_type": "code",
   "execution_count": null,
   "metadata": {},
   "outputs": [],
   "source": [
    "df = df[df['days_in_waiting_list']<=100]"
   ]
  },
  {
   "cell_type": "markdown",
   "metadata": {},
   "source": [
    "#### __`required_car_parking_spaces` — необходимость места для автомобиля__\n",
    "\n",
    "Максимальное количество запрашиваемых парковочных мест -3 места, проверим количество записей, в которых люди бронировали более одного парковочного места"
   ]
  },
  {
   "cell_type": "code",
   "execution_count": null,
   "metadata": {},
   "outputs": [],
   "source": [
    "cut_fraction('required_car_parking_spaces', 1)\n"
   ]
  },
  {
   "cell_type": "markdown",
   "metadata": {},
   "source": [
    "Как видно, таких записей крайне мало. Для того чтобы правильно обработать такие записи, рекомендуется изменить признак на бинарный. В этом случае, значение 1 будет означать необходимость парковочных мест, а значение 0 - отсутствие резервирования парковки."
   ]
  },
  {
   "cell_type": "code",
   "execution_count": null,
   "metadata": {},
   "outputs": [],
   "source": [
    "# создание бинарного признака необходимости места для автомобиля:\n",
    "df['required_car_parking_spaces'] = (df['required_car_parking_spaces']>0)*1\n",
    "df_test['required_car_parking_spaces'] = (df_test['required_car_parking_spaces']>0)*1"
   ]
  },
  {
   "cell_type": "markdown",
   "metadata": {},
   "source": [
    "<div style=\"padding: 30px 25px; border: 2px #6495ed solid\">\n",
    "\n",
    "__Вывод:__\n",
    "\n",
    "- Числовые столбцы обработаны\n",
    "- Аномалии удалены  \n",
    "    \n",
    "</div>"
   ]
  },
  {
   "cell_type": "markdown",
   "metadata": {},
   "source": [
    "#### Баланс целевого признака\n",
    "\n",
    "Посмотрим распределение целевого признака: is_canceled — отмена заказа\n"
   ]
  },
  {
   "cell_type": "code",
   "execution_count": null,
   "metadata": {},
   "outputs": [],
   "source": [
    "data = [df['is_canceled'].value_counts()[0], df['is_canceled'].value_counts()[1]]\n",
    "labels = ['0', '1']\n",
    "\n",
    "colors = sns.color_palette('pastel')[ 0:5 ]\n",
    "\n",
    "plt.pie(data, labels = labels, colors = colors, autopct='%.0f%%')\n",
    "plt.show()"
   ]
  },
  {
   "cell_type": "markdown",
   "metadata": {},
   "source": [
    "<div style=\"padding: 30px 25px; border: 2px #6495ed solid\">\n",
    "\n",
    "__Вывод:__\n",
    "\n",
    "- Присутствует дисбаланс целевого признака\n",
    "- При обучении моделей, чувствительных к дисдалансу, необходимо использовать параметр class_weight='balanced', для решения данной проблемы.    \n",
    "\n",
    "</div>"
   ]
  },
  {
   "cell_type": "markdown",
   "metadata": {},
   "source": [
    "#### Кореляция признаков\n",
    "\n",
    "Посмотрим какие признаки имеют наибольшее влияние на целевой"
   ]
  },
  {
   "cell_type": "code",
   "execution_count": 85,
   "metadata": {
    "scrolled": true
   },
   "outputs": [
    {
     "name": "stdout",
     "output_type": "stream",
     "text": [
      "interval columns not set, guessing: ['is_canceled', 'lead_time', 'arrival_date_year', 'arrival_date_week_number', 'arrival_date_day_of_month', 'stays_in_weekend_nights', 'stays_in_week_nights', 'adults', 'children', 'is_repeated_guest', 'previous_bookings_not_canceled', 'booking_changes', 'days_in_waiting_list', 'required_car_parking_spaces', 'total_of_special_requests', 'total_nights', 'has_babies', 'has_cancellations']\n"
     ]
    },
    {
     "data": {
      "text/plain": [
       "is_canceled                      1.0000\n",
       "has_cancellations                0.2756\n",
       "required_car_parking_spaces      0.2686\n",
       "lead_time                        0.2580\n",
       "country                          0.2283\n",
       "total_of_special_requests        0.2082\n",
       "distribution_channel             0.1958\n",
       "booking_changes                  0.1543\n",
       "customer_type                    0.1474\n",
       "total_nights                     0.1202\n",
       "arrival_date_month               0.0922\n",
       "is_repeated_guest                0.0911\n",
       "meal                             0.0897\n",
       "arrival_date_week_number         0.0886\n",
       "stays_in_week_nights             0.0729\n",
       "children                         0.0680\n",
       "previous_bookings_not_canceled   0.0666\n",
       "adults                           0.0601\n",
       "reserved_room_type               0.0497\n",
       "days_in_waiting_list             0.0377\n",
       "arrival_date_day_of_month        0.0326\n",
       "stays_in_weekend_nights          0.0301\n",
       "has_babies                       0.0255\n",
       "arrival_date_year                   NaN\n",
       "Name: is_canceled, dtype: float64"
      ]
     },
     "execution_count": 85,
     "metadata": {},
     "output_type": "execute_result"
    }
   ],
   "source": [
    "phik_overview = df.phik_matrix()\n",
    "cor = phik_overview['is_canceled'].sort_values(ascending=False)\n",
    "cor"
   ]
  },
  {
   "cell_type": "markdown",
   "metadata": {},
   "source": [
    "<div style=\"padding: 30px 25px; border: 2px #6495ed solid\">\n",
    "\n",
    "__Вывод:__\n",
    "\n",
    "- Высокой кореляцию с целевым признаком обладают следующие столбцы:\n",
    "    - has_cancellations             0.2756\n",
    "    - required_car_parking_spaces   0.2686\n",
    "    - lead_time                     0.2580\n",
    "</div>"
   ]
  },
  {
   "cell_type": "markdown",
   "metadata": {},
   "source": [
    "### Формулировка ML-задачи на основе бизнес-задачи"
   ]
  },
  {
   "cell_type": "markdown",
   "metadata": {},
   "source": [
    "Основная бизнес-метрика для любой сети отелей — её прибыль.\n",
    "\n",
    "Прибыль отеля — это разница между стоимостью номера за все ночи и затраты на обслуживание: как при подготовке номера, так и при проживании постояльца. \n",
    "\n",
    "В отеле есть несколько типов номеров. В зависимости от типа номера назначается стоимость за одну ночь. Есть также затраты на уборку. Если клиент снял номер надолго, то убираются каждые два дня. "
   ]
  },
  {
   "cell_type": "code",
   "execution_count": null,
   "metadata": {},
   "outputs": [],
   "source": [
    "# датафрейм типов номеров с ценами и затратами на уборку\n",
    "df_info=pd.DataFrame({'reserved_room_type': ['A', 'B', 'C', 'D', 'E', 'F', 'G'],\n",
    "                      'price_night':[1000, 800, 600, 550, 500, 450, 350],\n",
    "                      'service':[400, 350, 350, 150, 150, 150, 150]})\n",
    "df_info"
   ]
  },
  {
   "cell_type": "markdown",
   "metadata": {},
   "source": [
    "Создадим отдельный датасет на основе тестового, для расчета приприбыли"
   ]
  },
  {
   "cell_type": "code",
   "execution_count": null,
   "metadata": {},
   "outputs": [],
   "source": [
    "# добавим к тестовому датасету информацию о ценах за номер и затраты на уборку\n",
    "df_test_info = df_test.merge(df_info, on='reserved_room_type', how='left').copy()\n",
    "df = df.merge(df_info, on='reserved_room_type', how='left').copy()\n",
    "df2 = df2.merge(df_info, on='reserved_room_type', how='left').copy()"
   ]
  },
  {
   "cell_type": "code",
   "execution_count": null,
   "metadata": {},
   "outputs": [],
   "source": [
    "# функция для добавления сезонного коофициента, на основе данных о месяце\n",
    "k1 = ['September', 'October', 'November', 'March', 'April', 'May']\n",
    "k2 = ['July', 'August', 'June']\n",
    "\n",
    "def coefficient(month):\n",
    "    if month in k1:\n",
    "        return 1.2\n",
    "    elif month in k2:\n",
    "        return 1.4\n",
    "    return 1\n",
    "# добывим сезонный коофициент\n",
    "df_test_info['coefficient'] = df_test_info['arrival_date_month'].apply(coefficient)\n",
    "df['coefficient'] = df['arrival_date_month'].apply(coefficient)\n",
    "df2['coefficient'] = df2['arrival_date_month'].apply(coefficient)"
   ]
  },
  {
   "cell_type": "code",
   "execution_count": null,
   "metadata": {},
   "outputs": [],
   "source": [
    "# оставим столбцы, необходимые для расчета прибыли\n",
    "df_test_info = df_test_info[['total_nights', 'is_canceled', 'price_night', 'service', 'coefficient']].copy()"
   ]
  },
  {
   "cell_type": "markdown",
   "metadata": {},
   "source": [
    "__Оценим прибыль отеля без внедрения депозитов за тестовый период__"
   ]
  },
  {
   "cell_type": "code",
   "execution_count": null,
   "metadata": {},
   "outputs": [],
   "source": [
    "# функция расчета прибыли бе дипозита\n",
    "\n",
    "def profit(x):\n",
    "    if x['is_canceled']:\n",
    "        # убытки отеля в случае отмены брони номера\n",
    "        return (x['price_night']*x['coefficient']+x['service'])*(-1)\n",
    "    elif x['total_nights'] == 1:\n",
    "        # прибыль отеля в случае бронирования номера на одну ночь\n",
    "        return x['price_night']*x['coefficient'] - x['service']\n",
    "    # прибыль отеля в случае бронирования номера на несколько ночей(уборка раз в 2 дня)\n",
    "    return x['price_night']*x['coefficient']*x['total_nights'] - x['service']*(x['total_nights']//2 +1)\n"
   ]
  },
  {
   "cell_type": "code",
   "execution_count": null,
   "metadata": {},
   "outputs": [],
   "source": [
    "df_test_info['profit'] = df_test_info.apply(profit, axis=1)\n",
    "df['profit'] = df.apply(profit, axis=1)\n",
    "df2['profit'] = df2.apply(profit, axis=1)\n",
    "df_test_info.head(2)"
   ]
  },
  {
   "cell_type": "code",
   "execution_count": null,
   "metadata": {},
   "outputs": [],
   "source": [
    "# рассчитаем прибыль отеля без внедрения депозитов за тестовый период до внедррения модели\n",
    "display(df_test_info['profit'].sum())"
   ]
  },
  {
   "cell_type": "markdown",
   "metadata": {},
   "source": [
    "__Оценим прибыль отеля без внедрения депозитов за обучающий период__"
   ]
  },
  {
   "cell_type": "code",
   "execution_count": null,
   "metadata": {},
   "outputs": [],
   "source": [
    "# рассчитаем прибыль отеля без внедрения депозитов за обучающий период до внедррения модели\n",
    "profit_no_model_df = df['profit'].sum()\n",
    "display(profit_no_model_df)\n",
    "\n",
    "profit_no_model_df2 = df2['profit'].sum()\n",
    "display(profit_no_model_df2)"
   ]
  },
  {
   "cell_type": "markdown",
   "metadata": {},
   "source": [
    "<div style=\"padding: 30px 25px; border: 2px #6495ed solid\">\n",
    "\n",
    "__Вывод:__\n",
    "\n",
    "- прибыль отеля без внедрения депозитов за тестовый период составила: 32582920\n",
    "\n",
    "</div>"
   ]
  },
  {
   "cell_type": "markdown",
   "metadata": {},
   "source": [
    "#### Функция для расчета увеличения прибыли после внесения \n",
    "\n",
    "Позволит определить увеличение прибыли в процентах"
   ]
  },
  {
   "cell_type": "code",
   "execution_count": null,
   "metadata": {},
   "outputs": [],
   "source": [
    "cv_profit = KFold(n_splits=4, random_state=RS, shuffle=True)"
   ]
  },
  {
   "cell_type": "code",
   "execution_count": null,
   "metadata": {},
   "outputs": [],
   "source": [
    "def mod(x):\n",
    "    if x['predict']==1 and x['is_canceled']==1:\n",
    "        # убытки отеля в случае отмены брони номера и верного предсказания модоли\n",
    "        return (x['price_night']*x['coefficient']+x['service'])*(-0.2)\n",
    "    elif x['predict']==0 and x['is_canceled']==1:\n",
    "        # убытки отеля в случае отмены брони номера и неверного предсказания модоли\n",
    "        return (x['price_night']*x['coefficient']+x['service'])*(-1)\n",
    "    elif x['total_nights'] == 1:\n",
    "        # прибыль отеля в случае бронирования номера на одну ночь\n",
    "        return x['price_night']*x['coefficient'] - x['service']\n",
    "    # прибыль отеля в случае бронирования номера на несколько ночей(уборка раз в 2 дня)\n",
    "    return x['price_night']*x['coefficient']*x['total_nights'] - x['service']*(x['total_nights']//2 +1)"
   ]
  },
  {
   "cell_type": "code",
   "execution_count": null,
   "metadata": {},
   "outputs": [],
   "source": [
    "def profit_model(features, target, model, df):\n",
    "    profits = []\n",
    "    for train_fold_index, val_fold_index in cv_profit.split(features):\n",
    "        features_train_fold, target_train_fold = features.iloc[train_fold_index], target.iloc[train_fold_index]\n",
    "        features_val_fold, target_val_fold = features.iloc[val_fold_index], target.iloc[val_fold_index]\n",
    "        \n",
    "        model.fit(features_train_fold, target_train_fold)\n",
    "        predict = model.predict(features_val_fold)\n",
    "        \n",
    "        info = df.iloc[val_fold_index]\n",
    "        \n",
    "        info['predict'] = predict\n",
    "        \n",
    "        info['profit_model'] = info.apply(mod, axis=1)\n",
    "        profit = sum(info['profit_model'])\n",
    "        profits.append(profit)\n",
    "        \n",
    "    return (sum(profits)-df['profit'].sum())/ df['profit'].sum()  "
   ]
  },
  {
   "cell_type": "markdown",
   "metadata": {},
   "source": [
    "### Разработка модели ML\n",
    "\n",
    "В данном анализе целевым признаком являемся факт отказа от брони, что является задачей классификации.\n",
    "\n",
    "Проведем сравнительный анализ нескольких алгоритмов машинного обучения:\n",
    "- Логическая регрессия\n",
    "- Случайный лес\n",
    "- СatBoost\n",
    "\n",
    "Метрикой качества будет выступать AUC\n",
    "Дополнительной - прогноз увеличения прибыли\n",
    "\n",
    "По скольку, данная метрика, является числовой интерпритацией оценок:\n",
    "- TPR полностью совпадает с полнотой, и показывает долю верно предсказанных классов у объектов, относящихся к положительному классу\n",
    "- FPR — это доля неправильно предсказанных классов среди объектов отрицательного класса.\n",
    "\n",
    "Что позволит оченить качество предсказаний на разных уровнях принятия решения о присвоении положительного класска(клиентов которые откажутся от брони)\n",
    "\n",
    "Основная бизнес-метрика для любой сети отелей — её прибыль, рассчитаем прогноз увеличения прибыли"
   ]
  },
  {
   "cell_type": "markdown",
   "metadata": {},
   "source": [
    "<div class=\"alert alert-danger\">\n",
    "<h2>Комментарий ревьюера<a class=\"tocSkip\"></a></h2>\n",
    "\n",
    "**Нужно доработать** ❌: в этом проекте важно аргументировать выбор метрики, исходя из бизнес-задачи. Если ты считаешь, что именно AUC-ROC позволит максимизировать прибыль(путем минимизации убытков), то нужно это пояснить</div>"
   ]
  },
  {
   "cell_type": "markdown",
   "metadata": {},
   "source": [
    "<div class=\"alert alert-info\">\n",
    "Если я не правильно понял данную ошибку, просьба описать подробнее, что имеется ввиду в задании\n",
    "</div>"
   ]
  },
  {
   "cell_type": "markdown",
   "metadata": {},
   "source": [
    "<div class=\"alert alert-warning\">\n",
    "<h2>Комментарий ревьюера v2<a class=\"tocSkip\"></a></h2>\n",
    "    \n",
    "**Есть совет** ⚠️: окей, принимается, но давай попробуем разобраться подробнее: при разработке модели для бизнеса выбор метрики(и в учебных, и в реальных проектах) всегда зависит от бизнес-задачи, которую эта модель будет решать. В этом проекте бизнес-задача — это минимизация убытков от отмен бронирования путем введения депозитов. Запомнив это, давай попробуем разобраться со всеми основными метриками:\n",
    "    \n",
    "- **accuracy** — основная проблема этой метрики — это несбалансированные выборки. При дисбалансе классов(особенно, если дисбаланс существенный), accuracy не показательна, так как результат может быть искажен из-за того, что модель лучше предсказывает бОльший класс. Так как на практике редко бывают сбалансированные классы(как и в этом случае), то и accuracy используется не так часто;\n",
    "- метрика **precision** показывает, какая доля объектов, которую модель определила как положительные, действительно положительные. То есть, максимизируя метрику precision, мы пытаемся минимизировать количество **ложноположительных** ответов: клиентов, которые не собирались отменять бронирование, а модель решила, что они все-таки отменят.\n",
    "- метрика **recall** — это доля положительных объектов, которую нашла модель, из всех положительных объектов. Максимизируя recall мы хотим минимизировать количество **ложноотрицательных** ответов модели: клиентов, которые отменят бронирование, но модель решила, что они заселятся.\n",
    "- **F1-мера** — это среднее гармоническое precision и recall, она обычно используется в тех случаях, когда нам одинаково важны и precision, и recall\n",
    "- **AUC-ROC** показывает общее качество бинарного классификатора, в качестве основной метрики для бизнес-задачи она не всегда подходит, так как ее довольно сложно интерпретировать\n",
    "    \n",
    "Теперь можно вернуться к бизнес-задаче. Как мы знаем, отель несет убытки только в случае отмены бронирования(то есть положительных объектов), значит, нам важно найти максимальное количество таких объектов. Тогда для нас важнее всего минимизировать количество ложноотрицательных ответов, чтобы отель мог взять депозит с наибольшего количества «отменяльщиков».\n",
    "    \n",
    "Ложноположительные ответы не так критичны, так как депозит просто пойдет в стоимость оплаты. Но тут может возникнуть другая проблема: «надежные» клиенты могут отменять бронирование, тогда стоит попробовать компенсировать это не метрикой, а как раз худшим сценарием, который ты проверяешь ниже\n",
    "\n",
    "А вообще можно пойти еще дальше: раз основная задача модели — это максимизация прибыли, то почему бы не использовать прибыль в качестве метрики :) Но тогда ее нужно сделать метрикой, для этого можно создать свой scorer с помощью <a href=\"https://scikit-learn.org/stable/modules/generated/sklearn.metrics.make_scorer.html\" target=\"blank_\">make_scorer</a> и передавать его GridSearch. Использование кастомных метрик выходит за рамки курса, поэтому это не обязательно, но если интересно, то можешь попробовать реализовать самостоятельно, будет здорово :)</div>"
   ]
  },
  {
   "cell_type": "markdown",
   "metadata": {},
   "source": [
    "#### Подготовка данных\n",
    "\n",
    "Для модели СatBoost не требуется масштабирование числовых признаков, и  прямого кодирования категориальных, так так имеет встреенные, более совершенные методы. Для данной модели сохраним текущии выборки"
   ]
  },
  {
   "cell_type": "code",
   "execution_count": null,
   "metadata": {},
   "outputs": [],
   "source": [
    "# сохраним выборки для обучение модели СatBoost\n",
    "df_cb = df.copy()\n",
    "df_cb2 = df2.copy()\n",
    "df_test_cb = df_test.copy()"
   ]
  },
  {
   "cell_type": "markdown",
   "metadata": {},
   "source": [
    "Некоторые числовые признаки не будут использоваться в обучении моделей:\n",
    "- arrival_date_year — год заезда. в обычаюших и тестовых выборках сведенья за разные годы, по этой причине данная метрика не информативна\n",
    "- arrival_date_week_number — неделя заезда. Дублируется arrival_date_month, но создает больше категорий с меньшим количеством записей в каждом\n",
    "- total_nights — общее количество ночей. Дублируется двумя другими столбцами stays_in_weekend_nights и stays_in_week_nights, которые дают больше информации\n",
    "\n",
    "Проверим соответствует ли общее количество ночей, сумме stays_in_weekend_nights и stays_in_week_nights"
   ]
  },
  {
   "cell_type": "code",
   "execution_count": null,
   "metadata": {},
   "outputs": [],
   "source": [
    "sum(df['stays_in_weekend_nights']+df['stays_in_week_nights'] != df['total_nights'])"
   ]
  },
  {
   "cell_type": "markdown",
   "metadata": {},
   "source": [
    "<div class=\"alert alert-warning\">\n",
    "<h2>Комментарий ревьюера<a class=\"tocSkip\"></a></h2>\n",
    "    \n",
    "**Есть совет** ⚠️: судя по описанию, `total_nights` — это действительно сумма `stays_in_week_nights` и `stays_in_weekend_nights`, но перед удалением `total_nights` тогда стоит проверить, выполняется ли условие для всех бронирований</div>"
   ]
  },
  {
   "cell_type": "markdown",
   "metadata": {},
   "source": [
    "<div class=\"alert alert-info\">\n",
    "Согласен, проверил.\n",
    "</div>"
   ]
  },
  {
   "cell_type": "markdown",
   "metadata": {},
   "source": [
    "<div class=\"alert alert-success\">\n",
    "<h2>Комментарий ревьюера v2<a class=\"tocSkip\"></a></h2>\n",
    "    \n",
    "**Отлично!** ✔️: 👍</div>"
   ]
  },
  {
   "cell_type": "markdown",
   "metadata": {},
   "source": [
    "##### Подготовка числовых и категориальных признаков"
   ]
  },
  {
   "cell_type": "code",
   "execution_count": null,
   "metadata": {},
   "outputs": [],
   "source": []
  },
  {
   "cell_type": "code",
   "execution_count": null,
   "metadata": {},
   "outputs": [],
   "source": [
    "# категориальные признаки\n",
    "categorical_columns = ['arrival_date_month', 'meal', 'distribution_channel', 'is_repeated_guest', \n",
    "                      'customer_type', 'reserved_room_type', 'country', 'has_babies']\n",
    "# числовые признаки\n",
    "numeric_columns = ['id', 'lead_time', 'stays_in_weekend_nights', 'stays_in_week_nights', 'adults', 'children',\n",
    "                  'previous_cancellations', 'previous_bookings_not_canceled', \n",
    "                  'booking_changes', 'days_in_waiting_list' ]\n",
    "\n",
    "numeric_columns2 = ['lead_time', 'stays_in_weekend_nights', 'stays_in_week_nights', 'adults', 'children',\n",
    "                  'previous_cancellations', 'previous_bookings_not_canceled', \n",
    "                  'booking_changes', 'days_in_waiting_list' ]\n",
    "# целевой признак\n",
    "y = ['is_canceled']\n",
    "# выборки\n",
    "features_train = df[categorical_columns+numeric_columns]\n",
    "features_train2 = df2[categorical_columns+numeric_columns2]\n",
    "target_train = df[y]\n",
    "target_train2 = df2[y]\n",
    "features_test = df_test[categorical_columns+numeric_columns]\n",
    "target_test = df_test[y]"
   ]
  },
  {
   "cell_type": "markdown",
   "metadata": {},
   "source": [
    "__Обучающие выборки для логической регрессии__\n",
    "\n",
    "- OneHotEncoder для категориальных\n",
    "- Масштабированые числовых признаков"
   ]
  },
  {
   "cell_type": "code",
   "execution_count": null,
   "metadata": {},
   "outputs": [],
   "source": [
    "from sklearn.compose import ColumnTransformer\n",
    "from sklearn.compose import make_column_transformer\n",
    "from sklearn.pipeline import Pipeline\n",
    "\n",
    "col_transformer_ohe = make_column_transformer(\n",
    "    (\n",
    "        OneHotEncoder(drop='first', handle_unknown='ignore'),\n",
    "        categorical_columns\n",
    "    ),\n",
    "    (\n",
    "        StandardScaler(),\n",
    "        numeric_columns\n",
    "    ),\n",
    "    remainder='passthrough',\n",
    "    verbose_feature_names_out=False\n",
    ")\n",
    "col_transformer_oe = make_column_transformer(\n",
    "    (\n",
    "        OrdinalEncoder(handle_unknown='use_encoded_value', unknown_value=-1),\n",
    "        categorical_columns\n",
    "    ),\n",
    "    remainder='passthrough',\n",
    "    verbose_feature_names_out=False\n",
    ")\n"
   ]
  },
  {
   "cell_type": "code",
   "execution_count": null,
   "metadata": {},
   "outputs": [],
   "source": [
    "from sklearn.model_selection import train_test_split, GridSearchCV, cross_val_score, StratifiedKFold, RandomizedSearchCV, cross_validate\n",
    "\n",
    "scorer = ['accuracy', 'f1_macro', 'precision_macro', 'recall_macro']\n",
    "cv = StratifiedKFold(n_splits = 3, shuffle = True, random_state = 42)"
   ]
  },
  {
   "cell_type": "code",
   "execution_count": null,
   "metadata": {},
   "outputs": [],
   "source": [
    "LogReg = LogisticRegression(n_jobs=-1)\n",
    "model_log_reg = Pipeline([('transformer', col_transformer_ohe), ('classifier', LogReg)])"
   ]
  },
  {
   "cell_type": "code",
   "execution_count": null,
   "metadata": {},
   "outputs": [],
   "source": [
    "model_log_reg.get_params().keys()"
   ]
  },
  {
   "cell_type": "code",
   "execution_count": null,
   "metadata": {},
   "outputs": [],
   "source": [
    "parameters = {\n",
    "    'classifier__C': [0.0001, 0.001, 0.01, 10, 0.0005],\n",
    "    'classifier__solver': ['saga', 'sag', 'newton-cg']\n",
    "}"
   ]
  },
  {
   "cell_type": "code",
   "execution_count": null,
   "metadata": {},
   "outputs": [],
   "source": [
    "grid_cv_lr = GridSearchCV(model_log_reg, parameters, scoring=scorer, cv=cv, n_jobs=-1, refit='accuracy')"
   ]
  },
  {
   "cell_type": "code",
   "execution_count": null,
   "metadata": {},
   "outputs": [],
   "source": [
    "grid_cv_lr.fit(features_train, target_train)"
   ]
  },
  {
   "cell_type": "code",
   "execution_count": null,
   "metadata": {},
   "outputs": [],
   "source": [
    "result_PSVC_cv_search = grid_cv_lr.cv_results_"
   ]
  },
  {
   "cell_type": "code",
   "execution_count": null,
   "metadata": {},
   "outputs": [],
   "source": [
    "def get_result_from_grid_cv(search, gr_cv):\n",
    "    f1_macro = search['mean_test_f1_macro'][np.argmin(search['rank_test_f1_macro'])]\n",
    "    precision_macro = search['mean_test_precision_macro'][np.argmin(search['rank_test_precision_macro'])]\n",
    "    recall_macro = search['mean_test_recall_macro'][np.argmin(search['rank_test_recall_macro'])]\n",
    "    print(gr_cv.best_params_,'\\n', 'best_accuracy: ', gr_cv.best_score_)\n",
    "    print('f1_macro_best:', f1_macro, '\\n', 'precision_macro_best:', precision_macro,'\\n', 'recall_macro_best:', recall_macro)"
   ]
  },
  {
   "cell_type": "code",
   "execution_count": null,
   "metadata": {},
   "outputs": [],
   "source": [
    "get_result_from_grid_cv(result_PSVC_cv_search, grid_cv_lr)"
   ]
  },
  {
   "cell_type": "code",
   "execution_count": null,
   "metadata": {},
   "outputs": [],
   "source": []
  },
  {
   "cell_type": "code",
   "execution_count": null,
   "metadata": {},
   "outputs": [],
   "source": []
  },
  {
   "cell_type": "code",
   "execution_count": null,
   "metadata": {},
   "outputs": [],
   "source": [
    "# настройка OneHotEncoder\n",
    "encoder = OneHotEncoder(drop='first')\n",
    "# ______df________\n",
    "# обучение OneHotEncoder\n",
    "encoder.fit(features_train[categorical_columns])\n",
    "# прямое кодирование\n",
    "features_train_encoded = pd.DataFrame(\n",
    "    encoder.transform(features_train[categorical_columns]).toarray(),\n",
    "    columns=encoder.get_feature_names(categorical_columns),\n",
    "    index=features_train.index\n",
    ")\n",
    "# ______df2________\n",
    "# обучение OneHotEncoder\n",
    "encoder.fit(features_train2[categorical_columns])\n",
    "# прямое кодирование\n",
    "features_train_encoded2 = pd.DataFrame(\n",
    "    encoder.transform(features_train2[categorical_columns]).toarray(),\n",
    "    columns=encoder.get_feature_names(categorical_columns),\n",
    "    index=features_train2.index\n",
    ")\n",
    " \n",
    "# формирование обучающей выборки с прямым кодированием категориальных признаков\n",
    "features_train_encoded = pd.concat((features_train[numeric_columns], features_train_encoded), axis=1)\n",
    "features_train_encoded2 = pd.concat((features_train2[numeric_columns2], features_train_encoded2), axis=1)"
   ]
  },
  {
   "cell_type": "code",
   "execution_count": null,
   "metadata": {},
   "outputs": [],
   "source": [
    "features_train_encoded.head()"
   ]
  },
  {
   "cell_type": "code",
   "execution_count": null,
   "metadata": {},
   "outputs": [],
   "source": [
    "scaler = StandardScaler()\n",
    "# обучение StandardScaler\n",
    "scaler.fit(features_train_encoded[numeric_columns]) \n",
    "# формирование обучающей выборки с масштабированием числовых признаков\n",
    "features_train_encoded[numeric_columns] = scaler.transform(features_train_encoded[numeric_columns])\n",
    "pd.options.mode.chained_assignment = None"
   ]
  },
  {
   "cell_type": "code",
   "execution_count": null,
   "metadata": {},
   "outputs": [],
   "source": [
    "# обучение StandardScaler\n",
    "scaler.fit(features_train_encoded2[numeric_columns2]) \n",
    "# формирование обучающей выборки с масштабированием числовых признаков\n",
    "features_train_encoded2[numeric_columns2] = scaler.transform(features_train_encoded2[numeric_columns2])\n",
    "pd.options.mode.chained_assignment = None"
   ]
  },
  {
   "cell_type": "code",
   "execution_count": null,
   "metadata": {},
   "outputs": [],
   "source": [
    "features_LR = features_train_encoded.copy()\n",
    "features_LR2 = features_train_encoded2.copy()"
   ]
  },
  {
   "cell_type": "markdown",
   "metadata": {},
   "source": [
    "__Обучающие выборки для случайного леса__\n",
    "\n",
    "- Порядковое кодирование для категориальных\n",
    "- Не масштабированые числовых признаков"
   ]
  },
  {
   "cell_type": "code",
   "execution_count": null,
   "metadata": {},
   "outputs": [],
   "source": [
    "ord_enc = OrdinalEncoder()\n",
    "\n",
    "features_RF = features_train.copy()\n",
    "features_RF2 = features_train2.copy()\n",
    "\n",
    "features_RF[categorical_columns] = ord_enc.fit_transform(features_RF[categorical_columns])\n",
    "features_RF2[categorical_columns] = ord_enc.fit_transform(features_RF2[categorical_columns])"
   ]
  },
  {
   "cell_type": "code",
   "execution_count": null,
   "metadata": {},
   "outputs": [],
   "source": [
    "features_RF.head()"
   ]
  },
  {
   "cell_type": "markdown",
   "metadata": {},
   "source": [
    "<div style=\"padding: 30px 25px; border: 2px #6495ed solid\">\n",
    "\n",
    "__Вывод:__\n",
    "\n",
    "- сохранили выборки для обучение модели СatBoost\n",
    "- проведено прямое кодирование категориальных признаков    \n",
    "- проведено масштабирование числовых признаков    \n",
    "\n",
    "</div>"
   ]
  },
  {
   "cell_type": "markdown",
   "metadata": {},
   "source": [
    "з<div class=\"alert alert-warning\">\n",
    "<h2>Комментарий ревьюера<a class=\"tocSkip\"></a></h2>\n",
    "    \n",
    "**Есть совет** ⚠️: вообще для «деревянных» моделей лучше использовать порядковое кодирование, так как они заметно быстрее обучаются на меньшем количестве признаков и не теряют в качестве, есть <a href=\"https://medium.com/data-design/visiting-categorical-features-and-encoding-in-decision-trees-53400fa65931\" target=\"blank_\">шикарная статья</a> на эту тему. Но для линейных моделей(в том числе логистической регрессии) порядковое кодирование не подходит, потому что задает приоритет признакам, которого в природе данных нет. Тогда, например, значение 10^2 в признаке X для них будет важнее, чем значение 10^1, а это далеко не всегда верное утверждение. Поэтому для них лучше использовать OHE.\n",
    "    \n",
    "Также для всех «деревянных» классификаторов масштабирование совсем не обязательно, <a href=\"https://towardsdatascience.com/how-data-normalization-affects-your-random-forest-algorithm-fbc6753b4ddf\" target=\"blank_\">тут</a> можно почитать про это подробнее. Но для линейных моделей наоборот, может заметно улучшить метрики\n",
    "    \n",
    "Тогда у тебя получится разная предобработка для разных моделей, это вполне нормально, тут могут помочь пайплайны, они особенно полезны как раз в подобных случаях\n",
    "    \n",
    "Подробнее про пайплайны:\n",
    "* https://scikit-learn.org/stable/modules/generated/sklearn.pipeline.Pipeline.html\n",
    "* https://scikit-learn.org/stable/modules/compose.html\n",
    "* https://towardsdatascience.com/how-to-use-sklearn-pipelines-for-ridiculously-neat-code-a61ab66ca90d</div>"
   ]
  },
  {
   "cell_type": "markdown",
   "metadata": {},
   "source": [
    "<div class=\"alert alert-info\">\n",
    " Спасибо интересная информация, подготовил данные с учетом моделей. А вот с Pipeline пока не разобрался, почитаю еще.\n",
    "</div>"
   ]
  },
  {
   "cell_type": "markdown",
   "metadata": {},
   "source": [
    "<div class=\"alert alert-warning\">\n",
    "<h2>Комментарий ревьюера v2<a class=\"tocSkip\"></a></h2>\n",
    "    \n",
    "**Есть совет** ⚠️: супер, давай попробую привести пример использования пайплайнов, чтобы было нагляднее:\n",
    "    \n",
    "    categorical_columns = features_train.select_dtypes(include='object').columns.to_list()\n",
    "    numeric_columns = features_train.select_dtypes(exclude='object').columns.to_list()\n",
    "    \n",
    "    col_transformer_ohe = make_column_transformer(\n",
    "        (\n",
    "            OneHotEncoder(drop='first', handle_unknown='ignore'),\n",
    "            categorical_columns\n",
    "        ),\n",
    "        (\n",
    "            StandardScaler(),\n",
    "            numeric_columns\n",
    "        ),\n",
    "        remainder='passthrough',\n",
    "        verbose_feature_names_out=False\n",
    "    )\n",
    "    \n",
    "    col_transformer_oe = make_column_transformer(\n",
    "        (\n",
    "            OrdinalEncoder(handle_unknown='use_encoded_value', unknown_value=-1),\n",
    "            categorical_columns\n",
    "        ),\n",
    "        remainder='passthrough',\n",
    "        verbose_feature_names_out=False\n",
    "    )\n",
    "    \n",
    "    model_dt = DecisionTreeClassifier(...)\n",
    "    pipeline_dt = make_pipeline(col_transformer_oe, model_dt)\n",
    "    # с пайплайном можно обращаться к с уже привычным объектом модели и передавать его хоть в cross_val_score, хоть в GridSearch\n",
    "    dt_f1 = cross_val_score(pipeline_dt, features_train, target_train, cv=5, scoring='roc_auc').mean()\n",
    "    \n",
    "    model_logreg = LogisticRegression(...)\n",
    "    pipeline_logreg = make_pipeline(col_transformer_ohe, model_logreg)\n",
    "    logreg_f1 = cross_val_score(pipeline_logreg, features_train, target_train, cv=5, scoring='roc_auc').mean()\n",
    "    \n",
    "    model_rf = RandomForestClassifier(...)\n",
    "    pipeline_rf = make_pipeline(col_transformer_oe, model_rf)\n",
    "    rf_f1 = cross_val_score(pipeline_rf, features_train, target_train, cv=5, scoring='roc_auc').mean()\n",
    "    \n",
    "С помощью <a href=\"https://scikit-learn.org/stable/modules/generated/sklearn.compose.make_column_transformer.html\" target=\"blank_\">make_column_transformer</a> мы собираем необходимую предобработку для разных типов моделей, параметр `remainder='passthrough'` позволит отправить все признаки, не требующие предобработки(например, бинарные признаки), далее по пайплайну, а `verbose_feature_names_out` определяет, необходимо ли добавлять префиксы к названиям обработанных признаков. А уже <a href=\"https://scikit-learn.org/stable/modules/generated/sklearn.pipeline.make_pipeline.html\" target=\"blank_\">make_pipeline</a> соберет соответствующие трансформер и модель в пайплайн\n",
    "    \n",
    "При таком подходе внутри пайплайна трансформер корректно обработает все указанные признаки, в том числе обучит encoder и scaler только на этапе обучения модели, то есть обучающей выборке, а трансформирует остальные выборки только при их использовании и на этапе предсказаний</div>"
   ]
  },
  {
   "cell_type": "markdown",
   "metadata": {},
   "source": [
    "#### Обучение моделей\n",
    "\n",
    "При обучении моделей будем использовать кросс-валидацию — метод, предназначенный для оценки качества работы модели, который помогает сравнить между собой различные модели и выбрать наилучшую для конкретной задачи. \n",
    "\n",
    "##### Логическая регрессия\n",
    "\n",
    "Для поиска лучших гиперпарметров, будет использован алгоритм \"поиска по сетке\" (GridSearchCV) который сильно упрощает этот процесс.\n",
    "\n",
    "Для логистической регрессии сделаем перебор по двум основным гиперпараметрам:\n",
    "- **solver**: 'liblinear', 'saga'\n",
    "- **max_iter**, от значения по умолчанию (100) до 500, с шагом 100"
   ]
  },
  {
   "cell_type": "code",
   "execution_count": null,
   "metadata": {},
   "outputs": [],
   "source": [
    "# гиперпараметры модели\n",
    "param_LR = {'solver': ['liblinear', 'saga'],\n",
    "           'max_iter': range (100, 500, 100)}\n",
    "# параметры модели\n",
    "model_LR = LogisticRegression(random_state=RS,\n",
    "                              class_weight='balanced')\n",
    "# параметры GridSearchCV\n",
    "grid_LR = GridSearchCV(estimator=model_LR,\n",
    "                       param_grid=param_LR,\n",
    "                       scoring='roc_auc',\n",
    "                       cv=4,\n",
    "                       n_jobs=-1)"
   ]
  },
  {
   "cell_type": "code",
   "execution_count": null,
   "metadata": {},
   "outputs": [],
   "source": [
    "\n",
    "# обучение модели\n",
    "grid_LR.fit(features_LR, target_train)\n",
    "# сохраним лучшую модель  \n",
    "best_model_LR = grid_LR.best_estimator_\n",
    "# сохраним лучшее значение метрики\n",
    "final_metrics_LR = grid_LR.best_score_\n",
    "# вывод результатов\n",
    "print(f'Оптимальные гиперпараметры:\\n{grid_LR.best_params_}\\n{final_metrics_LR}')"
   ]
  },
  {
   "cell_type": "code",
   "execution_count": null,
   "metadata": {},
   "outputs": [],
   "source": [
    "profit_LR = profit_model(features_LR, target_train, best_model_LR, df)\n",
    "print(f'При использовании модели прибыль увеличится на {profit_LR:.0%}')"
   ]
  },
  {
   "cell_type": "code",
   "execution_count": null,
   "metadata": {},
   "outputs": [],
   "source": [
    "\n",
    "# обучение модели\n",
    "grid_LR.fit(features_LR2, target_train2)\n",
    "# сохраним лучшую модель  \n",
    "best_model_LR2 = grid_LR.best_estimator_\n",
    "# сохраним лучшее значение метрики\n",
    "final_metrics_LR2 = grid_LR.best_score_\n",
    "# вывод результатов\n",
    "print(f'Оптимальные гиперпараметры:\\n{grid_LR.best_params_}\\n{final_metrics_LR2}')"
   ]
  },
  {
   "cell_type": "code",
   "execution_count": null,
   "metadata": {},
   "outputs": [],
   "source": [
    "profit_LR2 = profit_model(features_LR2, target_train2, best_model_LR2, df2)\n",
    "print(f'При использовании модели прибыль увеличится на {profit_LR2:.0%}')"
   ]
  },
  {
   "cell_type": "markdown",
   "metadata": {},
   "source": [
    "##### Случайный лес\n",
    "\n",
    "Алгоритм случайного леса является ресурсозатратным, для поиска оптимальных гиперпараметров используем \"случайный поиск по сетке\" (RandomizedSearchCV)\n",
    "Для случайного леса сделаем перебор по следующим гиперпараметрам:\n",
    "- **n_estimators**: от 30 до 70, с шагом 10\n",
    "- **max_depth**: от 10 до 90, с шагом 10\n",
    "- **min_samples_leaf**: 1, 3, 5, 7\n",
    "- **min_samples_split**: от 2 до 10, с шагом 2\n",
    "- **max_features**: 'auto', 'sqrt'\n"
   ]
  },
  {
   "cell_type": "code",
   "execution_count": null,
   "metadata": {
    "scrolled": true
   },
   "outputs": [],
   "source": [
    "# гиперпараметры модели\n",
    "param_RF = { 'n_estimators': range(30, 71, 10),\n",
    "             'max_depth': range(30, 91, 10),\n",
    "             'min_samples_leaf': [1, 3, 5, 7],\n",
    "             'min_samples_split': range(2, 10, 2),\n",
    "             'max_features': ['auto', 'sqrt'] }\n",
    "# параметры модели\n",
    "model_RF = RandomForestClassifier(random_state=RS,\n",
    "                                  class_weight='balanced')\n",
    "# параметры RandomizedSearchCV\n",
    "random_search_RF = RandomizedSearchCV(estimator=model_RF,\n",
    "                                      param_distributions=param_RF,\n",
    "                                      n_iter=100,\n",
    "                                      cv=4,\n",
    "                                      verbose=False,\n",
    "                                      random_state=RS,\n",
    "                                      scoring='roc_auc',\n",
    "                                      n_jobs=-1)\n"
   ]
  },
  {
   "cell_type": "code",
   "execution_count": null,
   "metadata": {},
   "outputs": [],
   "source": [
    "# обучение модели\n",
    "random_search_RF.fit(features_RF, target_train)\n",
    "# сохраним лучшую модель\n",
    "best_model_RF = random_search_RF.best_estimator_\n",
    "# сохраним лучшее значение метрики\n",
    "final_metrics_RF = random_search_RF.best_score_\n",
    "# вывод результатов\n",
    "print(f'Оптимальные гиперпараметры:\\n{random_search_RF.best_params_}\\n{final_metrics_RF}')"
   ]
  },
  {
   "cell_type": "code",
   "execution_count": null,
   "metadata": {},
   "outputs": [],
   "source": [
    "profit_RF = profit_model(features_RF, target_train, best_model_RF, df)\n",
    "print(f'При использовании модели прибыль увеличится на {profit_RF:.0%}')"
   ]
  },
  {
   "cell_type": "code",
   "execution_count": null,
   "metadata": {},
   "outputs": [],
   "source": [
    "# обучение модели\n",
    "random_search_RF.fit(features_RF2, target_train2)\n",
    "# сохраним лучшую модель\n",
    "best_model_RF2 = random_search_RF.best_estimator_\n",
    "# сохраним лучшее значение метрики\n",
    "final_metrics_RF2 = random_search_RF.best_score_\n",
    "# вывод результатов\n",
    "print(f'Оптимальные гиперпараметры:\\n{random_search_RF.best_params_}\\n{final_metrics_RF2}')"
   ]
  },
  {
   "cell_type": "code",
   "execution_count": null,
   "metadata": {},
   "outputs": [],
   "source": [
    "profit_RF2 = profit_model(features_RF2, target_train2, best_model_RF2, df2)\n",
    "print(f'При использовании модели прибыль увеличится на {profit_RF2:.0%}')"
   ]
  },
  {
   "cell_type": "markdown",
   "metadata": {},
   "source": [
    "##### CatBoost\n",
    "\n",
    "CatBoost — открытая программная библиотека, разработанная компанией Яндекс и реализующая уникальный патентованный алгоритм построения моделей машинного обучения, использующий одну из оригинальных схем градиентного бустинга. "
   ]
  },
  {
   "cell_type": "code",
   "execution_count": null,
   "metadata": {},
   "outputs": [],
   "source": [
    "# признаки\n",
    "X = categorical_columns + numeric_columns\n",
    "X2 = categorical_columns + numeric_columns2\n",
    "# целевой признак\n",
    "y = ['is_canceled']\n",
    "# категориальные признаки\n",
    "cat_features = categorical_columns"
   ]
  },
  {
   "cell_type": "code",
   "execution_count": null,
   "metadata": {},
   "outputs": [],
   "source": [
    "# train pool\n",
    "train_data = Pool(data=df_cb[X],\n",
    "                  label=df_cb[y],\n",
    "                  cat_features=cat_features\n",
    "                 )\n",
    "train_data2 = Pool(data=df_cb2[X2],\n",
    "                  label=df_cb2[y],\n",
    "                  cat_features=cat_features\n",
    "                 )\n",
    "\n",
    "# test pool\n",
    "test_data = Pool(data=df_test_cb[X],\n",
    "                  cat_features=cat_features\n",
    "                 )\n",
    "test_data2 = Pool(data=df_test_cb[X2],\n",
    "                  cat_features=cat_features\n",
    "                 )\n",
    "# параметры модели\n",
    "params = {'eval_metric':'AUC',\n",
    "          'loss_function': 'Logloss',\n",
    "          'random_seed':RS,\n",
    "          'learning_rate':0.14}\n",
    "# модель\n",
    "model = CatBoostClassifier(**params)"
   ]
  },
  {
   "cell_type": "code",
   "execution_count": null,
   "metadata": {},
   "outputs": [],
   "source": [
    "# параметры кросс-валидации\n",
    "cv_data = cv(\n",
    "    params = params,\n",
    "    pool = train_data,\n",
    "    fold_count=5,\n",
    "    shuffle=True,\n",
    "    partition_random_seed=RS,\n",
    "    stratified=False,\n",
    "    verbose=False\n",
    "    )"
   ]
  },
  {
   "cell_type": "code",
   "execution_count": null,
   "metadata": {},
   "outputs": [],
   "source": [
    "# кросс-валидационный датасет\n",
    "cv_data"
   ]
  },
  {
   "cell_type": "code",
   "execution_count": null,
   "metadata": {},
   "outputs": [],
   "source": [
    "# лучшее значение метрики\n",
    "final_metrics_CB = cv_data[cv_data['test-AUC-mean'] == cv_data['test-AUC-mean'].max()]['test-AUC-mean'].values[0]\n",
    "final_metrics_CB"
   ]
  },
  {
   "cell_type": "code",
   "execution_count": null,
   "metadata": {},
   "outputs": [],
   "source": [
    "n_iters = cv_data[cv_data['test-AUC-mean'] == cv_data['test-AUC-mean'].max()]['iterations'].values[0] + 1\n",
    "n_iters"
   ]
  },
  {
   "cell_type": "code",
   "execution_count": null,
   "metadata": {},
   "outputs": [],
   "source": [
    "# параметры модели с лучшей итерацией\n",
    "params = {'verbose': 100,\n",
    "          'iterations': n_iters,\n",
    "          'eval_metric': 'AUC',\n",
    "          'loss_function': 'Logloss',\n",
    "          'random_seed': RS,\n",
    "          'learning_rate': 0.14}\n",
    "# итоговая модель\n",
    "model_CB = CatBoostClassifier(**params)"
   ]
  },
  {
   "cell_type": "code",
   "execution_count": null,
   "metadata": {
    "scrolled": true
   },
   "outputs": [],
   "source": [
    "profits = []\n",
    "for train_fold_index, val_fold_index in cv_profit.split(df_cb):\n",
    "    train = df_cb.iloc[train_fold_index]\n",
    "    val = df_cb.iloc[val_fold_index]\n",
    "    t_data = Pool(data=train[X],\n",
    "                  label=train[y],\n",
    "                  cat_features=cat_features\n",
    "                 ) \n",
    "    v_data = Pool(data=val[X],\n",
    "                  cat_features=cat_features\n",
    "                 )\n",
    "    model_CB.fit(t_data)\n",
    "    predict = model_CB.predict(v_data)    \n",
    "    val['predict'] = model_CB.predict(v_data)\n",
    "    val['profit_model'] = val.apply(mod, axis=1)\n",
    "    profit = sum(val['profit_model'])\n",
    "    profits.append(profit)\n",
    "\n",
    "profits    "
   ]
  },
  {
   "cell_type": "code",
   "execution_count": null,
   "metadata": {},
   "outputs": [],
   "source": [
    "profit_CB = (sum(profits)-df_cb['profit'].sum())/ df_cb['profit'].sum()\n",
    "print(f'При использовании модели прибыль увеличится на {profit_CB:.0%}')"
   ]
  },
  {
   "cell_type": "code",
   "execution_count": null,
   "metadata": {},
   "outputs": [],
   "source": [
    "# параметры кросс-валидации\n",
    "cv_data2 = cv(\n",
    "    params = params,\n",
    "    pool = train_data2,\n",
    "    fold_count=5,\n",
    "    shuffle=True,\n",
    "    partition_random_seed=RS,\n",
    "    stratified=False,\n",
    "    verbose=False\n",
    "    )"
   ]
  },
  {
   "cell_type": "code",
   "execution_count": null,
   "metadata": {},
   "outputs": [],
   "source": [
    "# кросс-валидационный датасет\n",
    "cv_data2"
   ]
  },
  {
   "cell_type": "code",
   "execution_count": null,
   "metadata": {},
   "outputs": [],
   "source": [
    "# лучшее значение метрики\n",
    "final_metrics_CB2 = cv_data2[cv_data2['test-AUC-mean'] == cv_data2['test-AUC-mean'].max()]['test-AUC-mean'].values[0]\n",
    "final_metrics_CB2"
   ]
  },
  {
   "cell_type": "code",
   "execution_count": null,
   "metadata": {},
   "outputs": [],
   "source": [
    "# лучшая итерация\n",
    "n_iters2 = cv_data2[cv_data2['test-AUC-mean'] == cv_data2['test-AUC-mean'].max()]['iterations'].values[0] + 1\n",
    "n_iters2"
   ]
  },
  {
   "cell_type": "code",
   "execution_count": null,
   "metadata": {},
   "outputs": [],
   "source": [
    "# параметры модели с лучшей итерацией\n",
    "params = {'verbose': 100,\n",
    "          'iterations': n_iters2,\n",
    "          'eval_metric': 'AUC',\n",
    "          'loss_function': 'Logloss',\n",
    "          'random_seed': RS,\n",
    "          'learning_rate': 0.13}\n",
    "# итоговая модель\n",
    "model_CB2 = CatBoostClassifier(**params)"
   ]
  },
  {
   "cell_type": "code",
   "execution_count": null,
   "metadata": {},
   "outputs": [],
   "source": [
    "profits = []\n",
    "for train_fold_index, val_fold_index in cv_profit.split(df_cb2):\n",
    "    train = df_cb2.iloc[train_fold_index]\n",
    "    val = df_cb2.iloc[val_fold_index]\n",
    "    t_data = Pool(data=train[X2],\n",
    "                  label=train[y],\n",
    "                  cat_features=cat_features\n",
    "                 ) \n",
    "    v_data = Pool(data=val[X2],\n",
    "                  cat_features=cat_features\n",
    "                 )\n",
    "    model_CB2.fit(t_data)\n",
    "     \n",
    "    val['predict'] = model_CB2.predict(v_data)\n",
    "    val['profit_model'] = val.apply(mod, axis=1)\n",
    "    profit = sum(val['profit_model'])\n",
    "    profits.append(profit)\n",
    "\n",
    "profits"
   ]
  },
  {
   "cell_type": "code",
   "execution_count": null,
   "metadata": {},
   "outputs": [],
   "source": [
    "profit_CB2 = (sum(profits)-df_cb2['profit'].sum())/ df_cb2['profit'].sum()\n",
    "print(f'При использовании модели прибыль увеличится на {profit_CB2:.0%}')"
   ]
  },
  {
   "cell_type": "markdown",
   "metadata": {},
   "source": [
    "__Выведим сводку по моделям__"
   ]
  },
  {
   "cell_type": "code",
   "execution_count": null,
   "metadata": {},
   "outputs": [],
   "source": [
    "info=pd.DataFrame({'Модель':['Логическая регрессия 1', 'Логическая регрессия 2','Случайный лес 1', 'Случайный лес 2','CatBoost 1', 'CatBoost 2'],\n",
    "                      'AUC':[final_metrics_LR, final_metrics_LR2, final_metrics_RF, final_metrics_RF2, final_metrics_CB,\n",
    "                             final_metrics_CB2],\n",
    "                  'profit':[profit_LR, profit_LR2, profit_RF, profit_RF2, profit_CB, profit_CB2]})\n",
    "display(info)"
   ]
  },
  {
   "cell_type": "markdown",
   "metadata": {},
   "source": [
    "<div class=\"alert alert-info\">\n",
    "Интересно, что если удалить столбец id, и дубликаты, качество всех моделей ухудшидся.\n",
    "</div>"
   ]
  },
  {
   "cell_type": "markdown",
   "metadata": {},
   "source": [
    "<div class=\"alert alert-success\">\n",
    "<h2>Комментарий ревьюера v2<a class=\"tocSkip\"></a></h2>\n",
    "    \n",
    "**Отлично!** ✔️: все так, похоже, карты сошлись :) Модели действительно нашли зависимость между id и целевым признаком, так как объекты оказались упорядочены, а для AUC-ROC это особенно важно, <a href=\"https://alexanderdyakonov.wordpress.com/2017/07/28/auc-roc-%D0%BF%D0%BB%D0%BE%D1%89%D0%B0%D0%B4%D1%8C-%D0%BF%D0%BE%D0%B4-%D0%BA%D1%80%D0%B8%D0%B2%D0%BE%D0%B9-%D0%BE%D1%88%D0%B8%D0%B1%D0%BE%D0%BA/\" target=\"blank_\">здесь</a> можно почитать про это подробнее. Тогда такое высокое качество модели будет только на этом датасете. Поэтому стоит дополнительно рассчитывать еще одну метрику для уверенности. Например, если необходимо использовать несколько метрик в GS, то в параметр `scoring` можно передать список метрик, но задать в параметр `refit` основную метрику. Тогда для получения результатов нужно использовать свойство `cv_results_`, необходимые столбцы в словаре называются `mean_test_{название_метрики}`, а лучшую итерацию из него можно получить либо выбрав ту строку, где `rank_test_{название_основной_метрики}` равен единице, либо по свойству GridSearch `best_index_`\n",
    "\n",
    "А наличие дубликатов при использовании кросс-валидации обычно приводит к переобучению моделей, по этой же причине как раз нельзя использовать upsampling вместе с кросс-валидацией\n",
    "    \n",
    "Теперь же метрики получились хоть и ниже, зато более честными :)\n",
    "</div>"
   ]
  },
  {
   "cell_type": "markdown",
   "metadata": {},
   "source": [
    "<div style=\"padding: 30px 25px; border: 2px #6495ed solid\">\n",
    "\n",
    "__Вывод:__\n",
    "\n",
    "- CatBoost показывает лучшее значение метрики AUC, среди моделей, которые мы выбрали для исследования: 0.9964\n",
    "\n",
    "</div>"
   ]
  },
  {
   "cell_type": "markdown",
   "metadata": {},
   "source": [
    "<div class=\"alert alert-success\">\n",
    "<h2>Комментарий ревьюера<a class=\"tocSkip\"></a></h2>\n",
    "    \n",
    "**Отлично!** ✔️: качественная работа с моделями :)</div>"
   ]
  },
  {
   "cell_type": "markdown",
   "metadata": {},
   "source": [
    "<div class=\"alert alert-warning\">\n",
    "<h2>Комментарий ревьюера<a class=\"tocSkip\"></a></h2>\n",
    "    \n",
    "**Есть совет** ⚠️: если интересно, то еще можно узнать, как именно тот или иной признак влияет на обучение модели, для этого есть **feature_importances**, то есть важность признаков для решения модели. Для CatBoost это реализовано методом <a href=\"https://catboost.ai/en/docs/concepts/python-reference_catboostclassifier_get_feature_importance\">get_feature_importance</a>. Это поможет убедиться в корректности обучения модели, а также если важность очень мала, то такие признаки можно даже удалить, метрики, вероятно, поменяются незначительно\n",
    "\n",
    "Подробнее про **feature_importances**:\n",
    "* https://towardsdatascience.com/understanding-feature-importance-and-how-to-implement-it-in-python-ff0287b20285\n",
    "* https://medium.com/analytics-vidhya/feature-importance-explained-bfc8d874bcf\n",
    "* https://scikit-learn.org/stable/auto_examples/ensemble/plot_forest_importances.html\n",
    "* https://christophm.github.io/interpretable-ml-book/feature-importance.html\n",
    "</div>"
   ]
  },
  {
   "cell_type": "markdown",
   "metadata": {},
   "source": [
    "<div class=\"alert alert-info\">\n",
    "Круто, спасибо\n",
    "</div>"
   ]
  },
  {
   "cell_type": "markdown",
   "metadata": {},
   "source": [
    "<div class=\"alert alert-success\">\n",
    "<h2>Комментарий ревьюера v2<a class=\"tocSkip\"></a></h2>\n",
    "    \n",
    "**Отлично!** ✔️: 👍</div>"
   ]
  },
  {
   "cell_type": "markdown",
   "metadata": {},
   "source": [
    "##### Определение оптимального значения treshold для модели CatBoost\n",
    "\n",
    "Попробуем еще более оптимизировать модель. Метрика AUC позволила нам определить лучшую модель, на пороге treshold 0.5, но в большинстве случаев этот порог отличается.\n",
    "\n",
    "\n",
    "Определим оптимальный порог treshold по обучабщей выборки:\n",
    "- разделилим выборку на 10 частей\n",
    "- 9 обычающих и 1 валидационную\n",
    "- обычаем модель на 9-ти частях и делаем предсказание для оставшейся\n",
    "- используя roc_curve вычисляем fpr, tpr, treshold\n",
    "- лучшим порогом будет treshold, соответствующий максимальному значению разници tpr и fpr\n",
    "- резулитирующим будет среднее по всем валидиционным частям"
   ]
  },
  {
   "cell_type": "code",
   "execution_count": null,
   "metadata": {},
   "outputs": [],
   "source": [
    "cv = KFold(n_splits=10, random_state=RS, shuffle=True)\n",
    "\n",
    "# параметры модели с лучшей итерацией\n",
    "params = {'verbose': 100,\n",
    "          'iterations': n_iters,\n",
    "          'eval_metric': 'AUC',\n",
    "          'loss_function': 'Logloss',\n",
    "          'random_seed': RS,\n",
    "          'learning_rate': 0.14}\n",
    "# итоговая модель\n",
    "model = CatBoostClassifier(**params)"
   ]
  },
  {
   "cell_type": "code",
   "execution_count": null,
   "metadata": {
    "scrolled": true
   },
   "outputs": [],
   "source": [
    "# список значение treshold \n",
    "scores_treshold = []\n",
    "# разделилим данные на выборки\n",
    "for train_fold_index, val_fold_index in cv.split(df_cb):\n",
    "    features_train_fold, target_train_fold = df_cb[X].iloc[train_fold_index], df_cb[y].iloc[train_fold_index]\n",
    "    features_val_fold, target_val_fold = df_cb[X].iloc[val_fold_index], df_cb[y].iloc[val_fold_index]\n",
    "    # train pool\n",
    "    train = Pool(data=features_train_fold,\n",
    "                label=target_train_fold,\n",
    "                cat_features=cat_features\n",
    "                 )\n",
    "    # test pool\n",
    "    test = Pool(data=features_val_fold,\n",
    "                cat_features=cat_features\n",
    "                )\n",
    "    # обучаем модель\n",
    "    model.fit(train)\n",
    "    # predict proba\n",
    "    prob = model.predict_proba(test)\n",
    "    prob = prob[:, 1]\n",
    "    # fpr, tpr, treshold\n",
    "    fpr, tpr, treshold = roc_curve(target_val_fold, prob)\n",
    "    \n",
    "    df_treshold = pd.DataFrame({'fpr': fpr,\n",
    "                                'tpr': tpr,\n",
    "                                'treshold': treshold})\n",
    "    # разница между tpr и fpr\n",
    "    df_treshold['rez'] = df_treshold['tpr']-df_treshold['fpr']\n",
    "    \n",
    "    best_treshold = df_treshold.sort_values(by='rez', ascending=False)['treshold'].values[0]\n",
    "    # лучший порог для текущей выборки\n",
    "    scores_treshold.append(best_treshold)\n",
    "    \n",
    "scores_treshold    "
   ]
  },
  {
   "cell_type": "code",
   "execution_count": null,
   "metadata": {},
   "outputs": [],
   "source": [
    "# результирующее значение порога по обучающим данным\n",
    "best_treshold = np.mean(scores_treshold)\n",
    "best_treshold"
   ]
  },
  {
   "cell_type": "markdown",
   "metadata": {},
   "source": [
    "__Обучим модель на всех обучающих данных__"
   ]
  },
  {
   "cell_type": "code",
   "execution_count": null,
   "metadata": {},
   "outputs": [],
   "source": [
    "model.fit(train_data)"
   ]
  },
  {
   "cell_type": "markdown",
   "metadata": {},
   "source": [
    "<div style=\"padding: 30px 25px; border: 2px #6495ed solid\">\n",
    "\n",
    "__Вывод:__\n",
    "\n",
    "- Мы выяснили оптимальный прог для наших данных: 0.4, его так же следует проверить на тестовых данных, даст ли нам изменение порога прирост в точности модели.\n",
    "\n",
    "</div>"
   ]
  },
  {
   "cell_type": "markdown",
   "metadata": {},
   "source": [
    "<div class=\"alert alert-success\">\n",
    "<h2>Комментарий ревьюера<a class=\"tocSkip\"></a></h2>\n",
    "    \n",
    "**Отлично!** ✔️: 👍</div>"
   ]
  },
  {
   "cell_type": "markdown",
   "metadata": {},
   "source": [
    "#### Проверка модели CatBoost на тестовой выборке"
   ]
  },
  {
   "cell_type": "code",
   "execution_count": null,
   "metadata": {},
   "outputs": [],
   "source": [
    "# predict proba на тестовых данных\n",
    "prob = model.predict_proba(test_data)\n",
    "prob = prob[:, 1]\n",
    "# auc\n",
    "roc_auc = roc_auc_score(target_test, prob)\n",
    "print('CatBoost: ROC AUC=%.4f' % (roc_auc))"
   ]
  },
  {
   "cell_type": "code",
   "execution_count": null,
   "metadata": {},
   "outputs": [],
   "source": [
    "# визуализируем roc_auc\n",
    "fpr, tpr, treshold = roc_curve(df_test_cb[y], prob)\n",
    "roc_auc = auc(fpr, tpr)\n",
    "\n",
    "plt.plot(fpr, tpr, color='darkorange',\n",
    "         label='ROC кривая (area = %0.2f)' % roc_auc)\n",
    "plt.plot([0, 1], [0, 1], color='navy', linestyle='--')\n",
    "plt.xlim([0.0, 1.0])\n",
    "plt.ylim([0.0, 1.05])\n",
    "plt.xlabel('False Positive Rate')\n",
    "plt.ylabel('True Positive Rate')\n",
    "plt.title('ROC-кривая ')\n",
    "plt.legend(loc=\"lower right\")\n",
    "plt.show()"
   ]
  },
  {
   "cell_type": "markdown",
   "metadata": {},
   "source": [
    "__Посмотрим, даст ли это прирост новый порог, посчитаем количество ошибочных ответов на дефолтном и лучшем пороге__"
   ]
  },
  {
   "cell_type": "code",
   "execution_count": null,
   "metadata": {},
   "outputs": [],
   "source": [
    "info = pd.DataFrame(df_test_cb[y])\n",
    "info['prob'] = prob\n",
    "# predict на пороге 0.5\n",
    "info['predict_05'] = model.predict(test_data)\n",
    "# predict на оптимальном пороге ~ 0.4\n",
    "info['predict_04'] = info['prob'].apply(lambda x: (x>best_treshold)*1)\n",
    "info"
   ]
  },
  {
   "cell_type": "code",
   "execution_count": null,
   "metadata": {},
   "outputs": [],
   "source": [
    "# количество ошибок на пороге 0.5\n",
    "error_05 = len(info[info['is_canceled'] != info['predict_05']])\n",
    "error_05"
   ]
  },
  {
   "cell_type": "code",
   "execution_count": null,
   "metadata": {},
   "outputs": [],
   "source": [
    "# количество ошибок на пороге 0.4\n",
    "error_04 = len(info[info['is_canceled'] != info['predict_04']])\n",
    "error_04"
   ]
  },
  {
   "cell_type": "code",
   "execution_count": null,
   "metadata": {},
   "outputs": [],
   "source": [
    "# процент сокращения неверных прежсказаний\n",
    "(error_05 - error_04)/error_05"
   ]
  },
  {
   "cell_type": "markdown",
   "metadata": {},
   "source": [
    "<div style=\"padding: 30px 25px; border: 2px #6495ed solid\">\n",
    "\n",
    "__Вывод:__\n",
    "\n",
    "- ROC AUC на тестовых данных равен 0.9989\n",
    "- подбор оптипального порога сократил количество неправильных ответов на 19%    \n",
    "\n",
    "</div>"
   ]
  },
  {
   "cell_type": "markdown",
   "metadata": {},
   "source": [
    "#### Рассчет прибыли, которую принесёт выбранная модель за год.\n",
    "\n",
    "Расчитаем прибыль после внедрения системы, которая предсказывает отказ от брони."
   ]
  },
  {
   "cell_type": "code",
   "execution_count": null,
   "metadata": {},
   "outputs": [],
   "source": [
    "df_test_info['prob'] = prob\n",
    "df_test_info['predict_04'] = df_test_info['prob'].apply(lambda x: (x>best_treshold)*1)"
   ]
  },
  {
   "cell_type": "code",
   "execution_count": null,
   "metadata": {},
   "outputs": [],
   "source": [
    "df_test_info"
   ]
  },
  {
   "cell_type": "code",
   "execution_count": null,
   "metadata": {},
   "outputs": [],
   "source": [
    "# функция расчета прибыли с депозитом\n",
    "def profit_mod(x):\n",
    "    if x['predict_04']==1 and x['is_canceled']==1:\n",
    "        # убытки отеля в случае отмены брони номера и верного предсказания модоли\n",
    "        return (x['price_night']*x['coefficient']+x['service'])*(-0.2)\n",
    "    elif x['predict_04']==0 and x['is_canceled']==1:\n",
    "        # убытки отеля в случае отмены брони номера и неверного предсказания модоли\n",
    "        return (x['price_night']*x['coefficient']+x['service'])*(-1)\n",
    "    elif x['total_nights'] == 1:\n",
    "        # прибыль отеля в случае бронирования номера на одну ночь\n",
    "        return x['price_night']*x['coefficient'] - x['service']\n",
    "    # прибыль отеля в случае бронирования номера на несколько ночей(уборка раз в 2 дня)\n",
    "    return x['price_night']*x['coefficient']*x['total_nights'] - x['service']*(x['total_nights']//2 +1)\n",
    "    "
   ]
  },
  {
   "cell_type": "code",
   "execution_count": null,
   "metadata": {},
   "outputs": [],
   "source": [
    "df_test_info['profit_mod'] = df_test_info.apply(profit_mod, axis=1)\n",
    "df_test_info"
   ]
  },
  {
   "cell_type": "code",
   "execution_count": null,
   "metadata": {},
   "outputs": [],
   "source": [
    "# рассчитаем прибыль отеля после внедрения депозитов за тестовый период\n",
    "test_profit_mod = df_test_info['profit_mod'].sum()\n",
    "test_profit_mod"
   ]
  },
  {
   "cell_type": "code",
   "execution_count": null,
   "metadata": {},
   "outputs": [],
   "source": [
    "# прибыль после внедрения модели\n",
    "profit = df_test_info['profit_mod'].sum()-df_test_info['profit'].sum()\n",
    "profit"
   ]
  },
  {
   "cell_type": "markdown",
   "metadata": {},
   "source": [
    "__Рассчет прибыли за год__"
   ]
  },
  {
   "cell_type": "code",
   "execution_count": null,
   "metadata": {},
   "outputs": [],
   "source": [
    "# количество недель в тестовом периоде\n",
    "df_test['arrival_date_week_number'].max()"
   ]
  },
  {
   "cell_type": "code",
   "execution_count": null,
   "metadata": {},
   "outputs": [],
   "source": [
    "# рассчет прибыли за год, с учетом того, что с среднем, в году 52 недели\n",
    "profit*(52/35)"
   ]
  },
  {
   "cell_type": "markdown",
   "metadata": {},
   "source": [
    "<div style=\"padding: 30px 25px; border: 2px #6495ed solid\">\n",
    "\n",
    "__Вывод:__\n",
    "\n",
    "- после внедрения модели прибыль отелей повысилась\n",
    "- прибыль после внедрения модели увеличилась на 13773504 за тестовый период\n",
    "- прибыль после внедрения модели увеличилась на 20463491 за год    \n",
    "\n",
    "</div>"
   ]
  },
  {
   "cell_type": "markdown",
   "metadata": {},
   "source": [
    "<div class=\"alert alert-success\">\n",
    "<h2>Комментарий ревьюера<a class=\"tocSkip\"></a></h2>\n",
    "    \n",
    "**Отлично!** ✔️: прибыль после внедрения также рассчитана верно!</div>"
   ]
  },
  {
   "cell_type": "markdown",
   "metadata": {},
   "source": [
    "### Опишим портрет «ненадёжного» клиента\n",
    "\n",
    "Рассотрим подробнее распределение целевого признака стрети 5 характеристик, которые облают максимальной кореляцией с фактом отмены бронирования номера и сети отелей «Как в гостях»"
   ]
  },
  {
   "cell_type": "code",
   "execution_count": null,
   "metadata": {},
   "outputs": [],
   "source": [
    "# загрузин необработанные данные\n",
    "df = pd.read_csv('/datasets/hotel_train.csv')"
   ]
  },
  {
   "cell_type": "code",
   "execution_count": null,
   "metadata": {},
   "outputs": [],
   "source": [
    "# топ 5 признаков с наибольшей кореляцией с целевым\n",
    "cor[2:7]"
   ]
  },
  {
   "cell_type": "markdown",
   "metadata": {},
   "source": [
    "#### Влияние country — гражданство постояльца на факт отмены бронирования"
   ]
  },
  {
   "cell_type": "code",
   "execution_count": null,
   "metadata": {},
   "outputs": [],
   "source": [
    "# сгруппируем данные\n",
    "t = df.groupby('country')[y].agg(['count','mean'])\n",
    "t.columns = ['_'.join(col).strip() for col in t.columns.values]\n",
    "t = t.reset_index()\n",
    "t.plot(y='is_canceled_count', kind='hist', bins=30, grid=True)\n",
    "plt.show()"
   ]
  },
  {
   "cell_type": "code",
   "execution_count": null,
   "metadata": {},
   "outputs": [],
   "source": [
    "# отфильтруем данные по порогу, вычисленному в п. 2.3.1\n",
    "t = t[t['is_canceled_count']>357]\n",
    "# выведем топ 5 по проценту отказа от бронирования\n",
    "t.sort_values(by='is_canceled_mean', ascending=False).head()"
   ]
  },
  {
   "cell_type": "markdown",
   "metadata": {},
   "source": [
    "#### Влияние lead_time — количество дней между датой бронирования и датой прибытия на факт отмены бронирования\n"
   ]
  },
  {
   "cell_type": "code",
   "execution_count": null,
   "metadata": {},
   "outputs": [],
   "source": [
    "# разобьем данные на 10 групп равные по количесву записей\n",
    "df['lead_time_group'] = pd.qcut(df['lead_time'],10)"
   ]
  },
  {
   "cell_type": "code",
   "execution_count": null,
   "metadata": {
    "scrolled": true
   },
   "outputs": [],
   "source": [
    "# сгруппируем данные\n",
    "t = df.groupby('lead_time_group',dropna=False)[y].agg(['count','mean'])\n",
    "t.columns = ['_'.join(col).strip() for col in t.columns.values]\n",
    "t"
   ]
  },
  {
   "cell_type": "code",
   "execution_count": null,
   "metadata": {
    "scrolled": true
   },
   "outputs": [],
   "source": [
    "# визуализируем данные\n",
    "t.plot(y='is_canceled_mean', grid=True)\n",
    "plt.show()"
   ]
  },
  {
   "cell_type": "markdown",
   "metadata": {},
   "source": [
    "#### Влияние total_of_special_requests — количество специальных отметок на факт отмены бронирования\n"
   ]
  },
  {
   "cell_type": "code",
   "execution_count": null,
   "metadata": {},
   "outputs": [],
   "source": [
    "# сгруппируем данные\n",
    "t = df.groupby('total_of_special_requests')[y].agg(['count','mean'])\n",
    "t.columns = ['_'.join(col).strip() for col in t.columns.values]\n",
    "t"
   ]
  },
  {
   "cell_type": "code",
   "execution_count": null,
   "metadata": {},
   "outputs": [],
   "source": [
    "# визуализируем данные\n",
    "t.plot(y='is_canceled_mean', grid=True)\n",
    "plt.show()"
   ]
  },
  {
   "cell_type": "markdown",
   "metadata": {},
   "source": [
    "#### Влияние eprevious_cancellations — количество отменённых заказов у клиента на факт отмены бронирования"
   ]
  },
  {
   "cell_type": "code",
   "execution_count": null,
   "metadata": {},
   "outputs": [],
   "source": [
    "# сгруппируем данные\n",
    "t = df.groupby('previous_cancellations')[y].agg(['count','mean'])\n",
    "t.columns = ['_'.join(col).strip() for col in t.columns.values]\n",
    "t"
   ]
  },
  {
   "cell_type": "markdown",
   "metadata": {},
   "source": [
    "__По записям больше 1 отмененных заказов, не достаточно информации, но сам факт отмены уже явно влияет на склонность отмены бронирования__"
   ]
  },
  {
   "cell_type": "markdown",
   "metadata": {},
   "source": [
    "#### Влияние distribution_channel — канал дистрибуции заказа на факт отмены бронирования"
   ]
  },
  {
   "cell_type": "code",
   "execution_count": null,
   "metadata": {},
   "outputs": [],
   "source": [
    "# сгруппируем данные\n",
    "t = df.groupby('distribution_channel')[y].agg(['count','mean'])\n",
    "t.columns = ['_'.join(col).strip() for col in t.columns.values]\n",
    "t = t.reset_index()\n",
    "t"
   ]
  },
  {
   "cell_type": "markdown",
   "metadata": {},
   "source": [
    "#### Влияние required_car_parking_spaces — необходимость места для автомобиля на факт отмены бронирования"
   ]
  },
  {
   "cell_type": "code",
   "execution_count": null,
   "metadata": {},
   "outputs": [],
   "source": [
    "# сгруппируем данные\n",
    "t = df.groupby('required_car_parking_spaces')[y].agg(['count','mean'])\n",
    "t.columns = ['_'.join(col).strip() for col in t.columns.values]\n",
    "t = t.reset_index()\n",
    "t"
   ]
  },
  {
   "cell_type": "markdown",
   "metadata": {},
   "source": [
    "### Худший сценарий\n",
    "\n",
    "Предположим что 50% людей, которым предложили внести депозит, отказались воовще оформить заказ"
   ]
  },
  {
   "cell_type": "code",
   "execution_count": null,
   "metadata": {},
   "outputs": [],
   "source": [
    "df_test_info"
   ]
  },
  {
   "cell_type": "code",
   "execution_count": null,
   "metadata": {},
   "outputs": [],
   "source": [
    "# модель предсказала что не откажется\n",
    "df_test_info_zero = df_test_info[df_test_info['predict_04']==0]\n",
    "# модель предсказала что откажется от брони\n",
    "df_test_info_one = df_test_info[df_test_info['predict_04']==1]"
   ]
  },
  {
   "cell_type": "code",
   "execution_count": null,
   "metadata": {},
   "outputs": [],
   "source": [
    "import random\n",
    "from random import randint"
   ]
  },
  {
   "cell_type": "code",
   "execution_count": null,
   "metadata": {},
   "outputs": [],
   "source": [
    "numbers = []\n",
    "for i in range(len(df_test_info_one)):\n",
    "    numbers.append(randint(0, 1))"
   ]
  },
  {
   "cell_type": "code",
   "execution_count": null,
   "metadata": {},
   "outputs": [],
   "source": [
    "df_test_info_one['random'] = numbers"
   ]
  },
  {
   "cell_type": "code",
   "execution_count": null,
   "metadata": {},
   "outputs": [],
   "source": [
    "# процент отказавшихся от услуг\n",
    "df_test_info_one['random'].sum()/len(df_test_info_one)"
   ]
  },
  {
   "cell_type": "code",
   "execution_count": null,
   "metadata": {},
   "outputs": [],
   "source": [
    "df_test_info_one['profit_itog']=df_test_info_one['profit_mod']*df_test_info_one['random']"
   ]
  },
  {
   "cell_type": "code",
   "execution_count": null,
   "metadata": {},
   "outputs": [],
   "source": [
    "# Рассчет прибыли после 50% отказа\n",
    "df_test_info_zero['profit_mod'].sum()+df_test_info_one['profit_itog'].sum()\n"
   ]
  },
  {
   "cell_type": "markdown",
   "metadata": {},
   "source": [
    "__Тк модель практически всегда предсказывает верно возможность отказа от брони, в случае отказа от услуг изза депозита, прибыль отеля возрастет.__"
   ]
  },
  {
   "cell_type": "markdown",
   "metadata": {},
   "source": [
    "<div style=\"padding: 30px 25px; border: 2px #6495ed solid\">\n",
    "\n",
    "__Вывод:__\n",
    "\n",
    "На факт отмены бронирования влияют следующие признаки:\n",
    "- Гражданство постояльца: наибольший процент отказа от бронирования зарегистрирован у Португальцев 58%\n",
    "- Количество дней между датой бронирования и датой прибытия: чем больше дней до заезда, тем выше возможность заказчика отменить бронь\n",
    "- Чем больше количество специальных отметок, тем ниже возможность отмены\n",
    "- Количество отменённых заказов: если ранее клиент уже отменял заказ, то возможность повторной отмены возрастает\n",
    "- Необходимость парковочного места снижает возможность отмены \n",
    "\n",
    "</div>"
   ]
  },
  {
   "cell_type": "markdown",
   "metadata": {},
   "source": [
    "<div class=\"alert alert-success\">\n",
    "<h2>Комментарий ревьюера<a class=\"tocSkip\"></a></h2>\n",
    "    \n",
    "**Отлично!** ✔️: вполне наглядный получился портрет :)</div>"
   ]
  },
  {
   "cell_type": "markdown",
   "metadata": {},
   "source": [
    "\n",
    "<div style=\"padding: 30px 25px; border: 2px #6495ed solid\">\n",
    "\n",
    "### Общий вывод\n",
    "    \n",
    "   - Модель обученная но алгоритме CatBoost обладает крайне высоким показателем ROC AUC=0.9989 на тестовых данных\n",
    "   - При использовонии оптимального порога дополнительно сокращается 19% ложно отрицательных ответов\n",
    "   - Внедрение модели увеличит прибыль сети отелей «Как в гостях» на __14024016__ за тестовый период, что окупает стоимость разработки системы прогнозирования отказа от бронирования\n",
    "   - Прибыль сети отелей «Как в гостях» за год, благодаря системы прогнозирования, увеличится на __20835681__ и составит __46606936__\n",
    "    \n",
    " __Рекомендации:__\n",
    "   - Не известен процент потанциальных клиентов, которые будут соглашаться на депозит при бронировании, что потанчиально может снизить количество привлекаемых клиентов. По этой причину рекомендую ввести ситему депозитов на части лиентов, и после тестового переода провести анализ, что поспособствует более точному рассчету предполагаемой прибыли системы прогнозирования отказа от бронирования.\n",
    "    \n",
    "    При 50% отказе от услуг, при предложении внести депозит, прибыль отеля за тестовый периуд увеличится и составит __47993580__\n",
    "</div>"
   ]
  },
  {
   "cell_type": "markdown",
   "metadata": {},
   "source": [
    "<div class=\"alert alert-warning\">\n",
    "<h2>Комментарий ревьюера<a class=\"tocSkip\"></a></h2>\n",
    "    \n",
    "**Есть совет** ⚠️: ты абсолютно правильно отмечаешь, что депозит для «надежных» клиентов может их отпугнуть, тогда стоит попробовать компенсировать экспериментом. Для этого можно попробовать проверить такой сценарий, назовем его худшим: пусть половина случайных клиентов из тех, с кого модель предложит взять депозит(вне зависимости от факта отмены), откажутся от услуг. Если сможешь расчитать выручку в таком случае, будет очень наглядно, стоит ли внедрять модель</div>"
   ]
  },
  {
   "cell_type": "markdown",
   "metadata": {},
   "source": [
    "<div class=\"alert alert-info\">\n",
    "Очень интересный результат\n",
    "</div>"
   ]
  },
  {
   "cell_type": "markdown",
   "metadata": {},
   "source": [
    "<div class=\"alert alert-success\">\n",
    "<h2>Комментарий ревьюера v2<a class=\"tocSkip\"></a></h2>\n",
    "    \n",
    "**Отлично!** ✔️: 👍</div>"
   ]
  },
  {
   "cell_type": "markdown",
   "metadata": {},
   "source": [
    "<div style=\"padding: 20px 25px; border: 2px #6495ed solid\">\n",
    "    \n",
    "<h2 style=\"color: #87187D\">Итоговый комментарий ревьюера<a class=\"tocSkip\"></a></h2>\n",
    "\n",
    "Видно, что ты приложил много усилий и хорошо освоил материалы модуля, спасибо за проект!\n",
    "\n",
    "Осталось аргументировать свой выбор метрики: подходящих метрик тут может быть несколько, но по сути основная задача с точки зрения ML — это минимизировать количество ложноотрицательных ответов. Но если разобраться, то и бизнес-метрика вполне может быть основной метрикой для оценки моделей, здорово, если у тебя получится это реализовать;\n",
    "\n",
    "Остальные комментарии можно найти в проекте. Готов ответить на любые вопросы :)\n",
    "\n",
    "<b>Жду доработанный проект на повторное ревью! Удачи!</b>\n",
    "        \n",
    "</div>"
   ]
  },
  {
   "cell_type": "markdown",
   "metadata": {},
   "source": [
    "<div style=\"padding: 20px 25px; border: 2px #6495ed solid\">\n",
    "    \n",
    "<h2 style=\"color: #87187D\">Итоговый комментарий ревьюера v2<a class=\"tocSkip\"></a></h2>\n",
    "\n",
    "Вот теперь другое дело :)\n",
    "\n",
    "А раз критичное замечание исправлено, то теперь я могу принять твой проект\n",
    "\n",
    "<b>Удачи в следующем модуле!</b>\n",
    "        \n",
    "</div>"
   ]
  },
  {
   "cell_type": "code",
   "execution_count": null,
   "metadata": {},
   "outputs": [],
   "source": []
  }
 ],
 "metadata": {
  "ExecuteTimeLog": [
   {
    "duration": 1694,
    "start_time": "2023-01-23T08:45:35.976Z"
   },
   {
    "duration": 791,
    "start_time": "2023-01-23T08:45:38.059Z"
   },
   {
    "duration": 43,
    "start_time": "2023-01-23T08:51:07.127Z"
   },
   {
    "duration": 323,
    "start_time": "2023-01-23T08:56:10.432Z"
   },
   {
    "duration": 78,
    "start_time": "2023-01-23T08:57:41.870Z"
   },
   {
    "duration": 85,
    "start_time": "2023-01-23T08:59:10.058Z"
   },
   {
    "duration": 406,
    "start_time": "2023-01-23T09:08:25.131Z"
   },
   {
    "duration": 183,
    "start_time": "2023-01-23T09:09:51.331Z"
   },
   {
    "duration": 123,
    "start_time": "2023-01-23T09:10:27.866Z"
   },
   {
    "duration": 105,
    "start_time": "2023-01-23T09:10:46.099Z"
   },
   {
    "duration": 138,
    "start_time": "2023-01-23T09:11:04.030Z"
   },
   {
    "duration": 26,
    "start_time": "2023-01-23T09:11:36.548Z"
   },
   {
    "duration": 20,
    "start_time": "2023-01-23T09:11:46.009Z"
   },
   {
    "duration": 21,
    "start_time": "2023-01-23T09:11:52.364Z"
   },
   {
    "duration": 16,
    "start_time": "2023-01-23T09:12:48.882Z"
   },
   {
    "duration": 18,
    "start_time": "2023-01-23T09:12:54.829Z"
   },
   {
    "duration": 26,
    "start_time": "2023-01-23T09:14:01.549Z"
   },
   {
    "duration": 20,
    "start_time": "2023-01-23T09:14:19.582Z"
   },
   {
    "duration": 17,
    "start_time": "2023-01-23T09:15:48.716Z"
   },
   {
    "duration": 44,
    "start_time": "2023-01-23T09:23:35.173Z"
   },
   {
    "duration": 45,
    "start_time": "2023-01-23T09:24:08.609Z"
   },
   {
    "duration": 44,
    "start_time": "2023-01-23T09:25:20.073Z"
   },
   {
    "duration": 129,
    "start_time": "2023-01-23T09:32:01.856Z"
   },
   {
    "duration": 10,
    "start_time": "2023-01-23T09:32:55.602Z"
   },
   {
    "duration": 231,
    "start_time": "2023-01-23T09:33:01.352Z"
   },
   {
    "duration": 44,
    "start_time": "2023-01-23T09:34:33.568Z"
   },
   {
    "duration": 30,
    "start_time": "2023-01-23T09:36:34.085Z"
   },
   {
    "duration": 27,
    "start_time": "2023-01-23T09:36:47.366Z"
   },
   {
    "duration": 24,
    "start_time": "2023-01-23T09:36:55.386Z"
   },
   {
    "duration": 29,
    "start_time": "2023-01-23T09:37:32.721Z"
   },
   {
    "duration": 14,
    "start_time": "2023-01-23T09:37:44.768Z"
   },
   {
    "duration": 10,
    "start_time": "2023-01-23T09:37:53.998Z"
   },
   {
    "duration": 10,
    "start_time": "2023-01-23T09:38:00.670Z"
   },
   {
    "duration": 3,
    "start_time": "2023-01-23T09:38:05.770Z"
   },
   {
    "duration": 283,
    "start_time": "2023-01-23T09:38:05.779Z"
   },
   {
    "duration": 59,
    "start_time": "2023-01-23T09:38:06.064Z"
   },
   {
    "duration": 95,
    "start_time": "2023-01-23T09:38:06.125Z"
   },
   {
    "duration": 59,
    "start_time": "2023-01-23T09:38:06.222Z"
   },
   {
    "duration": 125,
    "start_time": "2023-01-23T09:38:06.285Z"
   },
   {
    "duration": 209,
    "start_time": "2023-01-23T09:38:06.412Z"
   },
   {
    "duration": 150,
    "start_time": "2023-01-23T09:38:06.622Z"
   },
   {
    "duration": 12,
    "start_time": "2023-01-23T09:38:11.970Z"
   },
   {
    "duration": 16,
    "start_time": "2023-01-23T09:38:20.232Z"
   },
   {
    "duration": 12,
    "start_time": "2023-01-23T09:40:25.733Z"
   },
   {
    "duration": 11,
    "start_time": "2023-01-23T09:40:51.567Z"
   },
   {
    "duration": 10,
    "start_time": "2023-01-23T09:40:59.704Z"
   },
   {
    "duration": 4,
    "start_time": "2023-01-23T09:41:10.584Z"
   },
   {
    "duration": 241,
    "start_time": "2023-01-23T09:41:10.590Z"
   },
   {
    "duration": 49,
    "start_time": "2023-01-23T09:41:10.833Z"
   },
   {
    "duration": 72,
    "start_time": "2023-01-23T09:41:10.884Z"
   },
   {
    "duration": 63,
    "start_time": "2023-01-23T09:41:10.958Z"
   },
   {
    "duration": 94,
    "start_time": "2023-01-23T09:41:11.023Z"
   },
   {
    "duration": 150,
    "start_time": "2023-01-23T09:41:11.120Z"
   },
   {
    "duration": 155,
    "start_time": "2023-01-23T09:41:11.272Z"
   },
   {
    "duration": 10,
    "start_time": "2023-01-23T09:41:18.061Z"
   },
   {
    "duration": 159,
    "start_time": "2023-01-23T09:41:20.468Z"
   },
   {
    "duration": 14,
    "start_time": "2023-01-23T09:42:17.891Z"
   },
   {
    "duration": 15,
    "start_time": "2023-01-23T09:42:22.598Z"
   },
   {
    "duration": 9,
    "start_time": "2023-01-23T09:43:50.392Z"
   },
   {
    "duration": 135,
    "start_time": "2023-01-23T09:45:17.813Z"
   },
   {
    "duration": 26,
    "start_time": "2023-01-23T09:46:04.623Z"
   },
   {
    "duration": 23,
    "start_time": "2023-01-23T09:46:12.132Z"
   },
   {
    "duration": 131,
    "start_time": "2023-01-23T09:46:53.738Z"
   },
   {
    "duration": 22,
    "start_time": "2023-01-23T09:47:28.584Z"
   },
   {
    "duration": 10,
    "start_time": "2023-01-23T09:48:18.931Z"
   },
   {
    "duration": 143,
    "start_time": "2023-01-23T09:50:00.893Z"
   },
   {
    "duration": 147,
    "start_time": "2023-01-23T09:50:05.577Z"
   },
   {
    "duration": 18,
    "start_time": "2023-01-23T09:51:12.447Z"
   },
   {
    "duration": 23,
    "start_time": "2023-01-23T09:51:25.503Z"
   },
   {
    "duration": 10,
    "start_time": "2023-01-23T09:52:03.227Z"
   },
   {
    "duration": 11,
    "start_time": "2023-01-23T09:52:10.693Z"
   },
   {
    "duration": 156,
    "start_time": "2023-01-23T09:53:43.392Z"
   },
   {
    "duration": 20,
    "start_time": "2023-01-23T09:54:13.373Z"
   },
   {
    "duration": 12,
    "start_time": "2023-01-23T09:54:38.324Z"
   },
   {
    "duration": 134,
    "start_time": "2023-01-23T09:55:35.107Z"
   },
   {
    "duration": 24,
    "start_time": "2023-01-23T09:56:17.045Z"
   },
   {
    "duration": 47,
    "start_time": "2023-01-23T09:56:26.301Z"
   },
   {
    "duration": 143,
    "start_time": "2023-01-23T09:57:00.340Z"
   },
   {
    "duration": 9,
    "start_time": "2023-01-23T09:57:28.822Z"
   },
   {
    "duration": 4,
    "start_time": "2023-01-23T10:00:05.499Z"
   },
   {
    "duration": 21,
    "start_time": "2023-01-23T10:13:25.709Z"
   },
   {
    "duration": 11,
    "start_time": "2023-01-23T10:14:11.014Z"
   },
   {
    "duration": 5,
    "start_time": "2023-01-23T10:14:15.986Z"
   },
   {
    "duration": 26,
    "start_time": "2023-01-23T10:14:37.535Z"
   },
   {
    "duration": 5,
    "start_time": "2023-01-23T10:16:33.472Z"
   },
   {
    "duration": 3,
    "start_time": "2023-01-23T10:19:45.834Z"
   },
   {
    "duration": 8,
    "start_time": "2023-01-23T10:26:04.259Z"
   },
   {
    "duration": 932,
    "start_time": "2023-01-23T10:27:30.563Z"
   },
   {
    "duration": 17,
    "start_time": "2023-01-23T10:27:41.682Z"
   },
   {
    "duration": 5,
    "start_time": "2023-01-23T10:28:10.193Z"
   },
   {
    "duration": 5,
    "start_time": "2023-01-23T10:31:38.830Z"
   },
   {
    "duration": 7,
    "start_time": "2023-01-23T10:31:43.760Z"
   },
   {
    "duration": 170,
    "start_time": "2023-01-23T10:40:06.348Z"
   },
   {
    "duration": 7,
    "start_time": "2023-01-23T10:40:17.122Z"
   },
   {
    "duration": 11,
    "start_time": "2023-01-23T10:40:53.708Z"
   },
   {
    "duration": 10,
    "start_time": "2023-01-23T10:40:57.372Z"
   },
   {
    "duration": 6,
    "start_time": "2023-01-23T10:41:11.775Z"
   },
   {
    "duration": 4,
    "start_time": "2023-01-23T10:47:47.951Z"
   },
   {
    "duration": 92,
    "start_time": "2023-01-23T10:47:54.688Z"
   },
   {
    "duration": 22,
    "start_time": "2023-01-23T10:52:16.717Z"
   },
   {
    "duration": 33,
    "start_time": "2023-01-23T10:52:26.501Z"
   },
   {
    "duration": 19,
    "start_time": "2023-01-23T10:52:35.625Z"
   },
   {
    "duration": 29,
    "start_time": "2023-01-23T10:53:04.066Z"
   },
   {
    "duration": 5,
    "start_time": "2023-01-23T10:59:02.265Z"
   },
   {
    "duration": 6,
    "start_time": "2023-01-23T10:59:25.558Z"
   },
   {
    "duration": 7,
    "start_time": "2023-01-23T11:00:02.867Z"
   },
   {
    "duration": 3,
    "start_time": "2023-01-23T11:03:18.854Z"
   },
   {
    "duration": 16,
    "start_time": "2023-01-23T11:09:30.711Z"
   },
   {
    "duration": 26,
    "start_time": "2023-01-23T11:09:35.952Z"
   },
   {
    "duration": 12,
    "start_time": "2023-01-23T11:16:20.378Z"
   },
   {
    "duration": 4,
    "start_time": "2023-01-23T11:16:23.854Z"
   },
   {
    "duration": 592,
    "start_time": "2023-01-23T11:16:24.418Z"
   },
   {
    "duration": 25,
    "start_time": "2023-01-23T11:16:32.755Z"
   },
   {
    "duration": 16,
    "start_time": "2023-01-23T11:17:25.487Z"
   },
   {
    "duration": 4,
    "start_time": "2023-01-23T11:17:34.654Z"
   },
   {
    "duration": 587,
    "start_time": "2023-01-23T11:17:35.654Z"
   },
   {
    "duration": 13,
    "start_time": "2023-01-23T11:17:36.970Z"
   },
   {
    "duration": 3,
    "start_time": "2023-01-23T11:18:08.603Z"
   },
   {
    "duration": 603,
    "start_time": "2023-01-23T11:18:09.224Z"
   },
   {
    "duration": 10,
    "start_time": "2023-01-23T11:18:09.829Z"
   },
   {
    "duration": 4,
    "start_time": "2023-01-23T11:18:50.419Z"
   },
   {
    "duration": 566,
    "start_time": "2023-01-23T11:18:50.934Z"
   },
   {
    "duration": 11,
    "start_time": "2023-01-23T11:18:52.020Z"
   },
   {
    "duration": 13,
    "start_time": "2023-01-23T11:19:48.717Z"
   },
   {
    "duration": 4,
    "start_time": "2023-01-23T11:20:04.755Z"
   },
   {
    "duration": 616,
    "start_time": "2023-01-23T11:20:05.358Z"
   },
   {
    "duration": 13,
    "start_time": "2023-01-23T11:20:07.093Z"
   },
   {
    "duration": 7,
    "start_time": "2023-01-23T11:22:11.080Z"
   },
   {
    "duration": 65,
    "start_time": "2023-01-23T12:28:15.249Z"
   },
   {
    "duration": 65,
    "start_time": "2023-01-23T12:28:54.974Z"
   },
   {
    "duration": 3110,
    "start_time": "2023-01-23T12:34:03.186Z"
   },
   {
    "duration": 12,
    "start_time": "2023-01-23T12:34:41.332Z"
   },
   {
    "duration": 4721,
    "start_time": "2023-01-23T12:35:22.964Z"
   },
   {
    "duration": 4836,
    "start_time": "2023-01-23T12:35:49.646Z"
   },
   {
    "duration": 10,
    "start_time": "2023-01-23T12:47:59.873Z"
   },
   {
    "duration": 25,
    "start_time": "2023-01-23T12:52:10.150Z"
   },
   {
    "duration": 15,
    "start_time": "2023-01-23T13:12:28.303Z"
   },
   {
    "duration": 12,
    "start_time": "2023-01-23T13:12:40.599Z"
   },
   {
    "duration": 6,
    "start_time": "2023-01-23T13:23:28.191Z"
   },
   {
    "duration": 50,
    "start_time": "2023-01-24T09:04:42.464Z"
   },
   {
    "duration": 353,
    "start_time": "2023-01-24T09:05:46.295Z"
   },
   {
    "duration": 7,
    "start_time": "2023-01-24T09:05:52.896Z"
   },
   {
    "duration": 2649,
    "start_time": "2023-01-24T09:06:45.369Z"
   },
   {
    "duration": 1058,
    "start_time": "2023-01-24T09:06:48.021Z"
   },
   {
    "duration": 490,
    "start_time": "2023-01-24T09:06:49.081Z"
   },
   {
    "duration": 35,
    "start_time": "2023-01-24T09:06:49.572Z"
   },
   {
    "duration": 83,
    "start_time": "2023-01-24T09:06:49.609Z"
   },
   {
    "duration": 53,
    "start_time": "2023-01-24T09:06:49.693Z"
   },
   {
    "duration": 7,
    "start_time": "2023-01-24T09:06:49.747Z"
   },
   {
    "duration": 82,
    "start_time": "2023-01-24T09:06:49.756Z"
   },
   {
    "duration": 0,
    "start_time": "2023-01-24T09:06:49.841Z"
   },
   {
    "duration": 0,
    "start_time": "2023-01-24T09:06:49.843Z"
   },
   {
    "duration": 0,
    "start_time": "2023-01-24T09:06:49.844Z"
   },
   {
    "duration": 1,
    "start_time": "2023-01-24T09:06:49.845Z"
   },
   {
    "duration": 0,
    "start_time": "2023-01-24T09:06:49.847Z"
   },
   {
    "duration": 0,
    "start_time": "2023-01-24T09:06:49.848Z"
   },
   {
    "duration": 0,
    "start_time": "2023-01-24T09:06:49.849Z"
   },
   {
    "duration": 0,
    "start_time": "2023-01-24T09:06:49.850Z"
   },
   {
    "duration": 0,
    "start_time": "2023-01-24T09:06:49.852Z"
   },
   {
    "duration": 0,
    "start_time": "2023-01-24T09:06:49.853Z"
   },
   {
    "duration": 0,
    "start_time": "2023-01-24T09:06:49.854Z"
   },
   {
    "duration": 0,
    "start_time": "2023-01-24T09:06:49.856Z"
   },
   {
    "duration": 0,
    "start_time": "2023-01-24T09:06:49.857Z"
   },
   {
    "duration": 0,
    "start_time": "2023-01-24T09:06:49.858Z"
   },
   {
    "duration": 0,
    "start_time": "2023-01-24T09:06:49.860Z"
   },
   {
    "duration": 0,
    "start_time": "2023-01-24T09:06:49.861Z"
   },
   {
    "duration": 0,
    "start_time": "2023-01-24T09:06:49.862Z"
   },
   {
    "duration": 0,
    "start_time": "2023-01-24T09:06:49.863Z"
   },
   {
    "duration": 0,
    "start_time": "2023-01-24T09:06:49.865Z"
   },
   {
    "duration": 0,
    "start_time": "2023-01-24T09:06:49.865Z"
   },
   {
    "duration": 0,
    "start_time": "2023-01-24T09:06:49.867Z"
   },
   {
    "duration": 0,
    "start_time": "2023-01-24T09:06:49.868Z"
   },
   {
    "duration": 0,
    "start_time": "2023-01-24T09:06:49.869Z"
   },
   {
    "duration": 0,
    "start_time": "2023-01-24T09:06:49.870Z"
   },
   {
    "duration": 0,
    "start_time": "2023-01-24T09:06:49.871Z"
   },
   {
    "duration": 0,
    "start_time": "2023-01-24T09:06:49.873Z"
   },
   {
    "duration": 0,
    "start_time": "2023-01-24T09:06:49.874Z"
   },
   {
    "duration": 0,
    "start_time": "2023-01-24T09:06:49.875Z"
   },
   {
    "duration": 0,
    "start_time": "2023-01-24T09:06:49.876Z"
   },
   {
    "duration": 0,
    "start_time": "2023-01-24T09:06:49.878Z"
   },
   {
    "duration": 0,
    "start_time": "2023-01-24T09:06:49.937Z"
   },
   {
    "duration": 0,
    "start_time": "2023-01-24T09:06:49.939Z"
   },
   {
    "duration": 0,
    "start_time": "2023-01-24T09:06:49.940Z"
   },
   {
    "duration": 0,
    "start_time": "2023-01-24T09:06:49.941Z"
   },
   {
    "duration": 0,
    "start_time": "2023-01-24T09:06:49.943Z"
   },
   {
    "duration": 0,
    "start_time": "2023-01-24T09:06:49.944Z"
   },
   {
    "duration": 0,
    "start_time": "2023-01-24T09:06:49.945Z"
   },
   {
    "duration": 2,
    "start_time": "2023-01-24T09:07:05.077Z"
   },
   {
    "duration": 81,
    "start_time": "2023-01-24T09:09:22.452Z"
   },
   {
    "duration": 52,
    "start_time": "2023-01-24T09:09:36.672Z"
   },
   {
    "duration": 3,
    "start_time": "2023-01-24T09:10:00.287Z"
   },
   {
    "duration": 13,
    "start_time": "2023-01-24T09:10:01.301Z"
   },
   {
    "duration": 14,
    "start_time": "2023-01-24T09:10:25.516Z"
   },
   {
    "duration": 10,
    "start_time": "2023-01-24T09:11:47.131Z"
   },
   {
    "duration": 22,
    "start_time": "2023-01-24T09:12:02.951Z"
   },
   {
    "duration": 26,
    "start_time": "2023-01-24T09:12:12.488Z"
   },
   {
    "duration": 18,
    "start_time": "2023-01-24T09:12:32.621Z"
   },
   {
    "duration": 10,
    "start_time": "2023-01-24T09:13:16.779Z"
   },
   {
    "duration": 12,
    "start_time": "2023-01-24T09:13:19.055Z"
   },
   {
    "duration": 14,
    "start_time": "2023-01-24T09:14:26.128Z"
   },
   {
    "duration": 1798,
    "start_time": "2023-01-24T09:14:39.452Z"
   },
   {
    "duration": 3,
    "start_time": "2023-01-24T09:14:41.253Z"
   },
   {
    "duration": 252,
    "start_time": "2023-01-24T09:14:41.258Z"
   },
   {
    "duration": 47,
    "start_time": "2023-01-24T09:14:41.511Z"
   },
   {
    "duration": 84,
    "start_time": "2023-01-24T09:14:41.560Z"
   },
   {
    "duration": 44,
    "start_time": "2023-01-24T09:14:41.645Z"
   },
   {
    "duration": 7,
    "start_time": "2023-01-24T09:14:41.690Z"
   },
   {
    "duration": 82,
    "start_time": "2023-01-24T09:14:41.699Z"
   },
   {
    "duration": 0,
    "start_time": "2023-01-24T09:14:41.784Z"
   },
   {
    "duration": 0,
    "start_time": "2023-01-24T09:14:41.785Z"
   },
   {
    "duration": 0,
    "start_time": "2023-01-24T09:14:41.786Z"
   },
   {
    "duration": 0,
    "start_time": "2023-01-24T09:14:41.787Z"
   },
   {
    "duration": 0,
    "start_time": "2023-01-24T09:14:41.788Z"
   },
   {
    "duration": 0,
    "start_time": "2023-01-24T09:14:41.789Z"
   },
   {
    "duration": 0,
    "start_time": "2023-01-24T09:14:41.790Z"
   },
   {
    "duration": 0,
    "start_time": "2023-01-24T09:14:41.791Z"
   },
   {
    "duration": 0,
    "start_time": "2023-01-24T09:14:41.792Z"
   },
   {
    "duration": 0,
    "start_time": "2023-01-24T09:14:41.793Z"
   },
   {
    "duration": 0,
    "start_time": "2023-01-24T09:14:41.794Z"
   },
   {
    "duration": 0,
    "start_time": "2023-01-24T09:14:41.794Z"
   },
   {
    "duration": 0,
    "start_time": "2023-01-24T09:14:41.795Z"
   },
   {
    "duration": 0,
    "start_time": "2023-01-24T09:14:41.796Z"
   },
   {
    "duration": 0,
    "start_time": "2023-01-24T09:14:41.797Z"
   },
   {
    "duration": 0,
    "start_time": "2023-01-24T09:14:41.798Z"
   },
   {
    "duration": 0,
    "start_time": "2023-01-24T09:14:41.799Z"
   },
   {
    "duration": 0,
    "start_time": "2023-01-24T09:14:41.800Z"
   },
   {
    "duration": 0,
    "start_time": "2023-01-24T09:14:41.801Z"
   },
   {
    "duration": 0,
    "start_time": "2023-01-24T09:14:41.803Z"
   },
   {
    "duration": 0,
    "start_time": "2023-01-24T09:14:41.804Z"
   },
   {
    "duration": 0,
    "start_time": "2023-01-24T09:14:41.805Z"
   },
   {
    "duration": 0,
    "start_time": "2023-01-24T09:14:41.807Z"
   },
   {
    "duration": 0,
    "start_time": "2023-01-24T09:14:41.807Z"
   },
   {
    "duration": 0,
    "start_time": "2023-01-24T09:14:41.808Z"
   },
   {
    "duration": 0,
    "start_time": "2023-01-24T09:14:41.809Z"
   },
   {
    "duration": 0,
    "start_time": "2023-01-24T09:14:41.810Z"
   },
   {
    "duration": 0,
    "start_time": "2023-01-24T09:14:41.811Z"
   },
   {
    "duration": 0,
    "start_time": "2023-01-24T09:14:41.812Z"
   },
   {
    "duration": 0,
    "start_time": "2023-01-24T09:14:41.813Z"
   },
   {
    "duration": 0,
    "start_time": "2023-01-24T09:14:41.814Z"
   },
   {
    "duration": 0,
    "start_time": "2023-01-24T09:14:41.815Z"
   },
   {
    "duration": 0,
    "start_time": "2023-01-24T09:14:41.816Z"
   },
   {
    "duration": 0,
    "start_time": "2023-01-24T09:14:41.817Z"
   },
   {
    "duration": 0,
    "start_time": "2023-01-24T09:14:41.818Z"
   },
   {
    "duration": 16,
    "start_time": "2023-01-24T09:14:44.127Z"
   },
   {
    "duration": 12,
    "start_time": "2023-01-24T09:15:04.292Z"
   },
   {
    "duration": 1825,
    "start_time": "2023-01-24T09:15:22.823Z"
   },
   {
    "duration": 1426,
    "start_time": "2023-01-24T09:15:24.651Z"
   },
   {
    "duration": 256,
    "start_time": "2023-01-24T09:15:26.079Z"
   },
   {
    "duration": 42,
    "start_time": "2023-01-24T09:15:26.338Z"
   },
   {
    "duration": 101,
    "start_time": "2023-01-24T09:15:26.381Z"
   },
   {
    "duration": 67,
    "start_time": "2023-01-24T09:15:26.484Z"
   },
   {
    "duration": 8,
    "start_time": "2023-01-24T09:15:26.552Z"
   },
   {
    "duration": 87,
    "start_time": "2023-01-24T09:15:26.561Z"
   },
   {
    "duration": 0,
    "start_time": "2023-01-24T09:15:26.651Z"
   },
   {
    "duration": 0,
    "start_time": "2023-01-24T09:15:26.652Z"
   },
   {
    "duration": 0,
    "start_time": "2023-01-24T09:15:26.654Z"
   },
   {
    "duration": 0,
    "start_time": "2023-01-24T09:15:26.655Z"
   },
   {
    "duration": 0,
    "start_time": "2023-01-24T09:15:26.657Z"
   },
   {
    "duration": 0,
    "start_time": "2023-01-24T09:15:26.658Z"
   },
   {
    "duration": 0,
    "start_time": "2023-01-24T09:15:26.660Z"
   },
   {
    "duration": 0,
    "start_time": "2023-01-24T09:15:26.661Z"
   },
   {
    "duration": 0,
    "start_time": "2023-01-24T09:15:26.663Z"
   },
   {
    "duration": 0,
    "start_time": "2023-01-24T09:15:26.664Z"
   },
   {
    "duration": 0,
    "start_time": "2023-01-24T09:15:26.666Z"
   },
   {
    "duration": 0,
    "start_time": "2023-01-24T09:15:26.667Z"
   },
   {
    "duration": 0,
    "start_time": "2023-01-24T09:15:26.668Z"
   },
   {
    "duration": 0,
    "start_time": "2023-01-24T09:15:26.670Z"
   },
   {
    "duration": 0,
    "start_time": "2023-01-24T09:15:26.671Z"
   },
   {
    "duration": 0,
    "start_time": "2023-01-24T09:15:26.672Z"
   },
   {
    "duration": 0,
    "start_time": "2023-01-24T09:15:26.674Z"
   },
   {
    "duration": 0,
    "start_time": "2023-01-24T09:15:26.675Z"
   },
   {
    "duration": 0,
    "start_time": "2023-01-24T09:15:26.677Z"
   },
   {
    "duration": 0,
    "start_time": "2023-01-24T09:15:26.678Z"
   },
   {
    "duration": 0,
    "start_time": "2023-01-24T09:15:26.679Z"
   },
   {
    "duration": 0,
    "start_time": "2023-01-24T09:15:26.681Z"
   },
   {
    "duration": 0,
    "start_time": "2023-01-24T09:15:26.682Z"
   },
   {
    "duration": 0,
    "start_time": "2023-01-24T09:15:26.684Z"
   },
   {
    "duration": 0,
    "start_time": "2023-01-24T09:15:26.685Z"
   },
   {
    "duration": 0,
    "start_time": "2023-01-24T09:15:26.686Z"
   },
   {
    "duration": 0,
    "start_time": "2023-01-24T09:15:26.688Z"
   },
   {
    "duration": 0,
    "start_time": "2023-01-24T09:15:26.689Z"
   },
   {
    "duration": 0,
    "start_time": "2023-01-24T09:15:26.690Z"
   },
   {
    "duration": 0,
    "start_time": "2023-01-24T09:15:26.738Z"
   },
   {
    "duration": 0,
    "start_time": "2023-01-24T09:15:26.740Z"
   },
   {
    "duration": 0,
    "start_time": "2023-01-24T09:15:26.742Z"
   },
   {
    "duration": 0,
    "start_time": "2023-01-24T09:15:26.743Z"
   },
   {
    "duration": 0,
    "start_time": "2023-01-24T09:15:26.745Z"
   },
   {
    "duration": 0,
    "start_time": "2023-01-24T09:15:26.747Z"
   },
   {
    "duration": 0,
    "start_time": "2023-01-24T09:15:26.748Z"
   },
   {
    "duration": 0,
    "start_time": "2023-01-24T09:15:26.749Z"
   },
   {
    "duration": 93,
    "start_time": "2023-01-24T09:16:14.608Z"
   },
   {
    "duration": 8,
    "start_time": "2023-01-24T09:16:31.531Z"
   },
   {
    "duration": 1780,
    "start_time": "2023-01-24T09:16:42.768Z"
   },
   {
    "duration": 3,
    "start_time": "2023-01-24T09:16:44.551Z"
   },
   {
    "duration": 242,
    "start_time": "2023-01-24T09:16:44.556Z"
   },
   {
    "duration": 47,
    "start_time": "2023-01-24T09:16:44.800Z"
   },
   {
    "duration": 68,
    "start_time": "2023-01-24T09:16:44.849Z"
   },
   {
    "duration": 57,
    "start_time": "2023-01-24T09:16:44.918Z"
   },
   {
    "duration": 7,
    "start_time": "2023-01-24T09:16:44.976Z"
   },
   {
    "duration": 95,
    "start_time": "2023-01-24T09:16:44.984Z"
   },
   {
    "duration": 1,
    "start_time": "2023-01-24T09:16:45.081Z"
   },
   {
    "duration": 1,
    "start_time": "2023-01-24T09:16:45.083Z"
   },
   {
    "duration": 0,
    "start_time": "2023-01-24T09:16:45.085Z"
   },
   {
    "duration": 0,
    "start_time": "2023-01-24T09:16:45.086Z"
   },
   {
    "duration": 0,
    "start_time": "2023-01-24T09:16:45.088Z"
   },
   {
    "duration": 0,
    "start_time": "2023-01-24T09:16:45.089Z"
   },
   {
    "duration": 0,
    "start_time": "2023-01-24T09:16:45.090Z"
   },
   {
    "duration": 0,
    "start_time": "2023-01-24T09:16:45.092Z"
   },
   {
    "duration": 0,
    "start_time": "2023-01-24T09:16:45.093Z"
   },
   {
    "duration": 0,
    "start_time": "2023-01-24T09:16:45.095Z"
   },
   {
    "duration": 0,
    "start_time": "2023-01-24T09:16:45.096Z"
   },
   {
    "duration": 0,
    "start_time": "2023-01-24T09:16:45.097Z"
   },
   {
    "duration": 0,
    "start_time": "2023-01-24T09:16:45.098Z"
   },
   {
    "duration": 0,
    "start_time": "2023-01-24T09:16:45.099Z"
   },
   {
    "duration": 0,
    "start_time": "2023-01-24T09:16:45.100Z"
   },
   {
    "duration": 1,
    "start_time": "2023-01-24T09:16:45.100Z"
   },
   {
    "duration": 0,
    "start_time": "2023-01-24T09:16:45.102Z"
   },
   {
    "duration": 0,
    "start_time": "2023-01-24T09:16:45.103Z"
   },
   {
    "duration": 0,
    "start_time": "2023-01-24T09:16:45.104Z"
   },
   {
    "duration": 0,
    "start_time": "2023-01-24T09:16:45.106Z"
   },
   {
    "duration": 0,
    "start_time": "2023-01-24T09:16:45.106Z"
   },
   {
    "duration": 0,
    "start_time": "2023-01-24T09:16:45.107Z"
   },
   {
    "duration": 0,
    "start_time": "2023-01-24T09:16:45.108Z"
   },
   {
    "duration": 0,
    "start_time": "2023-01-24T09:16:45.109Z"
   },
   {
    "duration": 0,
    "start_time": "2023-01-24T09:16:45.110Z"
   },
   {
    "duration": 0,
    "start_time": "2023-01-24T09:16:45.111Z"
   },
   {
    "duration": 0,
    "start_time": "2023-01-24T09:16:45.111Z"
   },
   {
    "duration": 0,
    "start_time": "2023-01-24T09:16:45.113Z"
   },
   {
    "duration": 0,
    "start_time": "2023-01-24T09:16:45.114Z"
   },
   {
    "duration": 0,
    "start_time": "2023-01-24T09:16:45.115Z"
   },
   {
    "duration": 0,
    "start_time": "2023-01-24T09:16:45.116Z"
   },
   {
    "duration": 0,
    "start_time": "2023-01-24T09:16:45.117Z"
   },
   {
    "duration": 0,
    "start_time": "2023-01-24T09:16:45.117Z"
   },
   {
    "duration": 0,
    "start_time": "2023-01-24T09:16:45.138Z"
   },
   {
    "duration": 0,
    "start_time": "2023-01-24T09:16:45.139Z"
   },
   {
    "duration": 13,
    "start_time": "2023-01-24T09:16:48.565Z"
   },
   {
    "duration": 9,
    "start_time": "2023-01-24T09:17:01.257Z"
   },
   {
    "duration": 13,
    "start_time": "2023-01-24T09:17:02.083Z"
   },
   {
    "duration": 18,
    "start_time": "2023-01-24T09:17:19.883Z"
   },
   {
    "duration": 14,
    "start_time": "2023-01-24T09:17:44.571Z"
   },
   {
    "duration": 12,
    "start_time": "2023-01-24T09:17:57.342Z"
   },
   {
    "duration": 21,
    "start_time": "2023-01-24T09:18:41.888Z"
   },
   {
    "duration": 12,
    "start_time": "2023-01-24T09:19:22.237Z"
   },
   {
    "duration": 19,
    "start_time": "2023-01-24T09:20:26.673Z"
   },
   {
    "duration": 81,
    "start_time": "2023-01-24T09:20:33.896Z"
   },
   {
    "duration": 173,
    "start_time": "2023-01-24T09:20:53.557Z"
   },
   {
    "duration": 170,
    "start_time": "2023-01-24T09:21:13.003Z"
   },
   {
    "duration": 180,
    "start_time": "2023-01-24T09:21:33.378Z"
   },
   {
    "duration": 13,
    "start_time": "2023-01-24T09:22:34.408Z"
   },
   {
    "duration": 29,
    "start_time": "2023-01-24T09:22:51.486Z"
   },
   {
    "duration": 14,
    "start_time": "2023-01-24T09:24:01.511Z"
   },
   {
    "duration": 27,
    "start_time": "2023-01-24T09:24:05.560Z"
   },
   {
    "duration": 14,
    "start_time": "2023-01-24T09:24:13.293Z"
   },
   {
    "duration": 66,
    "start_time": "2023-01-24T09:27:18.420Z"
   },
   {
    "duration": 12,
    "start_time": "2023-01-24T09:27:26.353Z"
   },
   {
    "duration": 14,
    "start_time": "2023-01-24T09:28:48.283Z"
   },
   {
    "duration": 23,
    "start_time": "2023-01-24T09:29:03.746Z"
   },
   {
    "duration": 170,
    "start_time": "2023-01-24T09:29:04.001Z"
   },
   {
    "duration": 162,
    "start_time": "2023-01-24T09:29:06.284Z"
   },
   {
    "duration": 162,
    "start_time": "2023-01-24T09:29:07.172Z"
   },
   {
    "duration": 13,
    "start_time": "2023-01-24T09:29:10.273Z"
   },
   {
    "duration": 1939,
    "start_time": "2023-01-24T09:29:18.712Z"
   },
   {
    "duration": 4,
    "start_time": "2023-01-24T09:29:20.653Z"
   },
   {
    "duration": 228,
    "start_time": "2023-01-24T09:29:20.658Z"
   },
   {
    "duration": 40,
    "start_time": "2023-01-24T09:29:20.887Z"
   },
   {
    "duration": 77,
    "start_time": "2023-01-24T09:29:20.937Z"
   },
   {
    "duration": 62,
    "start_time": "2023-01-24T09:29:21.016Z"
   },
   {
    "duration": 8,
    "start_time": "2023-01-24T09:29:21.080Z"
   },
   {
    "duration": 72,
    "start_time": "2023-01-24T09:29:21.089Z"
   },
   {
    "duration": 0,
    "start_time": "2023-01-24T09:29:21.164Z"
   },
   {
    "duration": 0,
    "start_time": "2023-01-24T09:29:21.167Z"
   },
   {
    "duration": 0,
    "start_time": "2023-01-24T09:29:21.168Z"
   },
   {
    "duration": 0,
    "start_time": "2023-01-24T09:29:21.169Z"
   },
   {
    "duration": 0,
    "start_time": "2023-01-24T09:29:21.170Z"
   },
   {
    "duration": 0,
    "start_time": "2023-01-24T09:29:21.171Z"
   },
   {
    "duration": 0,
    "start_time": "2023-01-24T09:29:21.172Z"
   },
   {
    "duration": 0,
    "start_time": "2023-01-24T09:29:21.173Z"
   },
   {
    "duration": 0,
    "start_time": "2023-01-24T09:29:21.174Z"
   },
   {
    "duration": 0,
    "start_time": "2023-01-24T09:29:21.175Z"
   },
   {
    "duration": 0,
    "start_time": "2023-01-24T09:29:21.176Z"
   },
   {
    "duration": 0,
    "start_time": "2023-01-24T09:29:21.177Z"
   },
   {
    "duration": 0,
    "start_time": "2023-01-24T09:29:21.178Z"
   },
   {
    "duration": 0,
    "start_time": "2023-01-24T09:29:21.180Z"
   },
   {
    "duration": 0,
    "start_time": "2023-01-24T09:29:21.181Z"
   },
   {
    "duration": 0,
    "start_time": "2023-01-24T09:29:21.181Z"
   },
   {
    "duration": 0,
    "start_time": "2023-01-24T09:29:21.182Z"
   },
   {
    "duration": 0,
    "start_time": "2023-01-24T09:29:21.184Z"
   },
   {
    "duration": 0,
    "start_time": "2023-01-24T09:29:21.185Z"
   },
   {
    "duration": 0,
    "start_time": "2023-01-24T09:29:21.186Z"
   },
   {
    "duration": 0,
    "start_time": "2023-01-24T09:29:21.187Z"
   },
   {
    "duration": 0,
    "start_time": "2023-01-24T09:29:21.188Z"
   },
   {
    "duration": 1,
    "start_time": "2023-01-24T09:29:21.188Z"
   },
   {
    "duration": 0,
    "start_time": "2023-01-24T09:29:21.189Z"
   },
   {
    "duration": 0,
    "start_time": "2023-01-24T09:29:21.191Z"
   },
   {
    "duration": 0,
    "start_time": "2023-01-24T09:29:21.191Z"
   },
   {
    "duration": 0,
    "start_time": "2023-01-24T09:29:21.193Z"
   },
   {
    "duration": 0,
    "start_time": "2023-01-24T09:29:21.194Z"
   },
   {
    "duration": 0,
    "start_time": "2023-01-24T09:29:21.195Z"
   },
   {
    "duration": 0,
    "start_time": "2023-01-24T09:29:21.196Z"
   },
   {
    "duration": 0,
    "start_time": "2023-01-24T09:29:21.197Z"
   },
   {
    "duration": 0,
    "start_time": "2023-01-24T09:29:21.198Z"
   },
   {
    "duration": 0,
    "start_time": "2023-01-24T09:29:21.199Z"
   },
   {
    "duration": 0,
    "start_time": "2023-01-24T09:29:21.200Z"
   },
   {
    "duration": 0,
    "start_time": "2023-01-24T09:29:21.201Z"
   },
   {
    "duration": 0,
    "start_time": "2023-01-24T09:29:21.237Z"
   },
   {
    "duration": 0,
    "start_time": "2023-01-24T09:29:21.239Z"
   },
   {
    "duration": 0,
    "start_time": "2023-01-24T09:29:21.240Z"
   },
   {
    "duration": 0,
    "start_time": "2023-01-24T09:29:21.240Z"
   },
   {
    "duration": 15,
    "start_time": "2023-01-24T09:29:22.970Z"
   },
   {
    "duration": 11,
    "start_time": "2023-01-24T09:30:11.704Z"
   },
   {
    "duration": 1882,
    "start_time": "2023-01-24T09:30:21.270Z"
   },
   {
    "duration": 3,
    "start_time": "2023-01-24T09:30:23.155Z"
   },
   {
    "duration": 221,
    "start_time": "2023-01-24T09:30:23.160Z"
   },
   {
    "duration": 36,
    "start_time": "2023-01-24T09:30:23.382Z"
   },
   {
    "duration": 78,
    "start_time": "2023-01-24T09:30:23.421Z"
   },
   {
    "duration": 61,
    "start_time": "2023-01-24T09:30:23.500Z"
   },
   {
    "duration": 7,
    "start_time": "2023-01-24T09:30:23.563Z"
   },
   {
    "duration": 72,
    "start_time": "2023-01-24T09:30:23.571Z"
   },
   {
    "duration": 0,
    "start_time": "2023-01-24T09:30:23.645Z"
   },
   {
    "duration": 0,
    "start_time": "2023-01-24T09:30:23.646Z"
   },
   {
    "duration": 0,
    "start_time": "2023-01-24T09:30:23.647Z"
   },
   {
    "duration": 0,
    "start_time": "2023-01-24T09:30:23.649Z"
   },
   {
    "duration": 0,
    "start_time": "2023-01-24T09:30:23.650Z"
   },
   {
    "duration": 0,
    "start_time": "2023-01-24T09:30:23.650Z"
   },
   {
    "duration": 0,
    "start_time": "2023-01-24T09:30:23.651Z"
   },
   {
    "duration": 0,
    "start_time": "2023-01-24T09:30:23.652Z"
   },
   {
    "duration": 0,
    "start_time": "2023-01-24T09:30:23.653Z"
   },
   {
    "duration": 0,
    "start_time": "2023-01-24T09:30:23.654Z"
   },
   {
    "duration": 0,
    "start_time": "2023-01-24T09:30:23.655Z"
   },
   {
    "duration": 0,
    "start_time": "2023-01-24T09:30:23.655Z"
   },
   {
    "duration": 0,
    "start_time": "2023-01-24T09:30:23.656Z"
   },
   {
    "duration": 0,
    "start_time": "2023-01-24T09:30:23.657Z"
   },
   {
    "duration": 0,
    "start_time": "2023-01-24T09:30:23.658Z"
   },
   {
    "duration": 0,
    "start_time": "2023-01-24T09:30:23.659Z"
   },
   {
    "duration": 0,
    "start_time": "2023-01-24T09:30:23.659Z"
   },
   {
    "duration": 0,
    "start_time": "2023-01-24T09:30:23.660Z"
   },
   {
    "duration": 0,
    "start_time": "2023-01-24T09:30:23.661Z"
   },
   {
    "duration": 0,
    "start_time": "2023-01-24T09:30:23.662Z"
   },
   {
    "duration": 0,
    "start_time": "2023-01-24T09:30:23.663Z"
   },
   {
    "duration": 0,
    "start_time": "2023-01-24T09:30:23.664Z"
   },
   {
    "duration": 0,
    "start_time": "2023-01-24T09:30:23.664Z"
   },
   {
    "duration": 0,
    "start_time": "2023-01-24T09:30:23.665Z"
   },
   {
    "duration": 0,
    "start_time": "2023-01-24T09:30:23.666Z"
   },
   {
    "duration": 0,
    "start_time": "2023-01-24T09:30:23.667Z"
   },
   {
    "duration": 0,
    "start_time": "2023-01-24T09:30:23.668Z"
   },
   {
    "duration": 0,
    "start_time": "2023-01-24T09:30:23.668Z"
   },
   {
    "duration": 0,
    "start_time": "2023-01-24T09:30:23.669Z"
   },
   {
    "duration": 0,
    "start_time": "2023-01-24T09:30:23.670Z"
   },
   {
    "duration": 0,
    "start_time": "2023-01-24T09:30:23.671Z"
   },
   {
    "duration": 0,
    "start_time": "2023-01-24T09:30:23.672Z"
   },
   {
    "duration": 0,
    "start_time": "2023-01-24T09:30:23.673Z"
   },
   {
    "duration": 0,
    "start_time": "2023-01-24T09:30:23.674Z"
   },
   {
    "duration": 0,
    "start_time": "2023-01-24T09:30:23.675Z"
   },
   {
    "duration": 0,
    "start_time": "2023-01-24T09:30:23.675Z"
   },
   {
    "duration": 15,
    "start_time": "2023-01-24T09:30:25.479Z"
   },
   {
    "duration": 12,
    "start_time": "2023-01-24T09:30:44.085Z"
   },
   {
    "duration": 1878,
    "start_time": "2023-01-24T09:30:55.182Z"
   },
   {
    "duration": 1272,
    "start_time": "2023-01-24T09:30:57.062Z"
   },
   {
    "duration": 229,
    "start_time": "2023-01-24T09:30:58.336Z"
   },
   {
    "duration": 37,
    "start_time": "2023-01-24T09:30:58.567Z"
   },
   {
    "duration": 89,
    "start_time": "2023-01-24T09:30:58.606Z"
   },
   {
    "duration": 57,
    "start_time": "2023-01-24T09:30:58.697Z"
   },
   {
    "duration": 7,
    "start_time": "2023-01-24T09:30:58.755Z"
   },
   {
    "duration": 68,
    "start_time": "2023-01-24T09:30:58.763Z"
   },
   {
    "duration": 0,
    "start_time": "2023-01-24T09:30:58.834Z"
   },
   {
    "duration": 0,
    "start_time": "2023-01-24T09:30:58.835Z"
   },
   {
    "duration": 0,
    "start_time": "2023-01-24T09:30:58.836Z"
   },
   {
    "duration": 0,
    "start_time": "2023-01-24T09:30:58.837Z"
   },
   {
    "duration": 0,
    "start_time": "2023-01-24T09:30:58.838Z"
   },
   {
    "duration": 0,
    "start_time": "2023-01-24T09:30:58.839Z"
   },
   {
    "duration": 0,
    "start_time": "2023-01-24T09:30:58.840Z"
   },
   {
    "duration": 0,
    "start_time": "2023-01-24T09:30:58.841Z"
   },
   {
    "duration": 0,
    "start_time": "2023-01-24T09:30:58.842Z"
   },
   {
    "duration": 0,
    "start_time": "2023-01-24T09:30:58.843Z"
   },
   {
    "duration": 0,
    "start_time": "2023-01-24T09:30:58.844Z"
   },
   {
    "duration": 0,
    "start_time": "2023-01-24T09:30:58.845Z"
   },
   {
    "duration": 0,
    "start_time": "2023-01-24T09:30:58.846Z"
   },
   {
    "duration": 0,
    "start_time": "2023-01-24T09:30:58.847Z"
   },
   {
    "duration": 0,
    "start_time": "2023-01-24T09:30:58.848Z"
   },
   {
    "duration": 0,
    "start_time": "2023-01-24T09:30:58.849Z"
   },
   {
    "duration": 0,
    "start_time": "2023-01-24T09:30:58.850Z"
   },
   {
    "duration": 0,
    "start_time": "2023-01-24T09:30:58.851Z"
   },
   {
    "duration": 0,
    "start_time": "2023-01-24T09:30:58.852Z"
   },
   {
    "duration": 0,
    "start_time": "2023-01-24T09:30:58.853Z"
   },
   {
    "duration": 0,
    "start_time": "2023-01-24T09:30:58.855Z"
   },
   {
    "duration": 0,
    "start_time": "2023-01-24T09:30:58.856Z"
   },
   {
    "duration": 0,
    "start_time": "2023-01-24T09:30:58.857Z"
   },
   {
    "duration": 0,
    "start_time": "2023-01-24T09:30:58.858Z"
   },
   {
    "duration": 0,
    "start_time": "2023-01-24T09:30:58.859Z"
   },
   {
    "duration": 0,
    "start_time": "2023-01-24T09:30:58.860Z"
   },
   {
    "duration": 0,
    "start_time": "2023-01-24T09:30:58.860Z"
   },
   {
    "duration": 0,
    "start_time": "2023-01-24T09:30:58.861Z"
   },
   {
    "duration": 0,
    "start_time": "2023-01-24T09:30:58.862Z"
   },
   {
    "duration": 0,
    "start_time": "2023-01-24T09:30:58.863Z"
   },
   {
    "duration": 0,
    "start_time": "2023-01-24T09:30:58.864Z"
   },
   {
    "duration": 0,
    "start_time": "2023-01-24T09:30:58.865Z"
   },
   {
    "duration": 0,
    "start_time": "2023-01-24T09:30:58.865Z"
   },
   {
    "duration": 0,
    "start_time": "2023-01-24T09:30:58.866Z"
   },
   {
    "duration": 0,
    "start_time": "2023-01-24T09:30:58.867Z"
   },
   {
    "duration": 0,
    "start_time": "2023-01-24T09:30:58.868Z"
   },
   {
    "duration": 0,
    "start_time": "2023-01-24T09:30:58.869Z"
   },
   {
    "duration": 0,
    "start_time": "2023-01-24T09:30:58.870Z"
   },
   {
    "duration": 0,
    "start_time": "2023-01-24T09:30:58.871Z"
   },
   {
    "duration": 0,
    "start_time": "2023-01-24T09:30:58.872Z"
   },
   {
    "duration": 1824,
    "start_time": "2023-01-24T09:31:07.893Z"
   },
   {
    "duration": 4,
    "start_time": "2023-01-24T09:31:09.719Z"
   },
   {
    "duration": 251,
    "start_time": "2023-01-24T09:31:09.724Z"
   },
   {
    "duration": 37,
    "start_time": "2023-01-24T09:31:09.976Z"
   },
   {
    "duration": 85,
    "start_time": "2023-01-24T09:31:10.015Z"
   },
   {
    "duration": 52,
    "start_time": "2023-01-24T09:31:10.102Z"
   },
   {
    "duration": 6,
    "start_time": "2023-01-24T09:31:10.156Z"
   },
   {
    "duration": 69,
    "start_time": "2023-01-24T09:31:10.163Z"
   },
   {
    "duration": 0,
    "start_time": "2023-01-24T09:31:10.234Z"
   },
   {
    "duration": 0,
    "start_time": "2023-01-24T09:31:10.235Z"
   },
   {
    "duration": 0,
    "start_time": "2023-01-24T09:31:10.236Z"
   },
   {
    "duration": 0,
    "start_time": "2023-01-24T09:31:10.237Z"
   },
   {
    "duration": 0,
    "start_time": "2023-01-24T09:31:10.238Z"
   },
   {
    "duration": 0,
    "start_time": "2023-01-24T09:31:10.239Z"
   },
   {
    "duration": 0,
    "start_time": "2023-01-24T09:31:10.240Z"
   },
   {
    "duration": 0,
    "start_time": "2023-01-24T09:31:10.241Z"
   },
   {
    "duration": 0,
    "start_time": "2023-01-24T09:31:10.242Z"
   },
   {
    "duration": 0,
    "start_time": "2023-01-24T09:31:10.243Z"
   },
   {
    "duration": 0,
    "start_time": "2023-01-24T09:31:10.244Z"
   },
   {
    "duration": 0,
    "start_time": "2023-01-24T09:31:10.245Z"
   },
   {
    "duration": 0,
    "start_time": "2023-01-24T09:31:10.246Z"
   },
   {
    "duration": 0,
    "start_time": "2023-01-24T09:31:10.247Z"
   },
   {
    "duration": 0,
    "start_time": "2023-01-24T09:31:10.248Z"
   },
   {
    "duration": 0,
    "start_time": "2023-01-24T09:31:10.249Z"
   },
   {
    "duration": 0,
    "start_time": "2023-01-24T09:31:10.250Z"
   },
   {
    "duration": 0,
    "start_time": "2023-01-24T09:31:10.251Z"
   },
   {
    "duration": 0,
    "start_time": "2023-01-24T09:31:10.252Z"
   },
   {
    "duration": 0,
    "start_time": "2023-01-24T09:31:10.253Z"
   },
   {
    "duration": 0,
    "start_time": "2023-01-24T09:31:10.254Z"
   },
   {
    "duration": 0,
    "start_time": "2023-01-24T09:31:10.255Z"
   },
   {
    "duration": 0,
    "start_time": "2023-01-24T09:31:10.256Z"
   },
   {
    "duration": 0,
    "start_time": "2023-01-24T09:31:10.257Z"
   },
   {
    "duration": 0,
    "start_time": "2023-01-24T09:31:10.258Z"
   },
   {
    "duration": 0,
    "start_time": "2023-01-24T09:31:10.259Z"
   },
   {
    "duration": 0,
    "start_time": "2023-01-24T09:31:10.260Z"
   },
   {
    "duration": 0,
    "start_time": "2023-01-24T09:31:10.261Z"
   },
   {
    "duration": 0,
    "start_time": "2023-01-24T09:31:10.262Z"
   },
   {
    "duration": 0,
    "start_time": "2023-01-24T09:31:10.263Z"
   },
   {
    "duration": 0,
    "start_time": "2023-01-24T09:31:10.264Z"
   },
   {
    "duration": 0,
    "start_time": "2023-01-24T09:31:10.265Z"
   },
   {
    "duration": 0,
    "start_time": "2023-01-24T09:31:10.265Z"
   },
   {
    "duration": 0,
    "start_time": "2023-01-24T09:31:10.266Z"
   },
   {
    "duration": 0,
    "start_time": "2023-01-24T09:31:10.267Z"
   },
   {
    "duration": 0,
    "start_time": "2023-01-24T09:31:10.268Z"
   },
   {
    "duration": 102,
    "start_time": "2023-01-24T09:31:12.220Z"
   },
   {
    "duration": 13,
    "start_time": "2023-01-24T09:31:22.464Z"
   },
   {
    "duration": 1839,
    "start_time": "2023-01-24T09:31:29.127Z"
   },
   {
    "duration": 4,
    "start_time": "2023-01-24T09:31:30.968Z"
   },
   {
    "duration": 277,
    "start_time": "2023-01-24T09:31:30.973Z"
   },
   {
    "duration": 36,
    "start_time": "2023-01-24T09:31:31.252Z"
   },
   {
    "duration": 86,
    "start_time": "2023-01-24T09:31:31.290Z"
   },
   {
    "duration": 42,
    "start_time": "2023-01-24T09:31:31.378Z"
   },
   {
    "duration": 18,
    "start_time": "2023-01-24T09:31:31.422Z"
   },
   {
    "duration": 72,
    "start_time": "2023-01-24T09:31:31.442Z"
   },
   {
    "duration": 0,
    "start_time": "2023-01-24T09:31:31.516Z"
   },
   {
    "duration": 0,
    "start_time": "2023-01-24T09:31:31.517Z"
   },
   {
    "duration": 0,
    "start_time": "2023-01-24T09:31:31.518Z"
   },
   {
    "duration": 0,
    "start_time": "2023-01-24T09:31:31.520Z"
   },
   {
    "duration": 0,
    "start_time": "2023-01-24T09:31:31.520Z"
   },
   {
    "duration": 0,
    "start_time": "2023-01-24T09:31:31.521Z"
   },
   {
    "duration": 1,
    "start_time": "2023-01-24T09:31:31.522Z"
   },
   {
    "duration": 0,
    "start_time": "2023-01-24T09:31:31.523Z"
   },
   {
    "duration": 0,
    "start_time": "2023-01-24T09:31:31.524Z"
   },
   {
    "duration": 0,
    "start_time": "2023-01-24T09:31:31.525Z"
   },
   {
    "duration": 0,
    "start_time": "2023-01-24T09:31:31.526Z"
   },
   {
    "duration": 0,
    "start_time": "2023-01-24T09:31:31.527Z"
   },
   {
    "duration": 0,
    "start_time": "2023-01-24T09:31:31.527Z"
   },
   {
    "duration": 0,
    "start_time": "2023-01-24T09:31:31.528Z"
   },
   {
    "duration": 0,
    "start_time": "2023-01-24T09:31:31.529Z"
   },
   {
    "duration": 0,
    "start_time": "2023-01-24T09:31:31.530Z"
   },
   {
    "duration": 0,
    "start_time": "2023-01-24T09:31:31.531Z"
   },
   {
    "duration": 0,
    "start_time": "2023-01-24T09:31:31.532Z"
   },
   {
    "duration": 0,
    "start_time": "2023-01-24T09:31:31.533Z"
   },
   {
    "duration": 0,
    "start_time": "2023-01-24T09:31:31.534Z"
   },
   {
    "duration": 0,
    "start_time": "2023-01-24T09:31:31.535Z"
   },
   {
    "duration": 0,
    "start_time": "2023-01-24T09:31:31.536Z"
   },
   {
    "duration": 0,
    "start_time": "2023-01-24T09:31:31.537Z"
   },
   {
    "duration": 0,
    "start_time": "2023-01-24T09:31:31.538Z"
   },
   {
    "duration": 0,
    "start_time": "2023-01-24T09:31:31.539Z"
   },
   {
    "duration": 0,
    "start_time": "2023-01-24T09:31:31.540Z"
   },
   {
    "duration": 0,
    "start_time": "2023-01-24T09:31:31.541Z"
   },
   {
    "duration": 0,
    "start_time": "2023-01-24T09:31:31.542Z"
   },
   {
    "duration": 0,
    "start_time": "2023-01-24T09:31:31.542Z"
   },
   {
    "duration": 0,
    "start_time": "2023-01-24T09:31:31.543Z"
   },
   {
    "duration": 0,
    "start_time": "2023-01-24T09:31:31.544Z"
   },
   {
    "duration": 0,
    "start_time": "2023-01-24T09:31:31.545Z"
   },
   {
    "duration": 0,
    "start_time": "2023-01-24T09:31:31.546Z"
   },
   {
    "duration": 0,
    "start_time": "2023-01-24T09:31:31.547Z"
   },
   {
    "duration": 0,
    "start_time": "2023-01-24T09:31:31.548Z"
   },
   {
    "duration": 0,
    "start_time": "2023-01-24T09:31:31.549Z"
   },
   {
    "duration": 0,
    "start_time": "2023-01-24T09:31:31.550Z"
   },
   {
    "duration": 0,
    "start_time": "2023-01-24T09:31:31.552Z"
   },
   {
    "duration": 0,
    "start_time": "2023-01-24T09:31:31.552Z"
   },
   {
    "duration": 0,
    "start_time": "2023-01-24T09:31:31.553Z"
   },
   {
    "duration": 11,
    "start_time": "2023-01-24T09:31:38.436Z"
   },
   {
    "duration": 15,
    "start_time": "2023-01-24T09:31:39.409Z"
   },
   {
    "duration": 172,
    "start_time": "2023-01-24T09:31:40.650Z"
   },
   {
    "duration": 171,
    "start_time": "2023-01-24T09:31:43.201Z"
   },
   {
    "duration": 35,
    "start_time": "2023-01-24T09:31:44.073Z"
   },
   {
    "duration": 35,
    "start_time": "2023-01-24T09:32:09.486Z"
   },
   {
    "duration": 31,
    "start_time": "2023-01-24T09:32:22.170Z"
   },
   {
    "duration": 1901,
    "start_time": "2023-01-24T09:34:21.186Z"
   },
   {
    "duration": 4,
    "start_time": "2023-01-24T09:34:23.089Z"
   },
   {
    "duration": 218,
    "start_time": "2023-01-24T09:34:23.095Z"
   },
   {
    "duration": 40,
    "start_time": "2023-01-24T09:34:23.314Z"
   },
   {
    "duration": 83,
    "start_time": "2023-01-24T09:34:23.355Z"
   },
   {
    "duration": 42,
    "start_time": "2023-01-24T09:34:23.440Z"
   },
   {
    "duration": 6,
    "start_time": "2023-01-24T09:34:23.484Z"
   },
   {
    "duration": 93,
    "start_time": "2023-01-24T09:34:23.491Z"
   },
   {
    "duration": 0,
    "start_time": "2023-01-24T09:34:23.587Z"
   },
   {
    "duration": 0,
    "start_time": "2023-01-24T09:34:23.588Z"
   },
   {
    "duration": 0,
    "start_time": "2023-01-24T09:34:23.589Z"
   },
   {
    "duration": 0,
    "start_time": "2023-01-24T09:34:23.590Z"
   },
   {
    "duration": 0,
    "start_time": "2023-01-24T09:34:23.591Z"
   },
   {
    "duration": 0,
    "start_time": "2023-01-24T09:34:23.592Z"
   },
   {
    "duration": 0,
    "start_time": "2023-01-24T09:34:23.593Z"
   },
   {
    "duration": 0,
    "start_time": "2023-01-24T09:34:23.594Z"
   },
   {
    "duration": 0,
    "start_time": "2023-01-24T09:34:23.595Z"
   },
   {
    "duration": 0,
    "start_time": "2023-01-24T09:34:23.595Z"
   },
   {
    "duration": 0,
    "start_time": "2023-01-24T09:34:23.596Z"
   },
   {
    "duration": 0,
    "start_time": "2023-01-24T09:34:23.597Z"
   },
   {
    "duration": 0,
    "start_time": "2023-01-24T09:34:23.598Z"
   },
   {
    "duration": 0,
    "start_time": "2023-01-24T09:34:23.599Z"
   },
   {
    "duration": 0,
    "start_time": "2023-01-24T09:34:23.600Z"
   },
   {
    "duration": 0,
    "start_time": "2023-01-24T09:34:23.601Z"
   },
   {
    "duration": 0,
    "start_time": "2023-01-24T09:34:23.602Z"
   },
   {
    "duration": 0,
    "start_time": "2023-01-24T09:34:23.603Z"
   },
   {
    "duration": 0,
    "start_time": "2023-01-24T09:34:23.604Z"
   },
   {
    "duration": 0,
    "start_time": "2023-01-24T09:34:23.605Z"
   },
   {
    "duration": 0,
    "start_time": "2023-01-24T09:34:23.606Z"
   },
   {
    "duration": 0,
    "start_time": "2023-01-24T09:34:23.607Z"
   },
   {
    "duration": 0,
    "start_time": "2023-01-24T09:34:23.608Z"
   },
   {
    "duration": 0,
    "start_time": "2023-01-24T09:34:23.609Z"
   },
   {
    "duration": 0,
    "start_time": "2023-01-24T09:34:23.610Z"
   },
   {
    "duration": 0,
    "start_time": "2023-01-24T09:34:23.611Z"
   },
   {
    "duration": 0,
    "start_time": "2023-01-24T09:34:23.612Z"
   },
   {
    "duration": 0,
    "start_time": "2023-01-24T09:34:23.613Z"
   },
   {
    "duration": 0,
    "start_time": "2023-01-24T09:34:23.614Z"
   },
   {
    "duration": 0,
    "start_time": "2023-01-24T09:34:23.615Z"
   },
   {
    "duration": 0,
    "start_time": "2023-01-24T09:34:23.616Z"
   },
   {
    "duration": 0,
    "start_time": "2023-01-24T09:34:23.617Z"
   },
   {
    "duration": 0,
    "start_time": "2023-01-24T09:34:23.618Z"
   },
   {
    "duration": 0,
    "start_time": "2023-01-24T09:34:23.619Z"
   },
   {
    "duration": 0,
    "start_time": "2023-01-24T09:34:23.620Z"
   },
   {
    "duration": 0,
    "start_time": "2023-01-24T09:34:23.621Z"
   },
   {
    "duration": 0,
    "start_time": "2023-01-24T09:34:23.622Z"
   },
   {
    "duration": 0,
    "start_time": "2023-01-24T09:34:23.623Z"
   },
   {
    "duration": 0,
    "start_time": "2023-01-24T09:34:23.623Z"
   },
   {
    "duration": 0,
    "start_time": "2023-01-24T09:34:23.624Z"
   },
   {
    "duration": 0,
    "start_time": "2023-01-24T09:34:23.625Z"
   },
   {
    "duration": 1880,
    "start_time": "2023-01-24T09:34:58.719Z"
   },
   {
    "duration": 4,
    "start_time": "2023-01-24T09:35:00.601Z"
   },
   {
    "duration": 282,
    "start_time": "2023-01-24T09:35:00.607Z"
   },
   {
    "duration": 50,
    "start_time": "2023-01-24T09:35:00.891Z"
   },
   {
    "duration": 75,
    "start_time": "2023-01-24T09:35:00.942Z"
   },
   {
    "duration": 58,
    "start_time": "2023-01-24T09:35:01.019Z"
   },
   {
    "duration": 16,
    "start_time": "2023-01-24T09:35:01.079Z"
   },
   {
    "duration": 170,
    "start_time": "2023-01-24T09:35:01.097Z"
   },
   {
    "duration": 8,
    "start_time": "2023-01-24T09:35:01.269Z"
   },
   {
    "duration": 102,
    "start_time": "2023-01-24T09:35:01.280Z"
   },
   {
    "duration": 156,
    "start_time": "2023-01-24T09:35:01.384Z"
   },
   {
    "duration": 141,
    "start_time": "2023-01-24T09:35:01.542Z"
   },
   {
    "duration": 10,
    "start_time": "2023-01-24T09:35:01.684Z"
   },
   {
    "duration": 194,
    "start_time": "2023-01-24T09:35:01.696Z"
   },
   {
    "duration": 14,
    "start_time": "2023-01-24T09:35:01.892Z"
   },
   {
    "duration": 27,
    "start_time": "2023-01-24T09:35:01.907Z"
   },
   {
    "duration": 219,
    "start_time": "2023-01-24T09:35:01.935Z"
   },
   {
    "duration": 128,
    "start_time": "2023-01-24T09:35:02.156Z"
   },
   {
    "duration": 22,
    "start_time": "2023-01-24T09:35:02.285Z"
   },
   {
    "duration": 44,
    "start_time": "2023-01-24T09:35:02.308Z"
   },
   {
    "duration": 181,
    "start_time": "2023-01-24T09:35:02.353Z"
   },
   {
    "duration": 150,
    "start_time": "2023-01-24T09:35:02.536Z"
   },
   {
    "duration": 22,
    "start_time": "2023-01-24T09:35:02.688Z"
   },
   {
    "duration": 19,
    "start_time": "2023-01-24T09:35:02.711Z"
   },
   {
    "duration": 142,
    "start_time": "2023-01-24T09:35:02.731Z"
   },
   {
    "duration": 18,
    "start_time": "2023-01-24T09:35:02.874Z"
   },
   {
    "duration": 19,
    "start_time": "2023-01-24T09:35:02.894Z"
   },
   {
    "duration": 139,
    "start_time": "2023-01-24T09:35:02.916Z"
   },
   {
    "duration": 20,
    "start_time": "2023-01-24T09:35:03.056Z"
   },
   {
    "duration": 26,
    "start_time": "2023-01-24T09:35:03.077Z"
   },
   {
    "duration": 24,
    "start_time": "2023-01-24T09:35:03.105Z"
   },
   {
    "duration": 96,
    "start_time": "2023-01-24T09:35:03.131Z"
   },
   {
    "duration": 5161,
    "start_time": "2023-01-24T09:35:03.228Z"
   },
   {
    "duration": 11,
    "start_time": "2023-01-24T09:35:08.391Z"
   },
   {
    "duration": 16,
    "start_time": "2023-01-24T09:35:08.404Z"
   },
   {
    "duration": 47,
    "start_time": "2023-01-24T09:35:08.421Z"
   },
   {
    "duration": 30,
    "start_time": "2023-01-24T09:35:08.470Z"
   },
   {
    "duration": 17,
    "start_time": "2023-01-24T09:35:08.502Z"
   },
   {
    "duration": 517,
    "start_time": "2023-01-24T09:35:08.520Z"
   },
   {
    "duration": 4,
    "start_time": "2023-01-24T09:35:09.039Z"
   },
   {
    "duration": 43,
    "start_time": "2023-01-24T09:35:09.045Z"
   },
   {
    "duration": 27,
    "start_time": "2023-01-24T09:35:09.090Z"
   },
   {
    "duration": 26,
    "start_time": "2023-01-24T09:35:09.119Z"
   },
   {
    "duration": 183,
    "start_time": "2023-01-24T09:35:09.146Z"
   },
   {
    "duration": 150,
    "start_time": "2023-01-24T09:35:09.331Z"
   },
   {
    "duration": 30,
    "start_time": "2023-01-24T09:35:09.482Z"
   },
   {
    "duration": 0,
    "start_time": "2023-01-24T09:35:09.513Z"
   },
   {
    "duration": 0,
    "start_time": "2023-01-24T09:35:09.514Z"
   },
   {
    "duration": 7,
    "start_time": "2023-01-24T09:36:57.058Z"
   },
   {
    "duration": 14,
    "start_time": "2023-01-24T09:37:13.718Z"
   },
   {
    "duration": 14,
    "start_time": "2023-01-24T09:37:14.569Z"
   },
   {
    "duration": 81,
    "start_time": "2023-01-24T09:37:16.247Z"
   },
   {
    "duration": 23,
    "start_time": "2023-01-24T09:37:17.120Z"
   },
   {
    "duration": 53,
    "start_time": "2023-01-24T09:37:19.038Z"
   },
   {
    "duration": 15,
    "start_time": "2023-01-24T09:39:03.772Z"
   },
   {
    "duration": 2042,
    "start_time": "2023-01-24T09:39:14.126Z"
   },
   {
    "duration": 4,
    "start_time": "2023-01-24T09:39:16.171Z"
   },
   {
    "duration": 259,
    "start_time": "2023-01-24T09:39:16.176Z"
   },
   {
    "duration": 50,
    "start_time": "2023-01-24T09:39:16.438Z"
   },
   {
    "duration": 98,
    "start_time": "2023-01-24T09:39:16.490Z"
   },
   {
    "duration": 68,
    "start_time": "2023-01-24T09:39:16.590Z"
   },
   {
    "duration": 7,
    "start_time": "2023-01-24T09:39:16.660Z"
   },
   {
    "duration": 170,
    "start_time": "2023-01-24T09:39:16.669Z"
   },
   {
    "duration": 11,
    "start_time": "2023-01-24T09:39:16.841Z"
   },
   {
    "duration": 87,
    "start_time": "2023-01-24T09:39:16.853Z"
   },
   {
    "duration": 147,
    "start_time": "2023-01-24T09:39:16.942Z"
   },
   {
    "duration": 164,
    "start_time": "2023-01-24T09:39:17.091Z"
   },
   {
    "duration": 8,
    "start_time": "2023-01-24T09:39:17.257Z"
   },
   {
    "duration": 158,
    "start_time": "2023-01-24T09:39:17.269Z"
   },
   {
    "duration": 23,
    "start_time": "2023-01-24T09:39:17.429Z"
   },
   {
    "duration": 17,
    "start_time": "2023-01-24T09:39:17.453Z"
   },
   {
    "duration": 176,
    "start_time": "2023-01-24T09:39:17.471Z"
   },
   {
    "duration": 155,
    "start_time": "2023-01-24T09:39:17.650Z"
   },
   {
    "duration": 32,
    "start_time": "2023-01-24T09:39:17.806Z"
   },
   {
    "duration": 13,
    "start_time": "2023-01-24T09:39:17.841Z"
   },
   {
    "duration": 158,
    "start_time": "2023-01-24T09:39:17.858Z"
   },
   {
    "duration": 168,
    "start_time": "2023-01-24T09:39:18.018Z"
   },
   {
    "duration": 27,
    "start_time": "2023-01-24T09:39:18.188Z"
   },
   {
    "duration": 23,
    "start_time": "2023-01-24T09:39:18.217Z"
   },
   {
    "duration": 161,
    "start_time": "2023-01-24T09:39:18.242Z"
   },
   {
    "duration": 16,
    "start_time": "2023-01-24T09:39:18.404Z"
   },
   {
    "duration": 19,
    "start_time": "2023-01-24T09:39:18.422Z"
   },
   {
    "duration": 242,
    "start_time": "2023-01-24T09:39:18.443Z"
   },
   {
    "duration": 23,
    "start_time": "2023-01-24T09:39:18.687Z"
   },
   {
    "duration": 25,
    "start_time": "2023-01-24T09:39:18.712Z"
   },
   {
    "duration": 5,
    "start_time": "2023-01-24T09:39:18.739Z"
   },
   {
    "duration": 70,
    "start_time": "2023-01-24T09:39:18.745Z"
   },
   {
    "duration": 4962,
    "start_time": "2023-01-24T09:39:18.816Z"
   },
   {
    "duration": 11,
    "start_time": "2023-01-24T09:39:23.779Z"
   },
   {
    "duration": 21,
    "start_time": "2023-01-24T09:39:23.792Z"
   },
   {
    "duration": 33,
    "start_time": "2023-01-24T09:39:23.814Z"
   },
   {
    "duration": 19,
    "start_time": "2023-01-24T09:39:23.849Z"
   },
   {
    "duration": 15,
    "start_time": "2023-01-24T09:39:23.870Z"
   },
   {
    "duration": 640,
    "start_time": "2023-01-24T09:39:23.887Z"
   },
   {
    "duration": 5,
    "start_time": "2023-01-24T09:39:24.529Z"
   },
   {
    "duration": 38,
    "start_time": "2023-01-24T09:39:24.541Z"
   },
   {
    "duration": 13,
    "start_time": "2023-01-24T09:39:24.581Z"
   },
   {
    "duration": 154,
    "start_time": "2023-01-24T09:39:27.213Z"
   },
   {
    "duration": 72,
    "start_time": "2023-01-24T09:44:39.911Z"
   },
   {
    "duration": 12,
    "start_time": "2023-01-24T09:45:35.107Z"
   },
   {
    "duration": 183,
    "start_time": "2023-01-24T09:45:36.809Z"
   },
   {
    "duration": 163,
    "start_time": "2023-01-24T09:45:41.160Z"
   },
   {
    "duration": 10,
    "start_time": "2023-01-24T09:56:45.175Z"
   },
   {
    "duration": 45,
    "start_time": "2023-01-24T09:58:40.957Z"
   },
   {
    "duration": 242549,
    "start_time": "2023-01-24T09:58:48.815Z"
   },
   {
    "duration": 0,
    "start_time": "2023-01-24T10:02:51.367Z"
   },
   {
    "duration": 2036,
    "start_time": "2023-01-24T10:02:56.765Z"
   },
   {
    "duration": 4,
    "start_time": "2023-01-24T10:02:58.803Z"
   },
   {
    "duration": 244,
    "start_time": "2023-01-24T10:02:58.809Z"
   },
   {
    "duration": 52,
    "start_time": "2023-01-24T10:02:59.055Z"
   },
   {
    "duration": 103,
    "start_time": "2023-01-24T10:02:59.109Z"
   },
   {
    "duration": 59,
    "start_time": "2023-01-24T10:02:59.215Z"
   },
   {
    "duration": 7,
    "start_time": "2023-01-24T10:02:59.276Z"
   },
   {
    "duration": 155,
    "start_time": "2023-01-24T10:02:59.286Z"
   },
   {
    "duration": 17,
    "start_time": "2023-01-24T10:02:59.443Z"
   },
   {
    "duration": 92,
    "start_time": "2023-01-24T10:02:59.463Z"
   },
   {
    "duration": 147,
    "start_time": "2023-01-24T10:02:59.557Z"
   },
   {
    "duration": 144,
    "start_time": "2023-01-24T10:02:59.706Z"
   },
   {
    "duration": 9,
    "start_time": "2023-01-24T10:02:59.852Z"
   },
   {
    "duration": 248,
    "start_time": "2023-01-24T10:02:59.865Z"
   },
   {
    "duration": 23,
    "start_time": "2023-01-24T10:03:00.115Z"
   },
   {
    "duration": 27,
    "start_time": "2023-01-24T10:03:00.140Z"
   },
   {
    "duration": 160,
    "start_time": "2023-01-24T10:03:00.169Z"
   },
   {
    "duration": 145,
    "start_time": "2023-01-24T10:03:00.331Z"
   },
   {
    "duration": 22,
    "start_time": "2023-01-24T10:03:00.478Z"
   },
   {
    "duration": 18,
    "start_time": "2023-01-24T10:03:00.502Z"
   },
   {
    "duration": 173,
    "start_time": "2023-01-24T10:03:00.522Z"
   },
   {
    "duration": 144,
    "start_time": "2023-01-24T10:03:00.697Z"
   },
   {
    "duration": 28,
    "start_time": "2023-01-24T10:03:00.845Z"
   },
   {
    "duration": 24,
    "start_time": "2023-01-24T10:03:00.876Z"
   },
   {
    "duration": 180,
    "start_time": "2023-01-24T10:03:00.901Z"
   },
   {
    "duration": 20,
    "start_time": "2023-01-24T10:03:01.083Z"
   },
   {
    "duration": 42,
    "start_time": "2023-01-24T10:03:01.104Z"
   },
   {
    "duration": 144,
    "start_time": "2023-01-24T10:03:01.149Z"
   },
   {
    "duration": 22,
    "start_time": "2023-01-24T10:03:01.294Z"
   },
   {
    "duration": 21,
    "start_time": "2023-01-24T10:03:01.318Z"
   },
   {
    "duration": 22,
    "start_time": "2023-01-24T10:03:01.343Z"
   },
   {
    "duration": 95,
    "start_time": "2023-01-24T10:03:01.367Z"
   },
   {
    "duration": 4501,
    "start_time": "2023-01-24T10:03:01.464Z"
   },
   {
    "duration": 14,
    "start_time": "2023-01-24T10:03:05.967Z"
   },
   {
    "duration": 40,
    "start_time": "2023-01-24T10:03:05.983Z"
   },
   {
    "duration": 36,
    "start_time": "2023-01-24T10:03:06.025Z"
   },
   {
    "duration": 30,
    "start_time": "2023-01-24T10:03:06.063Z"
   },
   {
    "duration": 54,
    "start_time": "2023-01-24T10:03:06.095Z"
   },
   {
    "duration": 635,
    "start_time": "2023-01-24T10:03:06.151Z"
   },
   {
    "duration": 5,
    "start_time": "2023-01-24T10:03:06.788Z"
   },
   {
    "duration": 23,
    "start_time": "2023-01-24T10:03:06.798Z"
   },
   {
    "duration": 33,
    "start_time": "2023-01-24T10:03:06.823Z"
   },
   {
    "duration": 188,
    "start_time": "2023-01-24T10:03:06.858Z"
   },
   {
    "duration": 183,
    "start_time": "2023-01-24T10:03:07.050Z"
   },
   {
    "duration": 2088,
    "start_time": "2023-01-24T10:03:42.627Z"
   },
   {
    "duration": 5,
    "start_time": "2023-01-24T10:03:44.717Z"
   },
   {
    "duration": 278,
    "start_time": "2023-01-24T10:03:44.724Z"
   },
   {
    "duration": 61,
    "start_time": "2023-01-24T10:03:45.003Z"
   },
   {
    "duration": 96,
    "start_time": "2023-01-24T10:03:45.066Z"
   },
   {
    "duration": 41,
    "start_time": "2023-01-24T10:03:45.163Z"
   },
   {
    "duration": 11,
    "start_time": "2023-01-24T10:03:45.205Z"
   },
   {
    "duration": 184,
    "start_time": "2023-01-24T10:03:45.217Z"
   },
   {
    "duration": 6,
    "start_time": "2023-01-24T10:03:45.403Z"
   },
   {
    "duration": 110,
    "start_time": "2023-01-24T10:03:45.412Z"
   },
   {
    "duration": 160,
    "start_time": "2023-01-24T10:03:45.524Z"
   },
   {
    "duration": 153,
    "start_time": "2023-01-24T10:03:45.686Z"
   },
   {
    "duration": 15,
    "start_time": "2023-01-24T10:03:45.842Z"
   },
   {
    "duration": 163,
    "start_time": "2023-01-24T10:03:45.860Z"
   },
   {
    "duration": 33,
    "start_time": "2023-01-24T10:03:46.025Z"
   },
   {
    "duration": 33,
    "start_time": "2023-01-24T10:03:46.061Z"
   },
   {
    "duration": 146,
    "start_time": "2023-01-24T10:03:46.096Z"
   },
   {
    "duration": 157,
    "start_time": "2023-01-24T10:03:46.244Z"
   },
   {
    "duration": 22,
    "start_time": "2023-01-24T10:03:46.403Z"
   },
   {
    "duration": 27,
    "start_time": "2023-01-24T10:03:46.436Z"
   },
   {
    "duration": 163,
    "start_time": "2023-01-24T10:03:46.464Z"
   },
   {
    "duration": 148,
    "start_time": "2023-01-24T10:03:46.628Z"
   },
   {
    "duration": 22,
    "start_time": "2023-01-24T10:03:46.777Z"
   },
   {
    "duration": 13,
    "start_time": "2023-01-24T10:03:46.800Z"
   },
   {
    "duration": 163,
    "start_time": "2023-01-24T10:03:46.815Z"
   },
   {
    "duration": 17,
    "start_time": "2023-01-24T10:03:46.980Z"
   },
   {
    "duration": 17,
    "start_time": "2023-01-24T10:03:46.999Z"
   },
   {
    "duration": 163,
    "start_time": "2023-01-24T10:03:47.019Z"
   },
   {
    "duration": 24,
    "start_time": "2023-01-24T10:03:47.183Z"
   },
   {
    "duration": 15,
    "start_time": "2023-01-24T10:03:47.209Z"
   },
   {
    "duration": 17,
    "start_time": "2023-01-24T10:03:47.226Z"
   },
   {
    "duration": 80,
    "start_time": "2023-01-24T10:03:47.246Z"
   },
   {
    "duration": 4559,
    "start_time": "2023-01-24T10:03:47.328Z"
   },
   {
    "duration": 11,
    "start_time": "2023-01-24T10:03:51.888Z"
   },
   {
    "duration": 12,
    "start_time": "2023-01-24T10:03:51.900Z"
   },
   {
    "duration": 44,
    "start_time": "2023-01-24T10:03:51.914Z"
   },
   {
    "duration": 12,
    "start_time": "2023-01-24T10:03:51.961Z"
   },
   {
    "duration": 5,
    "start_time": "2023-01-24T10:03:51.975Z"
   },
   {
    "duration": 656,
    "start_time": "2023-01-24T10:03:51.982Z"
   },
   {
    "duration": 6,
    "start_time": "2023-01-24T10:03:52.640Z"
   },
   {
    "duration": 29,
    "start_time": "2023-01-24T10:03:52.648Z"
   },
   {
    "duration": 11,
    "start_time": "2023-01-24T10:03:52.679Z"
   },
   {
    "duration": 182,
    "start_time": "2023-01-24T10:03:52.691Z"
   },
   {
    "duration": 215,
    "start_time": "2023-01-24T10:03:52.876Z"
   },
   {
    "duration": 549411,
    "start_time": "2023-01-24T10:04:05.116Z"
   },
   {
    "duration": 185,
    "start_time": "2023-01-24T10:21:56.053Z"
   },
   {
    "duration": 12,
    "start_time": "2023-01-24T10:29:32.024Z"
   },
   {
    "duration": 4,
    "start_time": "2023-01-24T10:30:04.755Z"
   },
   {
    "duration": 569917,
    "start_time": "2023-01-24T10:30:21.651Z"
   },
   {
    "duration": 24,
    "start_time": "2023-01-24T10:41:21.884Z"
   },
   {
    "duration": 29,
    "start_time": "2023-01-24T10:42:20.636Z"
   },
   {
    "duration": 11,
    "start_time": "2023-01-24T10:43:38.590Z"
   },
   {
    "duration": 10,
    "start_time": "2023-01-24T10:43:44.619Z"
   },
   {
    "duration": 7,
    "start_time": "2023-01-24T10:44:09.695Z"
   },
   {
    "duration": 7,
    "start_time": "2023-01-24T10:44:38.709Z"
   },
   {
    "duration": 7,
    "start_time": "2023-01-24T10:44:55.506Z"
   },
   {
    "duration": 7,
    "start_time": "2023-01-24T10:45:02.588Z"
   },
   {
    "duration": 4,
    "start_time": "2023-01-24T10:45:38.703Z"
   },
   {
    "duration": 4,
    "start_time": "2023-01-24T10:47:04.928Z"
   },
   {
    "duration": 19,
    "start_time": "2023-01-24T11:54:43.419Z"
   },
   {
    "duration": 4,
    "start_time": "2023-01-24T11:55:19.545Z"
   },
   {
    "duration": 3,
    "start_time": "2023-01-24T11:59:32.835Z"
   },
   {
    "duration": 4,
    "start_time": "2023-01-24T11:59:40.120Z"
   },
   {
    "duration": 3,
    "start_time": "2023-01-24T12:00:50.802Z"
   },
   {
    "duration": 100,
    "start_time": "2023-01-24T12:01:57.629Z"
   },
   {
    "duration": 98,
    "start_time": "2023-01-24T12:07:21.799Z"
   },
   {
    "duration": 400049,
    "start_time": "2023-01-24T12:07:51.740Z"
   },
   {
    "duration": 15,
    "start_time": "2023-01-24T12:15:24.502Z"
   },
   {
    "duration": 98,
    "start_time": "2023-01-24T12:15:53.699Z"
   },
   {
    "duration": 87917,
    "start_time": "2023-01-24T12:15:54.919Z"
   },
   {
    "duration": 106,
    "start_time": "2023-01-24T12:17:35.682Z"
   },
   {
    "duration": 1900,
    "start_time": "2023-01-24T12:17:41.302Z"
   },
   {
    "duration": 5,
    "start_time": "2023-01-24T12:17:43.205Z"
   },
   {
    "duration": 242,
    "start_time": "2023-01-24T12:17:43.212Z"
   },
   {
    "duration": 41,
    "start_time": "2023-01-24T12:17:43.455Z"
   },
   {
    "duration": 81,
    "start_time": "2023-01-24T12:17:43.498Z"
   },
   {
    "duration": 40,
    "start_time": "2023-01-24T12:17:43.581Z"
   },
   {
    "duration": 7,
    "start_time": "2023-01-24T12:17:43.637Z"
   },
   {
    "duration": 147,
    "start_time": "2023-01-24T12:17:43.646Z"
   },
   {
    "duration": 6,
    "start_time": "2023-01-24T12:17:43.795Z"
   },
   {
    "duration": 102,
    "start_time": "2023-01-24T12:17:43.803Z"
   },
   {
    "duration": 134,
    "start_time": "2023-01-24T12:17:43.907Z"
   },
   {
    "duration": 140,
    "start_time": "2023-01-24T12:17:44.042Z"
   },
   {
    "duration": 8,
    "start_time": "2023-01-24T12:17:44.184Z"
   },
   {
    "duration": 150,
    "start_time": "2023-01-24T12:17:44.195Z"
   },
   {
    "duration": 18,
    "start_time": "2023-01-24T12:17:44.346Z"
   },
   {
    "duration": 46,
    "start_time": "2023-01-24T12:17:44.366Z"
   },
   {
    "duration": 155,
    "start_time": "2023-01-24T12:17:44.414Z"
   },
   {
    "duration": 122,
    "start_time": "2023-01-24T12:17:44.570Z"
   },
   {
    "duration": 20,
    "start_time": "2023-01-24T12:17:44.694Z"
   },
   {
    "duration": 199,
    "start_time": "2023-01-24T12:17:44.715Z"
   },
   {
    "duration": 161,
    "start_time": "2023-01-24T12:17:44.916Z"
   },
   {
    "duration": 141,
    "start_time": "2023-01-24T12:17:45.078Z"
   },
   {
    "duration": 34,
    "start_time": "2023-01-24T12:17:45.221Z"
   },
   {
    "duration": 34,
    "start_time": "2023-01-24T12:17:45.257Z"
   },
   {
    "duration": 164,
    "start_time": "2023-01-24T12:17:45.292Z"
   },
   {
    "duration": 17,
    "start_time": "2023-01-24T12:17:45.458Z"
   },
   {
    "duration": 21,
    "start_time": "2023-01-24T12:17:45.477Z"
   },
   {
    "duration": 143,
    "start_time": "2023-01-24T12:17:45.500Z"
   },
   {
    "duration": 25,
    "start_time": "2023-01-24T12:17:45.644Z"
   },
   {
    "duration": 52,
    "start_time": "2023-01-24T12:17:45.671Z"
   },
   {
    "duration": 36,
    "start_time": "2023-01-24T12:17:45.724Z"
   },
   {
    "duration": 92,
    "start_time": "2023-01-24T12:17:45.761Z"
   },
   {
    "duration": 4109,
    "start_time": "2023-01-24T12:17:45.854Z"
   },
   {
    "duration": 10,
    "start_time": "2023-01-24T12:17:49.965Z"
   },
   {
    "duration": 33,
    "start_time": "2023-01-24T12:17:49.977Z"
   },
   {
    "duration": 50,
    "start_time": "2023-01-24T12:17:50.011Z"
   },
   {
    "duration": 13,
    "start_time": "2023-01-24T12:17:50.062Z"
   },
   {
    "duration": 3,
    "start_time": "2023-01-24T12:17:50.077Z"
   },
   {
    "duration": 544,
    "start_time": "2023-01-24T12:17:50.082Z"
   },
   {
    "duration": 9,
    "start_time": "2023-01-24T12:17:50.628Z"
   },
   {
    "duration": 14,
    "start_time": "2023-01-24T12:17:50.640Z"
   },
   {
    "duration": 18,
    "start_time": "2023-01-24T12:17:50.656Z"
   },
   {
    "duration": 163,
    "start_time": "2023-01-24T12:17:50.675Z"
   },
   {
    "duration": 168,
    "start_time": "2023-01-24T12:17:50.840Z"
   },
   {
    "duration": 3,
    "start_time": "2023-01-24T12:17:51.010Z"
   },
   {
    "duration": 114,
    "start_time": "2023-01-24T12:17:51.015Z"
   },
   {
    "duration": 1891,
    "start_time": "2023-01-24T12:18:17.225Z"
   },
   {
    "duration": 1379,
    "start_time": "2023-01-24T12:18:19.119Z"
   },
   {
    "duration": 311,
    "start_time": "2023-01-24T12:18:20.499Z"
   },
   {
    "duration": 59,
    "start_time": "2023-01-24T12:18:20.812Z"
   },
   {
    "duration": 137,
    "start_time": "2023-01-24T12:18:20.874Z"
   },
   {
    "duration": 53,
    "start_time": "2023-01-24T12:18:21.013Z"
   },
   {
    "duration": 6,
    "start_time": "2023-01-24T12:18:21.068Z"
   },
   {
    "duration": 159,
    "start_time": "2023-01-24T12:18:21.076Z"
   },
   {
    "duration": 7,
    "start_time": "2023-01-24T12:18:21.237Z"
   },
   {
    "duration": 102,
    "start_time": "2023-01-24T12:18:21.246Z"
   },
   {
    "duration": 171,
    "start_time": "2023-01-24T12:18:21.350Z"
   },
   {
    "duration": 146,
    "start_time": "2023-01-24T12:18:21.522Z"
   },
   {
    "duration": 12,
    "start_time": "2023-01-24T12:18:21.670Z"
   },
   {
    "duration": 199,
    "start_time": "2023-01-24T12:18:21.685Z"
   },
   {
    "duration": 15,
    "start_time": "2023-01-24T12:18:21.885Z"
   },
   {
    "duration": 19,
    "start_time": "2023-01-24T12:18:21.901Z"
   },
   {
    "duration": 147,
    "start_time": "2023-01-24T12:18:21.922Z"
   },
   {
    "duration": 130,
    "start_time": "2023-01-24T12:18:22.070Z"
   },
   {
    "duration": 22,
    "start_time": "2023-01-24T12:18:22.202Z"
   },
   {
    "duration": 10,
    "start_time": "2023-01-24T12:18:22.237Z"
   },
   {
    "duration": 147,
    "start_time": "2023-01-24T12:18:22.249Z"
   },
   {
    "duration": 158,
    "start_time": "2023-01-24T12:18:22.398Z"
   },
   {
    "duration": 33,
    "start_time": "2023-01-24T12:18:22.559Z"
   },
   {
    "duration": 19,
    "start_time": "2023-01-24T12:18:22.594Z"
   },
   {
    "duration": 155,
    "start_time": "2023-01-24T12:18:22.615Z"
   },
   {
    "duration": 19,
    "start_time": "2023-01-24T12:18:22.771Z"
   },
   {
    "duration": 14,
    "start_time": "2023-01-24T12:18:22.792Z"
   },
   {
    "duration": 142,
    "start_time": "2023-01-24T12:18:22.807Z"
   },
   {
    "duration": 22,
    "start_time": "2023-01-24T12:18:22.951Z"
   },
   {
    "duration": 9,
    "start_time": "2023-01-24T12:18:22.975Z"
   },
   {
    "duration": 4,
    "start_time": "2023-01-24T12:18:22.986Z"
   },
   {
    "duration": 90,
    "start_time": "2023-01-24T12:18:22.992Z"
   },
   {
    "duration": 4255,
    "start_time": "2023-01-24T12:18:23.084Z"
   },
   {
    "duration": 12,
    "start_time": "2023-01-24T12:18:27.340Z"
   },
   {
    "duration": 17,
    "start_time": "2023-01-24T12:18:27.354Z"
   },
   {
    "duration": 49,
    "start_time": "2023-01-24T12:18:27.372Z"
   },
   {
    "duration": 13,
    "start_time": "2023-01-24T12:18:27.423Z"
   },
   {
    "duration": 31,
    "start_time": "2023-01-24T12:18:27.438Z"
   },
   {
    "duration": 589,
    "start_time": "2023-01-24T12:18:27.471Z"
   },
   {
    "duration": 4,
    "start_time": "2023-01-24T12:18:28.062Z"
   },
   {
    "duration": 18,
    "start_time": "2023-01-24T12:18:28.070Z"
   },
   {
    "duration": 20,
    "start_time": "2023-01-24T12:18:28.090Z"
   },
   {
    "duration": 208,
    "start_time": "2023-01-24T12:18:28.112Z"
   },
   {
    "duration": 184,
    "start_time": "2023-01-24T12:18:28.322Z"
   },
   {
    "duration": 3,
    "start_time": "2023-01-24T12:18:28.508Z"
   },
   {
    "duration": 109,
    "start_time": "2023-01-24T12:18:28.513Z"
   },
   {
    "duration": 1933,
    "start_time": "2023-01-24T12:21:03.696Z"
   },
   {
    "duration": 1566,
    "start_time": "2023-01-24T12:21:05.632Z"
   },
   {
    "duration": 233,
    "start_time": "2023-01-24T12:21:07.199Z"
   },
   {
    "duration": 61,
    "start_time": "2023-01-24T12:21:07.434Z"
   },
   {
    "duration": 90,
    "start_time": "2023-01-24T12:21:07.497Z"
   },
   {
    "duration": 67,
    "start_time": "2023-01-24T12:21:07.589Z"
   },
   {
    "duration": 52,
    "start_time": "2023-01-24T12:21:07.658Z"
   },
   {
    "duration": 230,
    "start_time": "2023-01-24T12:21:07.712Z"
   },
   {
    "duration": 7,
    "start_time": "2023-01-24T12:21:07.943Z"
   },
   {
    "duration": 113,
    "start_time": "2023-01-24T12:21:07.953Z"
   },
   {
    "duration": 147,
    "start_time": "2023-01-24T12:21:08.067Z"
   },
   {
    "duration": 163,
    "start_time": "2023-01-24T12:21:08.216Z"
   },
   {
    "duration": 12,
    "start_time": "2023-01-24T12:21:08.381Z"
   },
   {
    "duration": 217,
    "start_time": "2023-01-24T12:21:08.395Z"
   },
   {
    "duration": 24,
    "start_time": "2023-01-24T12:21:08.614Z"
   },
   {
    "duration": 95,
    "start_time": "2023-01-24T12:21:08.640Z"
   },
   {
    "duration": 188,
    "start_time": "2023-01-24T12:21:08.737Z"
   },
   {
    "duration": 195,
    "start_time": "2023-01-24T12:21:08.927Z"
   },
   {
    "duration": 41,
    "start_time": "2023-01-24T12:21:09.124Z"
   },
   {
    "duration": 21,
    "start_time": "2023-01-24T12:21:09.167Z"
   },
   {
    "duration": 191,
    "start_time": "2023-01-24T12:21:09.190Z"
   },
   {
    "duration": 156,
    "start_time": "2023-01-24T12:21:09.383Z"
   },
   {
    "duration": 35,
    "start_time": "2023-01-24T12:21:09.541Z"
   },
   {
    "duration": 21,
    "start_time": "2023-01-24T12:21:09.578Z"
   },
   {
    "duration": 170,
    "start_time": "2023-01-24T12:21:09.601Z"
   },
   {
    "duration": 18,
    "start_time": "2023-01-24T12:21:09.773Z"
   },
   {
    "duration": 60,
    "start_time": "2023-01-24T12:21:09.793Z"
   },
   {
    "duration": 154,
    "start_time": "2023-01-24T12:21:09.857Z"
   },
   {
    "duration": 40,
    "start_time": "2023-01-24T12:21:10.013Z"
   },
   {
    "duration": 34,
    "start_time": "2023-01-24T12:21:10.055Z"
   },
   {
    "duration": 27,
    "start_time": "2023-01-24T12:21:10.091Z"
   },
   {
    "duration": 103,
    "start_time": "2023-01-24T12:21:10.120Z"
   },
   {
    "duration": 4434,
    "start_time": "2023-01-24T12:21:10.225Z"
   },
   {
    "duration": 11,
    "start_time": "2023-01-24T12:21:14.661Z"
   },
   {
    "duration": 7,
    "start_time": "2023-01-24T12:21:14.674Z"
   },
   {
    "duration": 33,
    "start_time": "2023-01-24T12:21:14.683Z"
   },
   {
    "duration": 34,
    "start_time": "2023-01-24T12:21:14.718Z"
   },
   {
    "duration": 4,
    "start_time": "2023-01-24T12:21:14.754Z"
   },
   {
    "duration": 588,
    "start_time": "2023-01-24T12:21:14.760Z"
   },
   {
    "duration": 4,
    "start_time": "2023-01-24T12:21:15.350Z"
   },
   {
    "duration": 24,
    "start_time": "2023-01-24T12:21:15.356Z"
   },
   {
    "duration": 18,
    "start_time": "2023-01-24T12:21:15.382Z"
   },
   {
    "duration": 251,
    "start_time": "2023-01-24T12:21:15.401Z"
   },
   {
    "duration": 202,
    "start_time": "2023-01-24T12:21:15.654Z"
   },
   {
    "duration": 2,
    "start_time": "2023-01-24T12:21:15.858Z"
   },
   {
    "duration": 157,
    "start_time": "2023-01-24T12:21:15.862Z"
   },
   {
    "duration": 414436,
    "start_time": "2023-01-24T12:21:16.021Z"
   },
   {
    "duration": 5,
    "start_time": "2023-01-24T12:28:10.459Z"
   },
   {
    "duration": 14,
    "start_time": "2023-01-24T12:28:20.511Z"
   },
   {
    "duration": 13,
    "start_time": "2023-01-24T12:28:57.068Z"
   },
   {
    "duration": 5,
    "start_time": "2023-01-24T12:29:33.885Z"
   },
   {
    "duration": 5,
    "start_time": "2023-01-24T12:30:05.431Z"
   },
   {
    "duration": 6,
    "start_time": "2023-01-24T12:30:22.988Z"
   },
   {
    "duration": 5,
    "start_time": "2023-01-24T12:30:33.802Z"
   },
   {
    "duration": 98,
    "start_time": "2023-01-24T12:31:01.299Z"
   },
   {
    "duration": 399911,
    "start_time": "2023-01-24T12:31:02.185Z"
   },
   {
    "duration": 14,
    "start_time": "2023-01-24T12:37:42.098Z"
   },
   {
    "duration": 11,
    "start_time": "2023-01-24T12:37:44.787Z"
   },
   {
    "duration": 5,
    "start_time": "2023-01-24T12:37:45.646Z"
   },
   {
    "duration": 98,
    "start_time": "2023-01-24T12:37:53.976Z"
   },
   {
    "duration": 151645,
    "start_time": "2023-01-24T12:37:54.973Z"
   },
   {
    "duration": 101,
    "start_time": "2023-01-24T12:40:33.449Z"
   },
   {
    "duration": 116486,
    "start_time": "2023-01-24T12:40:34.303Z"
   },
   {
    "duration": 100,
    "start_time": "2023-01-24T12:42:38.020Z"
   },
   {
    "duration": 94175,
    "start_time": "2023-01-24T12:42:39.011Z"
   },
   {
    "duration": 113,
    "start_time": "2023-01-24T12:44:19.576Z"
   },
   {
    "duration": 1807,
    "start_time": "2023-01-24T12:46:26.621Z"
   },
   {
    "duration": 1364,
    "start_time": "2023-01-24T12:46:28.430Z"
   },
   {
    "duration": 239,
    "start_time": "2023-01-24T12:46:29.796Z"
   },
   {
    "duration": 37,
    "start_time": "2023-01-24T12:46:30.036Z"
   },
   {
    "duration": 91,
    "start_time": "2023-01-24T12:46:30.075Z"
   },
   {
    "duration": 51,
    "start_time": "2023-01-24T12:46:30.168Z"
   },
   {
    "duration": 17,
    "start_time": "2023-01-24T12:46:30.221Z"
   },
   {
    "duration": 147,
    "start_time": "2023-01-24T12:46:30.239Z"
   },
   {
    "duration": 5,
    "start_time": "2023-01-24T12:46:30.388Z"
   },
   {
    "duration": 123,
    "start_time": "2023-01-24T12:46:30.395Z"
   },
   {
    "duration": 145,
    "start_time": "2023-01-24T12:46:30.520Z"
   },
   {
    "duration": 140,
    "start_time": "2023-01-24T12:46:30.666Z"
   },
   {
    "duration": 14,
    "start_time": "2023-01-24T12:46:30.808Z"
   },
   {
    "duration": 186,
    "start_time": "2023-01-24T12:46:30.836Z"
   },
   {
    "duration": 25,
    "start_time": "2023-01-24T12:46:31.024Z"
   },
   {
    "duration": 51,
    "start_time": "2023-01-24T12:46:31.051Z"
   },
   {
    "duration": 129,
    "start_time": "2023-01-24T12:46:31.104Z"
   },
   {
    "duration": 126,
    "start_time": "2023-01-24T12:46:31.237Z"
   },
   {
    "duration": 22,
    "start_time": "2023-01-24T12:46:31.365Z"
   },
   {
    "duration": 20,
    "start_time": "2023-01-24T12:46:31.389Z"
   },
   {
    "duration": 138,
    "start_time": "2023-01-24T12:46:31.411Z"
   },
   {
    "duration": 138,
    "start_time": "2023-01-24T12:46:31.550Z"
   },
   {
    "duration": 22,
    "start_time": "2023-01-24T12:46:31.690Z"
   },
   {
    "duration": 10,
    "start_time": "2023-01-24T12:46:31.714Z"
   },
   {
    "duration": 134,
    "start_time": "2023-01-24T12:46:31.736Z"
   },
   {
    "duration": 19,
    "start_time": "2023-01-24T12:46:31.872Z"
   },
   {
    "duration": 42,
    "start_time": "2023-01-24T12:46:31.893Z"
   },
   {
    "duration": 127,
    "start_time": "2023-01-24T12:46:31.937Z"
   },
   {
    "duration": 21,
    "start_time": "2023-01-24T12:46:32.065Z"
   },
   {
    "duration": 9,
    "start_time": "2023-01-24T12:46:32.088Z"
   },
   {
    "duration": 4,
    "start_time": "2023-01-24T12:46:32.098Z"
   },
   {
    "duration": 79,
    "start_time": "2023-01-24T12:46:32.103Z"
   },
   {
    "duration": 3962,
    "start_time": "2023-01-24T12:46:32.184Z"
   },
   {
    "duration": 10,
    "start_time": "2023-01-24T12:46:36.148Z"
   },
   {
    "duration": 7,
    "start_time": "2023-01-24T12:46:36.159Z"
   },
   {
    "duration": 28,
    "start_time": "2023-01-24T12:46:36.168Z"
   },
   {
    "duration": 13,
    "start_time": "2023-01-24T12:46:36.198Z"
   },
   {
    "duration": 4,
    "start_time": "2023-01-24T12:46:36.212Z"
   },
   {
    "duration": 541,
    "start_time": "2023-01-24T12:46:36.217Z"
   },
   {
    "duration": 4,
    "start_time": "2023-01-24T12:46:36.759Z"
   },
   {
    "duration": 12,
    "start_time": "2023-01-24T12:46:36.767Z"
   },
   {
    "duration": 26,
    "start_time": "2023-01-24T12:46:36.780Z"
   },
   {
    "duration": 184,
    "start_time": "2023-01-24T12:46:36.808Z"
   },
   {
    "duration": 173,
    "start_time": "2023-01-24T12:46:36.994Z"
   },
   {
    "duration": 2,
    "start_time": "2023-01-24T12:46:37.169Z"
   },
   {
    "duration": 108,
    "start_time": "2023-01-24T12:46:37.173Z"
   },
   {
    "duration": 1854,
    "start_time": "2023-01-24T12:48:58.888Z"
   },
   {
    "duration": 1351,
    "start_time": "2023-01-24T12:49:00.744Z"
   },
   {
    "duration": 233,
    "start_time": "2023-01-24T12:49:02.097Z"
   },
   {
    "duration": 39,
    "start_time": "2023-01-24T12:49:02.332Z"
   },
   {
    "duration": 100,
    "start_time": "2023-01-24T12:49:02.372Z"
   },
   {
    "duration": 73,
    "start_time": "2023-01-24T12:49:02.474Z"
   },
   {
    "duration": 8,
    "start_time": "2023-01-24T12:49:02.550Z"
   },
   {
    "duration": 156,
    "start_time": "2023-01-24T12:49:02.560Z"
   },
   {
    "duration": 7,
    "start_time": "2023-01-24T12:49:02.718Z"
   },
   {
    "duration": 113,
    "start_time": "2023-01-24T12:49:02.727Z"
   },
   {
    "duration": 147,
    "start_time": "2023-01-24T12:49:02.841Z"
   },
   {
    "duration": 130,
    "start_time": "2023-01-24T12:49:02.990Z"
   },
   {
    "duration": 22,
    "start_time": "2023-01-24T12:49:03.122Z"
   },
   {
    "duration": 196,
    "start_time": "2023-01-24T12:49:03.146Z"
   },
   {
    "duration": 15,
    "start_time": "2023-01-24T12:49:03.344Z"
   },
   {
    "duration": 18,
    "start_time": "2023-01-24T12:49:03.360Z"
   },
   {
    "duration": 133,
    "start_time": "2023-01-24T12:49:03.380Z"
   },
   {
    "duration": 132,
    "start_time": "2023-01-24T12:49:03.514Z"
   },
   {
    "duration": 21,
    "start_time": "2023-01-24T12:49:03.648Z"
   },
   {
    "duration": 10,
    "start_time": "2023-01-24T12:49:03.671Z"
   },
   {
    "duration": 133,
    "start_time": "2023-01-24T12:49:03.683Z"
   },
   {
    "duration": 138,
    "start_time": "2023-01-24T12:49:03.817Z"
   },
   {
    "duration": 22,
    "start_time": "2023-01-24T12:49:03.957Z"
   },
   {
    "duration": 13,
    "start_time": "2023-01-24T12:49:03.980Z"
   },
   {
    "duration": 128,
    "start_time": "2023-01-24T12:49:03.995Z"
   },
   {
    "duration": 23,
    "start_time": "2023-01-24T12:49:04.125Z"
   },
   {
    "duration": 11,
    "start_time": "2023-01-24T12:49:04.150Z"
   },
   {
    "duration": 132,
    "start_time": "2023-01-24T12:49:04.164Z"
   },
   {
    "duration": 24,
    "start_time": "2023-01-24T12:49:04.298Z"
   },
   {
    "duration": 16,
    "start_time": "2023-01-24T12:49:04.323Z"
   },
   {
    "duration": 4,
    "start_time": "2023-01-24T12:49:04.341Z"
   },
   {
    "duration": 71,
    "start_time": "2023-01-24T12:49:04.347Z"
   },
   {
    "duration": 3987,
    "start_time": "2023-01-24T12:49:04.420Z"
   },
   {
    "duration": 11,
    "start_time": "2023-01-24T12:49:08.409Z"
   },
   {
    "duration": 17,
    "start_time": "2023-01-24T12:49:08.421Z"
   },
   {
    "duration": 26,
    "start_time": "2023-01-24T12:49:08.440Z"
   },
   {
    "duration": 11,
    "start_time": "2023-01-24T12:49:08.468Z"
   },
   {
    "duration": 25,
    "start_time": "2023-01-24T12:49:08.481Z"
   },
   {
    "duration": 520,
    "start_time": "2023-01-24T12:49:08.507Z"
   },
   {
    "duration": 4,
    "start_time": "2023-01-24T12:49:09.029Z"
   },
   {
    "duration": 16,
    "start_time": "2023-01-24T12:49:09.036Z"
   },
   {
    "duration": 17,
    "start_time": "2023-01-24T12:49:09.053Z"
   },
   {
    "duration": 187,
    "start_time": "2023-01-24T12:49:09.071Z"
   },
   {
    "duration": 169,
    "start_time": "2023-01-24T12:49:09.259Z"
   },
   {
    "duration": 8,
    "start_time": "2023-01-24T12:49:09.429Z"
   },
   {
    "duration": 100,
    "start_time": "2023-01-24T12:49:09.439Z"
   },
   {
    "duration": 1827,
    "start_time": "2023-01-24T12:50:46.328Z"
   },
   {
    "duration": 1324,
    "start_time": "2023-01-24T12:50:48.157Z"
   },
   {
    "duration": 249,
    "start_time": "2023-01-24T12:50:49.483Z"
   },
   {
    "duration": 43,
    "start_time": "2023-01-24T12:50:49.734Z"
   },
   {
    "duration": 92,
    "start_time": "2023-01-24T12:50:49.780Z"
   },
   {
    "duration": 63,
    "start_time": "2023-01-24T12:50:49.874Z"
   },
   {
    "duration": 7,
    "start_time": "2023-01-24T12:50:49.939Z"
   },
   {
    "duration": 159,
    "start_time": "2023-01-24T12:50:49.947Z"
   },
   {
    "duration": 6,
    "start_time": "2023-01-24T12:50:50.108Z"
   },
   {
    "duration": 94,
    "start_time": "2023-01-24T12:50:50.115Z"
   },
   {
    "duration": 138,
    "start_time": "2023-01-24T12:50:50.211Z"
   },
   {
    "duration": 139,
    "start_time": "2023-01-24T12:50:50.350Z"
   },
   {
    "duration": 13,
    "start_time": "2023-01-24T12:50:50.491Z"
   },
   {
    "duration": 202,
    "start_time": "2023-01-24T12:50:50.507Z"
   },
   {
    "duration": 26,
    "start_time": "2023-01-24T12:50:50.711Z"
   },
   {
    "duration": 31,
    "start_time": "2023-01-24T12:50:50.739Z"
   },
   {
    "duration": 124,
    "start_time": "2023-01-24T12:50:50.772Z"
   },
   {
    "duration": 117,
    "start_time": "2023-01-24T12:50:50.897Z"
   },
   {
    "duration": 34,
    "start_time": "2023-01-24T12:50:51.016Z"
   },
   {
    "duration": 44,
    "start_time": "2023-01-24T12:50:51.052Z"
   },
   {
    "duration": 145,
    "start_time": "2023-01-24T12:50:51.098Z"
   },
   {
    "duration": 137,
    "start_time": "2023-01-24T12:50:51.244Z"
   },
   {
    "duration": 22,
    "start_time": "2023-01-24T12:50:51.383Z"
   },
   {
    "duration": 24,
    "start_time": "2023-01-24T12:50:51.406Z"
   },
   {
    "duration": 140,
    "start_time": "2023-01-24T12:50:51.431Z"
   },
   {
    "duration": 18,
    "start_time": "2023-01-24T12:50:51.573Z"
   },
   {
    "duration": 33,
    "start_time": "2023-01-24T12:50:51.593Z"
   },
   {
    "duration": 122,
    "start_time": "2023-01-24T12:50:51.627Z"
   },
   {
    "duration": 22,
    "start_time": "2023-01-24T12:50:51.750Z"
   },
   {
    "duration": 46,
    "start_time": "2023-01-24T12:50:51.773Z"
   },
   {
    "duration": 41,
    "start_time": "2023-01-24T12:50:51.820Z"
   },
   {
    "duration": 121,
    "start_time": "2023-01-24T12:50:51.862Z"
   },
   {
    "duration": 4075,
    "start_time": "2023-01-24T12:50:51.984Z"
   },
   {
    "duration": 10,
    "start_time": "2023-01-24T12:50:56.060Z"
   },
   {
    "duration": 8,
    "start_time": "2023-01-24T12:50:56.072Z"
   },
   {
    "duration": 34,
    "start_time": "2023-01-24T12:50:56.081Z"
   },
   {
    "duration": 22,
    "start_time": "2023-01-24T12:50:56.117Z"
   },
   {
    "duration": 6,
    "start_time": "2023-01-24T12:50:56.140Z"
   },
   {
    "duration": 511,
    "start_time": "2023-01-24T12:50:56.147Z"
   },
   {
    "duration": 5,
    "start_time": "2023-01-24T12:50:56.660Z"
   },
   {
    "duration": 19,
    "start_time": "2023-01-24T12:50:56.668Z"
   },
   {
    "duration": 16,
    "start_time": "2023-01-24T12:50:56.688Z"
   },
   {
    "duration": 194,
    "start_time": "2023-01-24T12:50:56.706Z"
   },
   {
    "duration": 179,
    "start_time": "2023-01-24T12:50:56.901Z"
   },
   {
    "duration": 3,
    "start_time": "2023-01-24T12:50:57.081Z"
   },
   {
    "duration": 115,
    "start_time": "2023-01-24T12:50:57.085Z"
   },
   {
    "duration": 398058,
    "start_time": "2023-01-24T12:50:57.202Z"
   },
   {
    "duration": 14,
    "start_time": "2023-01-24T12:57:35.261Z"
   },
   {
    "duration": 14,
    "start_time": "2023-01-24T12:57:35.277Z"
   },
   {
    "duration": 7,
    "start_time": "2023-01-24T12:57:35.293Z"
   },
   {
    "duration": 6,
    "start_time": "2023-01-24T12:57:35.302Z"
   },
   {
    "duration": 85380,
    "start_time": "2023-01-24T12:57:35.310Z"
   },
   {
    "duration": 4,
    "start_time": "2023-01-24T12:59:00.692Z"
   },
   {
    "duration": 1922,
    "start_time": "2023-01-24T13:13:50.954Z"
   },
   {
    "duration": 1332,
    "start_time": "2023-01-24T13:13:52.879Z"
   },
   {
    "duration": 248,
    "start_time": "2023-01-24T13:13:54.213Z"
   },
   {
    "duration": 37,
    "start_time": "2023-01-24T13:13:54.463Z"
   },
   {
    "duration": 89,
    "start_time": "2023-01-24T13:13:54.501Z"
   },
   {
    "duration": 57,
    "start_time": "2023-01-24T13:13:54.591Z"
   },
   {
    "duration": 7,
    "start_time": "2023-01-24T13:13:54.649Z"
   },
   {
    "duration": 150,
    "start_time": "2023-01-24T13:13:54.657Z"
   },
   {
    "duration": 5,
    "start_time": "2023-01-24T13:13:54.809Z"
   },
   {
    "duration": 93,
    "start_time": "2023-01-24T13:13:54.817Z"
   },
   {
    "duration": 134,
    "start_time": "2023-01-24T13:13:54.912Z"
   },
   {
    "duration": 133,
    "start_time": "2023-01-24T13:13:55.048Z"
   },
   {
    "duration": 13,
    "start_time": "2023-01-24T13:13:55.182Z"
   },
   {
    "duration": 205,
    "start_time": "2023-01-24T13:13:55.196Z"
   },
   {
    "duration": 15,
    "start_time": "2023-01-24T13:13:55.403Z"
   },
   {
    "duration": 23,
    "start_time": "2023-01-24T13:13:55.420Z"
   },
   {
    "duration": 128,
    "start_time": "2023-01-24T13:13:55.444Z"
   },
   {
    "duration": 138,
    "start_time": "2023-01-24T13:13:55.574Z"
   },
   {
    "duration": 34,
    "start_time": "2023-01-24T13:13:55.714Z"
   },
   {
    "duration": 11,
    "start_time": "2023-01-24T13:13:55.750Z"
   },
   {
    "duration": 138,
    "start_time": "2023-01-24T13:13:55.763Z"
   },
   {
    "duration": 144,
    "start_time": "2023-01-24T13:13:55.903Z"
   },
   {
    "duration": 22,
    "start_time": "2023-01-24T13:13:56.048Z"
   },
   {
    "duration": 9,
    "start_time": "2023-01-24T13:13:56.072Z"
   },
   {
    "duration": 141,
    "start_time": "2023-01-24T13:13:56.083Z"
   },
   {
    "duration": 24,
    "start_time": "2023-01-24T13:13:56.226Z"
   },
   {
    "duration": 17,
    "start_time": "2023-01-24T13:13:56.251Z"
   },
   {
    "duration": 133,
    "start_time": "2023-01-24T13:13:56.271Z"
   },
   {
    "duration": 22,
    "start_time": "2023-01-24T13:13:56.405Z"
   },
   {
    "duration": 9,
    "start_time": "2023-01-24T13:13:56.437Z"
   },
   {
    "duration": 4,
    "start_time": "2023-01-24T13:13:56.447Z"
   },
   {
    "duration": 61,
    "start_time": "2023-01-24T13:13:56.452Z"
   },
   {
    "duration": 3965,
    "start_time": "2023-01-24T13:13:56.514Z"
   },
   {
    "duration": 13,
    "start_time": "2023-01-24T13:14:00.480Z"
   },
   {
    "duration": 67,
    "start_time": "2023-01-24T13:14:00.494Z"
   },
   {
    "duration": 59,
    "start_time": "2023-01-24T13:14:00.563Z"
   },
   {
    "duration": 26,
    "start_time": "2023-01-24T13:14:00.624Z"
   },
   {
    "duration": 15,
    "start_time": "2023-01-24T13:14:00.652Z"
   },
   {
    "duration": 542,
    "start_time": "2023-01-24T13:14:00.668Z"
   },
   {
    "duration": 5,
    "start_time": "2023-01-24T13:14:01.212Z"
   },
   {
    "duration": 53,
    "start_time": "2023-01-24T13:14:01.218Z"
   },
   {
    "duration": 20,
    "start_time": "2023-01-24T13:14:01.272Z"
   },
   {
    "duration": 191,
    "start_time": "2023-01-24T13:14:01.294Z"
   },
   {
    "duration": 165,
    "start_time": "2023-01-24T13:14:01.487Z"
   },
   {
    "duration": 3,
    "start_time": "2023-01-24T13:14:01.653Z"
   },
   {
    "duration": 139,
    "start_time": "2023-01-24T13:14:01.658Z"
   },
   {
    "duration": 2945,
    "start_time": "2023-01-24T13:25:10.045Z"
   },
   {
    "duration": 1589,
    "start_time": "2023-01-24T13:25:12.992Z"
   },
   {
    "duration": 824,
    "start_time": "2023-01-24T13:25:14.583Z"
   },
   {
    "duration": 53,
    "start_time": "2023-01-24T13:25:15.410Z"
   },
   {
    "duration": 130,
    "start_time": "2023-01-24T13:25:15.465Z"
   },
   {
    "duration": 53,
    "start_time": "2023-01-24T13:25:15.597Z"
   },
   {
    "duration": 7,
    "start_time": "2023-01-24T13:25:15.653Z"
   },
   {
    "duration": 173,
    "start_time": "2023-01-24T13:25:15.662Z"
   },
   {
    "duration": 7,
    "start_time": "2023-01-24T13:25:15.837Z"
   },
   {
    "duration": 147,
    "start_time": "2023-01-24T13:25:15.846Z"
   },
   {
    "duration": 171,
    "start_time": "2023-01-24T13:25:15.996Z"
   },
   {
    "duration": 161,
    "start_time": "2023-01-24T13:25:16.169Z"
   },
   {
    "duration": 17,
    "start_time": "2023-01-24T13:25:16.332Z"
   },
   {
    "duration": 265,
    "start_time": "2023-01-24T13:25:16.351Z"
   },
   {
    "duration": 23,
    "start_time": "2023-01-24T13:25:16.618Z"
   },
   {
    "duration": 19,
    "start_time": "2023-01-24T13:25:16.643Z"
   },
   {
    "duration": 145,
    "start_time": "2023-01-24T13:25:16.664Z"
   },
   {
    "duration": 138,
    "start_time": "2023-01-24T13:25:16.811Z"
   },
   {
    "duration": 23,
    "start_time": "2023-01-24T13:25:16.950Z"
   },
   {
    "duration": 33,
    "start_time": "2023-01-24T13:25:16.975Z"
   },
   {
    "duration": 140,
    "start_time": "2023-01-24T13:25:17.010Z"
   },
   {
    "duration": 149,
    "start_time": "2023-01-24T13:25:17.151Z"
   },
   {
    "duration": 24,
    "start_time": "2023-01-24T13:25:17.302Z"
   },
   {
    "duration": 10,
    "start_time": "2023-01-24T13:25:17.327Z"
   },
   {
    "duration": 174,
    "start_time": "2023-01-24T13:25:17.339Z"
   },
   {
    "duration": 19,
    "start_time": "2023-01-24T13:25:17.514Z"
   },
   {
    "duration": 12,
    "start_time": "2023-01-24T13:25:17.534Z"
   },
   {
    "duration": 180,
    "start_time": "2023-01-24T13:25:17.550Z"
   },
   {
    "duration": 27,
    "start_time": "2023-01-24T13:25:17.731Z"
   },
   {
    "duration": 9,
    "start_time": "2023-01-24T13:25:17.760Z"
   },
   {
    "duration": 23,
    "start_time": "2023-01-24T13:25:17.771Z"
   },
   {
    "duration": 61,
    "start_time": "2023-01-24T13:25:17.796Z"
   },
   {
    "duration": 4496,
    "start_time": "2023-01-24T13:25:17.859Z"
   },
   {
    "duration": 16,
    "start_time": "2023-01-24T13:25:22.358Z"
   },
   {
    "duration": 24,
    "start_time": "2023-01-24T13:25:22.376Z"
   },
   {
    "duration": 31,
    "start_time": "2023-01-24T13:25:22.402Z"
   },
   {
    "duration": 20,
    "start_time": "2023-01-24T13:25:22.435Z"
   },
   {
    "duration": 4,
    "start_time": "2023-01-24T13:25:22.457Z"
   },
   {
    "duration": 618,
    "start_time": "2023-01-24T13:25:22.464Z"
   },
   {
    "duration": 10,
    "start_time": "2023-01-24T13:25:23.083Z"
   },
   {
    "duration": 9,
    "start_time": "2023-01-24T13:25:23.095Z"
   },
   {
    "duration": 17,
    "start_time": "2023-01-24T13:25:23.105Z"
   },
   {
    "duration": 226,
    "start_time": "2023-01-24T13:25:23.124Z"
   },
   {
    "duration": 190,
    "start_time": "2023-01-24T13:25:23.352Z"
   },
   {
    "duration": 2,
    "start_time": "2023-01-24T13:25:23.543Z"
   },
   {
    "duration": 169,
    "start_time": "2023-01-24T13:25:23.547Z"
   },
   {
    "duration": 435838,
    "start_time": "2023-01-24T13:25:23.718Z"
   },
   {
    "duration": 13,
    "start_time": "2023-01-24T13:32:39.557Z"
   },
   {
    "duration": 29,
    "start_time": "2023-01-24T13:32:39.571Z"
   },
   {
    "duration": 18,
    "start_time": "2023-01-24T13:32:39.602Z"
   },
   {
    "duration": 10,
    "start_time": "2023-01-24T13:32:39.621Z"
   },
   {
    "duration": 95830,
    "start_time": "2023-01-24T13:32:39.632Z"
   },
   {
    "duration": 4,
    "start_time": "2023-01-24T13:34:15.463Z"
   },
   {
    "duration": 215,
    "start_time": "2023-01-24T13:37:18.353Z"
   },
   {
    "duration": 210,
    "start_time": "2023-01-24T13:37:44.965Z"
   },
   {
    "duration": 196,
    "start_time": "2023-01-24T13:39:44.490Z"
   },
   {
    "duration": 132,
    "start_time": "2023-01-24T13:40:16.621Z"
   },
   {
    "duration": 202,
    "start_time": "2023-01-24T13:43:50.147Z"
   },
   {
    "duration": 184,
    "start_time": "2023-01-24T13:43:58.522Z"
   },
   {
    "duration": 246,
    "start_time": "2023-01-24T13:45:26.348Z"
   },
   {
    "duration": 232,
    "start_time": "2023-01-24T13:45:35.562Z"
   },
   {
    "duration": 227,
    "start_time": "2023-01-24T13:46:19.710Z"
   },
   {
    "duration": 223,
    "start_time": "2023-01-24T13:47:19.690Z"
   },
   {
    "duration": 218,
    "start_time": "2023-01-24T13:47:33.232Z"
   },
   {
    "duration": 44,
    "start_time": "2023-01-24T13:51:55.810Z"
   },
   {
    "duration": 4,
    "start_time": "2023-01-24T13:52:05.395Z"
   },
   {
    "duration": 5,
    "start_time": "2023-01-24T13:52:51.646Z"
   },
   {
    "duration": 11,
    "start_time": "2023-01-24T13:53:01.087Z"
   },
   {
    "duration": 132,
    "start_time": "2023-01-24T13:53:38.201Z"
   },
   {
    "duration": 9,
    "start_time": "2023-01-24T13:55:09.138Z"
   },
   {
    "duration": 73,
    "start_time": "2023-01-24T13:56:58.812Z"
   },
   {
    "duration": 870,
    "start_time": "2023-01-24T13:57:30.941Z"
   },
   {
    "duration": 15,
    "start_time": "2023-01-24T13:57:44.070Z"
   },
   {
    "duration": 44,
    "start_time": "2023-01-24T13:57:54.787Z"
   },
   {
    "duration": 13,
    "start_time": "2023-01-24T13:58:13.550Z"
   },
   {
    "duration": 14,
    "start_time": "2023-01-24T13:58:26.949Z"
   },
   {
    "duration": 12,
    "start_time": "2023-01-24T13:59:12.653Z"
   },
   {
    "duration": 13,
    "start_time": "2023-01-24T13:59:26.397Z"
   },
   {
    "duration": 12,
    "start_time": "2023-01-24T13:59:27.002Z"
   },
   {
    "duration": 14,
    "start_time": "2023-01-24T13:59:39.086Z"
   },
   {
    "duration": 14,
    "start_time": "2023-01-24T13:59:39.903Z"
   },
   {
    "duration": 14,
    "start_time": "2023-01-24T13:59:46.501Z"
   },
   {
    "duration": 11,
    "start_time": "2023-01-24T13:59:47.070Z"
   },
   {
    "duration": 20,
    "start_time": "2023-01-24T13:59:56.649Z"
   },
   {
    "duration": 13,
    "start_time": "2023-01-24T13:59:57.135Z"
   },
   {
    "duration": 15,
    "start_time": "2023-01-24T14:00:02.986Z"
   },
   {
    "duration": 12,
    "start_time": "2023-01-24T14:00:03.474Z"
   },
   {
    "duration": 14,
    "start_time": "2023-01-24T14:00:15.733Z"
   },
   {
    "duration": 21,
    "start_time": "2023-01-24T14:00:16.163Z"
   },
   {
    "duration": 13,
    "start_time": "2023-01-24T14:00:23.502Z"
   },
   {
    "duration": 12,
    "start_time": "2023-01-24T14:00:23.988Z"
   },
   {
    "duration": 16,
    "start_time": "2023-01-24T14:00:39.077Z"
   },
   {
    "duration": 12,
    "start_time": "2023-01-24T14:00:39.554Z"
   },
   {
    "duration": 13,
    "start_time": "2023-01-24T14:00:53.074Z"
   },
   {
    "duration": 13,
    "start_time": "2023-01-24T14:00:53.565Z"
   },
   {
    "duration": 15,
    "start_time": "2023-01-24T14:01:04.170Z"
   },
   {
    "duration": 14,
    "start_time": "2023-01-24T14:01:04.867Z"
   },
   {
    "duration": 13,
    "start_time": "2023-01-24T14:01:13.476Z"
   },
   {
    "duration": 12,
    "start_time": "2023-01-24T14:01:14.082Z"
   },
   {
    "duration": 18,
    "start_time": "2023-01-24T14:01:20.221Z"
   },
   {
    "duration": 14,
    "start_time": "2023-01-24T14:01:20.730Z"
   },
   {
    "duration": 135,
    "start_time": "2023-01-24T14:03:04.103Z"
   },
   {
    "duration": 3,
    "start_time": "2023-01-24T14:03:19.053Z"
   },
   {
    "duration": 4,
    "start_time": "2023-01-24T14:06:36.499Z"
   },
   {
    "duration": 11,
    "start_time": "2023-01-24T14:06:44.519Z"
   },
   {
    "duration": 13,
    "start_time": "2023-01-24T14:08:09.350Z"
   },
   {
    "duration": 15,
    "start_time": "2023-01-24T14:10:08.733Z"
   },
   {
    "duration": 16,
    "start_time": "2023-01-24T14:10:52.868Z"
   },
   {
    "duration": 21,
    "start_time": "2023-01-24T14:11:28.792Z"
   },
   {
    "duration": 18,
    "start_time": "2023-01-24T14:11:30.089Z"
   },
   {
    "duration": 14,
    "start_time": "2023-01-24T14:11:39.637Z"
   },
   {
    "duration": 11,
    "start_time": "2023-01-24T14:11:40.228Z"
   },
   {
    "duration": 15,
    "start_time": "2023-01-24T14:13:36.377Z"
   },
   {
    "duration": 9,
    "start_time": "2023-01-24T14:17:05.267Z"
   },
   {
    "duration": 8,
    "start_time": "2023-01-24T14:18:28.579Z"
   },
   {
    "duration": 9,
    "start_time": "2023-01-24T14:19:09.843Z"
   },
   {
    "duration": 218,
    "start_time": "2023-01-24T14:24:19.930Z"
   },
   {
    "duration": 209,
    "start_time": "2023-01-24T14:26:00.941Z"
   },
   {
    "duration": 1010,
    "start_time": "2023-01-24T14:28:39.402Z"
   },
   {
    "duration": 209,
    "start_time": "2023-01-24T14:28:47.715Z"
   },
   {
    "duration": 206,
    "start_time": "2023-01-24T14:28:57.920Z"
   },
   {
    "duration": 15,
    "start_time": "2023-01-24T14:30:05.989Z"
   },
   {
    "duration": 11,
    "start_time": "2023-01-24T14:30:13.449Z"
   },
   {
    "duration": 11,
    "start_time": "2023-01-24T14:30:27.197Z"
   },
   {
    "duration": 207,
    "start_time": "2023-01-24T14:30:34.615Z"
   },
   {
    "duration": 282,
    "start_time": "2023-01-24T14:31:32.489Z"
   },
   {
    "duration": 12,
    "start_time": "2023-01-24T14:32:33.161Z"
   },
   {
    "duration": 6,
    "start_time": "2023-01-24T14:32:41.607Z"
   },
   {
    "duration": 6,
    "start_time": "2023-01-24T14:33:09.981Z"
   },
   {
    "duration": 416,
    "start_time": "2023-01-24T15:57:20.143Z"
   },
   {
    "duration": 2724,
    "start_time": "2023-01-24T15:57:32.534Z"
   },
   {
    "duration": 1280,
    "start_time": "2023-01-24T15:57:38.451Z"
   },
   {
    "duration": 3,
    "start_time": "2023-01-24T16:00:54.404Z"
   },
   {
    "duration": 3,
    "start_time": "2023-01-24T16:01:00.471Z"
   },
   {
    "duration": 59,
    "start_time": "2023-01-24T16:49:52.880Z"
   },
   {
    "duration": 2234,
    "start_time": "2023-01-24T16:50:00.633Z"
   },
   {
    "duration": 7,
    "start_time": "2023-01-24T16:50:02.870Z"
   },
   {
    "duration": 926,
    "start_time": "2023-01-24T16:50:02.880Z"
   },
   {
    "duration": 54,
    "start_time": "2023-01-24T16:50:03.808Z"
   },
   {
    "duration": 128,
    "start_time": "2023-01-24T16:50:03.865Z"
   },
   {
    "duration": 57,
    "start_time": "2023-01-24T16:50:03.995Z"
   },
   {
    "duration": 8,
    "start_time": "2023-01-24T16:50:04.054Z"
   },
   {
    "duration": 182,
    "start_time": "2023-01-24T16:50:04.064Z"
   },
   {
    "duration": 7,
    "start_time": "2023-01-24T16:50:04.248Z"
   },
   {
    "duration": 115,
    "start_time": "2023-01-24T16:50:04.256Z"
   },
   {
    "duration": 176,
    "start_time": "2023-01-24T16:50:04.373Z"
   },
   {
    "duration": 173,
    "start_time": "2023-01-24T16:50:04.552Z"
   },
   {
    "duration": 14,
    "start_time": "2023-01-24T16:50:04.727Z"
   },
   {
    "duration": 249,
    "start_time": "2023-01-24T16:50:04.745Z"
   },
   {
    "duration": 18,
    "start_time": "2023-01-24T16:50:04.996Z"
   },
   {
    "duration": 52,
    "start_time": "2023-01-24T16:50:05.016Z"
   },
   {
    "duration": 174,
    "start_time": "2023-01-24T16:50:05.070Z"
   },
   {
    "duration": 160,
    "start_time": "2023-01-24T16:50:05.246Z"
   },
   {
    "duration": 25,
    "start_time": "2023-01-24T16:50:05.408Z"
   },
   {
    "duration": 17,
    "start_time": "2023-01-24T16:50:05.435Z"
   },
   {
    "duration": 185,
    "start_time": "2023-01-24T16:50:05.454Z"
   },
   {
    "duration": 157,
    "start_time": "2023-01-24T16:50:05.641Z"
   },
   {
    "duration": 34,
    "start_time": "2023-01-24T16:50:05.801Z"
   },
   {
    "duration": 16,
    "start_time": "2023-01-24T16:50:05.837Z"
   },
   {
    "duration": 259,
    "start_time": "2023-01-24T16:50:05.855Z"
   },
   {
    "duration": 31,
    "start_time": "2023-01-24T16:50:06.116Z"
   },
   {
    "duration": 16,
    "start_time": "2023-01-24T16:50:06.149Z"
   },
   {
    "duration": 172,
    "start_time": "2023-01-24T16:50:06.167Z"
   },
   {
    "duration": 26,
    "start_time": "2023-01-24T16:50:06.341Z"
   },
   {
    "duration": 26,
    "start_time": "2023-01-24T16:50:06.368Z"
   },
   {
    "duration": 4,
    "start_time": "2023-01-24T16:50:06.396Z"
   },
   {
    "duration": 93,
    "start_time": "2023-01-24T16:50:06.402Z"
   },
   {
    "duration": 4542,
    "start_time": "2023-01-24T16:50:06.497Z"
   },
   {
    "duration": 13,
    "start_time": "2023-01-24T16:50:11.041Z"
   },
   {
    "duration": 9,
    "start_time": "2023-01-24T16:50:11.056Z"
   },
   {
    "duration": 49,
    "start_time": "2023-01-24T16:50:11.066Z"
   },
   {
    "duration": 16,
    "start_time": "2023-01-24T16:50:11.118Z"
   },
   {
    "duration": 16,
    "start_time": "2023-01-24T16:50:11.136Z"
   },
   {
    "duration": 677,
    "start_time": "2023-01-24T16:50:11.154Z"
   },
   {
    "duration": 5,
    "start_time": "2023-01-24T16:50:11.833Z"
   },
   {
    "duration": 13,
    "start_time": "2023-01-24T16:50:11.842Z"
   },
   {
    "duration": 19,
    "start_time": "2023-01-24T16:50:11.857Z"
   },
   {
    "duration": 228,
    "start_time": "2023-01-24T16:50:11.893Z"
   },
   {
    "duration": 216,
    "start_time": "2023-01-24T16:50:12.123Z"
   },
   {
    "duration": 3,
    "start_time": "2023-01-24T16:50:12.341Z"
   },
   {
    "duration": 117,
    "start_time": "2023-01-24T16:50:12.345Z"
   },
   {
    "duration": 3,
    "start_time": "2023-01-24T16:50:12.463Z"
   },
   {
    "duration": 5,
    "start_time": "2023-01-24T16:50:12.468Z"
   },
   {
    "duration": 18,
    "start_time": "2023-01-24T16:50:12.474Z"
   },
   {
    "duration": 8,
    "start_time": "2023-01-24T16:50:12.494Z"
   },
   {
    "duration": 2285,
    "start_time": "2023-01-24T16:51:34.725Z"
   },
   {
    "duration": 1435,
    "start_time": "2023-01-24T16:51:37.013Z"
   },
   {
    "duration": 296,
    "start_time": "2023-01-24T16:51:38.450Z"
   },
   {
    "duration": 85,
    "start_time": "2023-01-24T16:51:38.747Z"
   },
   {
    "duration": 129,
    "start_time": "2023-01-24T16:51:38.835Z"
   },
   {
    "duration": 70,
    "start_time": "2023-01-24T16:51:38.966Z"
   },
   {
    "duration": 8,
    "start_time": "2023-01-24T16:51:39.038Z"
   },
   {
    "duration": 204,
    "start_time": "2023-01-24T16:51:39.048Z"
   },
   {
    "duration": 8,
    "start_time": "2023-01-24T16:51:39.256Z"
   },
   {
    "duration": 113,
    "start_time": "2023-01-24T16:51:39.266Z"
   },
   {
    "duration": 242,
    "start_time": "2023-01-24T16:51:39.382Z"
   },
   {
    "duration": 154,
    "start_time": "2023-01-24T16:51:39.626Z"
   },
   {
    "duration": 25,
    "start_time": "2023-01-24T16:51:39.783Z"
   },
   {
    "duration": 300,
    "start_time": "2023-01-24T16:51:39.813Z"
   },
   {
    "duration": 20,
    "start_time": "2023-01-24T16:51:40.115Z"
   },
   {
    "duration": 20,
    "start_time": "2023-01-24T16:51:40.138Z"
   },
   {
    "duration": 178,
    "start_time": "2023-01-24T16:51:40.161Z"
   },
   {
    "duration": 197,
    "start_time": "2023-01-24T16:51:40.342Z"
   },
   {
    "duration": 28,
    "start_time": "2023-01-24T16:51:40.540Z"
   },
   {
    "duration": 33,
    "start_time": "2023-01-24T16:51:40.570Z"
   },
   {
    "duration": 163,
    "start_time": "2023-01-24T16:51:40.605Z"
   },
   {
    "duration": 170,
    "start_time": "2023-01-24T16:51:40.772Z"
   },
   {
    "duration": 28,
    "start_time": "2023-01-24T16:51:40.944Z"
   },
   {
    "duration": 26,
    "start_time": "2023-01-24T16:51:40.974Z"
   },
   {
    "duration": 157,
    "start_time": "2023-01-24T16:51:41.003Z"
   },
   {
    "duration": 32,
    "start_time": "2023-01-24T16:51:41.161Z"
   },
   {
    "duration": 24,
    "start_time": "2023-01-24T16:51:41.197Z"
   },
   {
    "duration": 143,
    "start_time": "2023-01-24T16:51:41.224Z"
   },
   {
    "duration": 36,
    "start_time": "2023-01-24T16:51:41.369Z"
   },
   {
    "duration": 11,
    "start_time": "2023-01-24T16:51:41.406Z"
   },
   {
    "duration": 5,
    "start_time": "2023-01-24T16:51:41.419Z"
   },
   {
    "duration": 125,
    "start_time": "2023-01-24T16:51:41.426Z"
   },
   {
    "duration": 4941,
    "start_time": "2023-01-24T16:51:41.554Z"
   },
   {
    "duration": 18,
    "start_time": "2023-01-24T16:51:46.498Z"
   },
   {
    "duration": 18,
    "start_time": "2023-01-24T16:51:46.518Z"
   },
   {
    "duration": 57,
    "start_time": "2023-01-24T16:51:46.538Z"
   },
   {
    "duration": 17,
    "start_time": "2023-01-24T16:51:46.598Z"
   },
   {
    "duration": 6,
    "start_time": "2023-01-24T16:51:46.617Z"
   },
   {
    "duration": 641,
    "start_time": "2023-01-24T16:51:46.625Z"
   },
   {
    "duration": 8,
    "start_time": "2023-01-24T16:51:47.268Z"
   },
   {
    "duration": 11,
    "start_time": "2023-01-24T16:51:47.292Z"
   },
   {
    "duration": 20,
    "start_time": "2023-01-24T16:51:47.304Z"
   },
   {
    "duration": 239,
    "start_time": "2023-01-24T16:51:47.326Z"
   },
   {
    "duration": 245,
    "start_time": "2023-01-24T16:51:47.567Z"
   },
   {
    "duration": 3,
    "start_time": "2023-01-24T16:51:47.814Z"
   },
   {
    "duration": 150,
    "start_time": "2023-01-24T16:51:47.819Z"
   },
   {
    "duration": 2,
    "start_time": "2023-01-24T16:51:47.971Z"
   },
   {
    "duration": 11,
    "start_time": "2023-01-24T16:51:47.975Z"
   },
   {
    "duration": 7,
    "start_time": "2023-01-24T16:51:47.987Z"
   },
   {
    "duration": 6,
    "start_time": "2023-01-24T16:51:47.996Z"
   },
   {
    "duration": 6,
    "start_time": "2023-01-24T16:51:48.004Z"
   },
   {
    "duration": 114,
    "start_time": "2023-01-24T16:51:48.012Z"
   },
   {
    "duration": 135,
    "start_time": "2023-01-24T16:51:48.128Z"
   },
   {
    "duration": 0,
    "start_time": "2023-01-24T16:51:48.265Z"
   },
   {
    "duration": 0,
    "start_time": "2023-01-24T16:51:48.267Z"
   },
   {
    "duration": 0,
    "start_time": "2023-01-24T16:51:48.268Z"
   },
   {
    "duration": 0,
    "start_time": "2023-01-24T16:51:48.269Z"
   },
   {
    "duration": 0,
    "start_time": "2023-01-24T16:51:48.270Z"
   },
   {
    "duration": 0,
    "start_time": "2023-01-24T16:51:48.271Z"
   },
   {
    "duration": 2346,
    "start_time": "2023-01-24T16:52:41.295Z"
   },
   {
    "duration": 102753,
    "start_time": "2023-01-24T16:55:32.469Z"
   },
   {
    "duration": 354,
    "start_time": "2023-01-24T17:00:46.114Z"
   },
   {
    "duration": 2062,
    "start_time": "2023-01-24T17:03:57.745Z"
   },
   {
    "duration": 6,
    "start_time": "2023-01-24T17:03:59.809Z"
   },
   {
    "duration": 252,
    "start_time": "2023-01-24T17:03:59.817Z"
   },
   {
    "duration": 51,
    "start_time": "2023-01-24T17:04:00.072Z"
   },
   {
    "duration": 110,
    "start_time": "2023-01-24T17:04:00.125Z"
   },
   {
    "duration": 67,
    "start_time": "2023-01-24T17:04:00.237Z"
   },
   {
    "duration": 8,
    "start_time": "2023-01-24T17:04:00.306Z"
   },
   {
    "duration": 211,
    "start_time": "2023-01-24T17:04:00.315Z"
   },
   {
    "duration": 7,
    "start_time": "2023-01-24T17:04:00.528Z"
   },
   {
    "duration": 96,
    "start_time": "2023-01-24T17:04:00.538Z"
   },
   {
    "duration": 158,
    "start_time": "2023-01-24T17:04:00.636Z"
   },
   {
    "duration": 162,
    "start_time": "2023-01-24T17:04:00.796Z"
   },
   {
    "duration": 12,
    "start_time": "2023-01-24T17:04:00.960Z"
   },
   {
    "duration": 178,
    "start_time": "2023-01-24T17:04:00.975Z"
   },
   {
    "duration": 19,
    "start_time": "2023-01-24T17:04:01.154Z"
   },
   {
    "duration": 32,
    "start_time": "2023-01-24T17:04:01.174Z"
   },
   {
    "duration": 178,
    "start_time": "2023-01-24T17:04:01.208Z"
   },
   {
    "duration": 149,
    "start_time": "2023-01-24T17:04:01.387Z"
   },
   {
    "duration": 34,
    "start_time": "2023-01-24T17:04:01.538Z"
   },
   {
    "duration": 45,
    "start_time": "2023-01-24T17:04:01.574Z"
   },
   {
    "duration": 185,
    "start_time": "2023-01-24T17:04:01.621Z"
   },
   {
    "duration": 166,
    "start_time": "2023-01-24T17:04:01.809Z"
   },
   {
    "duration": 36,
    "start_time": "2023-01-24T17:04:01.976Z"
   },
   {
    "duration": 13,
    "start_time": "2023-01-24T17:04:02.014Z"
   },
   {
    "duration": 169,
    "start_time": "2023-01-24T17:04:02.029Z"
   },
   {
    "duration": 22,
    "start_time": "2023-01-24T17:04:02.200Z"
   },
   {
    "duration": 26,
    "start_time": "2023-01-24T17:04:02.223Z"
   },
   {
    "duration": 254,
    "start_time": "2023-01-24T17:04:02.254Z"
   },
   {
    "duration": 25,
    "start_time": "2023-01-24T17:04:02.510Z"
   },
   {
    "duration": 10,
    "start_time": "2023-01-24T17:04:02.537Z"
   },
   {
    "duration": 4,
    "start_time": "2023-01-24T17:04:02.549Z"
   },
   {
    "duration": 116,
    "start_time": "2023-01-24T17:04:02.555Z"
   },
   {
    "duration": 4663,
    "start_time": "2023-01-24T17:04:02.673Z"
   },
   {
    "duration": 12,
    "start_time": "2023-01-24T17:04:07.337Z"
   },
   {
    "duration": 11,
    "start_time": "2023-01-24T17:04:07.351Z"
   },
   {
    "duration": 49,
    "start_time": "2023-01-24T17:04:07.363Z"
   },
   {
    "duration": 22,
    "start_time": "2023-01-24T17:04:07.414Z"
   },
   {
    "duration": 5,
    "start_time": "2023-01-24T17:04:07.438Z"
   },
   {
    "duration": 623,
    "start_time": "2023-01-24T17:04:07.445Z"
   },
   {
    "duration": 6,
    "start_time": "2023-01-24T17:04:08.069Z"
   },
   {
    "duration": 26,
    "start_time": "2023-01-24T17:04:08.076Z"
   },
   {
    "duration": 13,
    "start_time": "2023-01-24T17:04:08.104Z"
   },
   {
    "duration": 204,
    "start_time": "2023-01-24T17:04:08.118Z"
   },
   {
    "duration": 184,
    "start_time": "2023-01-24T17:04:08.324Z"
   },
   {
    "duration": 3,
    "start_time": "2023-01-24T17:04:08.510Z"
   },
   {
    "duration": 114,
    "start_time": "2023-01-24T17:04:08.515Z"
   },
   {
    "duration": 3,
    "start_time": "2023-01-24T17:04:08.631Z"
   },
   {
    "duration": 7,
    "start_time": "2023-01-24T17:04:08.635Z"
   },
   {
    "duration": 5,
    "start_time": "2023-01-24T17:04:08.644Z"
   },
   {
    "duration": 7,
    "start_time": "2023-01-24T17:04:08.650Z"
   },
   {
    "duration": 6,
    "start_time": "2023-01-24T17:04:08.658Z"
   },
   {
    "duration": 409103,
    "start_time": "2023-01-24T17:04:13.840Z"
   },
   {
    "duration": 12,
    "start_time": "2023-01-24T17:13:00.204Z"
   },
   {
    "duration": 10,
    "start_time": "2023-01-24T17:13:27.516Z"
   },
   {
    "duration": 3,
    "start_time": "2023-01-24T17:23:19.279Z"
   },
   {
    "duration": 4,
    "start_time": "2023-01-24T17:23:28.094Z"
   },
   {
    "duration": 106266,
    "start_time": "2023-01-24T17:24:36.330Z"
   },
   {
    "duration": 200,
    "start_time": "2023-01-24T17:31:08.338Z"
   },
   {
    "duration": 173,
    "start_time": "2023-01-24T17:31:26.210Z"
   },
   {
    "duration": 304,
    "start_time": "2023-01-24T17:32:14.907Z"
   },
   {
    "duration": 7,
    "start_time": "2023-01-24T17:32:20.805Z"
   },
   {
    "duration": 6,
    "start_time": "2023-01-24T17:32:23.805Z"
   },
   {
    "duration": 92,
    "start_time": "2023-01-24T17:40:00.636Z"
   },
   {
    "duration": 7,
    "start_time": "2023-01-24T17:40:04.252Z"
   },
   {
    "duration": 6,
    "start_time": "2023-01-24T17:40:05.037Z"
   },
   {
    "duration": 218,
    "start_time": "2023-01-24T17:40:50.025Z"
   },
   {
    "duration": 6,
    "start_time": "2023-01-24T17:40:52.922Z"
   },
   {
    "duration": 9,
    "start_time": "2023-01-24T17:40:54.673Z"
   },
   {
    "duration": 4,
    "start_time": "2023-01-24T17:44:04.167Z"
   },
   {
    "duration": 316,
    "start_time": "2023-01-24T17:44:34.832Z"
   },
   {
    "duration": 6,
    "start_time": "2023-01-24T17:44:39.514Z"
   },
   {
    "duration": 5,
    "start_time": "2023-01-24T17:44:40.445Z"
   },
   {
    "duration": 285,
    "start_time": "2023-01-24T17:47:56.582Z"
   },
   {
    "duration": 53,
    "start_time": "2023-01-24T17:49:55.676Z"
   },
   {
    "duration": 30,
    "start_time": "2023-01-24T17:54:50.404Z"
   },
   {
    "duration": 19,
    "start_time": "2023-01-24T17:56:00.688Z"
   },
   {
    "duration": 5,
    "start_time": "2023-01-24T18:00:14.930Z"
   },
   {
    "duration": 10,
    "start_time": "2023-01-24T18:00:18.629Z"
   },
   {
    "duration": 3,
    "start_time": "2023-01-24T18:10:50.883Z"
   },
   {
    "duration": 872610,
    "start_time": "2023-01-24T18:11:00.607Z"
   },
   {
    "duration": 4,
    "start_time": "2023-01-24T18:26:13.720Z"
   },
   {
    "duration": 4,
    "start_time": "2023-01-24T18:26:25.686Z"
   },
   {
    "duration": 5,
    "start_time": "2023-01-24T18:26:35.402Z"
   },
   {
    "duration": 15,
    "start_time": "2023-01-24T18:28:55.474Z"
   },
   {
    "duration": 17,
    "start_time": "2023-01-24T18:29:04.927Z"
   },
   {
    "duration": 227,
    "start_time": "2023-01-24T18:29:11.102Z"
   },
   {
    "duration": 137,
    "start_time": "2023-01-24T18:29:14.261Z"
   },
   {
    "duration": 280,
    "start_time": "2023-01-24T18:29:17.876Z"
   },
   {
    "duration": 5,
    "start_time": "2023-01-24T18:29:21.737Z"
   },
   {
    "duration": 998,
    "start_time": "2023-01-24T18:29:22.764Z"
   },
   {
    "duration": 5,
    "start_time": "2023-01-24T18:29:53.687Z"
   },
   {
    "duration": 295,
    "start_time": "2023-01-24T18:31:00.960Z"
   },
   {
    "duration": 6,
    "start_time": "2023-01-24T18:31:02.537Z"
   },
   {
    "duration": 5,
    "start_time": "2023-01-24T18:31:03.285Z"
   },
   {
    "duration": 10,
    "start_time": "2023-01-24T18:31:21.418Z"
   },
   {
    "duration": 3,
    "start_time": "2023-01-24T18:31:53.600Z"
   },
   {
    "duration": 70,
    "start_time": "2023-01-24T18:32:36.804Z"
   },
   {
    "duration": 71,
    "start_time": "2023-01-24T18:32:42.976Z"
   },
   {
    "duration": 15,
    "start_time": "2023-01-24T18:32:54.999Z"
   },
   {
    "duration": 3563,
    "start_time": "2023-01-26T15:33:44.343Z"
   },
   {
    "duration": 1908,
    "start_time": "2023-01-26T15:33:47.918Z"
   },
   {
    "duration": 1233,
    "start_time": "2023-01-26T15:33:49.834Z"
   },
   {
    "duration": 49,
    "start_time": "2023-01-26T15:33:51.069Z"
   },
   {
    "duration": 113,
    "start_time": "2023-01-26T15:33:51.120Z"
   },
   {
    "duration": 74,
    "start_time": "2023-01-26T15:33:51.236Z"
   },
   {
    "duration": 21,
    "start_time": "2023-01-26T15:33:51.316Z"
   },
   {
    "duration": 263,
    "start_time": "2023-01-26T15:33:51.348Z"
   },
   {
    "duration": 19,
    "start_time": "2023-01-26T15:33:51.613Z"
   },
   {
    "duration": 126,
    "start_time": "2023-01-26T15:33:51.641Z"
   },
   {
    "duration": 187,
    "start_time": "2023-01-26T15:33:51.769Z"
   },
   {
    "duration": 199,
    "start_time": "2023-01-26T15:33:51.957Z"
   },
   {
    "duration": 16,
    "start_time": "2023-01-26T15:33:52.160Z"
   },
   {
    "duration": 250,
    "start_time": "2023-01-26T15:33:52.179Z"
   },
   {
    "duration": 23,
    "start_time": "2023-01-26T15:33:52.436Z"
   },
   {
    "duration": 56,
    "start_time": "2023-01-26T15:33:52.461Z"
   },
   {
    "duration": 200,
    "start_time": "2023-01-26T15:33:52.524Z"
   },
   {
    "duration": 163,
    "start_time": "2023-01-26T15:33:52.726Z"
   },
   {
    "duration": 33,
    "start_time": "2023-01-26T15:33:52.892Z"
   },
   {
    "duration": 31,
    "start_time": "2023-01-26T15:33:52.930Z"
   },
   {
    "duration": 235,
    "start_time": "2023-01-26T15:33:52.964Z"
   },
   {
    "duration": 236,
    "start_time": "2023-01-26T15:33:53.206Z"
   },
   {
    "duration": 45,
    "start_time": "2023-01-26T15:33:53.444Z"
   },
   {
    "duration": 20,
    "start_time": "2023-01-26T15:33:53.510Z"
   },
   {
    "duration": 192,
    "start_time": "2023-01-26T15:33:53.540Z"
   },
   {
    "duration": 25,
    "start_time": "2023-01-26T15:33:53.736Z"
   },
   {
    "duration": 13,
    "start_time": "2023-01-26T15:33:53.763Z"
   },
   {
    "duration": 187,
    "start_time": "2023-01-26T15:33:53.778Z"
   },
   {
    "duration": 51,
    "start_time": "2023-01-26T15:33:53.967Z"
   },
   {
    "duration": 18,
    "start_time": "2023-01-26T15:33:54.020Z"
   },
   {
    "duration": 32,
    "start_time": "2023-01-26T15:33:54.040Z"
   },
   {
    "duration": 95,
    "start_time": "2023-01-26T15:33:54.074Z"
   },
   {
    "duration": 5500,
    "start_time": "2023-01-26T15:33:54.172Z"
   },
   {
    "duration": 20,
    "start_time": "2023-01-26T15:33:59.674Z"
   },
   {
    "duration": 15,
    "start_time": "2023-01-26T15:33:59.697Z"
   },
   {
    "duration": 56,
    "start_time": "2023-01-26T15:33:59.713Z"
   },
   {
    "duration": 13,
    "start_time": "2023-01-26T15:33:59.770Z"
   },
   {
    "duration": 5,
    "start_time": "2023-01-26T15:33:59.785Z"
   },
   {
    "duration": 760,
    "start_time": "2023-01-26T15:33:59.797Z"
   },
   {
    "duration": 4,
    "start_time": "2023-01-26T15:34:00.559Z"
   },
   {
    "duration": 18,
    "start_time": "2023-01-26T15:34:00.568Z"
   },
   {
    "duration": 18,
    "start_time": "2023-01-26T15:34:00.600Z"
   },
   {
    "duration": 327,
    "start_time": "2023-01-26T15:34:00.620Z"
   },
   {
    "duration": 206,
    "start_time": "2023-01-26T15:34:00.954Z"
   },
   {
    "duration": 2,
    "start_time": "2023-01-26T15:34:01.162Z"
   },
   {
    "duration": 149,
    "start_time": "2023-01-26T15:34:01.166Z"
   },
   {
    "duration": 5,
    "start_time": "2023-01-26T15:34:01.325Z"
   },
   {
    "duration": 27,
    "start_time": "2023-01-26T15:34:01.338Z"
   },
   {
    "duration": 75,
    "start_time": "2023-01-26T15:34:01.367Z"
   },
   {
    "duration": 33,
    "start_time": "2023-01-26T15:34:01.444Z"
   },
   {
    "duration": 71,
    "start_time": "2023-01-26T15:34:01.479Z"
   },
   {
    "duration": 38,
    "start_time": "2023-01-26T15:34:01.552Z"
   },
   {
    "duration": 120375,
    "start_time": "2023-01-26T15:34:01.592Z"
   },
   {
    "duration": 295,
    "start_time": "2023-01-26T15:36:01.970Z"
   },
   {
    "duration": 190,
    "start_time": "2023-01-26T15:36:02.267Z"
   },
   {
    "duration": 308,
    "start_time": "2023-01-26T15:36:02.460Z"
   },
   {
    "duration": 7,
    "start_time": "2023-01-26T15:36:02.769Z"
   },
   {
    "duration": 96,
    "start_time": "2023-01-26T15:36:02.777Z"
   },
   {
    "duration": 78,
    "start_time": "2023-01-26T15:36:02.875Z"
   },
   {
    "duration": 35,
    "start_time": "2023-01-26T15:36:02.955Z"
   },
   {
    "duration": 4,
    "start_time": "2023-01-26T15:43:45.765Z"
   },
   {
    "duration": 1018,
    "start_time": "2023-01-26T15:43:58.630Z"
   },
   {
    "duration": 942,
    "start_time": "2023-01-26T15:44:08.355Z"
   },
   {
    "duration": 5,
    "start_time": "2023-01-26T15:44:47.348Z"
   },
   {
    "duration": 5,
    "start_time": "2023-01-26T15:45:28.233Z"
   },
   {
    "duration": 3,
    "start_time": "2023-01-26T15:48:05.675Z"
   },
   {
    "duration": 734,
    "start_time": "2023-01-26T15:48:07.019Z"
   },
   {
    "duration": 7,
    "start_time": "2023-01-26T15:48:07.931Z"
   },
   {
    "duration": 4,
    "start_time": "2023-01-26T15:48:29.969Z"
   },
   {
    "duration": 916,
    "start_time": "2023-01-26T15:48:30.935Z"
   },
   {
    "duration": 6,
    "start_time": "2023-01-26T15:48:34.332Z"
   },
   {
    "duration": 40,
    "start_time": "2023-01-26T15:49:13.914Z"
   },
   {
    "duration": 9,
    "start_time": "2023-01-26T15:50:56.233Z"
   },
   {
    "duration": 47,
    "start_time": "2023-01-26T15:51:31.602Z"
   },
   {
    "duration": 19,
    "start_time": "2023-01-26T15:51:49.215Z"
   },
   {
    "duration": 15,
    "start_time": "2023-01-28T11:57:13.547Z"
   },
   {
    "duration": 3474,
    "start_time": "2023-01-28T12:01:53.114Z"
   },
   {
    "duration": 1708,
    "start_time": "2023-01-28T12:01:56.592Z"
   },
   {
    "duration": 1252,
    "start_time": "2023-01-28T12:01:58.301Z"
   },
   {
    "duration": 57,
    "start_time": "2023-01-28T12:01:59.555Z"
   },
   {
    "duration": 100,
    "start_time": "2023-01-28T12:01:59.613Z"
   },
   {
    "duration": 69,
    "start_time": "2023-01-28T12:01:59.715Z"
   },
   {
    "duration": 9,
    "start_time": "2023-01-28T12:01:59.785Z"
   },
   {
    "duration": 171,
    "start_time": "2023-01-28T12:01:59.796Z"
   },
   {
    "duration": 8,
    "start_time": "2023-01-28T12:01:59.970Z"
   },
   {
    "duration": 97,
    "start_time": "2023-01-28T12:01:59.981Z"
   },
   {
    "duration": 174,
    "start_time": "2023-01-28T12:02:00.081Z"
   },
   {
    "duration": 169,
    "start_time": "2023-01-28T12:02:00.256Z"
   },
   {
    "duration": 13,
    "start_time": "2023-01-28T12:02:00.427Z"
   },
   {
    "duration": 270,
    "start_time": "2023-01-28T12:02:00.442Z"
   },
   {
    "duration": 32,
    "start_time": "2023-01-28T12:02:00.714Z"
   },
   {
    "duration": 56,
    "start_time": "2023-01-28T12:02:00.748Z"
   },
   {
    "duration": 154,
    "start_time": "2023-01-28T12:02:00.805Z"
   },
   {
    "duration": 184,
    "start_time": "2023-01-28T12:02:00.960Z"
   },
   {
    "duration": 46,
    "start_time": "2023-01-28T12:02:01.146Z"
   },
   {
    "duration": 21,
    "start_time": "2023-01-28T12:02:01.193Z"
   },
   {
    "duration": 168,
    "start_time": "2023-01-28T12:02:01.216Z"
   },
   {
    "duration": 183,
    "start_time": "2023-01-28T12:02:01.387Z"
   },
   {
    "duration": 30,
    "start_time": "2023-01-28T12:02:01.573Z"
   },
   {
    "duration": 11,
    "start_time": "2023-01-28T12:02:01.605Z"
   },
   {
    "duration": 201,
    "start_time": "2023-01-28T12:02:01.618Z"
   },
   {
    "duration": 21,
    "start_time": "2023-01-28T12:02:01.821Z"
   },
   {
    "duration": 36,
    "start_time": "2023-01-28T12:02:01.844Z"
   },
   {
    "duration": 163,
    "start_time": "2023-01-28T12:02:01.886Z"
   },
   {
    "duration": 44,
    "start_time": "2023-01-28T12:02:02.050Z"
   },
   {
    "duration": 34,
    "start_time": "2023-01-28T12:02:02.096Z"
   },
   {
    "duration": 13,
    "start_time": "2023-01-28T12:02:02.132Z"
   },
   {
    "duration": 85,
    "start_time": "2023-01-28T12:02:02.148Z"
   },
   {
    "duration": 5334,
    "start_time": "2023-01-28T12:02:02.235Z"
   },
   {
    "duration": 23,
    "start_time": "2023-01-28T12:02:07.571Z"
   },
   {
    "duration": 11,
    "start_time": "2023-01-28T12:02:07.596Z"
   },
   {
    "duration": 26,
    "start_time": "2023-01-28T12:02:07.608Z"
   },
   {
    "duration": 46,
    "start_time": "2023-01-28T12:02:07.636Z"
   },
   {
    "duration": 6,
    "start_time": "2023-01-28T12:02:07.685Z"
   },
   {
    "duration": 683,
    "start_time": "2023-01-28T12:02:07.694Z"
   },
   {
    "duration": 10,
    "start_time": "2023-01-28T12:02:08.380Z"
   },
   {
    "duration": 16,
    "start_time": "2023-01-28T12:02:08.392Z"
   },
   {
    "duration": 18,
    "start_time": "2023-01-28T12:02:08.410Z"
   },
   {
    "duration": 242,
    "start_time": "2023-01-28T12:02:08.430Z"
   },
   {
    "duration": 201,
    "start_time": "2023-01-28T12:02:08.675Z"
   },
   {
    "duration": 4,
    "start_time": "2023-01-28T12:02:08.878Z"
   },
   {
    "duration": 141,
    "start_time": "2023-01-28T12:02:08.884Z"
   },
   {
    "duration": 2,
    "start_time": "2023-01-28T12:02:09.027Z"
   },
   {
    "duration": 15,
    "start_time": "2023-01-28T12:02:09.031Z"
   },
   {
    "duration": 21,
    "start_time": "2023-01-28T12:02:09.048Z"
   },
   {
    "duration": 39,
    "start_time": "2023-01-28T12:02:09.071Z"
   },
   {
    "duration": 5,
    "start_time": "2023-01-28T12:02:09.112Z"
   },
   {
    "duration": 5,
    "start_time": "2023-01-28T12:02:09.118Z"
   },
   {
    "duration": 103380,
    "start_time": "2023-01-28T12:02:09.125Z"
   },
   {
    "duration": 196,
    "start_time": "2023-01-28T12:03:52.506Z"
   },
   {
    "duration": 130,
    "start_time": "2023-01-28T12:03:52.704Z"
   },
   {
    "duration": 217,
    "start_time": "2023-01-28T12:03:52.835Z"
   },
   {
    "duration": 5,
    "start_time": "2023-01-28T12:03:53.053Z"
   },
   {
    "duration": 27,
    "start_time": "2023-01-28T12:03:53.067Z"
   },
   {
    "duration": 22,
    "start_time": "2023-01-28T12:03:53.095Z"
   },
   {
    "duration": 25,
    "start_time": "2023-01-28T12:03:53.119Z"
   },
   {
    "duration": 28,
    "start_time": "2023-01-28T12:03:53.145Z"
   },
   {
    "duration": 750,
    "start_time": "2023-01-28T12:03:53.175Z"
   },
   {
    "duration": 7,
    "start_time": "2023-01-28T12:04:26.816Z"
   },
   {
    "duration": 886,
    "start_time": "2023-01-28T12:04:30.340Z"
   },
   {
    "duration": 5,
    "start_time": "2023-01-28T12:04:36.141Z"
   },
   {
    "duration": 6,
    "start_time": "2023-01-28T12:07:58.247Z"
   },
   {
    "duration": 6,
    "start_time": "2023-01-28T12:08:17.122Z"
   },
   {
    "duration": 7,
    "start_time": "2023-01-28T12:09:44.188Z"
   },
   {
    "duration": 120,
    "start_time": "2023-01-28T12:10:42.137Z"
   },
   {
    "duration": 3,
    "start_time": "2023-01-28T12:10:47.453Z"
   },
   {
    "duration": 3,
    "start_time": "2023-01-28T12:10:49.446Z"
   },
   {
    "duration": 3398,
    "start_time": "2023-01-28T12:13:11.154Z"
   },
   {
    "duration": 851,
    "start_time": "2023-01-28T12:13:27.266Z"
   },
   {
    "duration": 7291,
    "start_time": "2023-01-28T12:14:42.005Z"
   },
   {
    "duration": 5442,
    "start_time": "2023-01-28T12:14:52.058Z"
   },
   {
    "duration": 19,
    "start_time": "2023-01-28T12:23:09.512Z"
   },
   {
    "duration": 95,
    "start_time": "2023-01-28T12:27:02.160Z"
   },
   {
    "duration": 23,
    "start_time": "2023-01-28T12:27:15.129Z"
   },
   {
    "duration": 21,
    "start_time": "2023-01-28T12:27:31.029Z"
   },
   {
    "duration": 10,
    "start_time": "2023-01-28T12:27:50.743Z"
   },
   {
    "duration": 18,
    "start_time": "2023-01-28T12:28:27.983Z"
   },
   {
    "duration": 8,
    "start_time": "2023-01-28T13:21:56.032Z"
   },
   {
    "duration": 8,
    "start_time": "2023-01-28T13:22:26.918Z"
   },
   {
    "duration": 16,
    "start_time": "2023-01-28T13:22:45.807Z"
   },
   {
    "duration": 8,
    "start_time": "2023-01-28T13:23:03.183Z"
   },
   {
    "duration": 5,
    "start_time": "2023-01-28T13:23:07.249Z"
   },
   {
    "duration": 7,
    "start_time": "2023-01-28T13:23:20.996Z"
   },
   {
    "duration": 5,
    "start_time": "2023-01-28T13:23:28.864Z"
   },
   {
    "duration": 55,
    "start_time": "2023-01-28T13:29:45.100Z"
   },
   {
    "duration": 15,
    "start_time": "2023-01-28T13:29:51.347Z"
   },
   {
    "duration": 2354,
    "start_time": "2023-01-28T13:30:02.386Z"
   },
   {
    "duration": 5,
    "start_time": "2023-01-28T13:30:04.742Z"
   },
   {
    "duration": 325,
    "start_time": "2023-01-28T13:30:04.749Z"
   },
   {
    "duration": 53,
    "start_time": "2023-01-28T13:30:05.078Z"
   },
   {
    "duration": 101,
    "start_time": "2023-01-28T13:30:05.133Z"
   },
   {
    "duration": 61,
    "start_time": "2023-01-28T13:30:05.236Z"
   },
   {
    "duration": 8,
    "start_time": "2023-01-28T13:30:05.299Z"
   },
   {
    "duration": 175,
    "start_time": "2023-01-28T13:30:05.308Z"
   },
   {
    "duration": 11,
    "start_time": "2023-01-28T13:30:05.484Z"
   },
   {
    "duration": 78,
    "start_time": "2023-01-28T13:30:05.497Z"
   },
   {
    "duration": 153,
    "start_time": "2023-01-28T13:30:05.577Z"
   },
   {
    "duration": 159,
    "start_time": "2023-01-28T13:30:05.732Z"
   },
   {
    "duration": 8,
    "start_time": "2023-01-28T13:30:05.892Z"
   },
   {
    "duration": 143,
    "start_time": "2023-01-28T13:30:05.902Z"
   },
   {
    "duration": 21,
    "start_time": "2023-01-28T13:30:06.047Z"
   },
   {
    "duration": 15,
    "start_time": "2023-01-28T13:30:06.070Z"
   },
   {
    "duration": 150,
    "start_time": "2023-01-28T13:30:06.086Z"
   },
   {
    "duration": 161,
    "start_time": "2023-01-28T13:30:06.239Z"
   },
   {
    "duration": 25,
    "start_time": "2023-01-28T13:30:06.402Z"
   },
   {
    "duration": 13,
    "start_time": "2023-01-28T13:30:06.429Z"
   },
   {
    "duration": 165,
    "start_time": "2023-01-28T13:30:06.443Z"
   },
   {
    "duration": 180,
    "start_time": "2023-01-28T13:30:06.610Z"
   },
   {
    "duration": 38,
    "start_time": "2023-01-28T13:30:06.792Z"
   },
   {
    "duration": 45,
    "start_time": "2023-01-28T13:30:06.832Z"
   },
   {
    "duration": 149,
    "start_time": "2023-01-28T13:30:06.880Z"
   },
   {
    "duration": 21,
    "start_time": "2023-01-28T13:30:07.031Z"
   },
   {
    "duration": 25,
    "start_time": "2023-01-28T13:30:07.053Z"
   },
   {
    "duration": 316,
    "start_time": "2023-01-28T13:30:07.083Z"
   },
   {
    "duration": 24,
    "start_time": "2023-01-28T13:30:07.400Z"
   },
   {
    "duration": 12,
    "start_time": "2023-01-28T13:30:07.425Z"
   },
   {
    "duration": 4,
    "start_time": "2023-01-28T13:30:07.438Z"
   },
   {
    "duration": 71,
    "start_time": "2023-01-28T13:30:07.467Z"
   },
   {
    "duration": 4405,
    "start_time": "2023-01-28T13:30:07.540Z"
   },
   {
    "duration": 7,
    "start_time": "2023-01-28T13:30:11.946Z"
   },
   {
    "duration": 27,
    "start_time": "2023-01-28T13:30:11.954Z"
   },
   {
    "duration": 34,
    "start_time": "2023-01-28T13:30:11.983Z"
   },
   {
    "duration": 12,
    "start_time": "2023-01-28T13:30:12.019Z"
   },
   {
    "duration": 45,
    "start_time": "2023-01-28T13:30:12.033Z"
   },
   {
    "duration": 16,
    "start_time": "2023-01-28T13:30:12.080Z"
   },
   {
    "duration": 21,
    "start_time": "2023-01-28T13:30:12.098Z"
   },
   {
    "duration": 612,
    "start_time": "2023-01-28T13:30:12.120Z"
   },
   {
    "duration": 5,
    "start_time": "2023-01-28T13:30:12.734Z"
   },
   {
    "duration": 27,
    "start_time": "2023-01-28T13:30:12.740Z"
   },
   {
    "duration": 19,
    "start_time": "2023-01-28T13:30:12.769Z"
   },
   {
    "duration": 18,
    "start_time": "2023-01-28T13:30:14.477Z"
   },
   {
    "duration": 151,
    "start_time": "2023-01-28T13:30:56.114Z"
   },
   {
    "duration": 17,
    "start_time": "2023-01-28T13:31:04.816Z"
   },
   {
    "duration": 2179,
    "start_time": "2023-01-28T13:31:17.654Z"
   },
   {
    "duration": 5,
    "start_time": "2023-01-28T13:31:19.835Z"
   },
   {
    "duration": 258,
    "start_time": "2023-01-28T13:31:19.841Z"
   },
   {
    "duration": 50,
    "start_time": "2023-01-28T13:31:20.102Z"
   },
   {
    "duration": 70,
    "start_time": "2023-01-28T13:31:20.167Z"
   },
   {
    "duration": 61,
    "start_time": "2023-01-28T13:31:20.239Z"
   },
   {
    "duration": 7,
    "start_time": "2023-01-28T13:31:20.301Z"
   },
   {
    "duration": 161,
    "start_time": "2023-01-28T13:31:20.310Z"
   },
   {
    "duration": 6,
    "start_time": "2023-01-28T13:31:20.473Z"
   },
   {
    "duration": 77,
    "start_time": "2023-01-28T13:31:20.481Z"
   },
   {
    "duration": 153,
    "start_time": "2023-01-28T13:31:20.559Z"
   },
   {
    "duration": 148,
    "start_time": "2023-01-28T13:31:20.713Z"
   },
   {
    "duration": 10,
    "start_time": "2023-01-28T13:31:20.866Z"
   },
   {
    "duration": 138,
    "start_time": "2023-01-28T13:31:20.878Z"
   },
   {
    "duration": 16,
    "start_time": "2023-01-28T13:31:21.018Z"
   },
   {
    "duration": 11,
    "start_time": "2023-01-28T13:31:21.036Z"
   },
   {
    "duration": 158,
    "start_time": "2023-01-28T13:31:21.049Z"
   },
   {
    "duration": 147,
    "start_time": "2023-01-28T13:31:21.209Z"
   },
   {
    "duration": 30,
    "start_time": "2023-01-28T13:31:21.357Z"
   },
   {
    "duration": 9,
    "start_time": "2023-01-28T13:31:21.389Z"
   },
   {
    "duration": 139,
    "start_time": "2023-01-28T13:31:21.400Z"
   },
   {
    "duration": 131,
    "start_time": "2023-01-28T13:31:21.540Z"
   },
   {
    "duration": 22,
    "start_time": "2023-01-28T13:31:21.673Z"
   },
   {
    "duration": 11,
    "start_time": "2023-01-28T13:31:21.697Z"
   },
   {
    "duration": 148,
    "start_time": "2023-01-28T13:31:21.710Z"
   },
   {
    "duration": 17,
    "start_time": "2023-01-28T13:31:21.867Z"
   },
   {
    "duration": 10,
    "start_time": "2023-01-28T13:31:21.886Z"
   },
   {
    "duration": 138,
    "start_time": "2023-01-28T13:31:21.900Z"
   },
   {
    "duration": 35,
    "start_time": "2023-01-28T13:31:22.040Z"
   },
   {
    "duration": 10,
    "start_time": "2023-01-28T13:31:22.077Z"
   },
   {
    "duration": 12,
    "start_time": "2023-01-28T13:31:22.088Z"
   },
   {
    "duration": 70,
    "start_time": "2023-01-28T13:31:22.102Z"
   },
   {
    "duration": 4197,
    "start_time": "2023-01-28T13:31:22.174Z"
   },
   {
    "duration": 9,
    "start_time": "2023-01-28T13:31:26.373Z"
   },
   {
    "duration": 7,
    "start_time": "2023-01-28T13:31:26.384Z"
   },
   {
    "duration": 14,
    "start_time": "2023-01-28T13:31:26.393Z"
   },
   {
    "duration": 8,
    "start_time": "2023-01-28T13:31:26.409Z"
   },
   {
    "duration": 55,
    "start_time": "2023-01-28T13:31:26.419Z"
   },
   {
    "duration": 11,
    "start_time": "2023-01-28T13:31:26.476Z"
   },
   {
    "duration": 3,
    "start_time": "2023-01-28T13:31:26.489Z"
   },
   {
    "duration": 632,
    "start_time": "2023-01-28T13:31:26.493Z"
   },
   {
    "duration": 5,
    "start_time": "2023-01-28T13:31:27.127Z"
   },
   {
    "duration": 27,
    "start_time": "2023-01-28T13:31:27.134Z"
   },
   {
    "duration": 15,
    "start_time": "2023-01-28T13:31:27.163Z"
   },
   {
    "duration": 156,
    "start_time": "2023-01-28T13:31:27.181Z"
   },
   {
    "duration": 12,
    "start_time": "2023-01-28T13:31:40.948Z"
   },
   {
    "duration": 634,
    "start_time": "2023-01-28T13:31:43.597Z"
   },
   {
    "duration": 34,
    "start_time": "2023-01-28T13:31:58.846Z"
   },
   {
    "duration": 26,
    "start_time": "2023-01-28T13:32:52.989Z"
   },
   {
    "duration": 13,
    "start_time": "2023-01-28T13:33:21.581Z"
   },
   {
    "duration": 19,
    "start_time": "2023-01-28T13:33:46.763Z"
   },
   {
    "duration": 169,
    "start_time": "2023-01-28T13:43:30.421Z"
   },
   {
    "duration": 3044,
    "start_time": "2023-01-28T14:21:30.332Z"
   },
   {
    "duration": 1524,
    "start_time": "2023-01-28T14:21:33.378Z"
   },
   {
    "duration": 797,
    "start_time": "2023-01-28T14:21:34.903Z"
   },
   {
    "duration": 52,
    "start_time": "2023-01-28T14:21:35.702Z"
   },
   {
    "duration": 87,
    "start_time": "2023-01-28T14:21:35.755Z"
   },
   {
    "duration": 63,
    "start_time": "2023-01-28T14:21:35.843Z"
   },
   {
    "duration": 8,
    "start_time": "2023-01-28T14:21:35.907Z"
   },
   {
    "duration": 167,
    "start_time": "2023-01-28T14:21:35.916Z"
   },
   {
    "duration": 6,
    "start_time": "2023-01-28T14:21:36.084Z"
   },
   {
    "duration": 96,
    "start_time": "2023-01-28T14:21:36.092Z"
   },
   {
    "duration": 161,
    "start_time": "2023-01-28T14:21:36.190Z"
   },
   {
    "duration": 153,
    "start_time": "2023-01-28T14:21:36.353Z"
   },
   {
    "duration": 13,
    "start_time": "2023-01-28T14:21:36.508Z"
   },
   {
    "duration": 208,
    "start_time": "2023-01-28T14:21:36.523Z"
   },
   {
    "duration": 22,
    "start_time": "2023-01-28T14:21:36.732Z"
   },
   {
    "duration": 19,
    "start_time": "2023-01-28T14:21:36.756Z"
   },
   {
    "duration": 136,
    "start_time": "2023-01-28T14:21:36.777Z"
   },
   {
    "duration": 146,
    "start_time": "2023-01-28T14:21:36.914Z"
   },
   {
    "duration": 22,
    "start_time": "2023-01-28T14:21:37.061Z"
   },
   {
    "duration": 10,
    "start_time": "2023-01-28T14:21:37.085Z"
   },
   {
    "duration": 207,
    "start_time": "2023-01-28T14:21:37.096Z"
   },
   {
    "duration": 162,
    "start_time": "2023-01-28T14:21:37.305Z"
   },
   {
    "duration": 29,
    "start_time": "2023-01-28T14:21:37.469Z"
   },
   {
    "duration": 11,
    "start_time": "2023-01-28T14:21:37.500Z"
   },
   {
    "duration": 200,
    "start_time": "2023-01-28T14:21:37.513Z"
   },
   {
    "duration": 17,
    "start_time": "2023-01-28T14:21:37.715Z"
   },
   {
    "duration": 27,
    "start_time": "2023-01-28T14:21:37.733Z"
   },
   {
    "duration": 128,
    "start_time": "2023-01-28T14:21:37.763Z"
   },
   {
    "duration": 22,
    "start_time": "2023-01-28T14:21:37.893Z"
   },
   {
    "duration": 9,
    "start_time": "2023-01-28T14:21:37.916Z"
   },
   {
    "duration": 3,
    "start_time": "2023-01-28T14:21:37.926Z"
   },
   {
    "duration": 77,
    "start_time": "2023-01-28T14:21:37.930Z"
   },
   {
    "duration": 4281,
    "start_time": "2023-01-28T14:21:38.008Z"
   },
   {
    "duration": 7,
    "start_time": "2023-01-28T14:21:42.290Z"
   },
   {
    "duration": 8,
    "start_time": "2023-01-28T14:21:42.298Z"
   },
   {
    "duration": 14,
    "start_time": "2023-01-28T14:21:42.308Z"
   },
   {
    "duration": 9,
    "start_time": "2023-01-28T14:21:42.324Z"
   },
   {
    "duration": 29,
    "start_time": "2023-01-28T14:21:42.353Z"
   },
   {
    "duration": 12,
    "start_time": "2023-01-28T14:21:42.384Z"
   },
   {
    "duration": 7,
    "start_time": "2023-01-28T14:21:42.398Z"
   },
   {
    "duration": 588,
    "start_time": "2023-01-28T14:21:42.407Z"
   },
   {
    "duration": 7,
    "start_time": "2023-01-28T14:21:42.998Z"
   },
   {
    "duration": 30,
    "start_time": "2023-01-28T14:21:43.007Z"
   },
   {
    "duration": 114,
    "start_time": "2023-01-28T14:21:54.798Z"
   },
   {
    "duration": 18,
    "start_time": "2023-01-28T14:22:04.180Z"
   },
   {
    "duration": 216,
    "start_time": "2023-01-28T14:22:06.217Z"
   },
   {
    "duration": 178,
    "start_time": "2023-01-28T14:22:08.867Z"
   },
   {
    "duration": 629125,
    "start_time": "2023-01-28T14:22:15.729Z"
   },
   {
    "duration": 7,
    "start_time": "2023-01-28T15:03:11.311Z"
   },
   {
    "duration": 8,
    "start_time": "2023-01-28T15:06:57.105Z"
   },
   {
    "duration": 5,
    "start_time": "2023-01-28T15:08:31.890Z"
   },
   {
    "duration": 6,
    "start_time": "2023-01-28T15:08:44.770Z"
   },
   {
    "duration": 4,
    "start_time": "2023-01-28T15:20:42.434Z"
   },
   {
    "duration": 3,
    "start_time": "2023-01-28T15:22:13.023Z"
   },
   {
    "duration": 3,
    "start_time": "2023-01-28T15:22:14.518Z"
   },
   {
    "duration": 169,
    "start_time": "2023-01-28T15:22:15.375Z"
   },
   {
    "duration": 531390,
    "start_time": "2023-01-28T15:22:37.876Z"
   },
   {
    "duration": 14,
    "start_time": "2023-01-28T15:33:37.970Z"
   },
   {
    "duration": 614,
    "start_time": "2023-01-28T15:34:04.001Z"
   },
   {
    "duration": 196,
    "start_time": "2023-01-28T15:34:05.641Z"
   },
   {
    "duration": 500010,
    "start_time": "2023-01-28T15:34:36.799Z"
   },
   {
    "duration": 127,
    "start_time": "2023-01-29T09:05:26.476Z"
   },
   {
    "duration": 20,
    "start_time": "2023-01-29T09:06:38.581Z"
   },
   {
    "duration": 18,
    "start_time": "2023-01-29T09:07:20.828Z"
   },
   {
    "duration": 26,
    "start_time": "2023-01-29T09:07:39.530Z"
   },
   {
    "duration": 20,
    "start_time": "2023-01-29T09:07:45.728Z"
   },
   {
    "duration": 21,
    "start_time": "2023-01-29T09:08:33.629Z"
   },
   {
    "duration": 24,
    "start_time": "2023-01-29T09:09:42.485Z"
   },
   {
    "duration": 32,
    "start_time": "2023-01-29T09:10:48.226Z"
   },
   {
    "duration": 143,
    "start_time": "2023-01-29T09:11:59.384Z"
   },
   {
    "duration": 140,
    "start_time": "2023-01-29T09:12:27.204Z"
   },
   {
    "duration": 185,
    "start_time": "2023-01-29T09:13:18.175Z"
   },
   {
    "duration": 185,
    "start_time": "2023-01-29T09:14:31.537Z"
   },
   {
    "duration": 4,
    "start_time": "2023-01-29T09:14:56.476Z"
   },
   {
    "duration": 9,
    "start_time": "2023-01-29T09:15:29.691Z"
   },
   {
    "duration": 10,
    "start_time": "2023-01-29T09:15:56.368Z"
   },
   {
    "duration": 11,
    "start_time": "2023-01-29T09:17:39.087Z"
   },
   {
    "duration": 16,
    "start_time": "2023-01-29T09:17:40.269Z"
   },
   {
    "duration": 16,
    "start_time": "2023-01-29T09:18:17.766Z"
   },
   {
    "duration": 250,
    "start_time": "2023-01-29T09:18:39.298Z"
   },
   {
    "duration": 23,
    "start_time": "2023-01-29T09:19:19.549Z"
   },
   {
    "duration": 291,
    "start_time": "2023-01-29T09:19:37.430Z"
   },
   {
    "duration": 128,
    "start_time": "2023-01-29T09:21:28.230Z"
   },
   {
    "duration": 14,
    "start_time": "2023-01-29T09:23:24.577Z"
   },
   {
    "duration": 14,
    "start_time": "2023-01-29T09:24:31.740Z"
   },
   {
    "duration": 17,
    "start_time": "2023-01-29T09:27:00.161Z"
   },
   {
    "duration": 14,
    "start_time": "2023-01-29T09:28:26.429Z"
   },
   {
    "duration": 2487,
    "start_time": "2023-01-29T12:11:56.131Z"
   },
   {
    "duration": 6,
    "start_time": "2023-01-29T12:14:21.590Z"
   },
   {
    "duration": 4,
    "start_time": "2023-01-29T12:14:33.267Z"
   },
   {
    "duration": 56,
    "start_time": "2023-01-29T12:17:21.627Z"
   },
   {
    "duration": 2315,
    "start_time": "2023-01-29T12:23:30.747Z"
   },
   {
    "duration": 1588,
    "start_time": "2023-01-29T12:23:33.064Z"
   },
   {
    "duration": 4,
    "start_time": "2023-01-29T12:23:34.653Z"
   },
   {
    "duration": 297,
    "start_time": "2023-01-29T12:23:34.659Z"
   },
   {
    "duration": 50,
    "start_time": "2023-01-29T12:23:34.958Z"
   },
   {
    "duration": 168,
    "start_time": "2023-01-29T12:29:59.461Z"
   },
   {
    "duration": 14,
    "start_time": "2023-01-29T12:30:17.731Z"
   },
   {
    "duration": 1276,
    "start_time": "2023-01-29T12:30:25.431Z"
   },
   {
    "duration": 5,
    "start_time": "2023-01-29T12:31:42.491Z"
   },
   {
    "duration": 12,
    "start_time": "2023-01-29T12:31:57.990Z"
   },
   {
    "duration": 5,
    "start_time": "2023-01-29T12:32:13.814Z"
   },
   {
    "duration": 5,
    "start_time": "2023-01-29T12:32:34.754Z"
   },
   {
    "duration": 6,
    "start_time": "2023-01-29T12:33:17.340Z"
   },
   {
    "duration": 6,
    "start_time": "2023-01-29T12:33:35.590Z"
   },
   {
    "duration": 6,
    "start_time": "2023-01-29T12:33:49.763Z"
   },
   {
    "duration": 6,
    "start_time": "2023-01-29T12:34:02.290Z"
   },
   {
    "duration": 6,
    "start_time": "2023-01-29T12:34:12.074Z"
   },
   {
    "duration": 7,
    "start_time": "2023-01-29T12:34:23.330Z"
   },
   {
    "duration": 6,
    "start_time": "2023-01-29T12:37:12.002Z"
   },
   {
    "duration": 7,
    "start_time": "2023-01-29T12:38:48.245Z"
   },
   {
    "duration": 7,
    "start_time": "2023-01-29T12:39:14.554Z"
   },
   {
    "duration": 101,
    "start_time": "2023-01-29T12:44:52.049Z"
   },
   {
    "duration": 10,
    "start_time": "2023-01-29T12:45:01.984Z"
   },
   {
    "duration": 14,
    "start_time": "2023-01-29T12:55:01.281Z"
   },
   {
    "duration": 55,
    "start_time": "2023-01-29T13:03:12.704Z"
   },
   {
    "duration": 70,
    "start_time": "2023-01-29T13:07:18.166Z"
   },
   {
    "duration": 11,
    "start_time": "2023-01-29T13:12:58.791Z"
   },
   {
    "duration": 13,
    "start_time": "2023-01-29T13:14:56.853Z"
   },
   {
    "duration": 62,
    "start_time": "2023-01-29T13:20:09.302Z"
   },
   {
    "duration": 7,
    "start_time": "2023-01-29T13:21:08.571Z"
   },
   {
    "duration": 101,
    "start_time": "2023-01-29T13:23:34.962Z"
   },
   {
    "duration": 97,
    "start_time": "2023-01-29T13:23:47.789Z"
   },
   {
    "duration": 11,
    "start_time": "2023-01-29T13:26:42.365Z"
   },
   {
    "duration": 11,
    "start_time": "2023-01-29T13:28:07.496Z"
   },
   {
    "duration": 12,
    "start_time": "2023-01-29T13:29:16.565Z"
   },
   {
    "duration": 11,
    "start_time": "2023-01-29T13:30:28.767Z"
   },
   {
    "duration": 11,
    "start_time": "2023-01-29T13:30:57.797Z"
   },
   {
    "duration": 9,
    "start_time": "2023-01-29T13:31:29.454Z"
   },
   {
    "duration": 66,
    "start_time": "2023-01-29T13:49:29.160Z"
   },
   {
    "duration": 7,
    "start_time": "2023-01-29T13:49:30.559Z"
   },
   {
    "duration": 76,
    "start_time": "2023-01-29T13:50:30.509Z"
   },
   {
    "duration": 50,
    "start_time": "2023-01-29T15:55:38.967Z"
   },
   {
    "duration": 3008,
    "start_time": "2023-01-29T15:55:47.268Z"
   },
   {
    "duration": 1509,
    "start_time": "2023-01-29T15:55:50.278Z"
   },
   {
    "duration": 3,
    "start_time": "2023-01-29T15:55:51.789Z"
   },
   {
    "duration": 889,
    "start_time": "2023-01-29T15:55:51.794Z"
   },
   {
    "duration": 49,
    "start_time": "2023-01-29T15:55:52.684Z"
   },
   {
    "duration": 36,
    "start_time": "2023-01-29T15:55:52.734Z"
   },
   {
    "duration": 56,
    "start_time": "2023-01-29T15:55:52.772Z"
   },
   {
    "duration": 96,
    "start_time": "2023-01-29T15:55:52.829Z"
   },
   {
    "duration": 119,
    "start_time": "2023-01-29T15:55:52.927Z"
   },
   {
    "duration": 19,
    "start_time": "2023-01-29T15:55:53.049Z"
   },
   {
    "duration": 19,
    "start_time": "2023-01-29T15:55:53.070Z"
   },
   {
    "duration": 11,
    "start_time": "2023-01-29T15:55:53.092Z"
   },
   {
    "duration": 17,
    "start_time": "2023-01-29T15:55:53.105Z"
   },
   {
    "duration": 14,
    "start_time": "2023-01-29T15:55:53.124Z"
   },
   {
    "duration": 11,
    "start_time": "2023-01-29T15:55:53.168Z"
   },
   {
    "duration": 68,
    "start_time": "2023-01-29T15:55:53.180Z"
   },
   {
    "duration": 16,
    "start_time": "2023-01-29T15:55:53.267Z"
   },
   {
    "duration": 58,
    "start_time": "2023-01-29T15:57:32.270Z"
   },
   {
    "duration": 10,
    "start_time": "2023-01-29T15:58:01.670Z"
   },
   {
    "duration": 82,
    "start_time": "2023-01-29T16:00:41.565Z"
   },
   {
    "duration": 10,
    "start_time": "2023-01-29T16:00:46.870Z"
   },
   {
    "duration": 9,
    "start_time": "2023-01-29T16:09:28.039Z"
   },
   {
    "duration": 14,
    "start_time": "2023-01-29T16:09:45.619Z"
   },
   {
    "duration": 11,
    "start_time": "2023-01-29T16:10:29.073Z"
   },
   {
    "duration": 15,
    "start_time": "2023-01-30T09:27:13.015Z"
   },
   {
    "duration": 9,
    "start_time": "2023-01-30T09:27:17.202Z"
   },
   {
    "duration": 10,
    "start_time": "2023-01-30T09:30:35.597Z"
   },
   {
    "duration": 157,
    "start_time": "2023-01-30T09:31:20.983Z"
   },
   {
    "duration": 434,
    "start_time": "2023-01-30T09:34:26.962Z"
   },
   {
    "duration": 306,
    "start_time": "2023-01-30T09:35:08.494Z"
   },
   {
    "duration": 340,
    "start_time": "2023-01-30T09:35:16.876Z"
   },
   {
    "duration": 325,
    "start_time": "2023-01-30T09:35:29.967Z"
   },
   {
    "duration": 178,
    "start_time": "2023-01-30T09:35:39.326Z"
   },
   {
    "duration": 139,
    "start_time": "2023-01-30T09:35:58.258Z"
   },
   {
    "duration": 9,
    "start_time": "2023-01-30T09:55:00.097Z"
   },
   {
    "duration": 7,
    "start_time": "2023-01-30T09:57:33.972Z"
   },
   {
    "duration": 67,
    "start_time": "2023-01-30T10:00:36.365Z"
   },
   {
    "duration": 8,
    "start_time": "2023-01-30T10:02:02.568Z"
   },
   {
    "duration": 842,
    "start_time": "2023-01-30T10:02:04.690Z"
   },
   {
    "duration": 83,
    "start_time": "2023-01-30T10:02:37.906Z"
   },
   {
    "duration": 48,
    "start_time": "2023-01-30T10:02:57.670Z"
   },
   {
    "duration": 11,
    "start_time": "2023-01-30T10:03:29.609Z"
   },
   {
    "duration": 10,
    "start_time": "2023-01-30T10:03:42.085Z"
   },
   {
    "duration": 15,
    "start_time": "2023-01-30T10:04:02.206Z"
   },
   {
    "duration": 62,
    "start_time": "2023-01-30T10:04:05.160Z"
   },
   {
    "duration": 62,
    "start_time": "2023-01-30T10:04:06.299Z"
   },
   {
    "duration": 51,
    "start_time": "2023-01-30T10:05:40.790Z"
   },
   {
    "duration": 2007,
    "start_time": "2023-01-30T10:06:49.149Z"
   },
   {
    "duration": 1403,
    "start_time": "2023-01-30T10:06:51.158Z"
   },
   {
    "duration": 4,
    "start_time": "2023-01-30T10:06:52.563Z"
   },
   {
    "duration": 258,
    "start_time": "2023-01-30T10:06:52.569Z"
   },
   {
    "duration": 53,
    "start_time": "2023-01-30T10:06:52.829Z"
   },
   {
    "duration": 13,
    "start_time": "2023-01-30T10:06:52.884Z"
   },
   {
    "duration": 110,
    "start_time": "2023-01-30T10:06:52.899Z"
   },
   {
    "duration": 93,
    "start_time": "2023-01-30T10:06:53.010Z"
   },
   {
    "duration": 107,
    "start_time": "2023-01-30T10:06:53.105Z"
   },
   {
    "duration": 8,
    "start_time": "2023-01-30T10:06:53.214Z"
   },
   {
    "duration": 9,
    "start_time": "2023-01-30T10:06:53.224Z"
   },
   {
    "duration": 9,
    "start_time": "2023-01-30T10:06:53.234Z"
   },
   {
    "duration": 9,
    "start_time": "2023-01-30T10:06:53.268Z"
   },
   {
    "duration": 10,
    "start_time": "2023-01-30T10:06:53.278Z"
   },
   {
    "duration": 9,
    "start_time": "2023-01-30T10:06:53.290Z"
   },
   {
    "duration": 114,
    "start_time": "2023-01-30T10:06:53.301Z"
   },
   {
    "duration": 175,
    "start_time": "2023-01-30T10:06:53.416Z"
   },
   {
    "duration": 11,
    "start_time": "2023-01-30T10:07:03.548Z"
   },
   {
    "duration": 59,
    "start_time": "2023-01-30T10:07:11.163Z"
   },
   {
    "duration": 47,
    "start_time": "2023-01-30T10:09:54.551Z"
   },
   {
    "duration": 3,
    "start_time": "2023-01-30T10:10:08.456Z"
   },
   {
    "duration": 30,
    "start_time": "2023-01-30T10:10:27.074Z"
   },
   {
    "duration": 10,
    "start_time": "2023-01-30T10:10:52.647Z"
   },
   {
    "duration": 3,
    "start_time": "2023-01-30T10:11:21.759Z"
   },
   {
    "duration": 32,
    "start_time": "2023-01-30T10:11:22.359Z"
   },
   {
    "duration": 9,
    "start_time": "2023-01-30T10:11:22.994Z"
   },
   {
    "duration": 2038,
    "start_time": "2023-01-30T10:13:46.861Z"
   },
   {
    "duration": 4,
    "start_time": "2023-01-30T10:13:48.901Z"
   },
   {
    "duration": 14,
    "start_time": "2023-01-30T10:13:48.907Z"
   },
   {
    "duration": 263,
    "start_time": "2023-01-30T10:13:48.923Z"
   },
   {
    "duration": 42,
    "start_time": "2023-01-30T10:13:49.187Z"
   },
   {
    "duration": 38,
    "start_time": "2023-01-30T10:13:49.230Z"
   },
   {
    "duration": 51,
    "start_time": "2023-01-30T10:13:49.270Z"
   },
   {
    "duration": 85,
    "start_time": "2023-01-30T10:13:49.323Z"
   },
   {
    "duration": 103,
    "start_time": "2023-01-30T10:13:49.410Z"
   },
   {
    "duration": 8,
    "start_time": "2023-01-30T10:13:49.516Z"
   },
   {
    "duration": 9,
    "start_time": "2023-01-30T10:13:49.525Z"
   },
   {
    "duration": 8,
    "start_time": "2023-01-30T10:13:49.535Z"
   },
   {
    "duration": 8,
    "start_time": "2023-01-30T10:13:49.567Z"
   },
   {
    "duration": 11,
    "start_time": "2023-01-30T10:13:49.576Z"
   },
   {
    "duration": 19,
    "start_time": "2023-01-30T10:13:49.588Z"
   },
   {
    "duration": 89,
    "start_time": "2023-01-30T10:13:49.608Z"
   },
   {
    "duration": 155,
    "start_time": "2023-01-30T10:13:49.698Z"
   },
   {
    "duration": 14,
    "start_time": "2023-01-30T10:13:49.855Z"
   },
   {
    "duration": 10,
    "start_time": "2023-01-30T10:15:15.602Z"
   },
   {
    "duration": 26,
    "start_time": "2023-01-30T10:15:48.105Z"
   },
   {
    "duration": 8,
    "start_time": "2023-01-30T10:16:08.767Z"
   },
   {
    "duration": 16,
    "start_time": "2023-01-30T10:17:19.238Z"
   },
   {
    "duration": 10,
    "start_time": "2023-01-30T10:17:40.819Z"
   },
   {
    "duration": 8,
    "start_time": "2023-01-30T10:17:55.850Z"
   },
   {
    "duration": 31,
    "start_time": "2023-01-30T12:13:20.797Z"
   },
   {
    "duration": 221,
    "start_time": "2023-01-30T12:13:31.215Z"
   },
   {
    "duration": 139,
    "start_time": "2023-01-30T12:13:43.366Z"
   },
   {
    "duration": 70,
    "start_time": "2023-01-30T12:14:10.464Z"
   },
   {
    "duration": 72,
    "start_time": "2023-01-30T12:15:22.898Z"
   },
   {
    "duration": 938,
    "start_time": "2023-01-30T12:17:49.830Z"
   },
   {
    "duration": 77,
    "start_time": "2023-01-30T12:17:56.922Z"
   },
   {
    "duration": 227,
    "start_time": "2023-01-30T12:30:57.514Z"
   },
   {
    "duration": 199,
    "start_time": "2023-01-30T12:31:44.302Z"
   },
   {
    "duration": 13,
    "start_time": "2023-01-30T12:31:52.351Z"
   },
   {
    "duration": 142,
    "start_time": "2023-01-30T12:33:35.663Z"
   },
   {
    "duration": 3,
    "start_time": "2023-01-30T12:37:23.266Z"
   },
   {
    "duration": 13,
    "start_time": "2023-01-30T12:37:33.177Z"
   },
   {
    "duration": 133,
    "start_time": "2023-01-30T12:37:49.760Z"
   },
   {
    "duration": 17,
    "start_time": "2023-01-30T12:41:49.683Z"
   },
   {
    "duration": 135,
    "start_time": "2023-01-30T12:41:50.529Z"
   },
   {
    "duration": 241,
    "start_time": "2023-01-30T12:50:43.605Z"
   },
   {
    "duration": 163,
    "start_time": "2023-01-30T12:50:55.939Z"
   },
   {
    "duration": 150,
    "start_time": "2023-01-30T12:51:02.155Z"
   },
   {
    "duration": 233,
    "start_time": "2023-01-30T12:51:34.202Z"
   },
   {
    "duration": 7,
    "start_time": "2023-01-30T12:52:22.708Z"
   },
   {
    "duration": 87,
    "start_time": "2023-01-30T12:52:32.603Z"
   },
   {
    "duration": 12,
    "start_time": "2023-01-30T12:55:58.562Z"
   },
   {
    "duration": 2050,
    "start_time": "2023-01-30T12:56:08.306Z"
   },
   {
    "duration": 7,
    "start_time": "2023-01-30T12:56:10.359Z"
   },
   {
    "duration": 15,
    "start_time": "2023-01-30T12:56:10.368Z"
   },
   {
    "duration": 262,
    "start_time": "2023-01-30T12:56:10.385Z"
   },
   {
    "duration": 54,
    "start_time": "2023-01-30T12:56:10.649Z"
   },
   {
    "duration": 20,
    "start_time": "2023-01-30T12:56:10.704Z"
   },
   {
    "duration": 92,
    "start_time": "2023-01-30T12:56:10.725Z"
   },
   {
    "duration": 80,
    "start_time": "2023-01-30T12:56:10.818Z"
   },
   {
    "duration": 107,
    "start_time": "2023-01-30T12:56:10.901Z"
   },
   {
    "duration": 10,
    "start_time": "2023-01-30T12:56:11.009Z"
   },
   {
    "duration": 10,
    "start_time": "2023-01-30T12:56:11.021Z"
   },
   {
    "duration": 33,
    "start_time": "2023-01-30T12:56:11.039Z"
   },
   {
    "duration": 14,
    "start_time": "2023-01-30T12:56:11.074Z"
   },
   {
    "duration": 13,
    "start_time": "2023-01-30T12:56:11.092Z"
   },
   {
    "duration": 10,
    "start_time": "2023-01-30T12:56:11.107Z"
   },
   {
    "duration": 128,
    "start_time": "2023-01-30T12:56:11.119Z"
   },
   {
    "duration": 179,
    "start_time": "2023-01-30T12:56:11.250Z"
   },
   {
    "duration": 9,
    "start_time": "2023-01-30T12:56:11.431Z"
   },
   {
    "duration": 31,
    "start_time": "2023-01-30T12:56:11.441Z"
   },
   {
    "duration": 9,
    "start_time": "2023-01-30T12:56:11.474Z"
   },
   {
    "duration": 17,
    "start_time": "2023-01-30T12:56:11.485Z"
   },
   {
    "duration": 19,
    "start_time": "2023-01-30T12:56:11.503Z"
   },
   {
    "duration": 85,
    "start_time": "2023-01-30T12:56:11.524Z"
   },
   {
    "duration": 211,
    "start_time": "2023-01-30T12:56:11.610Z"
   },
   {
    "duration": 155,
    "start_time": "2023-01-30T12:56:11.822Z"
   },
   {
    "duration": 14,
    "start_time": "2023-01-30T12:56:11.978Z"
   },
   {
    "duration": 152,
    "start_time": "2023-01-30T12:56:11.994Z"
   },
   {
    "duration": 180,
    "start_time": "2023-01-30T12:56:12.147Z"
   },
   {
    "duration": 140,
    "start_time": "2023-01-30T12:56:12.329Z"
   },
   {
    "duration": 18,
    "start_time": "2023-01-30T12:56:21.024Z"
   },
   {
    "duration": 12,
    "start_time": "2023-01-30T12:57:15.201Z"
   },
   {
    "duration": 8,
    "start_time": "2023-01-30T12:58:59.918Z"
   },
   {
    "duration": 246,
    "start_time": "2023-01-30T13:00:31.165Z"
   },
   {
    "duration": 164,
    "start_time": "2023-01-30T13:00:37.950Z"
   },
   {
    "duration": 440,
    "start_time": "2023-01-30T13:00:44.946Z"
   },
   {
    "duration": 162,
    "start_time": "2023-01-30T13:00:54.001Z"
   },
   {
    "duration": 7,
    "start_time": "2023-01-30T13:01:54.532Z"
   },
   {
    "duration": 2387,
    "start_time": "2023-01-30T13:02:42.971Z"
   },
   {
    "duration": 5,
    "start_time": "2023-01-30T13:02:45.361Z"
   },
   {
    "duration": 23,
    "start_time": "2023-01-30T13:02:45.368Z"
   },
   {
    "duration": 336,
    "start_time": "2023-01-30T13:02:45.393Z"
   },
   {
    "duration": 92,
    "start_time": "2023-01-30T13:02:45.732Z"
   },
   {
    "duration": 42,
    "start_time": "2023-01-30T13:02:45.826Z"
   },
   {
    "duration": 49,
    "start_time": "2023-01-30T13:02:45.870Z"
   },
   {
    "duration": 99,
    "start_time": "2023-01-30T13:02:45.921Z"
   },
   {
    "duration": 114,
    "start_time": "2023-01-30T13:02:46.022Z"
   },
   {
    "duration": 9,
    "start_time": "2023-01-30T13:02:46.138Z"
   },
   {
    "duration": 25,
    "start_time": "2023-01-30T13:02:46.149Z"
   },
   {
    "duration": 10,
    "start_time": "2023-01-30T13:02:46.176Z"
   },
   {
    "duration": 11,
    "start_time": "2023-01-30T13:02:46.188Z"
   },
   {
    "duration": 12,
    "start_time": "2023-01-30T13:02:46.203Z"
   },
   {
    "duration": 51,
    "start_time": "2023-01-30T13:02:46.217Z"
   },
   {
    "duration": 75,
    "start_time": "2023-01-30T13:02:46.270Z"
   },
   {
    "duration": 194,
    "start_time": "2023-01-30T13:02:46.347Z"
   },
   {
    "duration": 10,
    "start_time": "2023-01-30T13:02:46.542Z"
   },
   {
    "duration": 38,
    "start_time": "2023-01-30T13:02:46.554Z"
   },
   {
    "duration": 27,
    "start_time": "2023-01-30T13:02:46.594Z"
   },
   {
    "duration": 13,
    "start_time": "2023-01-30T13:02:46.623Z"
   },
   {
    "duration": 12,
    "start_time": "2023-01-30T13:02:46.637Z"
   },
   {
    "duration": 102,
    "start_time": "2023-01-30T13:02:46.651Z"
   },
   {
    "duration": 253,
    "start_time": "2023-01-30T13:02:46.755Z"
   },
   {
    "duration": 176,
    "start_time": "2023-01-30T13:02:47.010Z"
   },
   {
    "duration": 13,
    "start_time": "2023-01-30T13:02:47.188Z"
   },
   {
    "duration": 161,
    "start_time": "2023-01-30T13:02:47.202Z"
   },
   {
    "duration": 200,
    "start_time": "2023-01-30T13:02:47.367Z"
   },
   {
    "duration": 149,
    "start_time": "2023-01-30T13:02:47.570Z"
   },
   {
    "duration": 8,
    "start_time": "2023-01-30T13:02:47.720Z"
   },
   {
    "duration": 21,
    "start_time": "2023-01-30T13:02:47.730Z"
   },
   {
    "duration": 226,
    "start_time": "2023-01-30T13:02:47.754Z"
   },
   {
    "duration": 7,
    "start_time": "2023-01-30T13:02:53.854Z"
   },
   {
    "duration": 228,
    "start_time": "2023-01-30T13:08:43.315Z"
   },
   {
    "duration": 286,
    "start_time": "2023-01-30T13:08:51.677Z"
   },
   {
    "duration": 7,
    "start_time": "2023-01-30T13:09:22.566Z"
   },
   {
    "duration": 7,
    "start_time": "2023-01-30T13:19:32.424Z"
   },
   {
    "duration": 9,
    "start_time": "2023-01-30T13:23:03.115Z"
   },
   {
    "duration": 175,
    "start_time": "2023-01-30T13:26:50.147Z"
   },
   {
    "duration": 7,
    "start_time": "2023-01-30T13:27:24.412Z"
   },
   {
    "duration": 45,
    "start_time": "2023-01-30T13:28:27.950Z"
   },
   {
    "duration": 19,
    "start_time": "2023-01-30T13:28:37.578Z"
   },
   {
    "duration": 10,
    "start_time": "2023-01-30T13:28:52.078Z"
   },
   {
    "duration": 170,
    "start_time": "2023-01-30T13:29:32.706Z"
   },
   {
    "duration": 8,
    "start_time": "2023-01-30T13:30:05.283Z"
   },
   {
    "duration": 3700,
    "start_time": "2023-01-30T13:30:55.403Z"
   },
   {
    "duration": 13,
    "start_time": "2023-01-30T13:31:45.064Z"
   },
   {
    "duration": 405,
    "start_time": "2023-01-30T13:32:21.458Z"
   },
   {
    "duration": 8,
    "start_time": "2023-01-30T13:34:07.405Z"
   },
   {
    "duration": 14,
    "start_time": "2023-01-30T13:35:10.891Z"
   },
   {
    "duration": 7,
    "start_time": "2023-01-30T13:35:53.088Z"
   },
   {
    "duration": 9,
    "start_time": "2023-01-30T13:36:31.956Z"
   },
   {
    "duration": 7,
    "start_time": "2023-01-30T13:36:38.933Z"
   },
   {
    "duration": 8,
    "start_time": "2023-01-30T13:36:59.882Z"
   },
   {
    "duration": 2320,
    "start_time": "2023-01-30T13:37:14.495Z"
   },
   {
    "duration": 7,
    "start_time": "2023-01-30T13:37:16.819Z"
   },
   {
    "duration": 33,
    "start_time": "2023-01-30T13:37:16.828Z"
   },
   {
    "duration": 269,
    "start_time": "2023-01-30T13:37:16.864Z"
   },
   {
    "duration": 85,
    "start_time": "2023-01-30T13:37:17.136Z"
   },
   {
    "duration": 46,
    "start_time": "2023-01-30T13:37:17.223Z"
   },
   {
    "duration": 53,
    "start_time": "2023-01-30T13:37:17.271Z"
   },
   {
    "duration": 100,
    "start_time": "2023-01-30T13:37:17.326Z"
   },
   {
    "duration": 145,
    "start_time": "2023-01-30T13:37:17.428Z"
   },
   {
    "duration": 9,
    "start_time": "2023-01-30T13:37:17.576Z"
   },
   {
    "duration": 21,
    "start_time": "2023-01-30T13:37:17.587Z"
   },
   {
    "duration": 10,
    "start_time": "2023-01-30T13:37:17.610Z"
   },
   {
    "duration": 12,
    "start_time": "2023-01-30T13:37:17.621Z"
   },
   {
    "duration": 37,
    "start_time": "2023-01-30T13:37:17.635Z"
   },
   {
    "duration": 15,
    "start_time": "2023-01-30T13:37:17.673Z"
   },
   {
    "duration": 136,
    "start_time": "2023-01-30T13:37:17.690Z"
   },
   {
    "duration": 187,
    "start_time": "2023-01-30T13:37:17.828Z"
   },
   {
    "duration": 11,
    "start_time": "2023-01-30T13:37:18.016Z"
   },
   {
    "duration": 40,
    "start_time": "2023-01-30T13:37:18.029Z"
   },
   {
    "duration": 12,
    "start_time": "2023-01-30T13:37:18.072Z"
   },
   {
    "duration": 14,
    "start_time": "2023-01-30T13:37:18.086Z"
   },
   {
    "duration": 16,
    "start_time": "2023-01-30T13:37:18.101Z"
   },
   {
    "duration": 292,
    "start_time": "2023-01-30T13:37:18.119Z"
   },
   {
    "duration": 234,
    "start_time": "2023-01-30T13:37:18.412Z"
   },
   {
    "duration": 177,
    "start_time": "2023-01-30T13:37:18.648Z"
   },
   {
    "duration": 12,
    "start_time": "2023-01-30T13:37:18.826Z"
   },
   {
    "duration": 151,
    "start_time": "2023-01-30T13:37:18.840Z"
   },
   {
    "duration": 182,
    "start_time": "2023-01-30T13:37:18.994Z"
   },
   {
    "duration": 138,
    "start_time": "2023-01-30T13:37:19.178Z"
   },
   {
    "duration": 8,
    "start_time": "2023-01-30T13:37:19.318Z"
   },
   {
    "duration": 15,
    "start_time": "2023-01-30T13:37:19.328Z"
   },
   {
    "duration": 204,
    "start_time": "2023-01-30T13:37:19.345Z"
   },
   {
    "duration": 6,
    "start_time": "2023-01-30T13:37:19.551Z"
   },
   {
    "duration": 189,
    "start_time": "2023-01-30T13:37:19.567Z"
   },
   {
    "duration": 9,
    "start_time": "2023-01-30T13:37:24.384Z"
   },
   {
    "duration": 9,
    "start_time": "2023-01-30T13:37:33.100Z"
   },
   {
    "duration": 10,
    "start_time": "2023-01-30T13:37:41.157Z"
   },
   {
    "duration": 174,
    "start_time": "2023-01-30T13:37:50.855Z"
   },
   {
    "duration": 8,
    "start_time": "2023-01-30T13:37:52.509Z"
   },
   {
    "duration": 9,
    "start_time": "2023-01-30T13:37:56.392Z"
   },
   {
    "duration": 165,
    "start_time": "2023-01-30T13:37:57.317Z"
   },
   {
    "duration": 6,
    "start_time": "2023-01-30T13:37:58.149Z"
   },
   {
    "duration": 137,
    "start_time": "2023-01-30T13:40:46.093Z"
   },
   {
    "duration": 144,
    "start_time": "2023-01-30T13:44:11.891Z"
   },
   {
    "duration": 2101,
    "start_time": "2023-01-30T13:51:09.338Z"
   },
   {
    "duration": 6,
    "start_time": "2023-01-30T13:51:11.441Z"
   },
   {
    "duration": 8,
    "start_time": "2023-01-30T13:51:11.449Z"
   },
   {
    "duration": 238,
    "start_time": "2023-01-30T13:51:11.459Z"
   },
   {
    "duration": 43,
    "start_time": "2023-01-30T13:51:11.699Z"
   },
   {
    "duration": 36,
    "start_time": "2023-01-30T13:51:11.743Z"
   },
   {
    "duration": 46,
    "start_time": "2023-01-30T13:51:11.780Z"
   },
   {
    "duration": 101,
    "start_time": "2023-01-30T13:51:11.828Z"
   },
   {
    "duration": 125,
    "start_time": "2023-01-30T13:51:11.930Z"
   },
   {
    "duration": 13,
    "start_time": "2023-01-30T13:51:12.058Z"
   },
   {
    "duration": 16,
    "start_time": "2023-01-30T13:51:12.073Z"
   },
   {
    "duration": 14,
    "start_time": "2023-01-30T13:51:12.091Z"
   },
   {
    "duration": 13,
    "start_time": "2023-01-30T13:51:12.107Z"
   },
   {
    "duration": 12,
    "start_time": "2023-01-30T13:51:12.121Z"
   },
   {
    "duration": 41,
    "start_time": "2023-01-30T13:51:12.134Z"
   },
   {
    "duration": 68,
    "start_time": "2023-01-30T13:51:12.177Z"
   },
   {
    "duration": 171,
    "start_time": "2023-01-30T13:51:12.246Z"
   },
   {
    "duration": 9,
    "start_time": "2023-01-30T13:51:12.419Z"
   },
   {
    "duration": 37,
    "start_time": "2023-01-30T13:51:12.430Z"
   },
   {
    "duration": 9,
    "start_time": "2023-01-30T13:51:12.469Z"
   },
   {
    "duration": 13,
    "start_time": "2023-01-30T13:51:12.479Z"
   },
   {
    "duration": 11,
    "start_time": "2023-01-30T13:51:12.494Z"
   },
   {
    "duration": 90,
    "start_time": "2023-01-30T13:51:12.507Z"
   },
   {
    "duration": 204,
    "start_time": "2023-01-30T13:51:12.599Z"
   },
   {
    "duration": 145,
    "start_time": "2023-01-30T13:51:12.805Z"
   },
   {
    "duration": 20,
    "start_time": "2023-01-30T13:51:12.952Z"
   },
   {
    "duration": 158,
    "start_time": "2023-01-30T13:51:12.974Z"
   },
   {
    "duration": 191,
    "start_time": "2023-01-30T13:51:13.136Z"
   },
   {
    "duration": 164,
    "start_time": "2023-01-30T13:51:13.329Z"
   },
   {
    "duration": 10,
    "start_time": "2023-01-30T13:51:13.495Z"
   },
   {
    "duration": 17,
    "start_time": "2023-01-30T13:51:13.507Z"
   },
   {
    "duration": 202,
    "start_time": "2023-01-30T13:51:13.527Z"
   },
   {
    "duration": 7,
    "start_time": "2023-01-30T13:51:13.731Z"
   },
   {
    "duration": 186,
    "start_time": "2023-01-30T13:51:13.739Z"
   },
   {
    "duration": 9,
    "start_time": "2023-01-30T13:51:13.927Z"
   },
   {
    "duration": 10,
    "start_time": "2023-01-30T13:51:13.937Z"
   },
   {
    "duration": 222,
    "start_time": "2023-01-30T13:51:13.949Z"
   },
   {
    "duration": 7,
    "start_time": "2023-01-30T13:51:14.173Z"
   },
   {
    "duration": 19,
    "start_time": "2023-01-30T13:51:14.181Z"
   },
   {
    "duration": 180,
    "start_time": "2023-01-30T13:51:14.202Z"
   },
   {
    "duration": 7,
    "start_time": "2023-01-30T13:51:14.384Z"
   },
   {
    "duration": 153,
    "start_time": "2023-01-30T13:51:14.392Z"
   },
   {
    "duration": 295,
    "start_time": "2023-01-30T13:51:14.546Z"
   },
   {
    "duration": 2112,
    "start_time": "2023-01-30T13:52:31.355Z"
   },
   {
    "duration": 13,
    "start_time": "2023-01-30T13:52:33.469Z"
   },
   {
    "duration": 18,
    "start_time": "2023-01-30T13:52:33.484Z"
   },
   {
    "duration": 264,
    "start_time": "2023-01-30T13:52:33.504Z"
   },
   {
    "duration": 49,
    "start_time": "2023-01-30T13:52:33.770Z"
   },
   {
    "duration": 50,
    "start_time": "2023-01-30T13:52:33.820Z"
   },
   {
    "duration": 47,
    "start_time": "2023-01-30T13:52:33.871Z"
   },
   {
    "duration": 98,
    "start_time": "2023-01-30T13:52:33.920Z"
   },
   {
    "duration": 113,
    "start_time": "2023-01-30T13:52:34.020Z"
   },
   {
    "duration": 14,
    "start_time": "2023-01-30T13:52:34.136Z"
   },
   {
    "duration": 16,
    "start_time": "2023-01-30T13:52:34.168Z"
   },
   {
    "duration": 16,
    "start_time": "2023-01-30T13:52:34.187Z"
   },
   {
    "duration": 15,
    "start_time": "2023-01-30T13:52:34.205Z"
   },
   {
    "duration": 46,
    "start_time": "2023-01-30T13:52:34.222Z"
   },
   {
    "duration": 10,
    "start_time": "2023-01-30T13:52:34.270Z"
   },
   {
    "duration": 97,
    "start_time": "2023-01-30T13:52:34.282Z"
   },
   {
    "duration": 182,
    "start_time": "2023-01-30T13:52:34.381Z"
   },
   {
    "duration": 10,
    "start_time": "2023-01-30T13:52:34.565Z"
   },
   {
    "duration": 27,
    "start_time": "2023-01-30T13:52:34.576Z"
   },
   {
    "duration": 10,
    "start_time": "2023-01-30T13:52:34.604Z"
   },
   {
    "duration": 19,
    "start_time": "2023-01-30T13:52:34.615Z"
   },
   {
    "duration": 36,
    "start_time": "2023-01-30T13:52:34.636Z"
   },
   {
    "duration": 68,
    "start_time": "2023-01-30T13:52:34.673Z"
   },
   {
    "duration": 317,
    "start_time": "2023-01-30T13:52:34.743Z"
   },
   {
    "duration": 190,
    "start_time": "2023-01-30T13:52:35.062Z"
   },
   {
    "duration": 20,
    "start_time": "2023-01-30T13:52:35.254Z"
   },
   {
    "duration": 144,
    "start_time": "2023-01-30T13:52:35.276Z"
   },
   {
    "duration": 189,
    "start_time": "2023-01-30T13:52:35.423Z"
   },
   {
    "duration": 136,
    "start_time": "2023-01-30T13:52:35.614Z"
   },
   {
    "duration": 18,
    "start_time": "2023-01-30T13:52:35.751Z"
   },
   {
    "duration": 20,
    "start_time": "2023-01-30T13:52:35.770Z"
   },
   {
    "duration": 182,
    "start_time": "2023-01-30T13:52:35.791Z"
   },
   {
    "duration": 6,
    "start_time": "2023-01-30T13:52:35.975Z"
   },
   {
    "duration": 207,
    "start_time": "2023-01-30T13:52:35.982Z"
   },
   {
    "duration": 7,
    "start_time": "2023-01-30T13:52:36.191Z"
   },
   {
    "duration": 9,
    "start_time": "2023-01-30T13:52:36.200Z"
   },
   {
    "duration": 206,
    "start_time": "2023-01-30T13:52:36.211Z"
   },
   {
    "duration": 7,
    "start_time": "2023-01-30T13:52:36.419Z"
   },
   {
    "duration": 8,
    "start_time": "2023-01-30T13:52:36.428Z"
   },
   {
    "duration": 200,
    "start_time": "2023-01-30T13:52:36.438Z"
   },
   {
    "duration": 7,
    "start_time": "2023-01-30T13:52:36.640Z"
   },
   {
    "duration": 137,
    "start_time": "2023-01-30T13:52:36.648Z"
   },
   {
    "duration": 60,
    "start_time": "2023-01-30T13:52:42.956Z"
   },
   {
    "duration": 3837,
    "start_time": "2023-01-30T13:52:53.857Z"
   },
   {
    "duration": 3992,
    "start_time": "2023-01-30T13:57:04.170Z"
   },
   {
    "duration": 70,
    "start_time": "2023-01-30T16:07:50.559Z"
   },
   {
    "duration": 3063,
    "start_time": "2023-01-30T16:07:57.559Z"
   },
   {
    "duration": 1710,
    "start_time": "2023-01-30T16:08:00.625Z"
   },
   {
    "duration": 3,
    "start_time": "2023-01-30T16:08:02.336Z"
   },
   {
    "duration": 1382,
    "start_time": "2023-01-30T16:08:02.341Z"
   },
   {
    "duration": 77,
    "start_time": "2023-01-30T16:08:03.728Z"
   },
   {
    "duration": 22,
    "start_time": "2023-01-30T16:08:03.807Z"
   },
   {
    "duration": 108,
    "start_time": "2023-01-30T16:08:03.831Z"
   },
   {
    "duration": 104,
    "start_time": "2023-01-30T16:08:03.941Z"
   },
   {
    "duration": 141,
    "start_time": "2023-01-30T16:08:04.047Z"
   },
   {
    "duration": 14,
    "start_time": "2023-01-30T16:08:04.190Z"
   },
   {
    "duration": 14,
    "start_time": "2023-01-30T16:08:04.206Z"
   },
   {
    "duration": 15,
    "start_time": "2023-01-30T16:08:04.222Z"
   },
   {
    "duration": 45,
    "start_time": "2023-01-30T16:08:04.239Z"
   },
   {
    "duration": 17,
    "start_time": "2023-01-30T16:08:04.288Z"
   },
   {
    "duration": 15,
    "start_time": "2023-01-30T16:08:04.308Z"
   },
   {
    "duration": 112,
    "start_time": "2023-01-30T16:08:04.324Z"
   },
   {
    "duration": 203,
    "start_time": "2023-01-30T16:08:04.438Z"
   },
   {
    "duration": 9,
    "start_time": "2023-01-30T16:08:04.643Z"
   },
   {
    "duration": 32,
    "start_time": "2023-01-30T16:08:04.654Z"
   },
   {
    "duration": 11,
    "start_time": "2023-01-30T16:08:04.688Z"
   },
   {
    "duration": 14,
    "start_time": "2023-01-30T16:08:04.701Z"
   },
   {
    "duration": 19,
    "start_time": "2023-01-30T16:08:04.717Z"
   },
   {
    "duration": 106,
    "start_time": "2023-01-30T16:08:04.738Z"
   },
   {
    "duration": 306,
    "start_time": "2023-01-30T16:08:04.845Z"
   },
   {
    "duration": 181,
    "start_time": "2023-01-30T16:08:05.153Z"
   },
   {
    "duration": 17,
    "start_time": "2023-01-30T16:08:05.337Z"
   },
   {
    "duration": 181,
    "start_time": "2023-01-30T16:08:05.356Z"
   },
   {
    "duration": 195,
    "start_time": "2023-01-30T16:08:05.539Z"
   },
   {
    "duration": 149,
    "start_time": "2023-01-30T16:08:05.736Z"
   },
   {
    "duration": 13,
    "start_time": "2023-01-30T16:08:05.888Z"
   },
   {
    "duration": 22,
    "start_time": "2023-01-30T16:08:05.902Z"
   },
   {
    "duration": 246,
    "start_time": "2023-01-30T16:08:05.927Z"
   },
   {
    "duration": 19,
    "start_time": "2023-01-30T16:08:06.176Z"
   },
   {
    "duration": 261,
    "start_time": "2023-01-30T16:08:06.202Z"
   },
   {
    "duration": 30,
    "start_time": "2023-01-30T16:08:06.466Z"
   },
   {
    "duration": 14,
    "start_time": "2023-01-30T16:08:06.500Z"
   },
   {
    "duration": 250,
    "start_time": "2023-01-30T16:08:06.516Z"
   },
   {
    "duration": 6,
    "start_time": "2023-01-30T16:08:06.768Z"
   },
   {
    "duration": 24,
    "start_time": "2023-01-30T16:08:06.781Z"
   },
   {
    "duration": 193,
    "start_time": "2023-01-30T16:08:06.808Z"
   },
   {
    "duration": 7,
    "start_time": "2023-01-30T16:08:07.006Z"
   },
   {
    "duration": 159,
    "start_time": "2023-01-30T16:08:07.014Z"
   },
   {
    "duration": 73,
    "start_time": "2023-01-30T16:08:07.174Z"
   },
   {
    "duration": 3888,
    "start_time": "2023-01-30T16:08:07.249Z"
   },
   {
    "duration": 14,
    "start_time": "2023-01-30T16:08:46.048Z"
   },
   {
    "duration": 2521,
    "start_time": "2023-01-30T16:14:37.002Z"
   },
   {
    "duration": 7,
    "start_time": "2023-01-30T16:14:39.525Z"
   },
   {
    "duration": 6,
    "start_time": "2023-01-30T16:14:39.534Z"
   },
   {
    "duration": 282,
    "start_time": "2023-01-30T16:14:39.542Z"
   },
   {
    "duration": 59,
    "start_time": "2023-01-30T16:14:39.827Z"
   },
   {
    "duration": 28,
    "start_time": "2023-01-30T16:14:39.889Z"
   },
   {
    "duration": 68,
    "start_time": "2023-01-30T16:14:39.919Z"
   },
   {
    "duration": 107,
    "start_time": "2023-01-30T16:14:39.990Z"
   },
   {
    "duration": 169,
    "start_time": "2023-01-30T16:14:40.102Z"
   },
   {
    "duration": 15,
    "start_time": "2023-01-30T16:14:40.285Z"
   },
   {
    "duration": 24,
    "start_time": "2023-01-30T16:14:40.302Z"
   },
   {
    "duration": 14,
    "start_time": "2023-01-30T16:14:40.328Z"
   },
   {
    "duration": 16,
    "start_time": "2023-01-30T16:14:40.344Z"
   },
   {
    "duration": 28,
    "start_time": "2023-01-30T16:14:40.362Z"
   },
   {
    "duration": 29,
    "start_time": "2023-01-30T16:14:40.392Z"
   },
   {
    "duration": 100,
    "start_time": "2023-01-30T16:14:40.424Z"
   },
   {
    "duration": 204,
    "start_time": "2023-01-30T16:14:40.525Z"
   },
   {
    "duration": 12,
    "start_time": "2023-01-30T16:14:40.732Z"
   },
   {
    "duration": 43,
    "start_time": "2023-01-30T16:14:40.747Z"
   },
   {
    "duration": 14,
    "start_time": "2023-01-30T16:14:40.795Z"
   },
   {
    "duration": 34,
    "start_time": "2023-01-30T16:14:40.811Z"
   },
   {
    "duration": 9,
    "start_time": "2023-01-30T16:14:40.847Z"
   },
   {
    "duration": 214,
    "start_time": "2023-01-30T16:14:40.857Z"
   },
   {
    "duration": 262,
    "start_time": "2023-01-30T16:14:41.073Z"
   },
   {
    "duration": 173,
    "start_time": "2023-01-30T16:14:41.336Z"
   },
   {
    "duration": 14,
    "start_time": "2023-01-30T16:14:41.511Z"
   },
   {
    "duration": 200,
    "start_time": "2023-01-30T16:14:41.526Z"
   },
   {
    "duration": 194,
    "start_time": "2023-01-30T16:14:41.731Z"
   },
   {
    "duration": 161,
    "start_time": "2023-01-30T16:14:41.927Z"
   },
   {
    "duration": 12,
    "start_time": "2023-01-30T16:14:42.091Z"
   },
   {
    "duration": 26,
    "start_time": "2023-01-30T16:14:42.105Z"
   },
   {
    "duration": 225,
    "start_time": "2023-01-30T16:14:42.133Z"
   },
   {
    "duration": 7,
    "start_time": "2023-01-30T16:14:42.360Z"
   },
   {
    "duration": 249,
    "start_time": "2023-01-30T16:14:42.368Z"
   },
   {
    "duration": 8,
    "start_time": "2023-01-30T16:14:42.618Z"
   },
   {
    "duration": 13,
    "start_time": "2023-01-30T16:14:42.628Z"
   },
   {
    "duration": 215,
    "start_time": "2023-01-30T16:14:42.643Z"
   },
   {
    "duration": 8,
    "start_time": "2023-01-30T16:14:42.860Z"
   },
   {
    "duration": 34,
    "start_time": "2023-01-30T16:14:42.869Z"
   },
   {
    "duration": 214,
    "start_time": "2023-01-30T16:14:42.905Z"
   },
   {
    "duration": 11,
    "start_time": "2023-01-30T16:14:43.121Z"
   },
   {
    "duration": 186,
    "start_time": "2023-01-30T16:14:43.134Z"
   },
   {
    "duration": 100,
    "start_time": "2023-01-30T16:14:43.322Z"
   },
   {
    "duration": 4388,
    "start_time": "2023-01-30T16:14:43.423Z"
   },
   {
    "duration": 10,
    "start_time": "2023-01-30T16:14:47.814Z"
   },
   {
    "duration": 34,
    "start_time": "2023-01-30T16:14:48.698Z"
   },
   {
    "duration": 16,
    "start_time": "2023-01-30T16:17:37.536Z"
   },
   {
    "duration": 127,
    "start_time": "2023-01-30T16:17:56.004Z"
   },
   {
    "duration": 10,
    "start_time": "2023-01-30T16:18:12.637Z"
   },
   {
    "duration": 5,
    "start_time": "2023-01-30T16:22:54.531Z"
   },
   {
    "duration": 639,
    "start_time": "2023-01-30T16:23:09.802Z"
   },
   {
    "duration": 762,
    "start_time": "2023-01-30T16:23:36.213Z"
   },
   {
    "duration": 5,
    "start_time": "2023-01-30T16:25:08.177Z"
   },
   {
    "duration": 9,
    "start_time": "2023-01-30T16:33:37.992Z"
   },
   {
    "duration": 26,
    "start_time": "2023-01-30T16:38:56.248Z"
   },
   {
    "duration": 11,
    "start_time": "2023-01-30T16:46:16.368Z"
   },
   {
    "duration": 12,
    "start_time": "2023-01-30T16:49:09.750Z"
   },
   {
    "duration": 54,
    "start_time": "2023-01-30T16:51:15.369Z"
   },
   {
    "duration": 282,
    "start_time": "2023-01-30T16:51:33.788Z"
   },
   {
    "duration": 198576,
    "start_time": "2023-01-30T17:17:02.949Z"
   },
   {
    "duration": 2,
    "start_time": "2023-01-30T17:36:24.322Z"
   },
   {
    "duration": 803805,
    "start_time": "2023-01-30T18:00:51.058Z"
   },
   {
    "duration": 4,
    "start_time": "2023-01-30T18:14:34.571Z"
   },
   {
    "duration": 3,
    "start_time": "2023-01-30T18:14:56.446Z"
   },
   {
    "duration": 145,
    "start_time": "2023-01-30T18:14:59.195Z"
   },
   {
    "duration": 519264,
    "start_time": "2023-01-30T18:15:01.131Z"
   },
   {
    "duration": 12,
    "start_time": "2023-01-30T18:24:19.918Z"
   },
   {
    "duration": 7,
    "start_time": "2023-01-30T18:24:23.540Z"
   },
   {
    "duration": 7,
    "start_time": "2023-01-30T18:24:48.039Z"
   },
   {
    "duration": 6,
    "start_time": "2023-01-30T18:24:57.108Z"
   },
   {
    "duration": 4,
    "start_time": "2023-01-30T18:25:20.546Z"
   },
   {
    "duration": 13,
    "start_time": "2023-01-30T18:25:22.910Z"
   },
   {
    "duration": 24,
    "start_time": "2023-01-30T18:25:57.976Z"
   },
   {
    "duration": 244424,
    "start_time": "2023-01-30T18:26:12.543Z"
   },
   {
    "duration": 4,
    "start_time": "2023-01-30T18:30:54.673Z"
   },
   {
    "duration": 9,
    "start_time": "2023-01-30T18:31:15.878Z"
   },
   {
    "duration": 3043,
    "start_time": "2023-01-31T07:42:25.200Z"
   },
   {
    "duration": 5,
    "start_time": "2023-01-31T07:42:28.246Z"
   },
   {
    "duration": 63,
    "start_time": "2023-01-31T07:42:28.253Z"
   },
   {
    "duration": 528,
    "start_time": "2023-01-31T07:42:28.318Z"
   },
   {
    "duration": 51,
    "start_time": "2023-01-31T07:42:28.848Z"
   },
   {
    "duration": 19,
    "start_time": "2023-01-31T07:42:28.901Z"
   },
   {
    "duration": 83,
    "start_time": "2023-01-31T07:42:28.922Z"
   },
   {
    "duration": 91,
    "start_time": "2023-01-31T07:42:29.007Z"
   },
   {
    "duration": 100,
    "start_time": "2023-01-31T07:42:29.100Z"
   },
   {
    "duration": 9,
    "start_time": "2023-01-31T07:42:29.202Z"
   },
   {
    "duration": 77,
    "start_time": "2023-01-31T07:42:29.212Z"
   },
   {
    "duration": 42,
    "start_time": "2023-01-31T07:42:29.291Z"
   },
   {
    "duration": 62,
    "start_time": "2023-01-31T07:42:29.335Z"
   },
   {
    "duration": 44,
    "start_time": "2023-01-31T07:42:29.400Z"
   },
   {
    "duration": 19,
    "start_time": "2023-01-31T07:42:29.445Z"
   },
   {
    "duration": 152,
    "start_time": "2023-01-31T07:42:29.465Z"
   },
   {
    "duration": 187,
    "start_time": "2023-01-31T07:42:29.618Z"
   },
   {
    "duration": 10,
    "start_time": "2023-01-31T07:42:29.807Z"
   },
   {
    "duration": 94,
    "start_time": "2023-01-31T07:42:29.819Z"
   },
   {
    "duration": 46,
    "start_time": "2023-01-31T07:42:29.915Z"
   },
   {
    "duration": 34,
    "start_time": "2023-01-31T07:42:29.963Z"
   },
   {
    "duration": 99,
    "start_time": "2023-01-31T07:42:30.000Z"
   },
   {
    "duration": 127,
    "start_time": "2023-01-31T07:42:30.100Z"
   },
   {
    "duration": 227,
    "start_time": "2023-01-31T07:42:30.228Z"
   },
   {
    "duration": 154,
    "start_time": "2023-01-31T07:42:30.456Z"
   },
   {
    "duration": 14,
    "start_time": "2023-01-31T07:42:30.611Z"
   },
   {
    "duration": 206,
    "start_time": "2023-01-31T07:42:30.627Z"
   },
   {
    "duration": 174,
    "start_time": "2023-01-31T07:42:30.835Z"
   },
   {
    "duration": 131,
    "start_time": "2023-01-31T07:42:31.012Z"
   },
   {
    "duration": 54,
    "start_time": "2023-01-31T07:42:31.145Z"
   },
   {
    "duration": 112,
    "start_time": "2023-01-31T07:42:31.200Z"
   },
   {
    "duration": 316,
    "start_time": "2023-01-31T07:42:31.314Z"
   },
   {
    "duration": 6,
    "start_time": "2023-01-31T07:42:31.631Z"
   },
   {
    "duration": 209,
    "start_time": "2023-01-31T07:42:31.639Z"
   },
   {
    "duration": 7,
    "start_time": "2023-01-31T07:42:31.850Z"
   },
   {
    "duration": 42,
    "start_time": "2023-01-31T07:42:31.858Z"
   },
   {
    "duration": 344,
    "start_time": "2023-01-31T07:42:31.902Z"
   },
   {
    "duration": 7,
    "start_time": "2023-01-31T07:42:32.248Z"
   },
   {
    "duration": 25,
    "start_time": "2023-01-31T07:42:32.256Z"
   },
   {
    "duration": 181,
    "start_time": "2023-01-31T07:42:32.283Z"
   },
   {
    "duration": 14,
    "start_time": "2023-01-31T07:42:32.468Z"
   },
   {
    "duration": 150,
    "start_time": "2023-01-31T07:42:32.484Z"
   },
   {
    "duration": 64,
    "start_time": "2023-01-31T07:42:32.635Z"
   },
   {
    "duration": 3774,
    "start_time": "2023-01-31T07:42:32.700Z"
   },
   {
    "duration": 12,
    "start_time": "2023-01-31T07:42:36.476Z"
   },
   {
    "duration": 71,
    "start_time": "2023-01-31T07:42:36.490Z"
   },
   {
    "duration": 25,
    "start_time": "2023-01-31T07:42:36.563Z"
   },
   {
    "duration": 9,
    "start_time": "2023-01-31T07:42:36.590Z"
   },
   {
    "duration": 35,
    "start_time": "2023-01-31T07:42:36.601Z"
   },
   {
    "duration": 626,
    "start_time": "2023-01-31T07:42:36.638Z"
   },
   {
    "duration": 5,
    "start_time": "2023-01-31T07:42:59.120Z"
   },
   {
    "duration": 11,
    "start_time": "2023-01-31T07:43:10.971Z"
   },
   {
    "duration": 13,
    "start_time": "2023-01-31T07:43:28.108Z"
   },
   {
    "duration": 229,
    "start_time": "2023-01-31T07:43:30.038Z"
   },
   {
    "duration": 176,
    "start_time": "2023-01-31T07:43:33.546Z"
   },
   {
    "duration": 176733,
    "start_time": "2023-01-31T07:43:58.911Z"
   },
   {
    "duration": 1960,
    "start_time": "2023-01-31T08:10:20.858Z"
   },
   {
    "duration": 1433,
    "start_time": "2023-01-31T08:10:22.820Z"
   },
   {
    "duration": 3,
    "start_time": "2023-01-31T08:10:24.255Z"
   },
   {
    "duration": 279,
    "start_time": "2023-01-31T08:10:24.260Z"
   },
   {
    "duration": 53,
    "start_time": "2023-01-31T08:10:24.541Z"
   },
   {
    "duration": 13,
    "start_time": "2023-01-31T08:10:24.596Z"
   },
   {
    "duration": 79,
    "start_time": "2023-01-31T08:10:24.611Z"
   },
   {
    "duration": 92,
    "start_time": "2023-01-31T08:10:24.692Z"
   },
   {
    "duration": 106,
    "start_time": "2023-01-31T08:10:24.786Z"
   },
   {
    "duration": 11,
    "start_time": "2023-01-31T08:10:24.895Z"
   },
   {
    "duration": 26,
    "start_time": "2023-01-31T08:10:24.908Z"
   },
   {
    "duration": 34,
    "start_time": "2023-01-31T08:10:24.935Z"
   },
   {
    "duration": 28,
    "start_time": "2023-01-31T08:10:24.970Z"
   },
   {
    "duration": 35,
    "start_time": "2023-01-31T08:10:24.999Z"
   },
   {
    "duration": 37,
    "start_time": "2023-01-31T08:10:25.036Z"
   },
   {
    "duration": 98,
    "start_time": "2023-01-31T08:10:25.075Z"
   },
   {
    "duration": 174,
    "start_time": "2023-01-31T08:10:25.175Z"
   },
   {
    "duration": 9,
    "start_time": "2023-01-31T08:10:25.351Z"
   },
   {
    "duration": 50,
    "start_time": "2023-01-31T08:10:25.362Z"
   },
   {
    "duration": 37,
    "start_time": "2023-01-31T08:10:25.413Z"
   },
   {
    "duration": 27,
    "start_time": "2023-01-31T08:10:25.452Z"
   },
   {
    "duration": 33,
    "start_time": "2023-01-31T08:10:25.481Z"
   },
   {
    "duration": 96,
    "start_time": "2023-01-31T08:10:25.516Z"
   },
   {
    "duration": 311,
    "start_time": "2023-01-31T08:10:25.614Z"
   },
   {
    "duration": 146,
    "start_time": "2023-01-31T08:10:25.927Z"
   },
   {
    "duration": 17,
    "start_time": "2023-01-31T08:10:26.075Z"
   },
   {
    "duration": 190,
    "start_time": "2023-01-31T08:10:26.093Z"
   },
   {
    "duration": 208,
    "start_time": "2023-01-31T08:10:26.286Z"
   },
   {
    "duration": 168,
    "start_time": "2023-01-31T08:10:26.496Z"
   },
   {
    "duration": 16,
    "start_time": "2023-01-31T08:10:26.666Z"
   },
   {
    "duration": 66,
    "start_time": "2023-01-31T08:10:26.684Z"
   },
   {
    "duration": 214,
    "start_time": "2023-01-31T08:10:26.752Z"
   },
   {
    "duration": 14,
    "start_time": "2023-01-31T08:10:26.968Z"
   },
   {
    "duration": 192,
    "start_time": "2023-01-31T08:10:26.984Z"
   },
   {
    "duration": 8,
    "start_time": "2023-01-31T08:10:27.177Z"
   },
   {
    "duration": 75,
    "start_time": "2023-01-31T08:10:27.187Z"
   },
   {
    "duration": 212,
    "start_time": "2023-01-31T08:10:27.264Z"
   },
   {
    "duration": 7,
    "start_time": "2023-01-31T08:10:27.480Z"
   },
   {
    "duration": 41,
    "start_time": "2023-01-31T08:10:27.488Z"
   },
   {
    "duration": 203,
    "start_time": "2023-01-31T08:10:27.531Z"
   },
   {
    "duration": 6,
    "start_time": "2023-01-31T08:10:27.737Z"
   },
   {
    "duration": 176,
    "start_time": "2023-01-31T08:10:27.745Z"
   },
   {
    "duration": 61,
    "start_time": "2023-01-31T08:10:27.923Z"
   },
   {
    "duration": 3798,
    "start_time": "2023-01-31T08:10:27.986Z"
   },
   {
    "duration": 8,
    "start_time": "2023-01-31T08:10:31.786Z"
   },
   {
    "duration": 72,
    "start_time": "2023-01-31T08:10:31.796Z"
   },
   {
    "duration": 16,
    "start_time": "2023-01-31T08:10:31.870Z"
   },
   {
    "duration": 41,
    "start_time": "2023-01-31T08:10:31.888Z"
   },
   {
    "duration": 21,
    "start_time": "2023-01-31T08:10:31.931Z"
   },
   {
    "duration": 614,
    "start_time": "2023-01-31T08:10:31.954Z"
   },
   {
    "duration": 4,
    "start_time": "2023-01-31T08:10:32.570Z"
   },
   {
    "duration": 70,
    "start_time": "2023-01-31T08:10:32.581Z"
   },
   {
    "duration": 86,
    "start_time": "2023-01-31T08:10:32.652Z"
   },
   {
    "duration": 278,
    "start_time": "2023-01-31T08:10:32.740Z"
   },
   {
    "duration": 185,
    "start_time": "2023-01-31T08:10:33.020Z"
   },
   {
    "duration": 169112,
    "start_time": "2023-01-31T08:10:41.781Z"
   },
   {
    "duration": 169854,
    "start_time": "2023-01-31T08:15:23.080Z"
   },
   {
    "duration": 672313,
    "start_time": "2023-01-31T08:56:50.550Z"
   },
   {
    "duration": 687236,
    "start_time": "2023-01-31T12:50:58.731Z"
   },
   {
    "duration": 3,
    "start_time": "2023-01-31T13:19:12.297Z"
   },
   {
    "duration": 2,
    "start_time": "2023-01-31T13:19:16.546Z"
   },
   {
    "duration": 177,
    "start_time": "2023-01-31T13:19:17.362Z"
   },
   {
    "duration": 480917,
    "start_time": "2023-01-31T13:19:19.196Z"
   },
   {
    "duration": 11,
    "start_time": "2023-01-31T13:28:29.321Z"
   },
   {
    "duration": 6,
    "start_time": "2023-01-31T13:28:34.972Z"
   },
   {
    "duration": 6,
    "start_time": "2023-01-31T13:28:35.778Z"
   },
   {
    "duration": 122,
    "start_time": "2023-01-31T13:28:44.044Z"
   },
   {
    "duration": 490335,
    "start_time": "2023-01-31T13:28:53.411Z"
   },
   {
    "duration": 12,
    "start_time": "2023-01-31T13:37:14.340Z"
   },
   {
    "duration": 5,
    "start_time": "2023-01-31T13:37:17.852Z"
   },
   {
    "duration": 6,
    "start_time": "2023-01-31T13:37:24.672Z"
   },
   {
    "duration": 3,
    "start_time": "2023-01-31T13:37:37.040Z"
   },
   {
    "duration": 9,
    "start_time": "2023-01-31T13:37:40.777Z"
   },
   {
    "duration": 3,
    "start_time": "2023-01-31T13:37:56.140Z"
   },
   {
    "duration": 969462,
    "start_time": "2023-01-31T13:38:13.757Z"
   },
   {
    "duration": 4,
    "start_time": "2023-01-31T14:01:27.378Z"
   },
   {
    "duration": 112587,
    "start_time": "2023-01-31T14:01:43.318Z"
   },
   {
    "duration": 281,
    "start_time": "2023-01-31T14:03:44.079Z"
   },
   {
    "duration": 152,
    "start_time": "2023-01-31T14:04:52.603Z"
   },
   {
    "duration": 340,
    "start_time": "2023-01-31T14:06:27.921Z"
   },
   {
    "duration": 374,
    "start_time": "2023-01-31T14:07:53.622Z"
   },
   {
    "duration": 6,
    "start_time": "2023-01-31T14:08:03.195Z"
   },
   {
    "duration": 8,
    "start_time": "2023-01-31T14:08:06.398Z"
   },
   {
    "duration": 368,
    "start_time": "2023-01-31T14:09:29.149Z"
   },
   {
    "duration": 6,
    "start_time": "2023-01-31T14:09:33.797Z"
   },
   {
    "duration": 7,
    "start_time": "2023-01-31T14:09:35.558Z"
   },
   {
    "duration": 6,
    "start_time": "2023-01-31T14:11:01.193Z"
   },
   {
    "duration": 4,
    "start_time": "2023-01-31T14:11:16.141Z"
   },
   {
    "duration": 6,
    "start_time": "2023-01-31T14:11:22.962Z"
   },
   {
    "duration": 4,
    "start_time": "2023-01-31T14:12:58.692Z"
   },
   {
    "duration": 12,
    "start_time": "2023-01-31T14:17:38.934Z"
   },
   {
    "duration": 70,
    "start_time": "2023-01-31T14:20:48.159Z"
   },
   {
    "duration": 15,
    "start_time": "2023-01-31T14:20:59.463Z"
   },
   {
    "duration": 5,
    "start_time": "2023-01-31T14:24:24.436Z"
   },
   {
    "duration": 850,
    "start_time": "2023-01-31T14:24:25.845Z"
   },
   {
    "duration": 6,
    "start_time": "2023-01-31T14:24:47.637Z"
   },
   {
    "duration": 5,
    "start_time": "2023-01-31T14:27:28.893Z"
   },
   {
    "duration": 4,
    "start_time": "2023-01-31T14:28:57.693Z"
   },
   {
    "duration": 5,
    "start_time": "2023-01-31T14:31:49.499Z"
   },
   {
    "duration": 5,
    "start_time": "2023-01-31T14:31:49.628Z"
   },
   {
    "duration": 5,
    "start_time": "2023-01-31T14:31:55.317Z"
   },
   {
    "duration": 6,
    "start_time": "2023-01-31T14:31:57.306Z"
   },
   {
    "duration": 4,
    "start_time": "2023-01-31T14:32:49.808Z"
   },
   {
    "duration": 4,
    "start_time": "2023-01-31T14:33:06.200Z"
   },
   {
    "duration": 4,
    "start_time": "2023-01-31T14:34:16.671Z"
   },
   {
    "duration": 4,
    "start_time": "2023-01-31T14:34:17.494Z"
   },
   {
    "duration": 3681,
    "start_time": "2023-01-31T14:42:01.894Z"
   },
   {
    "duration": 7,
    "start_time": "2023-01-31T14:42:36.822Z"
   },
   {
    "duration": 5,
    "start_time": "2023-01-31T14:42:50.775Z"
   },
   {
    "duration": 194,
    "start_time": "2023-01-31T14:47:59.341Z"
   },
   {
    "duration": 6,
    "start_time": "2023-01-31T14:48:00.597Z"
   },
   {
    "duration": 187,
    "start_time": "2023-01-31T14:49:21.338Z"
   },
   {
    "duration": 12,
    "start_time": "2023-01-31T14:50:05.594Z"
   },
   {
    "duration": 10,
    "start_time": "2023-01-31T14:52:05.179Z"
   },
   {
    "duration": 238,
    "start_time": "2023-01-31T15:29:22.770Z"
   },
   {
    "duration": 142,
    "start_time": "2023-01-31T15:30:09.698Z"
   },
   {
    "duration": 11,
    "start_time": "2023-01-31T15:30:20.204Z"
   },
   {
    "duration": 10,
    "start_time": "2023-01-31T15:34:17.167Z"
   },
   {
    "duration": 218,
    "start_time": "2023-01-31T15:36:33.420Z"
   },
   {
    "duration": 138,
    "start_time": "2023-01-31T15:38:18.231Z"
   },
   {
    "duration": 194,
    "start_time": "2023-01-31T15:38:30.153Z"
   },
   {
    "duration": 23,
    "start_time": "2023-01-31T15:40:05.582Z"
   },
   {
    "duration": 153,
    "start_time": "2023-01-31T15:42:10.476Z"
   },
   {
    "duration": 919,
    "start_time": "2023-01-31T15:48:04.625Z"
   },
   {
    "duration": 31,
    "start_time": "2023-01-31T15:49:42.877Z"
   },
   {
    "duration": 16,
    "start_time": "2023-01-31T15:50:03.609Z"
   },
   {
    "duration": 13,
    "start_time": "2023-01-31T15:50:11.573Z"
   },
   {
    "duration": 19,
    "start_time": "2023-01-31T15:50:12.660Z"
   },
   {
    "duration": 17,
    "start_time": "2023-01-31T15:50:22.660Z"
   },
   {
    "duration": 19,
    "start_time": "2023-01-31T15:50:41.898Z"
   },
   {
    "duration": 131,
    "start_time": "2023-01-31T15:51:36.674Z"
   },
   {
    "duration": 235,
    "start_time": "2023-01-31T15:52:12.571Z"
   },
   {
    "duration": 182,
    "start_time": "2023-01-31T15:52:56.329Z"
   },
   {
    "duration": 17,
    "start_time": "2023-01-31T15:54:12.106Z"
   },
   {
    "duration": 15,
    "start_time": "2023-01-31T15:54:42.760Z"
   },
   {
    "duration": 168,
    "start_time": "2023-01-31T15:55:26.971Z"
   },
   {
    "duration": 16,
    "start_time": "2023-01-31T16:04:44.635Z"
   },
   {
    "duration": 157,
    "start_time": "2023-01-31T16:05:06.054Z"
   },
   {
    "duration": 3076,
    "start_time": "2023-02-02T11:30:54.031Z"
   },
   {
    "duration": 2186,
    "start_time": "2023-02-02T11:34:52.168Z"
   },
   {
    "duration": 1523,
    "start_time": "2023-02-02T11:34:58.633Z"
   },
   {
    "duration": 888,
    "start_time": "2023-02-02T11:35:07.290Z"
   },
   {
    "duration": 42,
    "start_time": "2023-02-02T11:35:15.684Z"
   },
   {
    "duration": 16,
    "start_time": "2023-02-02T11:35:23.318Z"
   },
   {
    "duration": 60,
    "start_time": "2023-02-02T11:35:30.415Z"
   },
   {
    "duration": 78,
    "start_time": "2023-02-02T11:35:35.725Z"
   },
   {
    "duration": 2154,
    "start_time": "2023-02-02T11:50:47.461Z"
   },
   {
    "duration": 5,
    "start_time": "2023-02-02T11:50:49.618Z"
   },
   {
    "duration": 12,
    "start_time": "2023-02-02T11:50:49.624Z"
   },
   {
    "duration": 662,
    "start_time": "2023-02-02T11:50:49.638Z"
   },
   {
    "duration": 45,
    "start_time": "2023-02-02T11:50:50.302Z"
   },
   {
    "duration": 15,
    "start_time": "2023-02-02T11:50:50.368Z"
   },
   {
    "duration": 46,
    "start_time": "2023-02-02T11:50:50.384Z"
   },
   {
    "duration": 95,
    "start_time": "2023-02-02T11:50:50.431Z"
   },
   {
    "duration": 108,
    "start_time": "2023-02-02T11:50:50.528Z"
   },
   {
    "duration": 8,
    "start_time": "2023-02-02T11:50:50.638Z"
   },
   {
    "duration": 23,
    "start_time": "2023-02-02T11:50:50.648Z"
   },
   {
    "duration": 9,
    "start_time": "2023-02-02T11:50:50.673Z"
   },
   {
    "duration": 13,
    "start_time": "2023-02-02T11:50:50.684Z"
   },
   {
    "duration": 13,
    "start_time": "2023-02-02T11:50:50.699Z"
   },
   {
    "duration": 19,
    "start_time": "2023-02-02T11:50:50.714Z"
   },
   {
    "duration": 92,
    "start_time": "2023-02-02T11:50:50.734Z"
   },
   {
    "duration": 177,
    "start_time": "2023-02-02T11:50:50.827Z"
   },
   {
    "duration": 10,
    "start_time": "2023-02-02T11:50:51.005Z"
   },
   {
    "duration": 34,
    "start_time": "2023-02-02T11:50:51.017Z"
   },
   {
    "duration": 21,
    "start_time": "2023-02-02T11:50:51.052Z"
   },
   {
    "duration": 21,
    "start_time": "2023-02-02T11:50:51.074Z"
   },
   {
    "duration": 10,
    "start_time": "2023-02-02T11:50:51.096Z"
   },
   {
    "duration": 72,
    "start_time": "2023-02-02T11:50:51.107Z"
   },
   {
    "duration": 13,
    "start_time": "2023-02-02T11:51:13.307Z"
   },
   {
    "duration": 61,
    "start_time": "2023-02-02T11:52:04.235Z"
   },
   {
    "duration": 69,
    "start_time": "2023-02-02T11:56:39.523Z"
   },
   {
    "duration": 2187,
    "start_time": "2023-02-02T11:56:47.054Z"
   },
   {
    "duration": 5,
    "start_time": "2023-02-02T11:56:49.243Z"
   },
   {
    "duration": 15,
    "start_time": "2023-02-02T11:56:49.249Z"
   },
   {
    "duration": 267,
    "start_time": "2023-02-02T11:56:49.265Z"
   },
   {
    "duration": 53,
    "start_time": "2023-02-02T11:56:49.534Z"
   },
   {
    "duration": 15,
    "start_time": "2023-02-02T11:56:49.589Z"
   },
   {
    "duration": 67,
    "start_time": "2023-02-02T11:56:49.605Z"
   },
   {
    "duration": 70,
    "start_time": "2023-02-02T11:56:49.674Z"
   },
   {
    "duration": 22,
    "start_time": "2023-02-02T11:56:49.746Z"
   },
   {
    "duration": 62,
    "start_time": "2023-02-02T11:56:49.770Z"
   },
   {
    "duration": 122,
    "start_time": "2023-02-02T11:56:49.834Z"
   },
   {
    "duration": 15,
    "start_time": "2023-02-02T11:56:49.958Z"
   },
   {
    "duration": 12,
    "start_time": "2023-02-02T11:56:49.975Z"
   },
   {
    "duration": 10,
    "start_time": "2023-02-02T11:56:49.991Z"
   },
   {
    "duration": 9,
    "start_time": "2023-02-02T11:56:50.004Z"
   },
   {
    "duration": 22,
    "start_time": "2023-02-02T11:56:50.015Z"
   },
   {
    "duration": 10,
    "start_time": "2023-02-02T11:56:50.068Z"
   },
   {
    "duration": 91,
    "start_time": "2023-02-02T11:56:50.080Z"
   },
   {
    "duration": 119,
    "start_time": "2023-02-02T11:56:50.173Z"
   },
   {
    "duration": 0,
    "start_time": "2023-02-02T11:56:50.295Z"
   },
   {
    "duration": 0,
    "start_time": "2023-02-02T11:56:50.296Z"
   },
   {
    "duration": 0,
    "start_time": "2023-02-02T11:56:50.297Z"
   },
   {
    "duration": 0,
    "start_time": "2023-02-02T11:56:50.298Z"
   },
   {
    "duration": 0,
    "start_time": "2023-02-02T11:56:50.299Z"
   },
   {
    "duration": 0,
    "start_time": "2023-02-02T11:56:50.300Z"
   },
   {
    "duration": 0,
    "start_time": "2023-02-02T11:56:50.301Z"
   },
   {
    "duration": 0,
    "start_time": "2023-02-02T11:56:50.302Z"
   },
   {
    "duration": 0,
    "start_time": "2023-02-02T11:56:50.303Z"
   },
   {
    "duration": 0,
    "start_time": "2023-02-02T11:56:50.305Z"
   },
   {
    "duration": 0,
    "start_time": "2023-02-02T11:56:50.306Z"
   },
   {
    "duration": 0,
    "start_time": "2023-02-02T11:56:50.307Z"
   },
   {
    "duration": 0,
    "start_time": "2023-02-02T11:56:50.308Z"
   },
   {
    "duration": 0,
    "start_time": "2023-02-02T11:56:50.309Z"
   },
   {
    "duration": 0,
    "start_time": "2023-02-02T11:56:50.310Z"
   },
   {
    "duration": 0,
    "start_time": "2023-02-02T11:56:50.312Z"
   },
   {
    "duration": 0,
    "start_time": "2023-02-02T11:56:50.313Z"
   },
   {
    "duration": 0,
    "start_time": "2023-02-02T11:56:50.314Z"
   },
   {
    "duration": 0,
    "start_time": "2023-02-02T11:56:50.315Z"
   },
   {
    "duration": 0,
    "start_time": "2023-02-02T11:56:50.316Z"
   },
   {
    "duration": 0,
    "start_time": "2023-02-02T11:56:50.317Z"
   },
   {
    "duration": 0,
    "start_time": "2023-02-02T11:56:50.318Z"
   },
   {
    "duration": 0,
    "start_time": "2023-02-02T11:56:50.319Z"
   },
   {
    "duration": 0,
    "start_time": "2023-02-02T11:56:50.321Z"
   },
   {
    "duration": 0,
    "start_time": "2023-02-02T11:56:50.322Z"
   },
   {
    "duration": 0,
    "start_time": "2023-02-02T11:56:50.322Z"
   },
   {
    "duration": 0,
    "start_time": "2023-02-02T11:56:50.368Z"
   },
   {
    "duration": 0,
    "start_time": "2023-02-02T11:56:50.369Z"
   },
   {
    "duration": 0,
    "start_time": "2023-02-02T11:56:50.370Z"
   },
   {
    "duration": 0,
    "start_time": "2023-02-02T11:56:50.371Z"
   },
   {
    "duration": 0,
    "start_time": "2023-02-02T11:56:50.372Z"
   },
   {
    "duration": 0,
    "start_time": "2023-02-02T11:56:50.374Z"
   },
   {
    "duration": 0,
    "start_time": "2023-02-02T11:56:50.375Z"
   },
   {
    "duration": 0,
    "start_time": "2023-02-02T11:56:50.376Z"
   },
   {
    "duration": 0,
    "start_time": "2023-02-02T11:56:50.377Z"
   },
   {
    "duration": 0,
    "start_time": "2023-02-02T11:56:50.377Z"
   },
   {
    "duration": 1,
    "start_time": "2023-02-02T11:56:50.378Z"
   },
   {
    "duration": 0,
    "start_time": "2023-02-02T11:56:50.380Z"
   },
   {
    "duration": 0,
    "start_time": "2023-02-02T11:56:50.381Z"
   },
   {
    "duration": 0,
    "start_time": "2023-02-02T11:56:50.381Z"
   },
   {
    "duration": 0,
    "start_time": "2023-02-02T11:56:50.383Z"
   },
   {
    "duration": 0,
    "start_time": "2023-02-02T11:56:50.384Z"
   },
   {
    "duration": 0,
    "start_time": "2023-02-02T11:56:50.385Z"
   },
   {
    "duration": 0,
    "start_time": "2023-02-02T11:56:50.386Z"
   },
   {
    "duration": 0,
    "start_time": "2023-02-02T11:56:50.387Z"
   },
   {
    "duration": 0,
    "start_time": "2023-02-02T11:56:50.389Z"
   },
   {
    "duration": 0,
    "start_time": "2023-02-02T11:56:50.390Z"
   },
   {
    "duration": 0,
    "start_time": "2023-02-02T11:56:50.391Z"
   },
   {
    "duration": 0,
    "start_time": "2023-02-02T11:56:50.392Z"
   },
   {
    "duration": 0,
    "start_time": "2023-02-02T11:56:50.393Z"
   },
   {
    "duration": 0,
    "start_time": "2023-02-02T11:56:50.394Z"
   },
   {
    "duration": 0,
    "start_time": "2023-02-02T11:56:50.395Z"
   },
   {
    "duration": 0,
    "start_time": "2023-02-02T11:56:50.396Z"
   },
   {
    "duration": 0,
    "start_time": "2023-02-02T11:56:50.397Z"
   },
   {
    "duration": 0,
    "start_time": "2023-02-02T11:56:50.398Z"
   },
   {
    "duration": 0,
    "start_time": "2023-02-02T11:56:50.399Z"
   },
   {
    "duration": 0,
    "start_time": "2023-02-02T11:56:50.400Z"
   },
   {
    "duration": 0,
    "start_time": "2023-02-02T11:56:50.401Z"
   },
   {
    "duration": 0,
    "start_time": "2023-02-02T11:56:50.401Z"
   },
   {
    "duration": 0,
    "start_time": "2023-02-02T11:56:50.403Z"
   },
   {
    "duration": 0,
    "start_time": "2023-02-02T11:56:50.403Z"
   },
   {
    "duration": 0,
    "start_time": "2023-02-02T11:56:50.467Z"
   },
   {
    "duration": 0,
    "start_time": "2023-02-02T11:56:50.468Z"
   },
   {
    "duration": 0,
    "start_time": "2023-02-02T11:56:50.469Z"
   },
   {
    "duration": 0,
    "start_time": "2023-02-02T11:56:50.470Z"
   },
   {
    "duration": 0,
    "start_time": "2023-02-02T11:56:50.471Z"
   },
   {
    "duration": 0,
    "start_time": "2023-02-02T11:56:50.472Z"
   },
   {
    "duration": 0,
    "start_time": "2023-02-02T11:56:50.472Z"
   },
   {
    "duration": 0,
    "start_time": "2023-02-02T11:56:50.473Z"
   },
   {
    "duration": 0,
    "start_time": "2023-02-02T11:56:50.474Z"
   },
   {
    "duration": 0,
    "start_time": "2023-02-02T11:56:50.475Z"
   },
   {
    "duration": 0,
    "start_time": "2023-02-02T11:56:50.476Z"
   },
   {
    "duration": 0,
    "start_time": "2023-02-02T11:56:50.477Z"
   },
   {
    "duration": 0,
    "start_time": "2023-02-02T11:56:50.478Z"
   },
   {
    "duration": 0,
    "start_time": "2023-02-02T11:56:50.480Z"
   },
   {
    "duration": 0,
    "start_time": "2023-02-02T11:56:50.481Z"
   },
   {
    "duration": 0,
    "start_time": "2023-02-02T11:56:50.482Z"
   },
   {
    "duration": 0,
    "start_time": "2023-02-02T11:56:50.483Z"
   },
   {
    "duration": 0,
    "start_time": "2023-02-02T11:56:50.483Z"
   },
   {
    "duration": 0,
    "start_time": "2023-02-02T11:56:50.484Z"
   },
   {
    "duration": 0,
    "start_time": "2023-02-02T11:56:50.485Z"
   },
   {
    "duration": 2033,
    "start_time": "2023-02-02T11:57:15.607Z"
   },
   {
    "duration": 1353,
    "start_time": "2023-02-02T11:57:17.641Z"
   },
   {
    "duration": 3,
    "start_time": "2023-02-02T11:57:18.996Z"
   },
   {
    "duration": 255,
    "start_time": "2023-02-02T11:57:19.001Z"
   },
   {
    "duration": 42,
    "start_time": "2023-02-02T11:57:19.258Z"
   },
   {
    "duration": 14,
    "start_time": "2023-02-02T11:57:19.302Z"
   },
   {
    "duration": 87,
    "start_time": "2023-02-02T11:57:19.318Z"
   },
   {
    "duration": 86,
    "start_time": "2023-02-02T11:57:19.407Z"
   },
   {
    "duration": 11,
    "start_time": "2023-02-02T11:57:19.495Z"
   },
   {
    "duration": 83,
    "start_time": "2023-02-02T11:57:19.509Z"
   },
   {
    "duration": 106,
    "start_time": "2023-02-02T11:57:19.594Z"
   },
   {
    "duration": 8,
    "start_time": "2023-02-02T11:57:19.702Z"
   },
   {
    "duration": 8,
    "start_time": "2023-02-02T11:57:19.712Z"
   },
   {
    "duration": 11,
    "start_time": "2023-02-02T11:57:19.722Z"
   },
   {
    "duration": 37,
    "start_time": "2023-02-02T11:57:19.734Z"
   },
   {
    "duration": 9,
    "start_time": "2023-02-02T11:57:19.772Z"
   },
   {
    "duration": 9,
    "start_time": "2023-02-02T11:57:19.782Z"
   },
   {
    "duration": 96,
    "start_time": "2023-02-02T11:57:19.793Z"
   },
   {
    "duration": 123,
    "start_time": "2023-02-02T11:57:19.891Z"
   },
   {
    "duration": 0,
    "start_time": "2023-02-02T11:57:20.016Z"
   },
   {
    "duration": 0,
    "start_time": "2023-02-02T11:57:20.017Z"
   },
   {
    "duration": 0,
    "start_time": "2023-02-02T11:57:20.019Z"
   },
   {
    "duration": 0,
    "start_time": "2023-02-02T11:57:20.020Z"
   },
   {
    "duration": 0,
    "start_time": "2023-02-02T11:57:20.021Z"
   },
   {
    "duration": 0,
    "start_time": "2023-02-02T11:57:20.023Z"
   },
   {
    "duration": 47,
    "start_time": "2023-02-02T14:12:27.183Z"
   },
   {
    "duration": 2882,
    "start_time": "2023-02-02T14:12:33.465Z"
   },
   {
    "duration": 1595,
    "start_time": "2023-02-02T14:12:36.349Z"
   },
   {
    "duration": 3,
    "start_time": "2023-02-02T14:12:37.946Z"
   },
   {
    "duration": 533,
    "start_time": "2023-02-02T14:12:37.951Z"
   },
   {
    "duration": 43,
    "start_time": "2023-02-02T14:12:38.485Z"
   },
   {
    "duration": 14,
    "start_time": "2023-02-02T14:12:38.530Z"
   },
   {
    "duration": 52,
    "start_time": "2023-02-02T14:12:38.545Z"
   },
   {
    "duration": 86,
    "start_time": "2023-02-02T14:12:38.626Z"
   },
   {
    "duration": 2031,
    "start_time": "2023-02-02T14:14:39.611Z"
   },
   {
    "duration": 5,
    "start_time": "2023-02-02T14:14:41.645Z"
   },
   {
    "duration": 5,
    "start_time": "2023-02-02T14:14:41.652Z"
   },
   {
    "duration": 258,
    "start_time": "2023-02-02T14:14:41.659Z"
   },
   {
    "duration": 42,
    "start_time": "2023-02-02T14:14:41.919Z"
   },
   {
    "duration": 15,
    "start_time": "2023-02-02T14:14:41.963Z"
   },
   {
    "duration": 77,
    "start_time": "2023-02-02T14:14:41.979Z"
   },
   {
    "duration": 83,
    "start_time": "2023-02-02T14:14:42.057Z"
   },
   {
    "duration": 14,
    "start_time": "2023-02-02T14:15:04.428Z"
   },
   {
    "duration": 43,
    "start_time": "2023-02-02T14:15:11.413Z"
   },
   {
    "duration": 45,
    "start_time": "2023-02-02T14:16:38.934Z"
   },
   {
    "duration": 38,
    "start_time": "2023-02-02T14:17:01.261Z"
   },
   {
    "duration": 52,
    "start_time": "2023-02-02T14:18:33.771Z"
   },
   {
    "duration": 145,
    "start_time": "2023-02-02T14:19:33.709Z"
   },
   {
    "duration": 177,
    "start_time": "2023-02-02T14:19:44.887Z"
   },
   {
    "duration": 30,
    "start_time": "2023-02-02T14:21:07.152Z"
   },
   {
    "duration": 19,
    "start_time": "2023-02-02T14:21:41.844Z"
   },
   {
    "duration": 9,
    "start_time": "2023-02-02T14:21:46.006Z"
   },
   {
    "duration": 31,
    "start_time": "2023-02-02T14:22:03.472Z"
   },
   {
    "duration": 82,
    "start_time": "2023-02-02T14:23:22.540Z"
   },
   {
    "duration": 8,
    "start_time": "2023-02-02T14:23:38.544Z"
   },
   {
    "duration": 12,
    "start_time": "2023-02-02T14:23:54.385Z"
   },
   {
    "duration": 7,
    "start_time": "2023-02-02T14:23:56.261Z"
   },
   {
    "duration": 69,
    "start_time": "2023-02-02T14:24:03.533Z"
   },
   {
    "duration": 306,
    "start_time": "2023-02-02T14:24:15.592Z"
   },
   {
    "duration": 127,
    "start_time": "2023-02-02T14:24:19.643Z"
   },
   {
    "duration": 121,
    "start_time": "2023-02-02T14:24:37.993Z"
   },
   {
    "duration": 12,
    "start_time": "2023-02-02T14:25:08.824Z"
   },
   {
    "duration": 129,
    "start_time": "2023-02-02T14:25:09.514Z"
   },
   {
    "duration": 10,
    "start_time": "2023-02-02T14:25:28.867Z"
   },
   {
    "duration": 118,
    "start_time": "2023-02-02T14:25:48.851Z"
   },
   {
    "duration": 15,
    "start_time": "2023-02-02T14:26:00.996Z"
   },
   {
    "duration": 136,
    "start_time": "2023-02-02T14:26:01.063Z"
   },
   {
    "duration": 189,
    "start_time": "2023-02-02T14:26:20.071Z"
   },
   {
    "duration": 9,
    "start_time": "2023-02-02T14:26:38.187Z"
   },
   {
    "duration": 9,
    "start_time": "2023-02-02T14:26:43.834Z"
   },
   {
    "duration": 125,
    "start_time": "2023-02-02T14:27:55.167Z"
   },
   {
    "duration": 53,
    "start_time": "2023-02-02T14:28:16.567Z"
   },
   {
    "duration": 6,
    "start_time": "2023-02-02T14:28:40.469Z"
   },
   {
    "duration": 6,
    "start_time": "2023-02-02T14:29:08.917Z"
   },
   {
    "duration": 5,
    "start_time": "2023-02-02T14:29:41.275Z"
   },
   {
    "duration": 6,
    "start_time": "2023-02-02T14:29:53.953Z"
   },
   {
    "duration": 29,
    "start_time": "2023-02-02T14:32:58.314Z"
   },
   {
    "duration": 38,
    "start_time": "2023-02-02T14:34:19.553Z"
   },
   {
    "duration": 185,
    "start_time": "2023-02-02T14:34:24.818Z"
   },
   {
    "duration": 7,
    "start_time": "2023-02-02T14:34:27.898Z"
   },
   {
    "duration": 177,
    "start_time": "2023-02-02T14:34:37.269Z"
   },
   {
    "duration": 7,
    "start_time": "2023-02-02T14:34:39.827Z"
   },
   {
    "duration": 15,
    "start_time": "2023-02-02T14:34:55.185Z"
   },
   {
    "duration": 197,
    "start_time": "2023-02-02T14:35:01.161Z"
   },
   {
    "duration": 7,
    "start_time": "2023-02-02T14:35:02.048Z"
   },
   {
    "duration": 9,
    "start_time": "2023-02-02T14:35:05.634Z"
   },
   {
    "duration": 18,
    "start_time": "2023-02-02T14:35:18.813Z"
   },
   {
    "duration": 184,
    "start_time": "2023-02-02T14:35:26.036Z"
   },
   {
    "duration": 7,
    "start_time": "2023-02-02T14:35:29.114Z"
   },
   {
    "duration": 130,
    "start_time": "2023-02-02T14:35:44.900Z"
   },
   {
    "duration": 141,
    "start_time": "2023-02-02T14:36:03.243Z"
   },
   {
    "duration": 145,
    "start_time": "2023-02-02T14:36:16.110Z"
   },
   {
    "duration": 24,
    "start_time": "2023-02-02T14:38:46.405Z"
   },
   {
    "duration": 28,
    "start_time": "2023-02-02T14:38:50.553Z"
   },
   {
    "duration": 7,
    "start_time": "2023-02-02T14:40:08.930Z"
   },
   {
    "duration": 12,
    "start_time": "2023-02-02T14:40:49.090Z"
   },
   {
    "duration": 11,
    "start_time": "2023-02-02T14:41:08.307Z"
   },
   {
    "duration": 11,
    "start_time": "2023-02-02T14:41:26.123Z"
   },
   {
    "duration": 122,
    "start_time": "2023-02-02T14:41:38.080Z"
   },
   {
    "duration": 25,
    "start_time": "2023-02-02T14:43:49.948Z"
   },
   {
    "duration": 41,
    "start_time": "2023-02-02T14:44:36.186Z"
   },
   {
    "duration": 25,
    "start_time": "2023-02-02T14:44:56.775Z"
   },
   {
    "duration": 23,
    "start_time": "2023-02-02T14:46:07.341Z"
   },
   {
    "duration": 15,
    "start_time": "2023-02-02T14:46:56.858Z"
   },
   {
    "duration": 122,
    "start_time": "2023-02-02T14:47:35.203Z"
   },
   {
    "duration": 129,
    "start_time": "2023-02-02T14:47:48.576Z"
   },
   {
    "duration": 63,
    "start_time": "2023-02-02T14:48:10.860Z"
   },
   {
    "duration": 64,
    "start_time": "2023-02-02T14:48:35.741Z"
   },
   {
    "duration": 3603,
    "start_time": "2023-02-02T14:48:53.715Z"
   },
   {
    "duration": 2778,
    "start_time": "2023-02-02T14:49:27.178Z"
   },
   {
    "duration": 9,
    "start_time": "2023-02-02T14:51:18.942Z"
   },
   {
    "duration": 10,
    "start_time": "2023-02-02T14:51:31.927Z"
   },
   {
    "duration": 24,
    "start_time": "2023-02-02T14:51:51.594Z"
   },
   {
    "duration": 14,
    "start_time": "2023-02-02T14:51:52.592Z"
   },
   {
    "duration": 10,
    "start_time": "2023-02-02T14:51:54.722Z"
   },
   {
    "duration": 4,
    "start_time": "2023-02-02T14:52:09.989Z"
   },
   {
    "duration": 631,
    "start_time": "2023-02-02T14:52:16.226Z"
   },
   {
    "duration": 5,
    "start_time": "2023-02-02T14:52:17.240Z"
   },
   {
    "duration": 47,
    "start_time": "2023-02-02T15:39:38.478Z"
   },
   {
    "duration": 2943,
    "start_time": "2023-02-02T15:39:43.513Z"
   },
   {
    "duration": 1635,
    "start_time": "2023-02-02T15:39:46.459Z"
   },
   {
    "duration": 3,
    "start_time": "2023-02-02T15:39:48.096Z"
   },
   {
    "duration": 858,
    "start_time": "2023-02-02T15:39:48.101Z"
   },
   {
    "duration": 45,
    "start_time": "2023-02-02T15:39:48.961Z"
   },
   {
    "duration": 13,
    "start_time": "2023-02-02T15:39:49.008Z"
   },
   {
    "duration": 82,
    "start_time": "2023-02-02T15:39:49.023Z"
   },
   {
    "duration": 86,
    "start_time": "2023-02-02T15:39:49.106Z"
   },
   {
    "duration": 14,
    "start_time": "2023-02-02T15:39:49.194Z"
   },
   {
    "duration": 59,
    "start_time": "2023-02-02T15:39:49.212Z"
   },
   {
    "duration": 58,
    "start_time": "2023-02-02T15:39:49.273Z"
   },
   {
    "duration": 111,
    "start_time": "2023-02-02T15:39:49.333Z"
   },
   {
    "duration": 9,
    "start_time": "2023-02-02T15:39:49.454Z"
   },
   {
    "duration": 25,
    "start_time": "2023-02-02T15:39:49.464Z"
   },
   {
    "duration": 24,
    "start_time": "2023-02-02T15:39:49.491Z"
   },
   {
    "duration": 11,
    "start_time": "2023-02-02T15:39:49.517Z"
   },
   {
    "duration": 13,
    "start_time": "2023-02-02T15:39:49.531Z"
   },
   {
    "duration": 9,
    "start_time": "2023-02-02T15:39:49.553Z"
   },
   {
    "duration": 120,
    "start_time": "2023-02-02T15:39:49.564Z"
   },
   {
    "duration": 184,
    "start_time": "2023-02-02T15:39:49.686Z"
   },
   {
    "duration": 10,
    "start_time": "2023-02-02T15:39:49.872Z"
   },
   {
    "duration": 36,
    "start_time": "2023-02-02T15:39:49.884Z"
   },
   {
    "duration": 9,
    "start_time": "2023-02-02T15:39:49.922Z"
   },
   {
    "duration": 13,
    "start_time": "2023-02-02T15:39:49.953Z"
   },
   {
    "duration": 12,
    "start_time": "2023-02-02T15:39:49.968Z"
   },
   {
    "duration": 15,
    "start_time": "2023-02-02T15:39:49.982Z"
   },
   {
    "duration": 77,
    "start_time": "2023-02-02T15:39:49.999Z"
   },
   {
    "duration": 304,
    "start_time": "2023-02-02T15:39:50.080Z"
   },
   {
    "duration": 139,
    "start_time": "2023-02-02T15:39:50.386Z"
   },
   {
    "duration": 126,
    "start_time": "2023-02-02T15:39:50.527Z"
   },
   {
    "duration": 12,
    "start_time": "2023-02-02T15:39:50.655Z"
   },
   {
    "duration": 145,
    "start_time": "2023-02-02T15:39:50.668Z"
   },
   {
    "duration": 17,
    "start_time": "2023-02-02T15:39:50.815Z"
   },
   {
    "duration": 136,
    "start_time": "2023-02-02T15:39:50.833Z"
   },
   {
    "duration": 178,
    "start_time": "2023-02-02T15:39:50.970Z"
   },
   {
    "duration": 129,
    "start_time": "2023-02-02T15:39:51.152Z"
   },
   {
    "duration": 8,
    "start_time": "2023-02-02T15:39:51.283Z"
   },
   {
    "duration": 78,
    "start_time": "2023-02-02T15:39:51.293Z"
   },
   {
    "duration": 182,
    "start_time": "2023-02-02T15:39:51.373Z"
   },
   {
    "duration": 6,
    "start_time": "2023-02-02T15:39:51.557Z"
   },
   {
    "duration": 175,
    "start_time": "2023-02-02T15:39:51.565Z"
   },
   {
    "duration": 14,
    "start_time": "2023-02-02T15:39:51.742Z"
   },
   {
    "duration": 13,
    "start_time": "2023-02-02T15:39:51.758Z"
   },
   {
    "duration": 173,
    "start_time": "2023-02-02T15:39:51.773Z"
   },
   {
    "duration": 6,
    "start_time": "2023-02-02T15:39:51.953Z"
   },
   {
    "duration": 27,
    "start_time": "2023-02-02T15:39:51.960Z"
   },
   {
    "duration": 167,
    "start_time": "2023-02-02T15:39:51.988Z"
   },
   {
    "duration": 6,
    "start_time": "2023-02-02T15:39:52.157Z"
   },
   {
    "duration": 22,
    "start_time": "2023-02-02T15:39:52.165Z"
   },
   {
    "duration": 21,
    "start_time": "2023-02-02T15:39:52.190Z"
   },
   {
    "duration": 46,
    "start_time": "2023-02-02T15:39:52.213Z"
   },
   {
    "duration": 140,
    "start_time": "2023-02-02T15:39:52.260Z"
   },
   {
    "duration": 63,
    "start_time": "2023-02-02T15:39:52.401Z"
   },
   {
    "duration": 163,
    "start_time": "2023-02-02T15:39:52.466Z"
   },
   {
    "duration": 3608,
    "start_time": "2023-02-02T15:39:52.631Z"
   },
   {
    "duration": 2959,
    "start_time": "2023-02-02T15:39:56.241Z"
   },
   {
    "duration": 9,
    "start_time": "2023-02-02T15:39:59.202Z"
   },
   {
    "duration": 41,
    "start_time": "2023-02-02T15:39:59.213Z"
   },
   {
    "duration": 14,
    "start_time": "2023-02-02T15:39:59.255Z"
   },
   {
    "duration": 19,
    "start_time": "2023-02-02T15:39:59.270Z"
   },
   {
    "duration": 5,
    "start_time": "2023-02-02T15:39:59.290Z"
   },
   {
    "duration": 634,
    "start_time": "2023-02-02T15:39:59.297Z"
   },
   {
    "duration": 4,
    "start_time": "2023-02-02T15:39:59.933Z"
   },
   {
    "duration": 103,
    "start_time": "2023-02-02T15:39:59.941Z"
   },
   {
    "duration": 13,
    "start_time": "2023-02-02T15:40:23.563Z"
   },
   {
    "duration": 6,
    "start_time": "2023-02-02T15:42:41.270Z"
   },
   {
    "duration": 6,
    "start_time": "2023-02-02T15:42:59.092Z"
   },
   {
    "duration": 6,
    "start_time": "2023-02-02T15:43:22.425Z"
   },
   {
    "duration": 10,
    "start_time": "2023-02-02T15:43:36.135Z"
   },
   {
    "duration": 25,
    "start_time": "2023-02-02T15:48:11.268Z"
   },
   {
    "duration": 2180,
    "start_time": "2023-02-02T15:48:50.714Z"
   },
   {
    "duration": 5,
    "start_time": "2023-02-02T15:48:52.896Z"
   },
   {
    "duration": 10,
    "start_time": "2023-02-02T15:48:52.902Z"
   },
   {
    "duration": 248,
    "start_time": "2023-02-02T15:48:52.914Z"
   },
   {
    "duration": 43,
    "start_time": "2023-02-02T15:48:53.165Z"
   },
   {
    "duration": 12,
    "start_time": "2023-02-02T15:48:53.210Z"
   },
   {
    "duration": 75,
    "start_time": "2023-02-02T15:48:53.224Z"
   },
   {
    "duration": 84,
    "start_time": "2023-02-02T15:48:53.300Z"
   },
   {
    "duration": 13,
    "start_time": "2023-02-02T15:48:53.386Z"
   },
   {
    "duration": 57,
    "start_time": "2023-02-02T15:48:53.401Z"
   },
   {
    "duration": 74,
    "start_time": "2023-02-02T15:48:53.460Z"
   },
   {
    "duration": 123,
    "start_time": "2023-02-02T15:48:53.536Z"
   },
   {
    "duration": 8,
    "start_time": "2023-02-02T15:48:53.661Z"
   },
   {
    "duration": 12,
    "start_time": "2023-02-02T15:48:53.672Z"
   },
   {
    "duration": 10,
    "start_time": "2023-02-02T15:48:53.686Z"
   },
   {
    "duration": 16,
    "start_time": "2023-02-02T15:48:53.698Z"
   },
   {
    "duration": 38,
    "start_time": "2023-02-02T15:48:53.716Z"
   },
   {
    "duration": 12,
    "start_time": "2023-02-02T15:48:53.756Z"
   },
   {
    "duration": 117,
    "start_time": "2023-02-02T15:48:53.770Z"
   },
   {
    "duration": 152,
    "start_time": "2023-02-02T15:48:53.889Z"
   },
   {
    "duration": 13,
    "start_time": "2023-02-02T15:48:54.043Z"
   },
   {
    "duration": 34,
    "start_time": "2023-02-02T15:48:54.057Z"
   },
   {
    "duration": 10,
    "start_time": "2023-02-02T15:48:54.093Z"
   },
   {
    "duration": 10,
    "start_time": "2023-02-02T15:48:54.104Z"
   },
   {
    "duration": 37,
    "start_time": "2023-02-02T15:48:54.116Z"
   },
   {
    "duration": 11,
    "start_time": "2023-02-02T15:48:54.155Z"
   },
   {
    "duration": 64,
    "start_time": "2023-02-02T15:48:54.168Z"
   },
   {
    "duration": 233,
    "start_time": "2023-02-02T15:48:54.233Z"
   },
   {
    "duration": 144,
    "start_time": "2023-02-02T15:48:54.469Z"
   },
   {
    "duration": 140,
    "start_time": "2023-02-02T15:48:54.614Z"
   },
   {
    "duration": 13,
    "start_time": "2023-02-02T15:48:54.756Z"
   },
   {
    "duration": 166,
    "start_time": "2023-02-02T15:48:54.771Z"
   },
   {
    "duration": 20,
    "start_time": "2023-02-02T15:48:54.939Z"
   },
   {
    "duration": 134,
    "start_time": "2023-02-02T15:48:54.961Z"
   },
   {
    "duration": 184,
    "start_time": "2023-02-02T15:48:55.096Z"
   },
   {
    "duration": 135,
    "start_time": "2023-02-02T15:48:55.282Z"
   },
   {
    "duration": 8,
    "start_time": "2023-02-02T15:48:55.419Z"
   },
   {
    "duration": 58,
    "start_time": "2023-02-02T15:48:55.429Z"
   },
   {
    "duration": 185,
    "start_time": "2023-02-02T15:48:55.489Z"
   },
   {
    "duration": 7,
    "start_time": "2023-02-02T15:48:55.676Z"
   },
   {
    "duration": 291,
    "start_time": "2023-02-02T15:48:55.687Z"
   },
   {
    "duration": 6,
    "start_time": "2023-02-02T15:48:55.980Z"
   },
   {
    "duration": 14,
    "start_time": "2023-02-02T15:48:55.988Z"
   },
   {
    "duration": 188,
    "start_time": "2023-02-02T15:48:56.004Z"
   },
   {
    "duration": 6,
    "start_time": "2023-02-02T15:48:56.193Z"
   },
   {
    "duration": 20,
    "start_time": "2023-02-02T15:48:56.201Z"
   },
   {
    "duration": 184,
    "start_time": "2023-02-02T15:48:56.223Z"
   },
   {
    "duration": 6,
    "start_time": "2023-02-02T15:48:56.408Z"
   },
   {
    "duration": 49,
    "start_time": "2023-02-02T15:48:56.416Z"
   },
   {
    "duration": 22,
    "start_time": "2023-02-02T15:48:56.466Z"
   },
   {
    "duration": 16,
    "start_time": "2023-02-02T15:48:56.490Z"
   },
   {
    "duration": 130,
    "start_time": "2023-02-02T15:48:56.507Z"
   },
   {
    "duration": 65,
    "start_time": "2023-02-02T15:48:56.639Z"
   },
   {
    "duration": 65,
    "start_time": "2023-02-02T15:48:56.706Z"
   },
   {
    "duration": 3630,
    "start_time": "2023-02-02T15:48:56.772Z"
   },
   {
    "duration": 2768,
    "start_time": "2023-02-02T15:49:00.403Z"
   },
   {
    "duration": 7,
    "start_time": "2023-02-02T15:49:03.173Z"
   },
   {
    "duration": 31,
    "start_time": "2023-02-02T15:49:03.182Z"
   },
   {
    "duration": 12,
    "start_time": "2023-02-02T15:49:03.215Z"
   },
   {
    "duration": 27,
    "start_time": "2023-02-02T15:49:03.228Z"
   },
   {
    "duration": 8,
    "start_time": "2023-02-02T15:49:03.256Z"
   },
   {
    "duration": 570,
    "start_time": "2023-02-02T15:49:03.266Z"
   },
   {
    "duration": 5,
    "start_time": "2023-02-02T15:49:03.837Z"
   },
   {
    "duration": 16,
    "start_time": "2023-02-02T15:49:03.854Z"
   },
   {
    "duration": 9,
    "start_time": "2023-02-02T15:49:03.871Z"
   },
   {
    "duration": 24,
    "start_time": "2023-02-02T15:49:09.286Z"
   },
   {
    "duration": 1204,
    "start_time": "2023-02-02T15:50:26.627Z"
   },
   {
    "duration": 2331,
    "start_time": "2023-02-02T15:50:48.747Z"
   },
   {
    "duration": 1448,
    "start_time": "2023-02-02T15:50:51.081Z"
   },
   {
    "duration": 3,
    "start_time": "2023-02-02T15:50:52.531Z"
   },
   {
    "duration": 246,
    "start_time": "2023-02-02T15:50:52.537Z"
   },
   {
    "duration": 47,
    "start_time": "2023-02-02T15:50:52.785Z"
   },
   {
    "duration": 16,
    "start_time": "2023-02-02T15:50:52.853Z"
   },
   {
    "duration": 82,
    "start_time": "2023-02-02T15:50:52.871Z"
   },
   {
    "duration": 80,
    "start_time": "2023-02-02T15:50:52.955Z"
   },
   {
    "duration": 26,
    "start_time": "2023-02-02T15:50:53.036Z"
   },
   {
    "duration": 42,
    "start_time": "2023-02-02T15:50:53.065Z"
   },
   {
    "duration": 77,
    "start_time": "2023-02-02T15:50:53.109Z"
   },
   {
    "duration": 104,
    "start_time": "2023-02-02T15:50:53.188Z"
   },
   {
    "duration": 9,
    "start_time": "2023-02-02T15:50:53.294Z"
   },
   {
    "duration": 20,
    "start_time": "2023-02-02T15:50:53.305Z"
   },
   {
    "duration": 33,
    "start_time": "2023-02-02T15:50:53.326Z"
   },
   {
    "duration": 9,
    "start_time": "2023-02-02T15:50:53.361Z"
   },
   {
    "duration": 20,
    "start_time": "2023-02-02T15:50:53.371Z"
   },
   {
    "duration": 52,
    "start_time": "2023-02-02T15:50:53.392Z"
   },
   {
    "duration": 120,
    "start_time": "2023-02-02T15:50:53.446Z"
   },
   {
    "duration": 175,
    "start_time": "2023-02-02T15:50:53.568Z"
   },
   {
    "duration": 15,
    "start_time": "2023-02-02T15:50:53.744Z"
   },
   {
    "duration": 49,
    "start_time": "2023-02-02T15:50:53.760Z"
   },
   {
    "duration": 17,
    "start_time": "2023-02-02T15:50:53.811Z"
   },
   {
    "duration": 12,
    "start_time": "2023-02-02T15:50:53.830Z"
   },
   {
    "duration": 35,
    "start_time": "2023-02-02T15:50:53.843Z"
   },
   {
    "duration": 13,
    "start_time": "2023-02-02T15:50:53.879Z"
   },
   {
    "duration": 115,
    "start_time": "2023-02-02T15:50:53.893Z"
   },
   {
    "duration": 299,
    "start_time": "2023-02-02T15:50:54.011Z"
   },
   {
    "duration": 144,
    "start_time": "2023-02-02T15:50:54.311Z"
   },
   {
    "duration": 129,
    "start_time": "2023-02-02T15:50:54.456Z"
   },
   {
    "duration": 13,
    "start_time": "2023-02-02T15:50:54.587Z"
   },
   {
    "duration": 140,
    "start_time": "2023-02-02T15:50:54.602Z"
   },
   {
    "duration": 18,
    "start_time": "2023-02-02T15:50:54.743Z"
   },
   {
    "duration": 127,
    "start_time": "2023-02-02T15:50:54.763Z"
   },
   {
    "duration": 171,
    "start_time": "2023-02-02T15:50:54.891Z"
   },
   {
    "duration": 135,
    "start_time": "2023-02-02T15:50:55.064Z"
   },
   {
    "duration": 8,
    "start_time": "2023-02-02T15:50:55.201Z"
   },
   {
    "duration": 50,
    "start_time": "2023-02-02T15:50:58.410Z"
   },
   {
    "duration": 183,
    "start_time": "2023-02-02T15:51:03.784Z"
   },
   {
    "duration": 6,
    "start_time": "2023-02-02T15:51:04.157Z"
   },
   {
    "duration": 179,
    "start_time": "2023-02-02T15:51:05.392Z"
   },
   {
    "duration": 7,
    "start_time": "2023-02-02T15:51:05.736Z"
   },
   {
    "duration": 14,
    "start_time": "2023-02-02T15:51:06.227Z"
   },
   {
    "duration": 164,
    "start_time": "2023-02-02T15:51:07.057Z"
   },
   {
    "duration": 8,
    "start_time": "2023-02-02T15:51:07.484Z"
   },
   {
    "duration": 14,
    "start_time": "2023-02-02T15:51:08.370Z"
   },
   {
    "duration": 181,
    "start_time": "2023-02-02T15:51:09.075Z"
   },
   {
    "duration": 8,
    "start_time": "2023-02-02T15:51:09.459Z"
   },
   {
    "duration": 24,
    "start_time": "2023-02-02T15:51:10.868Z"
   },
   {
    "duration": 23,
    "start_time": "2023-02-02T15:51:11.324Z"
   },
   {
    "duration": 17,
    "start_time": "2023-02-02T15:51:11.722Z"
   },
   {
    "duration": 136,
    "start_time": "2023-02-02T15:51:12.754Z"
   },
   {
    "duration": 66,
    "start_time": "2023-02-02T15:51:15.811Z"
   },
   {
    "duration": 158,
    "start_time": "2023-02-02T15:51:16.557Z"
   },
   {
    "duration": 3482,
    "start_time": "2023-02-02T15:51:19.929Z"
   },
   {
    "duration": 2740,
    "start_time": "2023-02-02T15:51:23.413Z"
   },
   {
    "duration": 9,
    "start_time": "2023-02-02T15:51:26.155Z"
   },
   {
    "duration": 22,
    "start_time": "2023-02-02T15:51:28.414Z"
   },
   {
    "duration": 13,
    "start_time": "2023-02-02T15:51:29.190Z"
   },
   {
    "duration": 11,
    "start_time": "2023-02-02T15:51:29.856Z"
   },
   {
    "duration": 4,
    "start_time": "2023-02-02T15:51:39.232Z"
   },
   {
    "duration": 571,
    "start_time": "2023-02-02T15:51:39.849Z"
   },
   {
    "duration": 3,
    "start_time": "2023-02-02T15:51:40.422Z"
   },
   {
    "duration": 10,
    "start_time": "2023-02-02T15:51:51.359Z"
   },
   {
    "duration": 9,
    "start_time": "2023-02-02T15:51:52.775Z"
   },
   {
    "duration": 118,
    "start_time": "2023-02-02T15:51:57.271Z"
   },
   {
    "duration": 26,
    "start_time": "2023-02-02T15:52:41.172Z"
   },
   {
    "duration": 22,
    "start_time": "2023-02-02T15:53:16.194Z"
   },
   {
    "duration": 21,
    "start_time": "2023-02-02T15:54:02.477Z"
   },
   {
    "duration": 22,
    "start_time": "2023-02-02T15:54:24.887Z"
   },
   {
    "duration": 1136,
    "start_time": "2023-02-02T15:56:40.977Z"
   },
   {
    "duration": 2161,
    "start_time": "2023-02-02T15:57:17.314Z"
   },
   {
    "duration": 1377,
    "start_time": "2023-02-02T15:57:19.477Z"
   },
   {
    "duration": 3,
    "start_time": "2023-02-02T15:57:20.855Z"
   },
   {
    "duration": 286,
    "start_time": "2023-02-02T15:57:20.860Z"
   },
   {
    "duration": 61,
    "start_time": "2023-02-02T15:57:21.154Z"
   },
   {
    "duration": 41,
    "start_time": "2023-02-02T15:57:21.217Z"
   },
   {
    "duration": 57,
    "start_time": "2023-02-02T15:57:21.260Z"
   },
   {
    "duration": 95,
    "start_time": "2023-02-02T15:57:21.319Z"
   },
   {
    "duration": 13,
    "start_time": "2023-02-02T15:57:21.416Z"
   },
   {
    "duration": 67,
    "start_time": "2023-02-02T15:57:21.433Z"
   },
   {
    "duration": 66,
    "start_time": "2023-02-02T15:57:21.503Z"
   },
   {
    "duration": 107,
    "start_time": "2023-02-02T15:57:21.571Z"
   },
   {
    "duration": 10,
    "start_time": "2023-02-02T15:57:21.680Z"
   },
   {
    "duration": 37,
    "start_time": "2023-02-02T15:57:21.691Z"
   },
   {
    "duration": 34,
    "start_time": "2023-02-02T15:57:21.729Z"
   },
   {
    "duration": 27,
    "start_time": "2023-02-02T15:57:21.765Z"
   },
   {
    "duration": 11,
    "start_time": "2023-02-02T15:57:21.794Z"
   },
   {
    "duration": 18,
    "start_time": "2023-02-02T15:57:21.806Z"
   },
   {
    "duration": 109,
    "start_time": "2023-02-02T15:57:21.826Z"
   },
   {
    "duration": 173,
    "start_time": "2023-02-02T15:57:21.936Z"
   },
   {
    "duration": 9,
    "start_time": "2023-02-02T15:57:22.111Z"
   },
   {
    "duration": 45,
    "start_time": "2023-02-02T15:57:22.122Z"
   },
   {
    "duration": 9,
    "start_time": "2023-02-02T15:57:22.169Z"
   },
   {
    "duration": 15,
    "start_time": "2023-02-02T15:57:22.179Z"
   },
   {
    "duration": 17,
    "start_time": "2023-02-02T15:57:22.196Z"
   },
   {
    "duration": 13,
    "start_time": "2023-02-02T15:57:22.215Z"
   },
   {
    "duration": 82,
    "start_time": "2023-02-02T15:57:22.230Z"
   },
   {
    "duration": 294,
    "start_time": "2023-02-02T15:57:22.315Z"
   },
   {
    "duration": 154,
    "start_time": "2023-02-02T15:57:22.611Z"
   },
   {
    "duration": 129,
    "start_time": "2023-02-02T15:57:22.766Z"
   },
   {
    "duration": 15,
    "start_time": "2023-02-02T15:57:22.896Z"
   },
   {
    "duration": 142,
    "start_time": "2023-02-02T15:57:22.913Z"
   },
   {
    "duration": 12,
    "start_time": "2023-02-02T15:57:23.056Z"
   },
   {
    "duration": 139,
    "start_time": "2023-02-02T15:57:23.070Z"
   },
   {
    "duration": 170,
    "start_time": "2023-02-02T15:57:23.211Z"
   },
   {
    "duration": 127,
    "start_time": "2023-02-02T15:57:23.382Z"
   },
   {
    "duration": 7,
    "start_time": "2023-02-02T15:57:23.510Z"
   },
   {
    "duration": 81,
    "start_time": "2023-02-02T15:57:27.360Z"
   },
   {
    "duration": 16,
    "start_time": "2023-02-02T15:57:42.477Z"
   },
   {
    "duration": 3094,
    "start_time": "2023-02-03T10:27:21.898Z"
   },
   {
    "duration": 1598,
    "start_time": "2023-02-03T10:27:24.995Z"
   },
   {
    "duration": 4,
    "start_time": "2023-02-03T10:27:26.595Z"
   },
   {
    "duration": 530,
    "start_time": "2023-02-03T10:27:26.611Z"
   },
   {
    "duration": 45,
    "start_time": "2023-02-03T10:27:27.143Z"
   },
   {
    "duration": 36,
    "start_time": "2023-02-03T10:27:27.189Z"
   },
   {
    "duration": 52,
    "start_time": "2023-02-03T10:27:27.226Z"
   },
   {
    "duration": 107,
    "start_time": "2023-02-03T10:27:27.282Z"
   },
   {
    "duration": 23,
    "start_time": "2023-02-03T10:27:27.392Z"
   },
   {
    "duration": 43,
    "start_time": "2023-02-03T10:27:27.418Z"
   },
   {
    "duration": 77,
    "start_time": "2023-02-03T10:27:27.462Z"
   },
   {
    "duration": 98,
    "start_time": "2023-02-03T10:27:27.540Z"
   },
   {
    "duration": 9,
    "start_time": "2023-02-03T10:27:27.639Z"
   },
   {
    "duration": 12,
    "start_time": "2023-02-03T10:27:27.649Z"
   },
   {
    "duration": 9,
    "start_time": "2023-02-03T10:27:27.662Z"
   },
   {
    "duration": 39,
    "start_time": "2023-02-03T10:27:27.673Z"
   },
   {
    "duration": 11,
    "start_time": "2023-02-03T10:27:27.714Z"
   },
   {
    "duration": 9,
    "start_time": "2023-02-03T10:27:27.726Z"
   },
   {
    "duration": 134,
    "start_time": "2023-02-03T10:27:27.736Z"
   },
   {
    "duration": 167,
    "start_time": "2023-02-03T10:27:27.871Z"
   },
   {
    "duration": 10,
    "start_time": "2023-02-03T10:27:28.039Z"
   },
   {
    "duration": 33,
    "start_time": "2023-02-03T10:27:28.050Z"
   },
   {
    "duration": 28,
    "start_time": "2023-02-03T10:27:28.085Z"
   },
   {
    "duration": 7,
    "start_time": "2023-02-03T10:27:28.114Z"
   },
   {
    "duration": 12,
    "start_time": "2023-02-03T10:27:28.123Z"
   },
   {
    "duration": 13,
    "start_time": "2023-02-03T10:27:28.137Z"
   },
   {
    "duration": 87,
    "start_time": "2023-02-03T10:27:28.151Z"
   },
   {
    "duration": 254,
    "start_time": "2023-02-03T10:27:28.242Z"
   },
   {
    "duration": 139,
    "start_time": "2023-02-03T10:27:28.498Z"
   },
   {
    "duration": 131,
    "start_time": "2023-02-03T10:27:28.638Z"
   },
   {
    "duration": 12,
    "start_time": "2023-02-03T10:27:28.771Z"
   },
   {
    "duration": 136,
    "start_time": "2023-02-03T10:27:28.785Z"
   },
   {
    "duration": 13,
    "start_time": "2023-02-03T10:27:28.922Z"
   },
   {
    "duration": 144,
    "start_time": "2023-02-03T10:27:28.936Z"
   },
   {
    "duration": 183,
    "start_time": "2023-02-03T10:27:29.082Z"
   },
   {
    "duration": 130,
    "start_time": "2023-02-03T10:27:29.266Z"
   },
   {
    "duration": 13,
    "start_time": "2023-02-03T10:27:29.398Z"
   },
   {
    "duration": 53,
    "start_time": "2023-02-03T10:27:29.412Z"
   },
   {
    "duration": 184,
    "start_time": "2023-02-03T10:27:29.467Z"
   },
   {
    "duration": 5,
    "start_time": "2023-02-03T10:27:29.653Z"
   },
   {
    "duration": 175,
    "start_time": "2023-02-03T10:27:29.660Z"
   },
   {
    "duration": 6,
    "start_time": "2023-02-03T10:27:29.837Z"
   },
   {
    "duration": 21,
    "start_time": "2023-02-03T10:27:29.844Z"
   },
   {
    "duration": 179,
    "start_time": "2023-02-03T10:27:29.867Z"
   },
   {
    "duration": 6,
    "start_time": "2023-02-03T10:27:30.048Z"
   },
   {
    "duration": 15,
    "start_time": "2023-02-03T10:27:30.055Z"
   },
   {
    "duration": 173,
    "start_time": "2023-02-03T10:27:30.071Z"
   },
   {
    "duration": 6,
    "start_time": "2023-02-03T10:27:30.245Z"
   },
   {
    "duration": 43,
    "start_time": "2023-02-03T10:27:30.252Z"
   },
   {
    "duration": 26,
    "start_time": "2023-02-03T10:27:30.296Z"
   },
   {
    "duration": 18,
    "start_time": "2023-02-03T10:27:30.323Z"
   },
   {
    "duration": 139,
    "start_time": "2023-02-03T10:27:30.343Z"
   },
   {
    "duration": 61,
    "start_time": "2023-02-03T10:27:30.483Z"
   },
   {
    "duration": 147,
    "start_time": "2023-02-03T10:27:30.546Z"
   },
   {
    "duration": 3508,
    "start_time": "2023-02-03T10:27:30.695Z"
   },
   {
    "duration": 2739,
    "start_time": "2023-02-03T10:27:34.204Z"
   },
   {
    "duration": 9,
    "start_time": "2023-02-03T10:27:36.945Z"
   },
   {
    "duration": 34,
    "start_time": "2023-02-03T10:27:36.955Z"
   },
   {
    "duration": 23,
    "start_time": "2023-02-03T10:27:36.990Z"
   },
   {
    "duration": 9,
    "start_time": "2023-02-03T10:27:37.015Z"
   },
   {
    "duration": 4,
    "start_time": "2023-02-03T10:27:37.026Z"
   },
   {
    "duration": 691,
    "start_time": "2023-02-03T10:27:37.031Z"
   },
   {
    "duration": 4,
    "start_time": "2023-02-03T10:27:37.723Z"
   },
   {
    "duration": 11,
    "start_time": "2023-02-03T10:29:01.014Z"
   },
   {
    "duration": 28,
    "start_time": "2023-02-03T10:29:04.331Z"
   },
   {
    "duration": 21,
    "start_time": "2023-02-03T10:29:08.115Z"
   },
   {
    "duration": 38,
    "start_time": "2023-02-03T10:29:34.803Z"
   },
   {
    "duration": 1908,
    "start_time": "2023-02-03T10:30:41.053Z"
   },
   {
    "duration": 2107,
    "start_time": "2023-02-03T10:32:17.321Z"
   },
   {
    "duration": 1420,
    "start_time": "2023-02-03T10:32:19.430Z"
   },
   {
    "duration": 3,
    "start_time": "2023-02-03T10:32:20.852Z"
   },
   {
    "duration": 227,
    "start_time": "2023-02-03T10:32:20.857Z"
   },
   {
    "duration": 48,
    "start_time": "2023-02-03T10:32:21.085Z"
   },
   {
    "duration": 13,
    "start_time": "2023-02-03T10:32:21.135Z"
   },
   {
    "duration": 83,
    "start_time": "2023-02-03T10:32:21.150Z"
   },
   {
    "duration": 92,
    "start_time": "2023-02-03T10:32:21.235Z"
   },
   {
    "duration": 14,
    "start_time": "2023-02-03T10:32:21.328Z"
   },
   {
    "duration": 45,
    "start_time": "2023-02-03T10:32:21.345Z"
   },
   {
    "duration": 76,
    "start_time": "2023-02-03T10:32:21.392Z"
   },
   {
    "duration": 129,
    "start_time": "2023-02-03T10:32:21.469Z"
   },
   {
    "duration": 9,
    "start_time": "2023-02-03T10:32:21.609Z"
   },
   {
    "duration": 10,
    "start_time": "2023-02-03T10:32:21.620Z"
   },
   {
    "duration": 10,
    "start_time": "2023-02-03T10:32:21.632Z"
   },
   {
    "duration": 9,
    "start_time": "2023-02-03T10:32:21.643Z"
   },
   {
    "duration": 11,
    "start_time": "2023-02-03T10:32:21.653Z"
   },
   {
    "duration": 54,
    "start_time": "2023-02-03T10:32:21.665Z"
   },
   {
    "duration": 129,
    "start_time": "2023-02-03T10:32:21.720Z"
   },
   {
    "duration": 169,
    "start_time": "2023-02-03T10:32:21.850Z"
   },
   {
    "duration": 12,
    "start_time": "2023-02-03T10:32:22.021Z"
   },
   {
    "duration": 57,
    "start_time": "2023-02-03T10:32:22.034Z"
   },
   {
    "duration": 12,
    "start_time": "2023-02-03T10:32:22.092Z"
   },
   {
    "duration": 43,
    "start_time": "2023-02-03T10:32:22.106Z"
   },
   {
    "duration": 27,
    "start_time": "2023-02-03T10:32:22.151Z"
   },
   {
    "duration": 14,
    "start_time": "2023-02-03T10:32:22.180Z"
   },
   {
    "duration": 89,
    "start_time": "2023-02-03T10:32:22.196Z"
   },
   {
    "duration": 269,
    "start_time": "2023-02-03T10:32:22.288Z"
   },
   {
    "duration": 142,
    "start_time": "2023-02-03T10:32:22.559Z"
   },
   {
    "duration": 132,
    "start_time": "2023-02-03T10:32:22.702Z"
   },
   {
    "duration": 14,
    "start_time": "2023-02-03T10:32:22.835Z"
   },
   {
    "duration": 153,
    "start_time": "2023-02-03T10:32:22.851Z"
   },
   {
    "duration": 16,
    "start_time": "2023-02-03T10:32:23.009Z"
   },
   {
    "duration": 144,
    "start_time": "2023-02-03T10:32:23.027Z"
   },
   {
    "duration": 176,
    "start_time": "2023-02-03T10:32:23.173Z"
   },
   {
    "duration": 135,
    "start_time": "2023-02-03T10:32:23.350Z"
   },
   {
    "duration": 8,
    "start_time": "2023-02-03T10:32:23.487Z"
   },
   {
    "duration": 65,
    "start_time": "2023-02-03T10:32:23.497Z"
   },
   {
    "duration": 172,
    "start_time": "2023-02-03T10:32:23.564Z"
   },
   {
    "duration": 7,
    "start_time": "2023-02-03T10:32:23.738Z"
   },
   {
    "duration": 184,
    "start_time": "2023-02-03T10:32:23.746Z"
   },
   {
    "duration": 8,
    "start_time": "2023-02-03T10:32:23.932Z"
   },
   {
    "duration": 16,
    "start_time": "2023-02-03T10:32:23.941Z"
   },
   {
    "duration": 186,
    "start_time": "2023-02-03T10:32:23.960Z"
   },
   {
    "duration": 6,
    "start_time": "2023-02-03T10:32:24.148Z"
   },
   {
    "duration": 25,
    "start_time": "2023-02-03T10:32:24.155Z"
   },
   {
    "duration": 194,
    "start_time": "2023-02-03T10:32:24.181Z"
   },
   {
    "duration": 8,
    "start_time": "2023-02-03T10:32:24.376Z"
   },
   {
    "duration": 49,
    "start_time": "2023-02-03T10:32:24.385Z"
   },
   {
    "duration": 27,
    "start_time": "2023-02-03T10:32:24.436Z"
   },
   {
    "duration": 20,
    "start_time": "2023-02-03T10:32:24.465Z"
   },
   {
    "duration": 142,
    "start_time": "2023-02-03T10:32:24.487Z"
   },
   {
    "duration": 57,
    "start_time": "2023-02-03T10:32:24.631Z"
   },
   {
    "duration": 156,
    "start_time": "2023-02-03T10:32:24.690Z"
   },
   {
    "duration": 3648,
    "start_time": "2023-02-03T10:32:24.848Z"
   },
   {
    "duration": 2681,
    "start_time": "2023-02-03T10:32:28.498Z"
   },
   {
    "duration": 8,
    "start_time": "2023-02-03T10:32:31.181Z"
   },
   {
    "duration": 94,
    "start_time": "2023-02-03T10:32:38.660Z"
   },
   {
    "duration": 38,
    "start_time": "2023-02-03T10:32:44.776Z"
   },
   {
    "duration": 10,
    "start_time": "2023-02-03T10:32:52.003Z"
   },
   {
    "duration": 4,
    "start_time": "2023-02-03T10:32:58.462Z"
   },
   {
    "duration": 2706,
    "start_time": "2023-02-03T10:33:02.272Z"
   },
   {
    "duration": 8,
    "start_time": "2023-02-03T10:35:59.560Z"
   },
   {
    "duration": 4,
    "start_time": "2023-02-03T10:37:54.109Z"
   },
   {
    "duration": 6,
    "start_time": "2023-02-03T10:37:56.130Z"
   },
   {
    "duration": 10,
    "start_time": "2023-02-03T10:38:37.386Z"
   },
   {
    "duration": 9,
    "start_time": "2023-02-03T10:38:45.634Z"
   },
   {
    "duration": 19,
    "start_time": "2023-02-03T10:39:08.375Z"
   },
   {
    "duration": 21,
    "start_time": "2023-02-03T11:04:16.209Z"
   },
   {
    "duration": 250,
    "start_time": "2023-02-03T11:05:32.625Z"
   },
   {
    "duration": 34,
    "start_time": "2023-02-03T11:05:52.912Z"
   },
   {
    "duration": 18,
    "start_time": "2023-02-03T11:08:54.555Z"
   },
   {
    "duration": 402,
    "start_time": "2023-02-03T11:13:50.234Z"
   },
   {
    "duration": 126,
    "start_time": "2023-02-03T11:18:33.842Z"
   },
   {
    "duration": 2,
    "start_time": "2023-02-03T11:18:39.880Z"
   },
   {
    "duration": 3,
    "start_time": "2023-02-03T11:18:40.375Z"
   },
   {
    "duration": 24,
    "start_time": "2023-02-03T11:18:41.110Z"
   },
   {
    "duration": 32,
    "start_time": "2023-02-03T11:18:55.238Z"
   },
   {
    "duration": 6,
    "start_time": "2023-02-03T11:19:12.377Z"
   },
   {
    "duration": 6,
    "start_time": "2023-02-03T11:19:58.571Z"
   },
   {
    "duration": 5,
    "start_time": "2023-02-03T11:20:03.843Z"
   },
   {
    "duration": 41,
    "start_time": "2023-02-03T11:20:47.008Z"
   },
   {
    "duration": 4,
    "start_time": "2023-02-03T11:20:47.926Z"
   },
   {
    "duration": 5,
    "start_time": "2023-02-03T11:21:00.492Z"
   },
   {
    "duration": 12,
    "start_time": "2023-02-03T11:21:26.044Z"
   },
   {
    "duration": 14,
    "start_time": "2023-02-03T11:21:57.761Z"
   },
   {
    "duration": 220,
    "start_time": "2023-02-03T11:22:11.274Z"
   },
   {
    "duration": 11,
    "start_time": "2023-02-03T11:22:13.331Z"
   },
   {
    "duration": 12,
    "start_time": "2023-02-03T11:22:28.871Z"
   },
   {
    "duration": 5,
    "start_time": "2023-02-03T11:23:03.534Z"
   },
   {
    "duration": 43,
    "start_time": "2023-02-03T11:26:16.337Z"
   },
   {
    "duration": 103,
    "start_time": "2023-02-03T11:26:40.371Z"
   },
   {
    "duration": 41,
    "start_time": "2023-02-03T11:32:38.306Z"
   },
   {
    "duration": 95,
    "start_time": "2023-02-03T11:33:48.001Z"
   },
   {
    "duration": 73,
    "start_time": "2023-02-03T11:34:21.004Z"
   },
   {
    "duration": 10,
    "start_time": "2023-02-03T11:38:34.614Z"
   },
   {
    "duration": 40,
    "start_time": "2023-02-03T11:39:18.797Z"
   },
   {
    "duration": 14,
    "start_time": "2023-02-03T11:40:08.131Z"
   },
   {
    "duration": 14,
    "start_time": "2023-02-03T11:40:25.865Z"
   },
   {
    "duration": 2215,
    "start_time": "2023-02-03T11:40:40.435Z"
   },
   {
    "duration": 1430,
    "start_time": "2023-02-03T11:40:42.652Z"
   },
   {
    "duration": 3,
    "start_time": "2023-02-03T11:40:44.084Z"
   },
   {
    "duration": 230,
    "start_time": "2023-02-03T11:40:44.090Z"
   },
   {
    "duration": 42,
    "start_time": "2023-02-03T11:40:44.322Z"
   },
   {
    "duration": 48,
    "start_time": "2023-02-03T11:40:44.366Z"
   },
   {
    "duration": 53,
    "start_time": "2023-02-03T11:40:44.416Z"
   },
   {
    "duration": 100,
    "start_time": "2023-02-03T11:40:44.471Z"
   },
   {
    "duration": 14,
    "start_time": "2023-02-03T11:40:44.573Z"
   },
   {
    "duration": 63,
    "start_time": "2023-02-03T11:40:44.589Z"
   },
   {
    "duration": 72,
    "start_time": "2023-02-03T11:40:44.653Z"
   },
   {
    "duration": 102,
    "start_time": "2023-02-03T11:40:44.727Z"
   },
   {
    "duration": 10,
    "start_time": "2023-02-03T11:40:44.831Z"
   },
   {
    "duration": 10,
    "start_time": "2023-02-03T11:40:44.842Z"
   },
   {
    "duration": 10,
    "start_time": "2023-02-03T11:40:44.853Z"
   },
   {
    "duration": 9,
    "start_time": "2023-02-03T11:40:44.865Z"
   },
   {
    "duration": 13,
    "start_time": "2023-02-03T11:40:44.909Z"
   },
   {
    "duration": 11,
    "start_time": "2023-02-03T11:40:44.923Z"
   },
   {
    "duration": 130,
    "start_time": "2023-02-03T11:40:44.936Z"
   },
   {
    "duration": 174,
    "start_time": "2023-02-03T11:40:45.067Z"
   },
   {
    "duration": 9,
    "start_time": "2023-02-03T11:40:45.243Z"
   },
   {
    "duration": 31,
    "start_time": "2023-02-03T11:40:45.254Z"
   },
   {
    "duration": 25,
    "start_time": "2023-02-03T11:40:45.287Z"
   },
   {
    "duration": 11,
    "start_time": "2023-02-03T11:40:45.313Z"
   },
   {
    "duration": 13,
    "start_time": "2023-02-03T11:40:45.326Z"
   },
   {
    "duration": 12,
    "start_time": "2023-02-03T11:40:45.340Z"
   },
   {
    "duration": 85,
    "start_time": "2023-02-03T11:40:45.353Z"
   },
   {
    "duration": 257,
    "start_time": "2023-02-03T11:40:45.441Z"
   },
   {
    "duration": 132,
    "start_time": "2023-02-03T11:40:45.700Z"
   },
   {
    "duration": 129,
    "start_time": "2023-02-03T11:40:45.834Z"
   },
   {
    "duration": 13,
    "start_time": "2023-02-03T11:40:45.965Z"
   },
   {
    "duration": 137,
    "start_time": "2023-02-03T11:40:45.980Z"
   },
   {
    "duration": 13,
    "start_time": "2023-02-03T11:40:46.118Z"
   },
   {
    "duration": 134,
    "start_time": "2023-02-03T11:40:46.132Z"
   },
   {
    "duration": 157,
    "start_time": "2023-02-03T11:40:46.267Z"
   },
   {
    "duration": 119,
    "start_time": "2023-02-03T11:40:46.426Z"
   },
   {
    "duration": 8,
    "start_time": "2023-02-03T11:40:46.547Z"
   },
   {
    "duration": 64,
    "start_time": "2023-02-03T11:40:46.557Z"
   },
   {
    "duration": 166,
    "start_time": "2023-02-03T11:40:46.622Z"
   },
   {
    "duration": 6,
    "start_time": "2023-02-03T11:40:46.789Z"
   },
   {
    "duration": 194,
    "start_time": "2023-02-03T11:40:46.796Z"
   },
   {
    "duration": 8,
    "start_time": "2023-02-03T11:40:46.992Z"
   },
   {
    "duration": 17,
    "start_time": "2023-02-03T11:40:47.010Z"
   },
   {
    "duration": 202,
    "start_time": "2023-02-03T11:40:47.029Z"
   },
   {
    "duration": 6,
    "start_time": "2023-02-03T11:40:47.233Z"
   },
   {
    "duration": 15,
    "start_time": "2023-02-03T11:40:47.241Z"
   },
   {
    "duration": 180,
    "start_time": "2023-02-03T11:40:47.258Z"
   },
   {
    "duration": 8,
    "start_time": "2023-02-03T11:40:47.439Z"
   },
   {
    "duration": 24,
    "start_time": "2023-02-03T11:40:47.449Z"
   },
   {
    "duration": 47,
    "start_time": "2023-02-03T11:40:47.475Z"
   },
   {
    "duration": 15,
    "start_time": "2023-02-03T11:40:47.524Z"
   },
   {
    "duration": 131,
    "start_time": "2023-02-03T11:40:47.540Z"
   },
   {
    "duration": 60,
    "start_time": "2023-02-03T11:40:47.673Z"
   },
   {
    "duration": 150,
    "start_time": "2023-02-03T11:40:47.734Z"
   },
   {
    "duration": 3409,
    "start_time": "2023-02-03T11:40:47.885Z"
   },
   {
    "duration": 2708,
    "start_time": "2023-02-03T11:40:51.295Z"
   },
   {
    "duration": 8,
    "start_time": "2023-02-03T11:40:54.010Z"
   },
   {
    "duration": 105,
    "start_time": "2023-02-03T11:40:54.019Z"
   },
   {
    "duration": 37,
    "start_time": "2023-02-03T11:40:54.126Z"
   },
   {
    "duration": 9,
    "start_time": "2023-02-03T11:40:54.165Z"
   },
   {
    "duration": 4,
    "start_time": "2023-02-03T11:40:54.175Z"
   },
   {
    "duration": 2739,
    "start_time": "2023-02-03T11:40:54.181Z"
   },
   {
    "duration": 4,
    "start_time": "2023-02-03T11:40:56.922Z"
   },
   {
    "duration": 8,
    "start_time": "2023-02-03T11:40:56.927Z"
   },
   {
    "duration": 15,
    "start_time": "2023-02-03T11:40:56.937Z"
   },
   {
    "duration": 10,
    "start_time": "2023-02-03T11:41:00.251Z"
   },
   {
    "duration": 23,
    "start_time": "2023-02-03T11:41:05.937Z"
   },
   {
    "duration": 159,
    "start_time": "2023-02-03T11:41:09.780Z"
   },
   {
    "duration": 383,
    "start_time": "2023-02-03T11:41:11.689Z"
   },
   {
    "duration": 50,
    "start_time": "2023-02-03T11:41:16.710Z"
   },
   {
    "duration": 122,
    "start_time": "2023-02-03T11:41:20.308Z"
   },
   {
    "duration": 8,
    "start_time": "2023-02-03T11:45:39.850Z"
   },
   {
    "duration": 10,
    "start_time": "2023-02-03T11:45:52.343Z"
   },
   {
    "duration": 158,
    "start_time": "2023-02-03T11:47:09.059Z"
   },
   {
    "duration": 430,
    "start_time": "2023-02-03T11:49:47.289Z"
   },
   {
    "duration": 206,
    "start_time": "2023-02-03T11:53:58.575Z"
   },
   {
    "duration": 117,
    "start_time": "2023-02-03T11:55:31.041Z"
   },
   {
    "duration": 2150,
    "start_time": "2023-02-03T11:57:19.148Z"
   },
   {
    "duration": 1459,
    "start_time": "2023-02-03T11:57:21.300Z"
   },
   {
    "duration": 3,
    "start_time": "2023-02-03T11:57:22.761Z"
   },
   {
    "duration": 255,
    "start_time": "2023-02-03T11:57:22.765Z"
   },
   {
    "duration": 75,
    "start_time": "2023-02-03T11:57:23.022Z"
   },
   {
    "duration": 20,
    "start_time": "2023-02-03T11:57:23.110Z"
   },
   {
    "duration": 78,
    "start_time": "2023-02-03T11:57:23.132Z"
   },
   {
    "duration": 99,
    "start_time": "2023-02-03T11:57:23.212Z"
   },
   {
    "duration": 17,
    "start_time": "2023-02-03T11:57:23.313Z"
   },
   {
    "duration": 77,
    "start_time": "2023-02-03T11:57:23.334Z"
   },
   {
    "duration": 67,
    "start_time": "2023-02-03T11:57:23.413Z"
   },
   {
    "duration": 137,
    "start_time": "2023-02-03T11:57:23.482Z"
   },
   {
    "duration": 14,
    "start_time": "2023-02-03T11:57:23.621Z"
   },
   {
    "duration": 19,
    "start_time": "2023-02-03T11:57:23.636Z"
   },
   {
    "duration": 20,
    "start_time": "2023-02-03T11:57:23.657Z"
   },
   {
    "duration": 34,
    "start_time": "2023-02-03T11:57:23.679Z"
   },
   {
    "duration": 16,
    "start_time": "2023-02-03T11:57:23.715Z"
   },
   {
    "duration": 13,
    "start_time": "2023-02-03T11:57:23.733Z"
   },
   {
    "duration": 135,
    "start_time": "2023-02-03T11:57:23.748Z"
   },
   {
    "duration": 176,
    "start_time": "2023-02-03T11:57:23.885Z"
   },
   {
    "duration": 11,
    "start_time": "2023-02-03T11:57:24.063Z"
   },
   {
    "duration": 46,
    "start_time": "2023-02-03T11:57:24.076Z"
   },
   {
    "duration": 10,
    "start_time": "2023-02-03T11:57:24.124Z"
   },
   {
    "duration": 9,
    "start_time": "2023-02-03T11:57:24.136Z"
   },
   {
    "duration": 23,
    "start_time": "2023-02-03T11:57:24.146Z"
   },
   {
    "duration": 8,
    "start_time": "2023-02-03T11:57:24.171Z"
   },
   {
    "duration": 86,
    "start_time": "2023-02-03T11:57:24.181Z"
   },
   {
    "duration": 285,
    "start_time": "2023-02-03T11:57:24.272Z"
   },
   {
    "duration": 145,
    "start_time": "2023-02-03T11:57:24.559Z"
   },
   {
    "duration": 142,
    "start_time": "2023-02-03T11:57:24.706Z"
   },
   {
    "duration": 15,
    "start_time": "2023-02-03T11:57:24.849Z"
   },
   {
    "duration": 160,
    "start_time": "2023-02-03T11:57:24.865Z"
   },
   {
    "duration": 14,
    "start_time": "2023-02-03T11:57:25.027Z"
   },
   {
    "duration": 161,
    "start_time": "2023-02-03T11:57:25.042Z"
   },
   {
    "duration": 161,
    "start_time": "2023-02-03T11:57:25.209Z"
   },
   {
    "duration": 133,
    "start_time": "2023-02-03T11:57:25.372Z"
   },
   {
    "duration": 9,
    "start_time": "2023-02-03T11:57:25.510Z"
   },
   {
    "duration": 57,
    "start_time": "2023-02-03T11:57:25.520Z"
   },
   {
    "duration": 178,
    "start_time": "2023-02-03T11:57:25.579Z"
   },
   {
    "duration": 7,
    "start_time": "2023-02-03T11:57:25.759Z"
   },
   {
    "duration": 177,
    "start_time": "2023-02-03T11:57:25.768Z"
   },
   {
    "duration": 7,
    "start_time": "2023-02-03T11:57:25.946Z"
   },
   {
    "duration": 15,
    "start_time": "2023-02-03T11:57:25.955Z"
   },
   {
    "duration": 182,
    "start_time": "2023-02-03T11:57:25.971Z"
   },
   {
    "duration": 6,
    "start_time": "2023-02-03T11:57:26.155Z"
   },
   {
    "duration": 15,
    "start_time": "2023-02-03T11:57:26.163Z"
   },
   {
    "duration": 178,
    "start_time": "2023-02-03T11:57:26.180Z"
   },
   {
    "duration": 6,
    "start_time": "2023-02-03T11:57:26.359Z"
   },
   {
    "duration": 25,
    "start_time": "2023-02-03T11:57:26.367Z"
   },
   {
    "duration": 24,
    "start_time": "2023-02-03T11:57:26.410Z"
   },
   {
    "duration": 20,
    "start_time": "2023-02-03T11:57:26.435Z"
   },
   {
    "duration": 157,
    "start_time": "2023-02-03T11:57:26.457Z"
   },
   {
    "duration": 96,
    "start_time": "2023-02-03T11:57:26.616Z"
   },
   {
    "duration": 179,
    "start_time": "2023-02-03T11:57:26.713Z"
   },
   {
    "duration": 3547,
    "start_time": "2023-02-03T11:57:26.893Z"
   },
   {
    "duration": 2788,
    "start_time": "2023-02-03T11:57:30.441Z"
   },
   {
    "duration": 8,
    "start_time": "2023-02-03T11:57:33.230Z"
   },
   {
    "duration": 114,
    "start_time": "2023-02-03T11:57:33.240Z"
   },
   {
    "duration": 38,
    "start_time": "2023-02-03T11:57:33.355Z"
   },
   {
    "duration": 19,
    "start_time": "2023-02-03T11:57:33.395Z"
   },
   {
    "duration": 4,
    "start_time": "2023-02-03T11:57:33.415Z"
   },
   {
    "duration": 2813,
    "start_time": "2023-02-03T11:57:33.421Z"
   },
   {
    "duration": 4,
    "start_time": "2023-02-03T11:57:36.236Z"
   },
   {
    "duration": 9,
    "start_time": "2023-02-03T11:57:36.241Z"
   },
   {
    "duration": 19,
    "start_time": "2023-02-03T11:57:36.251Z"
   },
   {
    "duration": 9,
    "start_time": "2023-02-03T11:57:36.272Z"
   },
   {
    "duration": 26,
    "start_time": "2023-02-03T11:57:40.300Z"
   },
   {
    "duration": 302,
    "start_time": "2023-02-03T12:02:47.913Z"
   },
   {
    "duration": 13,
    "start_time": "2023-02-03T12:03:03.749Z"
   },
   {
    "duration": 104,
    "start_time": "2023-02-03T12:04:14.851Z"
   },
   {
    "duration": 33,
    "start_time": "2023-02-03T12:04:25.151Z"
   },
   {
    "duration": 66,
    "start_time": "2023-02-03T12:05:18.501Z"
   },
   {
    "duration": 26,
    "start_time": "2023-02-03T12:05:25.381Z"
   },
   {
    "duration": 16,
    "start_time": "2023-02-03T12:07:18.833Z"
   },
   {
    "duration": 41,
    "start_time": "2023-02-03T12:07:59.834Z"
   },
   {
    "duration": 26,
    "start_time": "2023-02-03T12:08:00.552Z"
   },
   {
    "duration": 15,
    "start_time": "2023-02-03T12:08:01.288Z"
   },
   {
    "duration": 291,
    "start_time": "2023-02-03T12:13:59.468Z"
   },
   {
    "duration": 12,
    "start_time": "2023-02-03T12:14:19.294Z"
   },
   {
    "duration": 3,
    "start_time": "2023-02-03T12:16:16.594Z"
   },
   {
    "duration": 2068,
    "start_time": "2023-02-03T12:19:14.062Z"
   },
   {
    "duration": 1421,
    "start_time": "2023-02-03T12:19:16.132Z"
   },
   {
    "duration": 2,
    "start_time": "2023-02-03T12:19:17.555Z"
   },
   {
    "duration": 219,
    "start_time": "2023-02-03T12:19:17.559Z"
   },
   {
    "duration": 44,
    "start_time": "2023-02-03T12:19:17.780Z"
   },
   {
    "duration": 12,
    "start_time": "2023-02-03T12:19:17.826Z"
   },
   {
    "duration": 72,
    "start_time": "2023-02-03T12:19:17.839Z"
   },
   {
    "duration": 85,
    "start_time": "2023-02-03T12:19:17.913Z"
   },
   {
    "duration": 20,
    "start_time": "2023-02-03T12:19:18.000Z"
   },
   {
    "duration": 43,
    "start_time": "2023-02-03T12:19:18.023Z"
   },
   {
    "duration": 79,
    "start_time": "2023-02-03T12:19:18.067Z"
   },
   {
    "duration": 98,
    "start_time": "2023-02-03T12:19:18.148Z"
   },
   {
    "duration": 9,
    "start_time": "2023-02-03T12:19:18.248Z"
   },
   {
    "duration": 9,
    "start_time": "2023-02-03T12:19:18.259Z"
   },
   {
    "duration": 10,
    "start_time": "2023-02-03T12:19:18.269Z"
   },
   {
    "duration": 38,
    "start_time": "2023-02-03T12:19:18.280Z"
   },
   {
    "duration": 10,
    "start_time": "2023-02-03T12:19:18.319Z"
   },
   {
    "duration": 12,
    "start_time": "2023-02-03T12:19:18.331Z"
   },
   {
    "duration": 132,
    "start_time": "2023-02-03T12:19:18.344Z"
   },
   {
    "duration": 168,
    "start_time": "2023-02-03T12:19:18.478Z"
   },
   {
    "duration": 9,
    "start_time": "2023-02-03T12:19:18.647Z"
   },
   {
    "duration": 31,
    "start_time": "2023-02-03T12:19:18.657Z"
   },
   {
    "duration": 25,
    "start_time": "2023-02-03T12:19:18.690Z"
   },
   {
    "duration": 7,
    "start_time": "2023-02-03T12:19:18.717Z"
   },
   {
    "duration": 11,
    "start_time": "2023-02-03T12:19:18.726Z"
   },
   {
    "duration": 8,
    "start_time": "2023-02-03T12:19:18.739Z"
   },
   {
    "duration": 80,
    "start_time": "2023-02-03T12:19:18.748Z"
   },
   {
    "duration": 270,
    "start_time": "2023-02-03T12:19:18.832Z"
   },
   {
    "duration": 131,
    "start_time": "2023-02-03T12:19:19.109Z"
   },
   {
    "duration": 127,
    "start_time": "2023-02-03T12:19:19.242Z"
   },
   {
    "duration": 14,
    "start_time": "2023-02-03T12:19:19.371Z"
   },
   {
    "duration": 145,
    "start_time": "2023-02-03T12:19:19.387Z"
   },
   {
    "duration": 12,
    "start_time": "2023-02-03T12:19:19.534Z"
   },
   {
    "duration": 128,
    "start_time": "2023-02-03T12:19:19.547Z"
   },
   {
    "duration": 164,
    "start_time": "2023-02-03T12:19:19.677Z"
   },
   {
    "duration": 124,
    "start_time": "2023-02-03T12:19:19.843Z"
   },
   {
    "duration": 9,
    "start_time": "2023-02-03T12:19:19.968Z"
   },
   {
    "duration": 75,
    "start_time": "2023-02-03T12:19:19.978Z"
   },
   {
    "duration": 164,
    "start_time": "2023-02-03T12:19:20.055Z"
   },
   {
    "duration": 7,
    "start_time": "2023-02-03T12:19:20.220Z"
   },
   {
    "duration": 173,
    "start_time": "2023-02-03T12:19:20.228Z"
   },
   {
    "duration": 10,
    "start_time": "2023-02-03T12:19:20.402Z"
   },
   {
    "duration": 19,
    "start_time": "2023-02-03T12:19:20.414Z"
   },
   {
    "duration": 170,
    "start_time": "2023-02-03T12:19:20.434Z"
   },
   {
    "duration": 8,
    "start_time": "2023-02-03T12:19:20.605Z"
   },
   {
    "duration": 26,
    "start_time": "2023-02-03T12:19:20.614Z"
   },
   {
    "duration": 170,
    "start_time": "2023-02-03T12:19:20.642Z"
   },
   {
    "duration": 7,
    "start_time": "2023-02-03T12:19:20.813Z"
   },
   {
    "duration": 26,
    "start_time": "2023-02-03T12:19:20.822Z"
   },
   {
    "duration": 25,
    "start_time": "2023-02-03T12:19:20.849Z"
   },
   {
    "duration": 44,
    "start_time": "2023-02-03T12:19:20.876Z"
   },
   {
    "duration": 140,
    "start_time": "2023-02-03T12:19:20.922Z"
   },
   {
    "duration": 62,
    "start_time": "2023-02-03T12:19:21.064Z"
   },
   {
    "duration": 159,
    "start_time": "2023-02-03T12:19:21.127Z"
   },
   {
    "duration": 3488,
    "start_time": "2023-02-03T12:19:21.289Z"
   },
   {
    "duration": 2767,
    "start_time": "2023-02-03T12:19:24.778Z"
   },
   {
    "duration": 9,
    "start_time": "2023-02-03T12:19:27.546Z"
   },
   {
    "duration": 105,
    "start_time": "2023-02-03T12:19:27.557Z"
   },
   {
    "duration": 36,
    "start_time": "2023-02-03T12:19:27.664Z"
   },
   {
    "duration": 9,
    "start_time": "2023-02-03T12:19:27.709Z"
   },
   {
    "duration": 3,
    "start_time": "2023-02-03T12:19:27.720Z"
   },
   {
    "duration": 2725,
    "start_time": "2023-02-03T12:19:27.724Z"
   },
   {
    "duration": 4,
    "start_time": "2023-02-03T12:19:30.450Z"
   },
   {
    "duration": 28,
    "start_time": "2023-02-03T12:19:30.456Z"
   },
   {
    "duration": 42,
    "start_time": "2023-02-03T12:19:30.486Z"
   },
   {
    "duration": 59,
    "start_time": "2023-02-03T12:19:30.530Z"
   },
   {
    "duration": 94,
    "start_time": "2023-02-03T12:19:30.591Z"
   },
   {
    "duration": 317,
    "start_time": "2023-02-03T12:19:30.687Z"
   },
   {
    "duration": 13,
    "start_time": "2023-02-03T12:19:31.006Z"
   },
   {
    "duration": 123,
    "start_time": "2023-02-03T12:19:31.021Z"
   },
   {
    "duration": 67,
    "start_time": "2023-02-03T12:19:31.146Z"
   },
   {
    "duration": 18,
    "start_time": "2023-02-03T12:19:31.215Z"
   },
   {
    "duration": 361,
    "start_time": "2023-02-03T12:19:31.235Z"
   },
   {
    "duration": 14,
    "start_time": "2023-02-03T12:19:31.598Z"
   },
   {
    "duration": 4,
    "start_time": "2023-02-03T12:19:40.774Z"
   },
   {
    "duration": 169626,
    "start_time": "2023-02-03T12:19:49.108Z"
   },
   {
    "duration": 118239,
    "start_time": "2023-02-03T12:22:55.405Z"
   },
   {
    "duration": 3,
    "start_time": "2023-02-03T12:26:26.146Z"
   },
   {
    "duration": 112853,
    "start_time": "2023-02-03T12:27:33.002Z"
   },
   {
    "duration": 121,
    "start_time": "2023-02-03T13:55:44.876Z"
   },
   {
    "duration": 2,
    "start_time": "2023-02-03T13:57:08.938Z"
   },
   {
    "duration": 83,
    "start_time": "2023-02-03T14:15:47.477Z"
   },
   {
    "duration": 3,
    "start_time": "2023-02-03T14:15:52.933Z"
   },
   {
    "duration": 3,
    "start_time": "2023-02-03T14:23:09.233Z"
   },
   {
    "duration": 2143,
    "start_time": "2023-02-03T14:31:03.109Z"
   },
   {
    "duration": 13,
    "start_time": "2023-02-03T14:31:05.255Z"
   },
   {
    "duration": 13,
    "start_time": "2023-02-03T14:31:05.269Z"
   },
   {
    "duration": 214,
    "start_time": "2023-02-03T14:31:05.285Z"
   },
   {
    "duration": 43,
    "start_time": "2023-02-03T14:31:05.500Z"
   },
   {
    "duration": 14,
    "start_time": "2023-02-03T14:31:05.544Z"
   },
   {
    "duration": 70,
    "start_time": "2023-02-03T14:31:05.560Z"
   },
   {
    "duration": 80,
    "start_time": "2023-02-03T14:31:05.631Z"
   },
   {
    "duration": 12,
    "start_time": "2023-02-03T14:31:05.712Z"
   },
   {
    "duration": 57,
    "start_time": "2023-02-03T14:31:05.727Z"
   },
   {
    "duration": 68,
    "start_time": "2023-02-03T14:31:05.785Z"
   },
   {
    "duration": 101,
    "start_time": "2023-02-03T14:31:05.855Z"
   },
   {
    "duration": 9,
    "start_time": "2023-02-03T14:31:05.958Z"
   },
   {
    "duration": 9,
    "start_time": "2023-02-03T14:31:05.969Z"
   },
   {
    "duration": 33,
    "start_time": "2023-02-03T14:31:05.979Z"
   },
   {
    "duration": 10,
    "start_time": "2023-02-03T14:31:06.013Z"
   },
   {
    "duration": 10,
    "start_time": "2023-02-03T14:31:06.025Z"
   },
   {
    "duration": 12,
    "start_time": "2023-02-03T14:31:06.036Z"
   },
   {
    "duration": 141,
    "start_time": "2023-02-03T14:31:06.050Z"
   },
   {
    "duration": 158,
    "start_time": "2023-02-03T14:31:06.192Z"
   },
   {
    "duration": 11,
    "start_time": "2023-02-03T14:31:06.352Z"
   },
   {
    "duration": 47,
    "start_time": "2023-02-03T14:31:06.364Z"
   },
   {
    "duration": 10,
    "start_time": "2023-02-03T14:31:06.413Z"
   },
   {
    "duration": 8,
    "start_time": "2023-02-03T14:31:06.425Z"
   },
   {
    "duration": 12,
    "start_time": "2023-02-03T14:31:06.435Z"
   },
   {
    "duration": 8,
    "start_time": "2023-02-03T14:31:06.449Z"
   },
   {
    "duration": 94,
    "start_time": "2023-02-03T14:31:06.459Z"
   },
   {
    "duration": 264,
    "start_time": "2023-02-03T14:31:06.558Z"
   },
   {
    "duration": 148,
    "start_time": "2023-02-03T14:31:06.824Z"
   },
   {
    "duration": 143,
    "start_time": "2023-02-03T14:31:06.973Z"
   },
   {
    "duration": 13,
    "start_time": "2023-02-03T14:31:07.117Z"
   },
   {
    "duration": 144,
    "start_time": "2023-02-03T14:31:07.131Z"
   },
   {
    "duration": 11,
    "start_time": "2023-02-03T14:31:07.277Z"
   },
   {
    "duration": 139,
    "start_time": "2023-02-03T14:31:07.290Z"
   },
   {
    "duration": 166,
    "start_time": "2023-02-03T14:31:07.431Z"
   },
   {
    "duration": 128,
    "start_time": "2023-02-03T14:31:07.599Z"
   },
   {
    "duration": 10,
    "start_time": "2023-02-03T14:31:07.729Z"
   },
   {
    "duration": 52,
    "start_time": "2023-02-03T14:31:07.741Z"
   },
   {
    "duration": 180,
    "start_time": "2023-02-03T14:31:07.794Z"
   },
   {
    "duration": 6,
    "start_time": "2023-02-03T14:31:07.976Z"
   },
   {
    "duration": 272,
    "start_time": "2023-02-03T14:31:07.983Z"
   },
   {
    "duration": 6,
    "start_time": "2023-02-03T14:31:08.256Z"
   },
   {
    "duration": 30,
    "start_time": "2023-02-03T14:31:08.264Z"
   },
   {
    "duration": 158,
    "start_time": "2023-02-03T14:31:08.295Z"
   },
   {
    "duration": 6,
    "start_time": "2023-02-03T14:31:08.454Z"
   },
   {
    "duration": 14,
    "start_time": "2023-02-03T14:31:08.462Z"
   },
   {
    "duration": 176,
    "start_time": "2023-02-03T14:31:08.478Z"
   },
   {
    "duration": 6,
    "start_time": "2023-02-03T14:31:08.655Z"
   },
   {
    "duration": 25,
    "start_time": "2023-02-03T14:31:08.663Z"
   },
   {
    "duration": 40,
    "start_time": "2023-02-03T14:31:08.690Z"
   },
   {
    "duration": 17,
    "start_time": "2023-02-03T14:31:08.731Z"
   },
   {
    "duration": 126,
    "start_time": "2023-02-03T14:31:08.749Z"
   },
   {
    "duration": 65,
    "start_time": "2023-02-03T14:31:08.876Z"
   },
   {
    "duration": 57,
    "start_time": "2023-02-03T14:31:08.943Z"
   },
   {
    "duration": 3646,
    "start_time": "2023-02-03T14:31:09.010Z"
   },
   {
    "duration": 2751,
    "start_time": "2023-02-03T14:31:12.658Z"
   },
   {
    "duration": 10,
    "start_time": "2023-02-03T14:31:15.410Z"
   },
   {
    "duration": 105,
    "start_time": "2023-02-03T14:31:15.421Z"
   },
   {
    "duration": 45,
    "start_time": "2023-02-03T14:31:15.529Z"
   },
   {
    "duration": 10,
    "start_time": "2023-02-03T14:31:15.575Z"
   },
   {
    "duration": 4,
    "start_time": "2023-02-03T14:31:15.587Z"
   },
   {
    "duration": 2719,
    "start_time": "2023-02-03T14:31:15.610Z"
   },
   {
    "duration": 4,
    "start_time": "2023-02-03T14:31:18.330Z"
   },
   {
    "duration": 15,
    "start_time": "2023-02-03T14:31:18.336Z"
   },
   {
    "duration": 7,
    "start_time": "2023-02-03T14:31:18.352Z"
   },
   {
    "duration": 5,
    "start_time": "2023-02-03T14:31:18.360Z"
   },
   {
    "duration": 15,
    "start_time": "2023-02-03T14:31:18.367Z"
   },
   {
    "duration": 8,
    "start_time": "2023-02-03T14:31:18.384Z"
   },
   {
    "duration": 21,
    "start_time": "2023-02-03T14:31:18.412Z"
   },
   {
    "duration": 8,
    "start_time": "2023-02-03T14:31:37.230Z"
   },
   {
    "duration": 36,
    "start_time": "2023-02-03T14:31:44.736Z"
   },
   {
    "duration": 3,
    "start_time": "2023-02-03T14:43:21.876Z"
   },
   {
    "duration": 4,
    "start_time": "2023-02-03T14:43:22.391Z"
   },
   {
    "duration": 8,
    "start_time": "2023-02-03T14:43:23.038Z"
   },
   {
    "duration": 2116,
    "start_time": "2023-02-03T14:45:12.622Z"
   },
   {
    "duration": 6,
    "start_time": "2023-02-03T14:45:14.740Z"
   },
   {
    "duration": 10,
    "start_time": "2023-02-03T14:45:14.748Z"
   },
   {
    "duration": 213,
    "start_time": "2023-02-03T14:45:14.760Z"
   },
   {
    "duration": 50,
    "start_time": "2023-02-03T14:45:14.975Z"
   },
   {
    "duration": 15,
    "start_time": "2023-02-03T14:45:15.026Z"
   },
   {
    "duration": 67,
    "start_time": "2023-02-03T14:45:15.043Z"
   },
   {
    "duration": 82,
    "start_time": "2023-02-03T14:45:15.111Z"
   },
   {
    "duration": 26,
    "start_time": "2023-02-03T14:45:15.194Z"
   },
   {
    "duration": 44,
    "start_time": "2023-02-03T14:45:15.223Z"
   },
   {
    "duration": 80,
    "start_time": "2023-02-03T14:45:15.269Z"
   },
   {
    "duration": 94,
    "start_time": "2023-02-03T14:45:15.351Z"
   },
   {
    "duration": 9,
    "start_time": "2023-02-03T14:45:15.447Z"
   },
   {
    "duration": 9,
    "start_time": "2023-02-03T14:45:15.457Z"
   },
   {
    "duration": 9,
    "start_time": "2023-02-03T14:45:15.468Z"
   },
   {
    "duration": 36,
    "start_time": "2023-02-03T14:45:15.478Z"
   },
   {
    "duration": 10,
    "start_time": "2023-02-03T14:45:15.515Z"
   },
   {
    "duration": 9,
    "start_time": "2023-02-03T14:45:15.526Z"
   },
   {
    "duration": 126,
    "start_time": "2023-02-03T14:45:15.537Z"
   },
   {
    "duration": 154,
    "start_time": "2023-02-03T14:45:15.665Z"
   },
   {
    "duration": 10,
    "start_time": "2023-02-03T14:45:15.821Z"
   },
   {
    "duration": 32,
    "start_time": "2023-02-03T14:45:15.833Z"
   },
   {
    "duration": 8,
    "start_time": "2023-02-03T14:45:15.867Z"
   },
   {
    "duration": 8,
    "start_time": "2023-02-03T14:45:15.876Z"
   },
   {
    "duration": 12,
    "start_time": "2023-02-03T14:45:15.910Z"
   },
   {
    "duration": 10,
    "start_time": "2023-02-03T14:45:15.924Z"
   },
   {
    "duration": 74,
    "start_time": "2023-02-03T14:45:15.936Z"
   },
   {
    "duration": 207,
    "start_time": "2023-02-03T14:45:16.014Z"
   },
   {
    "duration": 134,
    "start_time": "2023-02-03T14:45:16.223Z"
   },
   {
    "duration": 127,
    "start_time": "2023-02-03T14:45:16.359Z"
   },
   {
    "duration": 12,
    "start_time": "2023-02-03T14:45:16.488Z"
   },
   {
    "duration": 251,
    "start_time": "2023-02-03T14:45:16.510Z"
   },
   {
    "duration": 10,
    "start_time": "2023-02-03T14:45:16.763Z"
   },
   {
    "duration": 132,
    "start_time": "2023-02-03T14:45:16.775Z"
   },
   {
    "duration": 168,
    "start_time": "2023-02-03T14:45:16.909Z"
   },
   {
    "duration": 141,
    "start_time": "2023-02-03T14:45:17.079Z"
   },
   {
    "duration": 11,
    "start_time": "2023-02-03T14:45:17.221Z"
   },
   {
    "duration": 56,
    "start_time": "2023-02-03T14:45:17.234Z"
   },
   {
    "duration": 187,
    "start_time": "2023-02-03T14:45:17.292Z"
   },
   {
    "duration": 5,
    "start_time": "2023-02-03T14:45:17.481Z"
   },
   {
    "duration": 168,
    "start_time": "2023-02-03T14:45:17.488Z"
   },
   {
    "duration": 6,
    "start_time": "2023-02-03T14:45:17.658Z"
   },
   {
    "duration": 15,
    "start_time": "2023-02-03T14:45:17.665Z"
   },
   {
    "duration": 174,
    "start_time": "2023-02-03T14:45:17.681Z"
   },
   {
    "duration": 6,
    "start_time": "2023-02-03T14:45:17.857Z"
   },
   {
    "duration": 24,
    "start_time": "2023-02-03T14:45:17.865Z"
   },
   {
    "duration": 162,
    "start_time": "2023-02-03T14:45:17.890Z"
   },
   {
    "duration": 6,
    "start_time": "2023-02-03T14:45:18.054Z"
   },
   {
    "duration": 23,
    "start_time": "2023-02-03T14:45:18.061Z"
   },
   {
    "duration": 41,
    "start_time": "2023-02-03T14:45:18.085Z"
   },
   {
    "duration": 16,
    "start_time": "2023-02-03T14:45:18.127Z"
   },
   {
    "duration": 117,
    "start_time": "2023-02-03T14:45:18.144Z"
   },
   {
    "duration": 62,
    "start_time": "2023-02-03T14:45:18.263Z"
   },
   {
    "duration": 57,
    "start_time": "2023-02-03T14:45:18.326Z"
   },
   {
    "duration": 3454,
    "start_time": "2023-02-03T14:45:18.385Z"
   },
   {
    "duration": 2672,
    "start_time": "2023-02-03T14:45:21.841Z"
   },
   {
    "duration": 8,
    "start_time": "2023-02-03T14:45:24.515Z"
   },
   {
    "duration": 102,
    "start_time": "2023-02-03T14:45:24.524Z"
   },
   {
    "duration": 36,
    "start_time": "2023-02-03T14:45:24.628Z"
   },
   {
    "duration": 8,
    "start_time": "2023-02-03T14:45:24.666Z"
   },
   {
    "duration": 5,
    "start_time": "2023-02-03T14:45:24.676Z"
   },
   {
    "duration": 2716,
    "start_time": "2023-02-03T14:45:24.683Z"
   },
   {
    "duration": 10,
    "start_time": "2023-02-03T14:45:27.401Z"
   },
   {
    "duration": 7,
    "start_time": "2023-02-03T14:45:33.919Z"
   },
   {
    "duration": 5,
    "start_time": "2023-02-03T14:48:17.935Z"
   },
   {
    "duration": 2069,
    "start_time": "2023-02-03T14:49:03.382Z"
   },
   {
    "duration": 6,
    "start_time": "2023-02-03T14:49:05.453Z"
   },
   {
    "duration": 18,
    "start_time": "2023-02-03T14:49:05.460Z"
   },
   {
    "duration": 216,
    "start_time": "2023-02-03T14:49:05.480Z"
   },
   {
    "duration": 40,
    "start_time": "2023-02-03T14:49:05.697Z"
   },
   {
    "duration": 13,
    "start_time": "2023-02-03T14:49:05.738Z"
   },
   {
    "duration": 65,
    "start_time": "2023-02-03T14:49:05.752Z"
   },
   {
    "duration": 71,
    "start_time": "2023-02-03T14:49:05.819Z"
   },
   {
    "duration": 31,
    "start_time": "2023-02-03T14:49:05.891Z"
   },
   {
    "duration": 44,
    "start_time": "2023-02-03T14:49:05.925Z"
   },
   {
    "duration": 75,
    "start_time": "2023-02-03T14:49:05.971Z"
   },
   {
    "duration": 97,
    "start_time": "2023-02-03T14:49:06.048Z"
   },
   {
    "duration": 9,
    "start_time": "2023-02-03T14:49:06.147Z"
   },
   {
    "duration": 9,
    "start_time": "2023-02-03T14:49:06.157Z"
   },
   {
    "duration": 13,
    "start_time": "2023-02-03T14:49:06.168Z"
   },
   {
    "duration": 32,
    "start_time": "2023-02-03T14:49:06.182Z"
   },
   {
    "duration": 11,
    "start_time": "2023-02-03T14:49:06.215Z"
   },
   {
    "duration": 9,
    "start_time": "2023-02-03T14:49:06.228Z"
   },
   {
    "duration": 126,
    "start_time": "2023-02-03T14:49:06.238Z"
   },
   {
    "duration": 162,
    "start_time": "2023-02-03T14:49:06.366Z"
   },
   {
    "duration": 9,
    "start_time": "2023-02-03T14:49:06.530Z"
   },
   {
    "duration": 34,
    "start_time": "2023-02-03T14:49:06.540Z"
   },
   {
    "duration": 8,
    "start_time": "2023-02-03T14:49:06.575Z"
   },
   {
    "duration": 26,
    "start_time": "2023-02-03T14:49:06.584Z"
   },
   {
    "duration": 11,
    "start_time": "2023-02-03T14:49:06.612Z"
   },
   {
    "duration": 12,
    "start_time": "2023-02-03T14:49:06.624Z"
   },
   {
    "duration": 174,
    "start_time": "2023-02-03T14:49:06.637Z"
   },
   {
    "duration": 246,
    "start_time": "2023-02-03T14:49:06.816Z"
   },
   {
    "duration": 134,
    "start_time": "2023-02-03T14:49:07.063Z"
   },
   {
    "duration": 133,
    "start_time": "2023-02-03T14:49:07.198Z"
   },
   {
    "duration": 13,
    "start_time": "2023-02-03T14:49:07.333Z"
   },
   {
    "duration": 143,
    "start_time": "2023-02-03T14:49:07.348Z"
   },
   {
    "duration": 18,
    "start_time": "2023-02-03T14:49:07.492Z"
   },
   {
    "duration": 124,
    "start_time": "2023-02-03T14:49:07.511Z"
   },
   {
    "duration": 160,
    "start_time": "2023-02-03T14:49:07.637Z"
   },
   {
    "duration": 128,
    "start_time": "2023-02-03T14:49:07.798Z"
   },
   {
    "duration": 8,
    "start_time": "2023-02-03T14:49:07.927Z"
   },
   {
    "duration": 46,
    "start_time": "2023-02-03T14:49:07.937Z"
   },
   {
    "duration": 182,
    "start_time": "2023-02-03T14:49:07.985Z"
   },
   {
    "duration": 7,
    "start_time": "2023-02-03T14:49:08.169Z"
   },
   {
    "duration": 170,
    "start_time": "2023-02-03T14:49:08.178Z"
   },
   {
    "duration": 7,
    "start_time": "2023-02-03T14:49:08.350Z"
   },
   {
    "duration": 13,
    "start_time": "2023-02-03T14:49:08.358Z"
   },
   {
    "duration": 178,
    "start_time": "2023-02-03T14:49:08.373Z"
   },
   {
    "duration": 7,
    "start_time": "2023-02-03T14:49:08.553Z"
   },
   {
    "duration": 14,
    "start_time": "2023-02-03T14:49:08.563Z"
   },
   {
    "duration": 256,
    "start_time": "2023-02-03T14:49:08.579Z"
   },
   {
    "duration": 7,
    "start_time": "2023-02-03T14:49:08.837Z"
   },
   {
    "duration": 25,
    "start_time": "2023-02-03T14:49:08.846Z"
   },
   {
    "duration": 42,
    "start_time": "2023-02-03T14:49:08.873Z"
   },
   {
    "duration": 15,
    "start_time": "2023-02-03T14:49:08.917Z"
   },
   {
    "duration": 111,
    "start_time": "2023-02-03T14:49:08.934Z"
   },
   {
    "duration": 68,
    "start_time": "2023-02-03T14:49:09.046Z"
   },
   {
    "duration": 57,
    "start_time": "2023-02-03T14:49:09.115Z"
   },
   {
    "duration": 3484,
    "start_time": "2023-02-03T14:49:09.174Z"
   },
   {
    "duration": 2740,
    "start_time": "2023-02-03T14:49:12.660Z"
   },
   {
    "duration": 13,
    "start_time": "2023-02-03T14:49:15.402Z"
   },
   {
    "duration": 105,
    "start_time": "2023-02-03T14:49:15.417Z"
   },
   {
    "duration": 39,
    "start_time": "2023-02-03T14:49:15.524Z"
   },
   {
    "duration": 9,
    "start_time": "2023-02-03T14:49:15.565Z"
   },
   {
    "duration": 4,
    "start_time": "2023-02-03T14:49:15.576Z"
   },
   {
    "duration": 2726,
    "start_time": "2023-02-03T14:49:15.581Z"
   },
   {
    "duration": 4,
    "start_time": "2023-02-03T14:49:18.309Z"
   },
   {
    "duration": 8,
    "start_time": "2023-02-03T14:49:18.314Z"
   },
   {
    "duration": 5,
    "start_time": "2023-02-03T14:49:18.324Z"
   },
   {
    "duration": 6,
    "start_time": "2023-02-03T14:49:18.331Z"
   },
   {
    "duration": 5,
    "start_time": "2023-02-03T14:49:18.339Z"
   },
   {
    "duration": 20,
    "start_time": "2023-02-03T14:49:18.346Z"
   },
   {
    "duration": 8,
    "start_time": "2023-02-03T14:49:18.368Z"
   },
   {
    "duration": 47,
    "start_time": "2023-02-03T14:49:18.378Z"
   },
   {
    "duration": 257,
    "start_time": "2023-02-03T14:49:18.427Z"
   },
   {
    "duration": 14,
    "start_time": "2023-02-03T14:49:18.686Z"
   },
   {
    "duration": 108,
    "start_time": "2023-02-03T14:49:18.702Z"
   },
   {
    "duration": 57,
    "start_time": "2023-02-03T14:49:18.811Z"
   },
   {
    "duration": 9,
    "start_time": "2023-02-03T14:49:18.870Z"
   },
   {
    "duration": 318,
    "start_time": "2023-02-03T14:49:18.880Z"
   },
   {
    "duration": 14,
    "start_time": "2023-02-03T14:49:19.200Z"
   },
   {
    "duration": 5,
    "start_time": "2023-02-03T14:49:19.216Z"
   },
   {
    "duration": 164201,
    "start_time": "2023-02-03T14:49:19.222Z"
   },
   {
    "duration": 113134,
    "start_time": "2023-02-03T14:52:03.425Z"
   },
   {
    "duration": 5293,
    "start_time": "2023-02-03T14:53:56.564Z"
   },
   {
    "duration": 5,
    "start_time": "2023-02-03T15:00:10.985Z"
   },
   {
    "duration": 4156,
    "start_time": "2023-02-03T15:00:19.361Z"
   },
   {
    "duration": 8,
    "start_time": "2023-02-03T15:02:44.409Z"
   },
   {
    "duration": 4,
    "start_time": "2023-02-03T15:02:56.976Z"
   },
   {
    "duration": 4,
    "start_time": "2023-02-03T15:03:10.876Z"
   },
   {
    "duration": 33,
    "start_time": "2023-02-03T15:04:55.309Z"
   },
   {
    "duration": 24,
    "start_time": "2023-02-03T15:05:02.225Z"
   },
   {
    "duration": 6,
    "start_time": "2023-02-03T15:09:38.294Z"
   },
   {
    "duration": 5106,
    "start_time": "2023-02-03T15:09:58.405Z"
   },
   {
    "duration": 5,
    "start_time": "2023-02-03T15:10:23.173Z"
   },
   {
    "duration": 18968,
    "start_time": "2023-02-03T15:10:30.438Z"
   },
   {
    "duration": 19725,
    "start_time": "2023-02-03T15:20:23.770Z"
   },
   {
    "duration": 5,
    "start_time": "2023-02-03T15:22:52.098Z"
   },
   {
    "duration": 19329,
    "start_time": "2023-02-03T15:24:10.973Z"
   },
   {
    "duration": 11645,
    "start_time": "2023-02-03T15:25:26.420Z"
   },
   {
    "duration": 5,
    "start_time": "2023-02-03T15:32:07.645Z"
   },
   {
    "duration": 642067,
    "start_time": "2023-02-03T15:32:12.895Z"
   },
   {
    "duration": 10853,
    "start_time": "2023-02-03T15:47:20.034Z"
   },
   {
    "duration": 485632,
    "start_time": "2023-02-03T15:47:34.095Z"
   },
   {
    "duration": 3772,
    "start_time": "2023-02-03T15:56:00.311Z"
   },
   {
    "duration": 3,
    "start_time": "2023-02-03T15:56:13.191Z"
   },
   {
    "duration": 211,
    "start_time": "2023-02-03T15:56:14.065Z"
   },
   {
    "duration": 251,
    "start_time": "2023-02-03T15:56:40.950Z"
   },
   {
    "duration": 506786,
    "start_time": "2023-02-03T15:56:46.047Z"
   },
   {
    "duration": 11,
    "start_time": "2023-02-03T16:05:45.631Z"
   },
   {
    "duration": 7,
    "start_time": "2023-02-03T16:05:49.276Z"
   },
   {
    "duration": 6,
    "start_time": "2023-02-03T16:05:51.603Z"
   },
   {
    "duration": 4,
    "start_time": "2023-02-03T16:05:56.069Z"
   },
   {
    "duration": 112682,
    "start_time": "2023-02-03T16:05:58.601Z"
   },
   {
    "duration": 2507,
    "start_time": "2023-02-03T16:08:00.388Z"
   },
   {
    "duration": 2578,
    "start_time": "2023-02-03T16:09:30.264Z"
   },
   {
    "duration": 33,
    "start_time": "2023-02-03T16:09:56.134Z"
   },
   {
    "duration": 26,
    "start_time": "2023-02-03T16:10:02.342Z"
   },
   {
    "duration": 25,
    "start_time": "2023-02-03T16:10:30.830Z"
   },
   {
    "duration": 2701,
    "start_time": "2023-02-03T16:11:45.735Z"
   },
   {
    "duration": 39,
    "start_time": "2023-02-03T16:12:44.003Z"
   },
   {
    "duration": 7,
    "start_time": "2023-02-03T16:14:18.057Z"
   },
   {
    "duration": 2516,
    "start_time": "2023-02-03T16:45:26.032Z"
   },
   {
    "duration": 3,
    "start_time": "2023-02-03T16:46:59.889Z"
   },
   {
    "duration": 113557,
    "start_time": "2023-02-03T16:47:00.781Z"
   },
   {
    "duration": 3,
    "start_time": "2023-02-03T16:49:03.832Z"
   },
   {
    "duration": 2544,
    "start_time": "2023-02-03T16:49:09.506Z"
   },
   {
    "duration": 39,
    "start_time": "2023-02-03T16:56:28.259Z"
   },
   {
    "duration": 5,
    "start_time": "2023-02-03T16:57:07.717Z"
   },
   {
    "duration": 30,
    "start_time": "2023-02-03T16:57:15.061Z"
   },
   {
    "duration": 2513,
    "start_time": "2023-02-03T16:58:54.697Z"
   },
   {
    "duration": 329029,
    "start_time": "2023-02-03T17:05:11.243Z"
   },
   {
    "duration": 112972,
    "start_time": "2023-02-03T17:10:40.273Z"
   },
   {
    "duration": 2550,
    "start_time": "2023-02-03T17:12:51.439Z"
   },
   {
    "duration": 4,
    "start_time": "2023-02-03T17:13:38.970Z"
   },
   {
    "duration": 2491,
    "start_time": "2023-02-03T17:13:43.439Z"
   },
   {
    "duration": 5,
    "start_time": "2023-02-03T17:15:26.908Z"
   },
   {
    "duration": 2507,
    "start_time": "2023-02-03T17:15:30.184Z"
   },
   {
    "duration": 3,
    "start_time": "2023-02-03T17:39:43.570Z"
   },
   {
    "duration": 32,
    "start_time": "2023-02-03T17:41:29.451Z"
   },
   {
    "duration": 24,
    "start_time": "2023-02-03T17:41:49.149Z"
   },
   {
    "duration": 25,
    "start_time": "2023-02-03T17:46:55.909Z"
   },
   {
    "duration": 2581,
    "start_time": "2023-02-03T17:47:47.016Z"
   },
   {
    "duration": 2604,
    "start_time": "2023-02-03T17:48:47.396Z"
   },
   {
    "duration": 30,
    "start_time": "2023-02-03T17:55:03.660Z"
   },
   {
    "duration": 19,
    "start_time": "2023-02-03T17:56:09.331Z"
   },
   {
    "duration": 3,
    "start_time": "2023-02-03T17:56:26.595Z"
   },
   {
    "duration": 39,
    "start_time": "2023-02-03T17:56:39.245Z"
   },
   {
    "duration": 84476,
    "start_time": "2023-02-03T17:56:45.008Z"
   },
   {
    "duration": 86462,
    "start_time": "2023-02-03T18:00:47.825Z"
   },
   {
    "duration": 85654,
    "start_time": "2023-02-03T18:07:28.485Z"
   },
   {
    "duration": 26,
    "start_time": "2023-02-03T18:12:47.819Z"
   },
   {
    "duration": 345091,
    "start_time": "2023-02-03T18:16:54.931Z"
   },
   {
    "duration": 9,
    "start_time": "2023-02-03T18:22:40.024Z"
   },
   {
    "duration": 5,
    "start_time": "2023-02-03T18:22:45.236Z"
   },
   {
    "duration": 4,
    "start_time": "2023-02-03T18:22:54.444Z"
   },
   {
    "duration": 346526,
    "start_time": "2023-02-03T18:26:11.981Z"
   },
   {
    "duration": 5,
    "start_time": "2023-02-03T18:32:04.157Z"
   },
   {
    "duration": 12,
    "start_time": "2023-02-03T18:32:10.305Z"
   },
   {
    "duration": 7,
    "start_time": "2023-02-03T18:32:13.975Z"
   },
   {
    "duration": 6,
    "start_time": "2023-02-03T18:32:18.608Z"
   },
   {
    "duration": 4,
    "start_time": "2023-02-03T18:32:27.554Z"
   },
   {
    "duration": 87,
    "start_time": "2023-02-03T18:32:30.738Z"
   },
   {
    "duration": 3,
    "start_time": "2023-02-03T18:33:00.107Z"
   },
   {
    "duration": 160355,
    "start_time": "2023-02-03T18:33:01.075Z"
   },
   {
    "duration": 4,
    "start_time": "2023-02-03T18:36:04.348Z"
   },
   {
    "duration": 8,
    "start_time": "2023-02-03T18:36:13.894Z"
   },
   {
    "duration": 8,
    "start_time": "2023-02-03T18:40:11.037Z"
   },
   {
    "duration": 66,
    "start_time": "2023-02-03T18:40:37.149Z"
   },
   {
    "duration": 3,
    "start_time": "2023-02-03T18:45:16.834Z"
   },
   {
    "duration": 178092,
    "start_time": "2023-02-03T18:45:26.188Z"
   },
   {
    "duration": 3,
    "start_time": "2023-02-03T18:48:26.719Z"
   },
   {
    "duration": 1025751,
    "start_time": "2023-02-03T18:48:34.120Z"
   },
   {
    "duration": 5,
    "start_time": "2023-02-03T19:06:54.077Z"
   },
   {
    "duration": 115434,
    "start_time": "2023-02-03T19:07:04.425Z"
   },
   {
    "duration": 277,
    "start_time": "2023-02-03T19:09:22.352Z"
   },
   {
    "duration": 143,
    "start_time": "2023-02-03T19:09:27.959Z"
   },
   {
    "duration": 350,
    "start_time": "2023-02-03T19:09:31.408Z"
   },
   {
    "duration": 7,
    "start_time": "2023-02-03T19:09:34.923Z"
   },
   {
    "duration": 7,
    "start_time": "2023-02-03T19:09:36.856Z"
   },
   {
    "duration": 5,
    "start_time": "2023-02-03T19:09:38.755Z"
   },
   {
    "duration": 83,
    "start_time": "2023-02-03T19:09:59.223Z"
   },
   {
    "duration": 15,
    "start_time": "2023-02-03T19:10:00.378Z"
   },
   {
    "duration": 5,
    "start_time": "2023-02-03T19:10:04.134Z"
   },
   {
    "duration": 780,
    "start_time": "2023-02-03T19:10:04.939Z"
   },
   {
    "duration": 4,
    "start_time": "2023-02-03T19:10:07.922Z"
   },
   {
    "duration": 6,
    "start_time": "2023-02-03T19:10:08.821Z"
   },
   {
    "duration": 5,
    "start_time": "2023-02-03T19:10:28.070Z"
   },
   {
    "duration": 5,
    "start_time": "2023-02-03T19:10:29.723Z"
   },
   {
    "duration": 110,
    "start_time": "2023-02-03T19:11:01.792Z"
   },
   {
    "duration": 5,
    "start_time": "2023-02-03T19:11:02.432Z"
   },
   {
    "duration": 207,
    "start_time": "2023-02-03T19:11:06.823Z"
   },
   {
    "duration": 9,
    "start_time": "2023-02-03T19:11:10.131Z"
   },
   {
    "duration": 13,
    "start_time": "2023-02-03T19:11:12.437Z"
   },
   {
    "duration": 18,
    "start_time": "2023-02-03T19:11:13.127Z"
   },
   {
    "duration": 121,
    "start_time": "2023-02-03T19:11:15.370Z"
   },
   {
    "duration": 13,
    "start_time": "2023-02-03T19:11:18.265Z"
   },
   {
    "duration": 119,
    "start_time": "2023-02-03T19:11:20.072Z"
   },
   {
    "duration": 13,
    "start_time": "2023-02-03T19:11:22.323Z"
   },
   {
    "duration": 17,
    "start_time": "2023-02-03T19:11:26.499Z"
   },
   {
    "duration": 14,
    "start_time": "2023-02-03T19:11:29.713Z"
   },
   {
    "duration": 14,
    "start_time": "2023-02-03T19:15:47.173Z"
   },
   {
    "duration": 3,
    "start_time": "2023-02-03T19:22:21.664Z"
   },
   {
    "duration": 10,
    "start_time": "2023-02-03T19:22:28.728Z"
   },
   {
    "duration": 11,
    "start_time": "2023-02-03T19:22:36.330Z"
   },
   {
    "duration": 5,
    "start_time": "2023-02-03T19:22:50.077Z"
   },
   {
    "duration": 4,
    "start_time": "2023-02-03T19:22:54.775Z"
   },
   {
    "duration": 4,
    "start_time": "2023-02-03T19:23:05.981Z"
   },
   {
    "duration": 4,
    "start_time": "2023-02-03T19:23:08.885Z"
   },
   {
    "duration": 4,
    "start_time": "2023-02-03T19:23:12.079Z"
   },
   {
    "duration": 4,
    "start_time": "2023-02-03T19:23:14.095Z"
   },
   {
    "duration": 4,
    "start_time": "2023-02-03T19:23:15.998Z"
   },
   {
    "duration": 5,
    "start_time": "2023-02-03T19:23:17.925Z"
   },
   {
    "duration": 4,
    "start_time": "2023-02-03T19:23:20.628Z"
   },
   {
    "duration": 4,
    "start_time": "2023-02-03T19:23:22.889Z"
   },
   {
    "duration": 4,
    "start_time": "2023-02-03T19:23:24.950Z"
   },
   {
    "duration": 5,
    "start_time": "2023-02-03T19:24:36.562Z"
   },
   {
    "duration": 9,
    "start_time": "2023-02-03T19:26:25.680Z"
   },
   {
    "duration": 7,
    "start_time": "2023-02-03T19:26:29.841Z"
   },
   {
    "duration": 3,
    "start_time": "2023-02-03T19:26:30.702Z"
   },
   {
    "duration": 4,
    "start_time": "2023-02-03T19:26:31.286Z"
   },
   {
    "duration": 24,
    "start_time": "2023-02-03T19:26:40.603Z"
   },
   {
    "duration": 5,
    "start_time": "2023-02-03T19:27:05.448Z"
   },
   {
    "duration": 6,
    "start_time": "2023-02-03T19:27:17.399Z"
   },
   {
    "duration": 13,
    "start_time": "2023-02-03T19:28:32.073Z"
   },
   {
    "duration": 6,
    "start_time": "2023-02-03T19:28:41.029Z"
   },
   {
    "duration": 5,
    "start_time": "2023-02-03T19:28:57.567Z"
   },
   {
    "duration": 3,
    "start_time": "2023-02-03T19:29:10.445Z"
   },
   {
    "duration": 4,
    "start_time": "2023-02-03T19:29:13.580Z"
   },
   {
    "duration": 19,
    "start_time": "2023-02-03T19:29:24.054Z"
   },
   {
    "duration": 5,
    "start_time": "2023-02-03T19:29:45.594Z"
   },
   {
    "duration": 3,
    "start_time": "2023-02-03T19:30:04.982Z"
   },
   {
    "duration": 3,
    "start_time": "2023-02-03T19:30:05.530Z"
   },
   {
    "duration": 5,
    "start_time": "2023-02-03T19:30:06.084Z"
   },
   {
    "duration": 5,
    "start_time": "2023-02-03T19:30:27.062Z"
   },
   {
    "duration": 5,
    "start_time": "2023-02-03T19:30:28.321Z"
   },
   {
    "duration": 4,
    "start_time": "2023-02-03T19:30:30.878Z"
   },
   {
    "duration": 5,
    "start_time": "2023-02-03T19:30:32.561Z"
   },
   {
    "duration": 3,
    "start_time": "2023-02-03T19:30:34.777Z"
   },
   {
    "duration": 4,
    "start_time": "2023-02-03T19:30:36.655Z"
   },
   {
    "duration": 5,
    "start_time": "2023-02-03T19:30:38.871Z"
   },
   {
    "duration": 13,
    "start_time": "2023-02-03T19:32:45.559Z"
   },
   {
    "duration": 5,
    "start_time": "2023-02-03T19:33:12.244Z"
   },
   {
    "duration": 16,
    "start_time": "2023-02-03T19:33:21.425Z"
   },
   {
    "duration": 9,
    "start_time": "2023-02-03T19:34:25.080Z"
   },
   {
    "duration": 6,
    "start_time": "2023-02-03T19:34:35.063Z"
   },
   {
    "duration": 13,
    "start_time": "2023-02-03T19:35:56.240Z"
   },
   {
    "duration": 5,
    "start_time": "2023-02-03T19:36:22.433Z"
   },
   {
    "duration": 15,
    "start_time": "2023-02-03T19:38:45.790Z"
   },
   {
    "duration": 4,
    "start_time": "2023-02-03T19:39:24.934Z"
   },
   {
    "duration": 5,
    "start_time": "2023-02-03T19:40:05.091Z"
   }
  ],
  "kernelspec": {
   "display_name": "Python 3 (ipykernel)",
   "language": "python",
   "name": "python3"
  },
  "language_info": {
   "codemirror_mode": {
    "name": "ipython",
    "version": 3
   },
   "file_extension": ".py",
   "mimetype": "text/x-python",
   "name": "python",
   "nbconvert_exporter": "python",
   "pygments_lexer": "ipython3",
   "version": "3.10.9"
  },
  "toc": {
   "base_numbering": 1,
   "nav_menu": {},
   "number_sections": true,
   "sideBar": true,
   "skip_h1_title": false,
   "title_cell": "Содержание",
   "title_sidebar": "Contents",
   "toc_cell": false,
   "toc_position": {
    "height": "calc(100% - 180px)",
    "left": "10px",
    "top": "150px",
    "width": "289.438px"
   },
   "toc_section_display": true,
   "toc_window_display": false
  }
 },
 "nbformat": 4,
 "nbformat_minor": 2
}
